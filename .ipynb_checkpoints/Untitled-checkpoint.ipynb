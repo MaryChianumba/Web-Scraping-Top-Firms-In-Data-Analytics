{
 "cells": [
  {
   "cell_type": "markdown",
   "id": "9e6fe61d",
   "metadata": {},
   "source": [
    "# WEB SCRAPING"
   ]
  },
  {
   "cell_type": "markdown",
   "id": "b93cd6f1",
   "metadata": {},
   "source": [
    "Top Data Analytics Companies"
   ]
  },
  {
   "cell_type": "markdown",
   "id": "9b640d37",
   "metadata": {},
   "source": [
    "Companies collect and utilize data to improve its effectiveness. \n",
    "Data Analytics services can help uncover underlying drivers of profitability and identify opportunities to optimize, etc.\n",
    "\n",
    "The aim of this project is to scrape Goodfirms website for details about top data analytics company. \n",
    "These details includes, review, rating, year founded, location, etc."
   ]
  },
  {
   "cell_type": "markdown",
   "id": "5b8b3aeb",
   "metadata": {},
   "source": [
    "Road Map\n",
    "Stage 1\n",
    "\n",
    "* Import necessary libraries\n",
    "* Download page\n",
    "* Open page\n",
    "* Get details\n",
    "* Extract details\n",
    "* Make a dataframe\n",
    "\n",
    "Stage 2: Code Refactoring\n",
    "\n",
    "* Change loops to function\n",
    "* Take functions to another file\n",
    "* Import functions and extract\n",
    "* Make a dataframe\n",
    "\n",
    "Stage 3: Data Cleaning\n",
    "\n",
    "Stage 4: EDA"
   ]
  },
  {
   "cell_type": "code",
   "execution_count": null,
   "id": "6187c49c",
   "metadata": {},
   "outputs": [],
   "source": []
  },
  {
   "cell_type": "markdown",
   "id": "f24a3fd6",
   "metadata": {},
   "source": [
    "IMPORTING THE NECESSARY LIBRARIES "
   ]
  },
  {
   "cell_type": "code",
   "execution_count": 1,
   "id": "8d67de98",
   "metadata": {},
   "outputs": [
    {
     "data": {
      "text/html": [
       "        <script type=\"text/javascript\">\n",
       "        window.PlotlyConfig = {MathJaxConfig: 'local'};\n",
       "        if (window.MathJax && window.MathJax.Hub && window.MathJax.Hub.Config) {window.MathJax.Hub.Config({SVG: {font: \"STIX-Web\"}});}\n",
       "        if (typeof require !== 'undefined') {\n",
       "        require.undef(\"plotly\");\n",
       "        requirejs.config({\n",
       "            paths: {\n",
       "                'plotly': ['https://cdn.plot.ly/plotly-2.12.1.min']\n",
       "            }\n",
       "        });\n",
       "        require(['plotly'], function(Plotly) {\n",
       "            window._Plotly = Plotly;\n",
       "        });\n",
       "        }\n",
       "        </script>\n",
       "        "
      ]
     },
     "metadata": {},
     "output_type": "display_data"
    }
   ],
   "source": [
    "import requests as r \n",
    "from bs4 import BeautifulSoup \n",
    "import pandas as pd \n",
    "import plotly.express as px \n",
    "import plotly.offline as po \n",
    "po.init_notebook_mode(connected=True) "
   ]
  },
  {
   "cell_type": "code",
   "execution_count": null,
   "id": "5765f54c",
   "metadata": {},
   "outputs": [],
   "source": []
  },
  {
   "cell_type": "markdown",
   "id": "0103c202",
   "metadata": {},
   "source": [
    "DOWNLOADING AND SAVING THE HTML FILE "
   ]
  },
  {
   "cell_type": "code",
   "execution_count": 2,
   "id": "3ca1b45f",
   "metadata": {},
   "outputs": [],
   "source": [
    "url_link = ['https://www.goodfirms.co/big-data-analytics/data-analytics', 'https://www.goodfirms.co/big-data-analytics/data-analytics?page=2', \n",
    "            'https://www.goodfirms.co/big-data-analytics/data-analytics?page=3', 'https://www.goodfirms.co/big-data-analytics/data-analytics?page=4', \n",
    "            'https://www.goodfirms.co/big-data-analytics/data-analytics?page=5']\n",
    "\n",
    "#Access url link\n",
    "access = [r.get(url) for url in url_link] "
   ]
  },
  {
   "cell_type": "code",
   "execution_count": null,
   "id": "2e9eca6f",
   "metadata": {},
   "outputs": [],
   "source": []
  },
  {
   "cell_type": "markdown",
   "id": "bf762806",
   "metadata": {},
   "source": [
    "SAVING WEBPAGE TO PC "
   ]
  },
  {
   "cell_type": "code",
   "execution_count": 3,
   "id": "97370cd4",
   "metadata": {},
   "outputs": [],
   "source": [
    "for page in access:\n",
    "    index = access.index(page)+1\n",
    "    with open(f'page{index}.html', mode='wb') as file:\n",
    "        file.write(page.content) "
   ]
  },
  {
   "cell_type": "code",
   "execution_count": null,
   "id": "c6e979f9",
   "metadata": {},
   "outputs": [],
   "source": []
  },
  {
   "cell_type": "markdown",
   "id": "40a1f7f3",
   "metadata": {},
   "source": [
    "PAGE 1"
   ]
  },
  {
   "cell_type": "code",
   "execution_count": 4,
   "id": "025b8322",
   "metadata": {},
   "outputs": [],
   "source": [
    "with open(\"page1.html\", encoding='utf-8', mode='r') as file:\n",
    "    bs = BeautifulSoup(file, 'lxml') "
   ]
  },
  {
   "cell_type": "markdown",
   "id": "f36d94f5",
   "metadata": {},
   "source": [
    "LOCATING DETAILS "
   ]
  },
  {
   "cell_type": "code",
   "execution_count": 5,
   "id": "6a428ad4",
   "metadata": {},
   "outputs": [],
   "source": [
    "firm_name = bs.find_all('span', {'itemprop': 'name'})\n",
    "firm_motor = bs.find_all('p', {'class': 'profile-tagline'})\n",
    "firm_reviews = bs.find_all('span', {'class': 'listinv_review_label'})\n",
    "progress_value = bs.find_all('div', {'class': 'circle-progress-value'})\n",
    "firm_price = bs.find_all('div', {'class': 'firm-pricing'})\n",
    "firm_employees = bs.find_all('div', {'class': 'firm-employees'})\n",
    "year_founded = bs.find_all('div', {'class': 'firm-founded'})\n",
    "firm_location = bs.find_all('div', {'class': 'firm-location'}) "
   ]
  },
  {
   "cell_type": "markdown",
   "id": "bb45ed52",
   "metadata": {},
   "source": [
    "FUNCTION TO EXTRACT DETAILS "
   ]
  },
  {
   "cell_type": "code",
   "execution_count": 6,
   "id": "793a353e",
   "metadata": {},
   "outputs": [],
   "source": [
    "def extract_detail(tag_lst):\n",
    "    lst = [tag.text for tag in tag_lst]\n",
    "    return pd.Series(lst)\n",
    "\n",
    "def extract_progress_values(tag_lst):    \n",
    "    service_pct = [percent[1].text for percent in enumerate(tag_lst) if percent[0]%2 ==0]\n",
    "    platform_pct = [percent[1].text for percent in enumerate(tag_lst) if percent[0]%2 ==1]       \n",
    "    return pd.Series(service_pct), pd.Series(platform_pct) "
   ]
  },
  {
   "cell_type": "markdown",
   "id": "3ccd5484",
   "metadata": {},
   "source": [
    "EXTRACTING DETAILS "
   ]
  },
  {
   "cell_type": "code",
   "execution_count": 7,
   "id": "4738a4f3",
   "metadata": {},
   "outputs": [],
   "source": [
    "name = extract_detail(firm_name[3:])\n",
    "motor = extract_detail(firm_motor)\n",
    "reviews = extract_detail(firm_reviews)\n",
    "service, platform = extract_progress_values(progress_value)\n",
    "price = extract_detail(firm_price)\n",
    "employees = extract_detail(firm_employees)\n",
    "year = extract_detail(year_founded)\n",
    "location = extract_detail(firm_location) "
   ]
  },
  {
   "cell_type": "markdown",
   "id": "8ee1e11c",
   "metadata": {},
   "source": [
    "PUTTING DETAILS IN A DATAFRAME "
   ]
  },
  {
   "cell_type": "code",
   "execution_count": 8,
   "id": "00692c5d",
   "metadata": {},
   "outputs": [],
   "source": [
    "df1 = pd.DataFrame() "
   ]
  },
  {
   "cell_type": "code",
   "execution_count": 9,
   "id": "6f1c5e06",
   "metadata": {},
   "outputs": [],
   "source": [
    "df1['firm_name'] = name\n",
    "df1['firm_motor'] = motor\n",
    "df1['firm_reviews'] = reviews\n",
    "df1['service_pct'] = service\n",
    "df1['platform_pct'] = platform\n",
    "df1['firm_price'] = price\n",
    "df1['firm_employees'] = employees\n",
    "df1['year_founded'] = year\n",
    "df1['firm_location'] = location "
   ]
  },
  {
   "cell_type": "code",
   "execution_count": 34,
   "id": "ff38f581",
   "metadata": {},
   "outputs": [
    {
     "data": {
      "text/html": [
       "<div>\n",
       "<style scoped>\n",
       "    .dataframe tbody tr th:only-of-type {\n",
       "        vertical-align: middle;\n",
       "    }\n",
       "\n",
       "    .dataframe tbody tr th {\n",
       "        vertical-align: top;\n",
       "    }\n",
       "\n",
       "    .dataframe thead th {\n",
       "        text-align: right;\n",
       "    }\n",
       "</style>\n",
       "<table border=\"1\" class=\"dataframe\">\n",
       "  <thead>\n",
       "    <tr style=\"text-align: right;\">\n",
       "      <th></th>\n",
       "      <th>firm_name</th>\n",
       "      <th>firm_motor</th>\n",
       "      <th>firm_reviews</th>\n",
       "      <th>service_pct</th>\n",
       "      <th>platform_pct</th>\n",
       "      <th>firm_price</th>\n",
       "      <th>firm_employees</th>\n",
       "      <th>year_founded</th>\n",
       "      <th>firm_location</th>\n",
       "    </tr>\n",
       "  </thead>\n",
       "  <tbody>\n",
       "    <tr>\n",
       "      <th>0</th>\n",
       "      <td>SPEC INDIA</td>\n",
       "      <td>Enterprise Software, Mobility &amp; BI Solutions</td>\n",
       "      <td>4.8 (26 Reviews)</td>\n",
       "      <td>20%</td>\n",
       "      <td>15%</td>\n",
       "      <td>\\n&lt; $25/hr</td>\n",
       "      <td>250 - 999</td>\n",
       "      <td>1987</td>\n",
       "      <td>\\n India, United States</td>\n",
       "    </tr>\n",
       "    <tr>\n",
       "      <th>1</th>\n",
       "      <td>instinctools</td>\n",
       "      <td>Delivering the future. Now.</td>\n",
       "      <td>4.8 (8 Reviews)</td>\n",
       "      <td>5%</td>\n",
       "      <td>10%</td>\n",
       "      <td>\\n$50 - $99/hr</td>\n",
       "      <td>250 - 999</td>\n",
       "      <td>2000</td>\n",
       "      <td>\\nUnited States, Germany</td>\n",
       "    </tr>\n",
       "    <tr>\n",
       "      <th>2</th>\n",
       "      <td>SoluLab</td>\n",
       "      <td>Blockchain | IoT | Mobility | AI | Big Data</td>\n",
       "      <td>5.0 (32 Reviews)</td>\n",
       "      <td>15%</td>\n",
       "      <td>15%</td>\n",
       "      <td>\\n$25 - $49/hr</td>\n",
       "      <td>50 - 249</td>\n",
       "      <td>2014</td>\n",
       "      <td>\\nUnited States, India</td>\n",
       "    </tr>\n",
       "    <tr>\n",
       "      <th>3</th>\n",
       "      <td>Sigma Data Systems</td>\n",
       "      <td>Discover the world of Big Data with us!</td>\n",
       "      <td>4.7 (5 Reviews)</td>\n",
       "      <td>40%</td>\n",
       "      <td>10%</td>\n",
       "      <td>\\n$25 - $49/hr</td>\n",
       "      <td>250 - 999</td>\n",
       "      <td>2010</td>\n",
       "      <td>\\nUnited States, Australia</td>\n",
       "    </tr>\n",
       "    <tr>\n",
       "      <th>4</th>\n",
       "      <td>NeenOpal Inc.</td>\n",
       "      <td>The Hub Of Data Science Innovation</td>\n",
       "      <td>5.0 (5 Reviews)</td>\n",
       "      <td>25%</td>\n",
       "      <td>10%</td>\n",
       "      <td>\\n$25 - $49/hr</td>\n",
       "      <td>10 - 49</td>\n",
       "      <td>2016</td>\n",
       "      <td>\\nUnited States, India</td>\n",
       "    </tr>\n",
       "    <tr>\n",
       "      <th>5</th>\n",
       "      <td>Consagous Technologies</td>\n",
       "      <td>Helping brands by being their Technology Partner</td>\n",
       "      <td>4.8 (32 Reviews)</td>\n",
       "      <td>10%</td>\n",
       "      <td>20%</td>\n",
       "      <td>\\n$25 - $49/hr</td>\n",
       "      <td>50 - 249</td>\n",
       "      <td>2008</td>\n",
       "      <td>\\nIndia, United States</td>\n",
       "    </tr>\n",
       "    <tr>\n",
       "      <th>6</th>\n",
       "      <td>NEX Softsys</td>\n",
       "      <td>IT Partner for Global Clients</td>\n",
       "      <td>5.0 (12 Reviews)</td>\n",
       "      <td>20%</td>\n",
       "      <td>20%</td>\n",
       "      <td>\\n$25 - $49/hr</td>\n",
       "      <td>50 - 249</td>\n",
       "      <td>2003</td>\n",
       "      <td>\\nUnited States</td>\n",
       "    </tr>\n",
       "    <tr>\n",
       "      <th>7</th>\n",
       "      <td>Beyond Key</td>\n",
       "      <td>IT Consulting and Software Development Services</td>\n",
       "      <td>5.0 (7 Reviews)</td>\n",
       "      <td>20%</td>\n",
       "      <td>10%</td>\n",
       "      <td>\\n$25 - $49/hr</td>\n",
       "      <td>250 - 999</td>\n",
       "      <td>2005</td>\n",
       "      <td>\\nUnited States, India</td>\n",
       "    </tr>\n",
       "    <tr>\n",
       "      <th>8</th>\n",
       "      <td>Datapine</td>\n",
       "      <td>BUSINESS INTELLIGENCE MADE EASY</td>\n",
       "      <td>5.0 (3 Reviews)</td>\n",
       "      <td>90%</td>\n",
       "      <td>5%</td>\n",
       "      <td>\\n$50 - $99/hr</td>\n",
       "      <td>10 - 49</td>\n",
       "      <td>2012</td>\n",
       "      <td>\\nGermany</td>\n",
       "    </tr>\n",
       "    <tr>\n",
       "      <th>9</th>\n",
       "      <td>Dataforest</td>\n",
       "      <td>Data Engineering and Web Product Development</td>\n",
       "      <td>5.0 (4 Reviews)</td>\n",
       "      <td>30%</td>\n",
       "      <td>20%</td>\n",
       "      <td>\\n$50 - $99/hr</td>\n",
       "      <td>50 - 249</td>\n",
       "      <td>2018</td>\n",
       "      <td>\\nUkraine, Estonia</td>\n",
       "    </tr>\n",
       "    <tr>\n",
       "      <th>10</th>\n",
       "      <td>pwrteams</td>\n",
       "      <td>Scale your enterprise with cross-border teams</td>\n",
       "      <td>4.9 (7 Reviews)</td>\n",
       "      <td>10%</td>\n",
       "      <td>25%</td>\n",
       "      <td>\\n$25 - $49/hr</td>\n",
       "      <td>250 - 999</td>\n",
       "      <td>2008</td>\n",
       "      <td>\\nLuxembourg, Poland</td>\n",
       "    </tr>\n",
       "    <tr>\n",
       "      <th>11</th>\n",
       "      <td>Intellias</td>\n",
       "      <td>Global Technology Partner</td>\n",
       "      <td>5.0 (5 Reviews)</td>\n",
       "      <td>15%</td>\n",
       "      <td>5%</td>\n",
       "      <td>\\n$25 - $49/hr</td>\n",
       "      <td>1,000 - 9,999</td>\n",
       "      <td>2002</td>\n",
       "      <td>\\nUkraine, United States</td>\n",
       "    </tr>\n",
       "    <tr>\n",
       "      <th>12</th>\n",
       "      <td>Altar.io</td>\n",
       "      <td>Product &amp; Software Development Agency</td>\n",
       "      <td>5.0 (9 Reviews)</td>\n",
       "      <td>25%</td>\n",
       "      <td>10%</td>\n",
       "      <td>\\n$50 - $99/hr</td>\n",
       "      <td>10 - 49</td>\n",
       "      <td>2015</td>\n",
       "      <td>\\nPortugal, United Kingdom</td>\n",
       "    </tr>\n",
       "    <tr>\n",
       "      <th>13</th>\n",
       "      <td>Huspi</td>\n",
       "      <td>Transforming ideas into user-friendly software.</td>\n",
       "      <td>5.0 (6 Reviews)</td>\n",
       "      <td>10%</td>\n",
       "      <td>50%</td>\n",
       "      <td>\\n$50 - $99/hr</td>\n",
       "      <td>10 - 49</td>\n",
       "      <td>2015</td>\n",
       "      <td>\\nPoland, Ukraine</td>\n",
       "    </tr>\n",
       "    <tr>\n",
       "      <th>14</th>\n",
       "      <td>Rudder Analytics</td>\n",
       "      <td>Steering Your Business.</td>\n",
       "      <td>4.8 (3 Reviews)</td>\n",
       "      <td>90%</td>\n",
       "      <td>5%</td>\n",
       "      <td>\\n$25 - $49/hr</td>\n",
       "      <td>10 - 49</td>\n",
       "      <td>2015</td>\n",
       "      <td>\\nIndia</td>\n",
       "    </tr>\n",
       "    <tr>\n",
       "      <th>15</th>\n",
       "      <td>Fayrix</td>\n",
       "      <td>Remote software teams &amp; services for startups.</td>\n",
       "      <td>5.0 (8 Reviews)</td>\n",
       "      <td>10%</td>\n",
       "      <td>5%</td>\n",
       "      <td>\\n&lt; $25/hr</td>\n",
       "      <td>1,000 - 9,999</td>\n",
       "      <td>2005</td>\n",
       "      <td>\\nIsrael</td>\n",
       "    </tr>\n",
       "    <tr>\n",
       "      <th>16</th>\n",
       "      <td>Accubits</td>\n",
       "      <td>Your Technology Partner- Simple. Seamless. Secure</td>\n",
       "      <td>4.9 (7 Reviews)</td>\n",
       "      <td>10%</td>\n",
       "      <td>10%</td>\n",
       "      <td>\\n$25 - $49/hr</td>\n",
       "      <td>50 - 249</td>\n",
       "      <td>2012</td>\n",
       "      <td>\\nIndia, United States</td>\n",
       "    </tr>\n",
       "    <tr>\n",
       "      <th>17</th>\n",
       "      <td>OrbitSoft</td>\n",
       "      <td>We do software right</td>\n",
       "      <td>4.9 (3 Reviews)</td>\n",
       "      <td>5%</td>\n",
       "      <td>20%</td>\n",
       "      <td>\\n$25 - $49/hr</td>\n",
       "      <td>50 - 249</td>\n",
       "      <td>2001</td>\n",
       "      <td>\\nUnited States</td>\n",
       "    </tr>\n",
       "    <tr>\n",
       "      <th>18</th>\n",
       "      <td>Broscorp</td>\n",
       "      <td>Delivering software that helps businesses to grow</td>\n",
       "      <td>4.9 (4 Reviews)</td>\n",
       "      <td>10%</td>\n",
       "      <td>50%</td>\n",
       "      <td>\\n$25 - $49/hr</td>\n",
       "      <td>10 - 49</td>\n",
       "      <td>2016</td>\n",
       "      <td>\\nUkraine</td>\n",
       "    </tr>\n",
       "    <tr>\n",
       "      <th>19</th>\n",
       "      <td>Clustox</td>\n",
       "      <td>The House of Innovation</td>\n",
       "      <td>5.0 (5 Reviews)</td>\n",
       "      <td>10%</td>\n",
       "      <td>25%</td>\n",
       "      <td>\\n&lt; $25/hr</td>\n",
       "      <td>10 - 49</td>\n",
       "      <td>2012</td>\n",
       "      <td>\\nPakistan</td>\n",
       "    </tr>\n",
       "    <tr>\n",
       "      <th>20</th>\n",
       "      <td>VITech</td>\n",
       "      <td>Software development powerhouse</td>\n",
       "      <td>5.0 (3 Reviews)</td>\n",
       "      <td>30%</td>\n",
       "      <td>25%</td>\n",
       "      <td>\\n$50 - $99/hr</td>\n",
       "      <td>50 - 249</td>\n",
       "      <td>2007</td>\n",
       "      <td>\\nUkraine</td>\n",
       "    </tr>\n",
       "    <tr>\n",
       "      <th>21</th>\n",
       "      <td>GFAIVE</td>\n",
       "      <td>Demand forecasting for Fashion Retail</td>\n",
       "      <td>5.0 (2 Reviews)</td>\n",
       "      <td>20%</td>\n",
       "      <td>25%</td>\n",
       "      <td>\\nNA</td>\n",
       "      <td>10 - 49</td>\n",
       "      <td>2018</td>\n",
       "      <td>\\nGeorgia</td>\n",
       "    </tr>\n",
       "    <tr>\n",
       "      <th>22</th>\n",
       "      <td>SPRYTE Labs</td>\n",
       "      <td>The right team, every time</td>\n",
       "      <td>5.0 (3 Reviews)</td>\n",
       "      <td>10%</td>\n",
       "      <td>10%</td>\n",
       "      <td>\\nNA</td>\n",
       "      <td>1,000 - 9,999</td>\n",
       "      <td>2019</td>\n",
       "      <td>\\nUnited States</td>\n",
       "    </tr>\n",
       "    <tr>\n",
       "      <th>23</th>\n",
       "      <td>abstractR</td>\n",
       "      <td>We make Abstract ideas Real</td>\n",
       "      <td>5.0 (2 Reviews)</td>\n",
       "      <td>20%</td>\n",
       "      <td>20%</td>\n",
       "      <td>\\n$50 - $99/hr</td>\n",
       "      <td>10 - 49</td>\n",
       "      <td>2018</td>\n",
       "      <td>\\nCzech Republic</td>\n",
       "    </tr>\n",
       "    <tr>\n",
       "      <th>24</th>\n",
       "      <td>SetuServ</td>\n",
       "      <td>Customized AI: Machine Power + Human Accuracy</td>\n",
       "      <td>5.0 (1 Review)</td>\n",
       "      <td>50%</td>\n",
       "      <td>16%</td>\n",
       "      <td>\\nNA</td>\n",
       "      <td>50 - 249</td>\n",
       "      <td>2012</td>\n",
       "      <td>\\nUnited States, India</td>\n",
       "    </tr>\n",
       "    <tr>\n",
       "      <th>25</th>\n",
       "      <td>InData Labs</td>\n",
       "      <td>Big on Data Science and AI</td>\n",
       "      <td>5.0 (1 Review)</td>\n",
       "      <td>30%</td>\n",
       "      <td>30%</td>\n",
       "      <td>\\n$50 - $99/hr</td>\n",
       "      <td>50 - 249</td>\n",
       "      <td>2014</td>\n",
       "      <td>\\nCyprus, Singapore</td>\n",
       "    </tr>\n",
       "    <tr>\n",
       "      <th>26</th>\n",
       "      <td>Aegis Soft Tech</td>\n",
       "      <td>Software Development Expert</td>\n",
       "      <td>5.0 (2 Reviews)</td>\n",
       "      <td>5%</td>\n",
       "      <td>25%</td>\n",
       "      <td>\\n$25 - $49/hr</td>\n",
       "      <td>50 - 249</td>\n",
       "      <td>2003</td>\n",
       "      <td>\\nIndia</td>\n",
       "    </tr>\n",
       "    <tr>\n",
       "      <th>27</th>\n",
       "      <td>AM-BITS</td>\n",
       "      <td>Time to rethink IT</td>\n",
       "      <td>5.0 (2 Reviews)</td>\n",
       "      <td>20%</td>\n",
       "      <td>10%</td>\n",
       "      <td>\\n$25 - $49/hr</td>\n",
       "      <td>50 - 249</td>\n",
       "      <td>2016</td>\n",
       "      <td>\\nUkraine</td>\n",
       "    </tr>\n",
       "    <tr>\n",
       "      <th>28</th>\n",
       "      <td>ScaleupAlly</td>\n",
       "      <td>Scaleup the development of your Business Idea</td>\n",
       "      <td>4.8 (3 Reviews)</td>\n",
       "      <td>30%</td>\n",
       "      <td>30%</td>\n",
       "      <td>\\n$25 - $49/hr</td>\n",
       "      <td>10 - 49</td>\n",
       "      <td>2017</td>\n",
       "      <td>\\nIndia</td>\n",
       "    </tr>\n",
       "    <tr>\n",
       "      <th>29</th>\n",
       "      <td>ThirdEye Data Inc.</td>\n",
       "      <td>Transforming Enterprises with AI Applications</td>\n",
       "      <td>5.0 (1 Review)</td>\n",
       "      <td>20%</td>\n",
       "      <td>10%</td>\n",
       "      <td>\\n$50 - $99/hr</td>\n",
       "      <td>50 - 249</td>\n",
       "      <td>2010</td>\n",
       "      <td>\\nUnited States</td>\n",
       "    </tr>\n",
       "    <tr>\n",
       "      <th>30</th>\n",
       "      <td>CodeCoda Ltd</td>\n",
       "      <td>Advanced Software Development Outsourcing</td>\n",
       "      <td>3.0 (2 Reviews)</td>\n",
       "      <td>10%</td>\n",
       "      <td>15%</td>\n",
       "      <td>\\n$25 - $49/hr</td>\n",
       "      <td>50 - 249</td>\n",
       "      <td>2016</td>\n",
       "      <td>\\nBulgaria, Ireland</td>\n",
       "    </tr>\n",
       "    <tr>\n",
       "      <th>31</th>\n",
       "      <td>S-PRO</td>\n",
       "      <td>Strategic partner.</td>\n",
       "      <td>5.0 (30 Reviews)</td>\n",
       "      <td>10%</td>\n",
       "      <td>25%</td>\n",
       "      <td>\\n$50 - $99/hr</td>\n",
       "      <td>50 - 249</td>\n",
       "      <td>2014</td>\n",
       "      <td>\\nPoland</td>\n",
       "    </tr>\n",
       "    <tr>\n",
       "      <th>32</th>\n",
       "      <td>Welby Consulting</td>\n",
       "      <td>The Future of Digital</td>\n",
       "      <td>3.4 (5 Reviews)</td>\n",
       "      <td>10%</td>\n",
       "      <td>50%</td>\n",
       "      <td>\\n$100 - $149/hr</td>\n",
       "      <td>2 - 9</td>\n",
       "      <td>2015</td>\n",
       "      <td>\\nCanada</td>\n",
       "    </tr>\n",
       "    <tr>\n",
       "      <th>33</th>\n",
       "      <td>WebClues Infotech</td>\n",
       "      <td>Your Vision, Our Creation</td>\n",
       "      <td>4.6 (15 Reviews)</td>\n",
       "      <td>5%</td>\n",
       "      <td>50%</td>\n",
       "      <td>\\n$25 - $49/hr</td>\n",
       "      <td>50 - 249</td>\n",
       "      <td>2014</td>\n",
       "      <td>\\nCanada</td>\n",
       "    </tr>\n",
       "    <tr>\n",
       "      <th>34</th>\n",
       "      <td>MobiDev</td>\n",
       "      <td>Web and Mobile development, AI apps</td>\n",
       "      <td>5.0 (16 Reviews)</td>\n",
       "      <td>10%</td>\n",
       "      <td>10%</td>\n",
       "      <td>\\n$50 - $99/hr</td>\n",
       "      <td>250 - 999</td>\n",
       "      <td>2009</td>\n",
       "      <td>\\nUnited States</td>\n",
       "    </tr>\n",
       "    <tr>\n",
       "      <th>35</th>\n",
       "      <td>Prismetric</td>\n",
       "      <td>Delivering Quality Products and Premium Services</td>\n",
       "      <td>4.7 (14 Reviews)</td>\n",
       "      <td>5%</td>\n",
       "      <td>50%</td>\n",
       "      <td>\\n&lt; $25/hr</td>\n",
       "      <td>50 - 249</td>\n",
       "      <td>2008</td>\n",
       "      <td>\\nIndia, United States</td>\n",
       "    </tr>\n",
       "    <tr>\n",
       "      <th>36</th>\n",
       "      <td>Sunflower Lab</td>\n",
       "      <td>Sunflower Lab</td>\n",
       "      <td>4.9 (13 Reviews)</td>\n",
       "      <td>5%</td>\n",
       "      <td>50%</td>\n",
       "      <td>\\n$50 - $99/hr</td>\n",
       "      <td>50 - 249</td>\n",
       "      <td>2010</td>\n",
       "      <td>\\nUnited States</td>\n",
       "    </tr>\n",
       "    <tr>\n",
       "      <th>37</th>\n",
       "      <td>Clavax Technologies LLC</td>\n",
       "      <td>Transform Your Ideas into Digital Solutions</td>\n",
       "      <td>4.4 (15 Reviews)</td>\n",
       "      <td>10%</td>\n",
       "      <td>10%</td>\n",
       "      <td>\\n$25 - $49/hr</td>\n",
       "      <td>50 - 249</td>\n",
       "      <td>2011</td>\n",
       "      <td>\\nUnited States, Canada</td>\n",
       "    </tr>\n",
       "    <tr>\n",
       "      <th>38</th>\n",
       "      <td>APPSTIRR</td>\n",
       "      <td>Award Winning App Development Company</td>\n",
       "      <td>5.0 (14 Reviews)</td>\n",
       "      <td>5%</td>\n",
       "      <td>20%</td>\n",
       "      <td>\\n$25 - $49/hr</td>\n",
       "      <td>50 - 249</td>\n",
       "      <td>2010</td>\n",
       "      <td>\\nUnited States, United Arab Emirates</td>\n",
       "    </tr>\n",
       "    <tr>\n",
       "      <th>39</th>\n",
       "      <td>Classic Informatics</td>\n",
       "      <td>The Digital Innovation Company</td>\n",
       "      <td>4.9 (13 Reviews)</td>\n",
       "      <td>20%</td>\n",
       "      <td>20%</td>\n",
       "      <td>\\n$25 - $49/hr</td>\n",
       "      <td>50 - 249</td>\n",
       "      <td>2002</td>\n",
       "      <td>\\nIndia, United Kingdom</td>\n",
       "    </tr>\n",
       "    <tr>\n",
       "      <th>40</th>\n",
       "      <td>Idealogic</td>\n",
       "      <td>End-to-end custom software development</td>\n",
       "      <td>5.0 (13 Reviews)</td>\n",
       "      <td>10%</td>\n",
       "      <td>20%</td>\n",
       "      <td>\\n$50 - $99/hr</td>\n",
       "      <td>50 - 249</td>\n",
       "      <td>2016</td>\n",
       "      <td>\\nUkraine, Estonia</td>\n",
       "    </tr>\n",
       "    <tr>\n",
       "      <th>41</th>\n",
       "      <td>OpenGeeksLab</td>\n",
       "      <td>Crafting software that works for you.</td>\n",
       "      <td>5.0 (12 Reviews)</td>\n",
       "      <td>10%</td>\n",
       "      <td>30%</td>\n",
       "      <td>\\n$25 - $49/hr</td>\n",
       "      <td>50 - 249</td>\n",
       "      <td>2015</td>\n",
       "      <td>\\nUkraine</td>\n",
       "    </tr>\n",
       "    <tr>\n",
       "      <th>42</th>\n",
       "      <td>TrendLine Global</td>\n",
       "      <td>Custom Software Development Company</td>\n",
       "      <td>5.0 (11 Reviews)</td>\n",
       "      <td>5%</td>\n",
       "      <td>25%</td>\n",
       "      <td>\\n$25 - $49/hr</td>\n",
       "      <td>50 - 249</td>\n",
       "      <td>2010</td>\n",
       "      <td>\\nUkraine, United Kingdom</td>\n",
       "    </tr>\n",
       "    <tr>\n",
       "      <th>43</th>\n",
       "      <td>DigiPrima Technologies Pvt. Ltd.</td>\n",
       "      <td>Trusted Partners for Software Solutions</td>\n",
       "      <td>5.0 (11 Reviews)</td>\n",
       "      <td>10%</td>\n",
       "      <td>20%</td>\n",
       "      <td>\\n&lt; $25/hr</td>\n",
       "      <td>10 - 49</td>\n",
       "      <td>2016</td>\n",
       "      <td>\\nIndia, United States</td>\n",
       "    </tr>\n",
       "    <tr>\n",
       "      <th>44</th>\n",
       "      <td>HQSoftware</td>\n",
       "      <td>IoT, AR, VR, and custom software development</td>\n",
       "      <td>4.9 (11 Reviews)</td>\n",
       "      <td>5%</td>\n",
       "      <td>25%</td>\n",
       "      <td>\\n$25 - $49/hr</td>\n",
       "      <td>50 - 249</td>\n",
       "      <td>2001</td>\n",
       "      <td>\\n United States, Georgia</td>\n",
       "    </tr>\n",
       "    <tr>\n",
       "      <th>45</th>\n",
       "      <td>BR Softech Pvt Ltd</td>\n",
       "      <td>Website &amp; Mobile Apps Development Company</td>\n",
       "      <td>4.5 (10 Reviews)</td>\n",
       "      <td>5%</td>\n",
       "      <td>50%</td>\n",
       "      <td>\\n$25 - $49/hr</td>\n",
       "      <td>1,000 - 9,999</td>\n",
       "      <td>2012</td>\n",
       "      <td>\\nIndia, United States</td>\n",
       "    </tr>\n",
       "    <tr>\n",
       "      <th>46</th>\n",
       "      <td>Exceed Team</td>\n",
       "      <td>Exceeding expectations of our clients</td>\n",
       "      <td>5.0 (5 Reviews)</td>\n",
       "      <td>5%</td>\n",
       "      <td>100%</td>\n",
       "      <td>\\n$25 - $49/hr</td>\n",
       "      <td>50 - 249</td>\n",
       "      <td>2013</td>\n",
       "      <td>\\nRussia</td>\n",
       "    </tr>\n",
       "    <tr>\n",
       "      <th>47</th>\n",
       "      <td>Maxilect</td>\n",
       "      <td>Martech, Ad Tech, Fintech, Blockchain</td>\n",
       "      <td>5.0 (8 Reviews)</td>\n",
       "      <td>20%</td>\n",
       "      <td>20%</td>\n",
       "      <td>\\n$50 - $99/hr</td>\n",
       "      <td>50 - 249</td>\n",
       "      <td>2015</td>\n",
       "      <td>\\nRussia</td>\n",
       "    </tr>\n",
       "    <tr>\n",
       "      <th>48</th>\n",
       "      <td>Burning Buttons LLC</td>\n",
       "      <td>Digital boost for your business to succeed!</td>\n",
       "      <td>5.0 (6 Reviews)</td>\n",
       "      <td>10%</td>\n",
       "      <td>50%</td>\n",
       "      <td>\\n$25 - $49/hr</td>\n",
       "      <td>50 - 249</td>\n",
       "      <td>2009</td>\n",
       "      <td>\\nGermany, Russia</td>\n",
       "    </tr>\n",
       "    <tr>\n",
       "      <th>49</th>\n",
       "      <td>Systango Technologies</td>\n",
       "      <td>We Make the Impossible, Possible!</td>\n",
       "      <td>5.0 (6 Reviews)</td>\n",
       "      <td>10%</td>\n",
       "      <td>50%</td>\n",
       "      <td>\\n$25 - $49/hr</td>\n",
       "      <td>250 - 999</td>\n",
       "      <td>2007</td>\n",
       "      <td>\\nUnited Kingdom</td>\n",
       "    </tr>\n",
       "    <tr>\n",
       "      <th>50</th>\n",
       "      <td>Inoxoft</td>\n",
       "      <td>IEC/ISO 27001, Google, Microsoft Certified Com...</td>\n",
       "      <td>5.0 (8 Reviews)</td>\n",
       "      <td>10%</td>\n",
       "      <td>10%</td>\n",
       "      <td>\\n$25 - $49/hr</td>\n",
       "      <td>50 - 249</td>\n",
       "      <td>2014</td>\n",
       "      <td>\\nUkraine</td>\n",
       "    </tr>\n",
       "    <tr>\n",
       "      <th>51</th>\n",
       "      <td>Noventum Custom Software Development Company</td>\n",
       "      <td>Custom Software &amp; Web Development in New Mexico</td>\n",
       "      <td>5.0 (3 Reviews)</td>\n",
       "      <td>20%</td>\n",
       "      <td>100%</td>\n",
       "      <td>\\n$100 - $149/hr</td>\n",
       "      <td>2 - 9</td>\n",
       "      <td>2012</td>\n",
       "      <td>\\nUnited States</td>\n",
       "    </tr>\n",
       "    <tr>\n",
       "      <th>52</th>\n",
       "      <td>Napollo Software Design L.L.C</td>\n",
       "      <td>Best Software Design Agency in Dubai &amp; New York</td>\n",
       "      <td>5.0 (7 Reviews)</td>\n",
       "      <td>20%</td>\n",
       "      <td>20%</td>\n",
       "      <td>\\nNA</td>\n",
       "      <td>50 - 249</td>\n",
       "      <td>2011</td>\n",
       "      <td>\\nUnited States</td>\n",
       "    </tr>\n",
       "    <tr>\n",
       "      <th>53</th>\n",
       "      <td>SemiDot Infotech Pvt Ltd</td>\n",
       "      <td>Right Technology Partner for IT Solutions</td>\n",
       "      <td>4.7 (7 Reviews)</td>\n",
       "      <td>10%</td>\n",
       "      <td>30%</td>\n",
       "      <td>\\n&lt; $25/hr</td>\n",
       "      <td>50 - 249</td>\n",
       "      <td>2011</td>\n",
       "      <td>\\nUnited States, India</td>\n",
       "    </tr>\n",
       "  </tbody>\n",
       "</table>\n",
       "</div>"
      ],
      "text/plain": [
       "                                       firm_name  \\\n",
       "0                                     SPEC INDIA   \n",
       "1                                   instinctools   \n",
       "2                                        SoluLab   \n",
       "3                             Sigma Data Systems   \n",
       "4                                  NeenOpal Inc.   \n",
       "5                         Consagous Technologies   \n",
       "6                                    NEX Softsys   \n",
       "7                                     Beyond Key   \n",
       "8                                       Datapine   \n",
       "9                                     Dataforest   \n",
       "10                                      pwrteams   \n",
       "11                                     Intellias   \n",
       "12                                      Altar.io   \n",
       "13                                         Huspi   \n",
       "14                              Rudder Analytics   \n",
       "15                                        Fayrix   \n",
       "16                                      Accubits   \n",
       "17                                     OrbitSoft   \n",
       "18                                      Broscorp   \n",
       "19                                       Clustox   \n",
       "20                                        VITech   \n",
       "21                                        GFAIVE   \n",
       "22                                   SPRYTE Labs   \n",
       "23                                     abstractR   \n",
       "24                                      SetuServ   \n",
       "25                                   InData Labs   \n",
       "26                               Aegis Soft Tech   \n",
       "27                                       AM-BITS   \n",
       "28                                   ScaleupAlly   \n",
       "29                            ThirdEye Data Inc.   \n",
       "30                                  CodeCoda Ltd   \n",
       "31                                         S-PRO   \n",
       "32                              Welby Consulting   \n",
       "33                             WebClues Infotech   \n",
       "34                                       MobiDev   \n",
       "35                                    Prismetric   \n",
       "36                                 Sunflower Lab   \n",
       "37                       Clavax Technologies LLC   \n",
       "38                                      APPSTIRR   \n",
       "39                           Classic Informatics   \n",
       "40                                     Idealogic   \n",
       "41                                  OpenGeeksLab   \n",
       "42                              TrendLine Global   \n",
       "43              DigiPrima Technologies Pvt. Ltd.   \n",
       "44                                    HQSoftware   \n",
       "45                            BR Softech Pvt Ltd   \n",
       "46                                   Exceed Team   \n",
       "47                                      Maxilect   \n",
       "48                           Burning Buttons LLC   \n",
       "49                         Systango Technologies   \n",
       "50                                       Inoxoft   \n",
       "51  Noventum Custom Software Development Company   \n",
       "52                 Napollo Software Design L.L.C   \n",
       "53                      SemiDot Infotech Pvt Ltd   \n",
       "\n",
       "                                           firm_motor      firm_reviews  \\\n",
       "0        Enterprise Software, Mobility & BI Solutions  4.8 (26 Reviews)   \n",
       "1                         Delivering the future. Now.   4.8 (8 Reviews)   \n",
       "2         Blockchain | IoT | Mobility | AI | Big Data  5.0 (32 Reviews)   \n",
       "3             Discover the world of Big Data with us!   4.7 (5 Reviews)   \n",
       "4                  The Hub Of Data Science Innovation   5.0 (5 Reviews)   \n",
       "5    Helping brands by being their Technology Partner  4.8 (32 Reviews)   \n",
       "6                       IT Partner for Global Clients  5.0 (12 Reviews)   \n",
       "7    IT Consulting and Software Development Services    5.0 (7 Reviews)   \n",
       "8                     BUSINESS INTELLIGENCE MADE EASY   5.0 (3 Reviews)   \n",
       "9        Data Engineering and Web Product Development   5.0 (4 Reviews)   \n",
       "10      Scale your enterprise with cross-border teams   4.9 (7 Reviews)   \n",
       "11                          Global Technology Partner   5.0 (5 Reviews)   \n",
       "12              Product & Software Development Agency   5.0 (9 Reviews)   \n",
       "13    Transforming ideas into user-friendly software.   5.0 (6 Reviews)   \n",
       "14                            Steering Your Business.   4.8 (3 Reviews)   \n",
       "15    Remote software teams & services for startups.    5.0 (8 Reviews)   \n",
       "16  Your Technology Partner- Simple. Seamless. Secure   4.9 (7 Reviews)   \n",
       "17                               We do software right   4.9 (3 Reviews)   \n",
       "18  Delivering software that helps businesses to grow   4.9 (4 Reviews)   \n",
       "19                            The House of Innovation   5.0 (5 Reviews)   \n",
       "20                    Software development powerhouse   5.0 (3 Reviews)   \n",
       "21              Demand forecasting for Fashion Retail   5.0 (2 Reviews)   \n",
       "22                         The right team, every time   5.0 (3 Reviews)   \n",
       "23                        We make Abstract ideas Real   5.0 (2 Reviews)   \n",
       "24      Customized AI: Machine Power + Human Accuracy    5.0 (1 Review)   \n",
       "25                         Big on Data Science and AI    5.0 (1 Review)   \n",
       "26                        Software Development Expert   5.0 (2 Reviews)   \n",
       "27                                 Time to rethink IT   5.0 (2 Reviews)   \n",
       "28      Scaleup the development of your Business Idea   4.8 (3 Reviews)   \n",
       "29      Transforming Enterprises with AI Applications    5.0 (1 Review)   \n",
       "30          Advanced Software Development Outsourcing   3.0 (2 Reviews)   \n",
       "31                                 Strategic partner.  5.0 (30 Reviews)   \n",
       "32                              The Future of Digital   3.4 (5 Reviews)   \n",
       "33                          Your Vision, Our Creation  4.6 (15 Reviews)   \n",
       "34                Web and Mobile development, AI apps  5.0 (16 Reviews)   \n",
       "35   Delivering Quality Products and Premium Services  4.7 (14 Reviews)   \n",
       "36                                      Sunflower Lab  4.9 (13 Reviews)   \n",
       "37        Transform Your Ideas into Digital Solutions  4.4 (15 Reviews)   \n",
       "38              Award Winning App Development Company  5.0 (14 Reviews)   \n",
       "39                     The Digital Innovation Company  4.9 (13 Reviews)   \n",
       "40             End-to-end custom software development  5.0 (13 Reviews)   \n",
       "41              Crafting software that works for you.  5.0 (12 Reviews)   \n",
       "42               Custom Software Development Company   5.0 (11 Reviews)   \n",
       "43            Trusted Partners for Software Solutions  5.0 (11 Reviews)   \n",
       "44       IoT, AR, VR, and custom software development  4.9 (11 Reviews)   \n",
       "45          Website & Mobile Apps Development Company  4.5 (10 Reviews)   \n",
       "46              Exceeding expectations of our clients   5.0 (5 Reviews)   \n",
       "47              Martech, Ad Tech, Fintech, Blockchain   5.0 (8 Reviews)   \n",
       "48        Digital boost for your business to succeed!   5.0 (6 Reviews)   \n",
       "49                  We Make the Impossible, Possible!   5.0 (6 Reviews)   \n",
       "50  IEC/ISO 27001, Google, Microsoft Certified Com...   5.0 (8 Reviews)   \n",
       "51    Custom Software & Web Development in New Mexico   5.0 (3 Reviews)   \n",
       "52    Best Software Design Agency in Dubai & New York   5.0 (7 Reviews)   \n",
       "53          Right Technology Partner for IT Solutions   4.7 (7 Reviews)   \n",
       "\n",
       "   service_pct platform_pct         firm_price firm_employees year_founded  \\\n",
       "0          20%          15%        \\n< $25/hr       250 - 999         1987   \n",
       "1           5%          10%    \\n$50 - $99/hr       250 - 999         2000   \n",
       "2          15%          15%    \\n$25 - $49/hr        50 - 249         2014   \n",
       "3          40%          10%    \\n$25 - $49/hr       250 - 999         2010   \n",
       "4          25%          10%    \\n$25 - $49/hr         10 - 49         2016   \n",
       "5          10%          20%    \\n$25 - $49/hr        50 - 249         2008   \n",
       "6          20%          20%    \\n$25 - $49/hr        50 - 249         2003   \n",
       "7          20%          10%    \\n$25 - $49/hr       250 - 999         2005   \n",
       "8          90%           5%    \\n$50 - $99/hr         10 - 49         2012   \n",
       "9          30%          20%    \\n$50 - $99/hr        50 - 249         2018   \n",
       "10         10%          25%    \\n$25 - $49/hr       250 - 999         2008   \n",
       "11         15%           5%    \\n$25 - $49/hr   1,000 - 9,999         2002   \n",
       "12         25%          10%    \\n$50 - $99/hr         10 - 49         2015   \n",
       "13         10%          50%    \\n$50 - $99/hr         10 - 49         2015   \n",
       "14         90%           5%    \\n$25 - $49/hr         10 - 49         2015   \n",
       "15         10%           5%        \\n< $25/hr   1,000 - 9,999         2005   \n",
       "16         10%          10%    \\n$25 - $49/hr        50 - 249         2012   \n",
       "17          5%          20%    \\n$25 - $49/hr        50 - 249         2001   \n",
       "18         10%          50%    \\n$25 - $49/hr         10 - 49         2016   \n",
       "19         10%          25%        \\n< $25/hr         10 - 49         2012   \n",
       "20         30%          25%    \\n$50 - $99/hr        50 - 249         2007   \n",
       "21         20%          25%              \\nNA         10 - 49         2018   \n",
       "22         10%          10%              \\nNA   1,000 - 9,999         2019   \n",
       "23         20%          20%    \\n$50 - $99/hr         10 - 49         2018   \n",
       "24         50%          16%              \\nNA        50 - 249         2012   \n",
       "25         30%          30%    \\n$50 - $99/hr        50 - 249         2014   \n",
       "26          5%          25%    \\n$25 - $49/hr        50 - 249         2003   \n",
       "27         20%          10%    \\n$25 - $49/hr        50 - 249         2016   \n",
       "28         30%          30%    \\n$25 - $49/hr         10 - 49         2017   \n",
       "29         20%          10%    \\n$50 - $99/hr        50 - 249         2010   \n",
       "30         10%          15%    \\n$25 - $49/hr        50 - 249         2016   \n",
       "31         10%          25%    \\n$50 - $99/hr        50 - 249         2014   \n",
       "32         10%          50%  \\n$100 - $149/hr           2 - 9         2015   \n",
       "33          5%          50%    \\n$25 - $49/hr        50 - 249         2014   \n",
       "34         10%          10%    \\n$50 - $99/hr       250 - 999         2009   \n",
       "35          5%          50%        \\n< $25/hr        50 - 249         2008   \n",
       "36          5%          50%    \\n$50 - $99/hr        50 - 249         2010   \n",
       "37         10%          10%    \\n$25 - $49/hr        50 - 249         2011   \n",
       "38          5%          20%    \\n$25 - $49/hr        50 - 249         2010   \n",
       "39         20%          20%    \\n$25 - $49/hr        50 - 249         2002   \n",
       "40         10%          20%    \\n$50 - $99/hr        50 - 249         2016   \n",
       "41         10%          30%    \\n$25 - $49/hr        50 - 249         2015   \n",
       "42          5%          25%    \\n$25 - $49/hr        50 - 249         2010   \n",
       "43         10%          20%        \\n< $25/hr         10 - 49         2016   \n",
       "44          5%          25%    \\n$25 - $49/hr        50 - 249         2001   \n",
       "45          5%          50%    \\n$25 - $49/hr   1,000 - 9,999         2012   \n",
       "46          5%         100%    \\n$25 - $49/hr        50 - 249         2013   \n",
       "47         20%          20%    \\n$50 - $99/hr        50 - 249         2015   \n",
       "48         10%          50%    \\n$25 - $49/hr        50 - 249         2009   \n",
       "49         10%          50%    \\n$25 - $49/hr       250 - 999         2007   \n",
       "50         10%          10%    \\n$25 - $49/hr        50 - 249         2014   \n",
       "51         20%         100%  \\n$100 - $149/hr           2 - 9         2012   \n",
       "52         20%          20%              \\nNA        50 - 249         2011   \n",
       "53         10%          30%        \\n< $25/hr        50 - 249         2011   \n",
       "\n",
       "                             firm_location  \n",
       "0                 \\n India, United States   \n",
       "1                \\nUnited States, Germany   \n",
       "2                  \\nUnited States, India   \n",
       "3              \\nUnited States, Australia   \n",
       "4                  \\nUnited States, India   \n",
       "5                  \\nIndia, United States   \n",
       "6                         \\nUnited States   \n",
       "7                  \\nUnited States, India   \n",
       "8                               \\nGermany   \n",
       "9                      \\nUkraine, Estonia   \n",
       "10                   \\nLuxembourg, Poland   \n",
       "11               \\nUkraine, United States   \n",
       "12             \\nPortugal, United Kingdom   \n",
       "13                      \\nPoland, Ukraine   \n",
       "14                                \\nIndia   \n",
       "15                               \\nIsrael   \n",
       "16                 \\nIndia, United States   \n",
       "17                        \\nUnited States   \n",
       "18                              \\nUkraine   \n",
       "19                             \\nPakistan   \n",
       "20                              \\nUkraine   \n",
       "21                              \\nGeorgia   \n",
       "22                       \\nUnited States    \n",
       "23                       \\nCzech Republic   \n",
       "24                 \\nUnited States, India   \n",
       "25                    \\nCyprus, Singapore   \n",
       "26                                \\nIndia   \n",
       "27                              \\nUkraine   \n",
       "28                                \\nIndia   \n",
       "29                        \\nUnited States   \n",
       "30                    \\nBulgaria, Ireland   \n",
       "31                               \\nPoland   \n",
       "32                               \\nCanada   \n",
       "33                               \\nCanada   \n",
       "34                        \\nUnited States   \n",
       "35                 \\nIndia, United States   \n",
       "36                        \\nUnited States   \n",
       "37                \\nUnited States, Canada   \n",
       "38  \\nUnited States, United Arab Emirates   \n",
       "39                \\nIndia, United Kingdom   \n",
       "40                     \\nUkraine, Estonia   \n",
       "41                              \\nUkraine   \n",
       "42              \\nUkraine, United Kingdom   \n",
       "43                 \\nIndia, United States   \n",
       "44              \\n United States, Georgia   \n",
       "45                 \\nIndia, United States   \n",
       "46                               \\nRussia   \n",
       "47                               \\nRussia   \n",
       "48                      \\nGermany, Russia   \n",
       "49                       \\nUnited Kingdom   \n",
       "50                              \\nUkraine   \n",
       "51                        \\nUnited States   \n",
       "52                        \\nUnited States   \n",
       "53                 \\nUnited States, India   "
      ]
     },
     "execution_count": 34,
     "metadata": {},
     "output_type": "execute_result"
    }
   ],
   "source": [
    "df1 "
   ]
  },
  {
   "cell_type": "code",
   "execution_count": null,
   "id": "af5cd9a0",
   "metadata": {},
   "outputs": [],
   "source": []
  },
  {
   "cell_type": "code",
   "execution_count": null,
   "id": "7158b042",
   "metadata": {},
   "outputs": [],
   "source": []
  },
  {
   "cell_type": "markdown",
   "id": "0d6800a0",
   "metadata": {},
   "source": [
    "PAGE 2"
   ]
  },
  {
   "cell_type": "code",
   "execution_count": 10,
   "id": "5497c4c9",
   "metadata": {},
   "outputs": [],
   "source": [
    "with open(\"page2.html\", encoding='utf-8', mode='r') as file:\n",
    "    bs2 = BeautifulSoup(file, 'lxml') "
   ]
  },
  {
   "cell_type": "markdown",
   "id": "9779997e",
   "metadata": {},
   "source": [
    "LOCATING DETAILS "
   ]
  },
  {
   "cell_type": "code",
   "execution_count": 11,
   "id": "7973d783",
   "metadata": {},
   "outputs": [],
   "source": [
    "firm_name = bs2.find_all('span', {'itemprop': 'name'})\n",
    "firm_motor = bs2.find_all('p', {'class': 'profile-tagline'})\n",
    "firm_reviews = bs2.find_all('span', {'class': 'listinv_review_label'})\n",
    "progress_value = bs2.find_all('div', {'class': 'circle-progress-value'})\n",
    "firm_price = bs2.find_all('div', {'class': 'firm-pricing'})\n",
    "firm_employees = bs2.find_all('div', {'class': 'firm-employees'})\n",
    "year_founded = bs2.find_all('div', {'class': 'firm-founded'})\n",
    "firm_location = bs2.find_all('div', {'class': 'firm-location'})"
   ]
  },
  {
   "cell_type": "markdown",
   "id": "f5f731ef",
   "metadata": {},
   "source": [
    "EXTRACTING DETAILS"
   ]
  },
  {
   "cell_type": "code",
   "execution_count": 12,
   "id": "ebe6d691",
   "metadata": {},
   "outputs": [],
   "source": [
    "name2 = extract_detail(firm_name[3:])\n",
    "motor2 = extract_detail(firm_motor)\n",
    "reviews2 = extract_detail(firm_reviews)\n",
    "service2, platform2 = extract_progress_values(progress_value)\n",
    "price2 = extract_detail(firm_price)\n",
    "employees2 = extract_detail(firm_employees)\n",
    "year2 = extract_detail(year_founded)\n",
    "location2 = extract_detail(firm_location) "
   ]
  },
  {
   "cell_type": "markdown",
   "id": "20a2b431",
   "metadata": {},
   "source": [
    "PUTTING DETAILS IN A DATAFRAME "
   ]
  },
  {
   "cell_type": "code",
   "execution_count": 13,
   "id": "3899a26d",
   "metadata": {},
   "outputs": [],
   "source": [
    "df2 = pd.DataFrame() "
   ]
  },
  {
   "cell_type": "code",
   "execution_count": 14,
   "id": "d66a3fd3",
   "metadata": {},
   "outputs": [],
   "source": [
    "df2['firm_name'] = name2\n",
    "df2['firm_motor'] = motor2\n",
    "df2['firm_reviews'] = reviews2\n",
    "df2['service_pct'] = service\n",
    "df2['platform_pct'] = platform\n",
    "df2['firm_price'] = price2\n",
    "df2['firm_employees'] = employees2\n",
    "df2['year_founded'] = year2\n",
    "df2['firm_location'] = location2  "
   ]
  },
  {
   "cell_type": "code",
   "execution_count": 15,
   "id": "52ca7ec7",
   "metadata": {},
   "outputs": [
    {
     "data": {
      "text/html": [
       "<div>\n",
       "<style scoped>\n",
       "    .dataframe tbody tr th:only-of-type {\n",
       "        vertical-align: middle;\n",
       "    }\n",
       "\n",
       "    .dataframe tbody tr th {\n",
       "        vertical-align: top;\n",
       "    }\n",
       "\n",
       "    .dataframe thead th {\n",
       "        text-align: right;\n",
       "    }\n",
       "</style>\n",
       "<table border=\"1\" class=\"dataframe\">\n",
       "  <thead>\n",
       "    <tr style=\"text-align: right;\">\n",
       "      <th></th>\n",
       "      <th>firm_name</th>\n",
       "      <th>firm_motor</th>\n",
       "      <th>firm_reviews</th>\n",
       "      <th>service_pct</th>\n",
       "      <th>platform_pct</th>\n",
       "      <th>firm_price</th>\n",
       "      <th>firm_employees</th>\n",
       "      <th>year_founded</th>\n",
       "      <th>firm_location</th>\n",
       "    </tr>\n",
       "  </thead>\n",
       "  <tbody>\n",
       "    <tr>\n",
       "      <th>0</th>\n",
       "      <td>Sphinx Solutions</td>\n",
       "      <td>Inspire : Innovate : Evolve</td>\n",
       "      <td>4.6 (8 Reviews)</td>\n",
       "      <td>20%</td>\n",
       "      <td>15%</td>\n",
       "      <td>\\n&lt; $25/hr</td>\n",
       "      <td>Freelancer</td>\n",
       "      <td>2010</td>\n",
       "      <td>\\nIndia, United States</td>\n",
       "    </tr>\n",
       "    <tr>\n",
       "      <th>1</th>\n",
       "      <td>Redian Software</td>\n",
       "      <td>Delivering Open Source Solutions</td>\n",
       "      <td>5.0 (5 Reviews)</td>\n",
       "      <td>5%</td>\n",
       "      <td>10%</td>\n",
       "      <td>\\n$25 - $49/hr</td>\n",
       "      <td>10 - 49</td>\n",
       "      <td>2016</td>\n",
       "      <td>\\nUnited Kingdom, India</td>\n",
       "    </tr>\n",
       "    <tr>\n",
       "      <th>2</th>\n",
       "      <td>Indus Net Technologies</td>\n",
       "      <td>We Deliver Digital Success</td>\n",
       "      <td>5.0 (5 Reviews)</td>\n",
       "      <td>15%</td>\n",
       "      <td>15%</td>\n",
       "      <td>\\n&lt; $25/hr</td>\n",
       "      <td>250 - 999</td>\n",
       "      <td>1997</td>\n",
       "      <td>\\nIndia, United Kingdom</td>\n",
       "    </tr>\n",
       "    <tr>\n",
       "      <th>3</th>\n",
       "      <td>RWaltz Group Inc.</td>\n",
       "      <td>Blockchain Solutions Experts</td>\n",
       "      <td>5.0 (5 Reviews)</td>\n",
       "      <td>40%</td>\n",
       "      <td>10%</td>\n",
       "      <td>\\n$50 - $99/hr</td>\n",
       "      <td>50 - 249</td>\n",
       "      <td>2000</td>\n",
       "      <td>\\nUnited States</td>\n",
       "    </tr>\n",
       "    <tr>\n",
       "      <th>4</th>\n",
       "      <td>UNL Solutions</td>\n",
       "      <td>Dedicated Team, Dedicated Developer</td>\n",
       "      <td>4.3 (3 Reviews)</td>\n",
       "      <td>25%</td>\n",
       "      <td>10%</td>\n",
       "      <td>\\n$25 - $49/hr</td>\n",
       "      <td>50 - 249</td>\n",
       "      <td>2006</td>\n",
       "      <td>\\nUnited Kingdom, Belarus</td>\n",
       "    </tr>\n",
       "    <tr>\n",
       "      <th>5</th>\n",
       "      <td>Shockoe</td>\n",
       "      <td>Mobile by Design</td>\n",
       "      <td>5.0 (2 Reviews)</td>\n",
       "      <td>10%</td>\n",
       "      <td>20%</td>\n",
       "      <td>\\n$100 - $149/hr</td>\n",
       "      <td>10 - 49</td>\n",
       "      <td>2010</td>\n",
       "      <td>\\nUnited States</td>\n",
       "    </tr>\n",
       "    <tr>\n",
       "      <th>6</th>\n",
       "      <td>Decipher Zone Technologies Pvt Ltd</td>\n",
       "      <td>Java Development Company</td>\n",
       "      <td>5.0 (2 Reviews)</td>\n",
       "      <td>20%</td>\n",
       "      <td>20%</td>\n",
       "      <td>\\n&lt; $25/hr</td>\n",
       "      <td>50 - 249</td>\n",
       "      <td>2015</td>\n",
       "      <td>\\nIndia</td>\n",
       "    </tr>\n",
       "    <tr>\n",
       "      <th>7</th>\n",
       "      <td>Stellen Infotech</td>\n",
       "      <td>You Think We Create</td>\n",
       "      <td>5.0 (2 Reviews)</td>\n",
       "      <td>20%</td>\n",
       "      <td>10%</td>\n",
       "      <td>\\n$25 - $49/hr</td>\n",
       "      <td>50 - 249</td>\n",
       "      <td>2010</td>\n",
       "      <td>\\nIndia, United States</td>\n",
       "    </tr>\n",
       "    <tr>\n",
       "      <th>8</th>\n",
       "      <td>N-iX</td>\n",
       "      <td>Software development company</td>\n",
       "      <td>5.0 (5 Reviews)</td>\n",
       "      <td>90%</td>\n",
       "      <td>5%</td>\n",
       "      <td>\\n$50 - $99/hr</td>\n",
       "      <td>1,000 - 9,999</td>\n",
       "      <td>2002</td>\n",
       "      <td>\\nMalta, Ukraine</td>\n",
       "    </tr>\n",
       "    <tr>\n",
       "      <th>9</th>\n",
       "      <td>Build Scale Prosper</td>\n",
       "      <td>Build. Scale. Prosper.</td>\n",
       "      <td>5.0 (1 Review)</td>\n",
       "      <td>30%</td>\n",
       "      <td>20%</td>\n",
       "      <td>\\n$100 - $149/hr</td>\n",
       "      <td>2 - 9</td>\n",
       "      <td>2018</td>\n",
       "      <td>\\nUnited States</td>\n",
       "    </tr>\n",
       "    <tr>\n",
       "      <th>10</th>\n",
       "      <td>DreamzTech Solutions Inc.</td>\n",
       "      <td>Digital Partner for Web, Mobile &amp; IoT Solutions</td>\n",
       "      <td>5.0 (4 Reviews)</td>\n",
       "      <td>10%</td>\n",
       "      <td>25%</td>\n",
       "      <td>\\n&lt; $25/hr</td>\n",
       "      <td>50 - 249</td>\n",
       "      <td>2013</td>\n",
       "      <td>\\nUnited Kingdom, United States</td>\n",
       "    </tr>\n",
       "    <tr>\n",
       "      <th>11</th>\n",
       "      <td>NIX</td>\n",
       "      <td>Enterprise Software, Data Analytics &amp; BI Solut...</td>\n",
       "      <td>5.0 (6 Reviews)</td>\n",
       "      <td>15%</td>\n",
       "      <td>5%</td>\n",
       "      <td>\\n$50 - $99/hr</td>\n",
       "      <td>1,000 - 9,999</td>\n",
       "      <td>1994</td>\n",
       "      <td>\\nUnited States</td>\n",
       "    </tr>\n",
       "    <tr>\n",
       "      <th>12</th>\n",
       "      <td>InnovationM</td>\n",
       "      <td>End to End Technology Solutions</td>\n",
       "      <td>4.4 (4 Reviews)</td>\n",
       "      <td>25%</td>\n",
       "      <td>10%</td>\n",
       "      <td>\\n&lt; $25/hr</td>\n",
       "      <td>50 - 249</td>\n",
       "      <td>2010</td>\n",
       "      <td>\\nUnited States, India</td>\n",
       "    </tr>\n",
       "    <tr>\n",
       "      <th>13</th>\n",
       "      <td>Fortunesoft IT Innovations</td>\n",
       "      <td>High-end software product engineering &amp; services</td>\n",
       "      <td>5.0 (4 Reviews)</td>\n",
       "      <td>10%</td>\n",
       "      <td>50%</td>\n",
       "      <td>\\n$25 - $49/hr</td>\n",
       "      <td>50 - 249</td>\n",
       "      <td>2009</td>\n",
       "      <td>\\nUnited States, India</td>\n",
       "    </tr>\n",
       "    <tr>\n",
       "      <th>14</th>\n",
       "      <td>Prakash Software Solutions Pvt Ltd</td>\n",
       "      <td>Smart Technology Provider</td>\n",
       "      <td>4.8 (5 Reviews)</td>\n",
       "      <td>90%</td>\n",
       "      <td>5%</td>\n",
       "      <td>\\n$25 - $49/hr</td>\n",
       "      <td>50 - 249</td>\n",
       "      <td>2000</td>\n",
       "      <td>\\nIndia</td>\n",
       "    </tr>\n",
       "    <tr>\n",
       "      <th>15</th>\n",
       "      <td>Loginworks Softwares Inc</td>\n",
       "      <td>Team you will Like, Trust and Admire</td>\n",
       "      <td>5.0 (3 Reviews)</td>\n",
       "      <td>10%</td>\n",
       "      <td>5%</td>\n",
       "      <td>\\n&lt; $25/hr</td>\n",
       "      <td>50 - 249</td>\n",
       "      <td>2006</td>\n",
       "      <td>\\nIndia, United States</td>\n",
       "    </tr>\n",
       "    <tr>\n",
       "      <th>16</th>\n",
       "      <td>Bacancy Technology</td>\n",
       "      <td>Full Stack Agile &amp; Lean Development Partner</td>\n",
       "      <td>4.8 (5 Reviews)</td>\n",
       "      <td>10%</td>\n",
       "      <td>10%</td>\n",
       "      <td>\\n$25 - $49/hr</td>\n",
       "      <td>250 - 999</td>\n",
       "      <td>2011</td>\n",
       "      <td>\\nIndia, Canada</td>\n",
       "    </tr>\n",
       "    <tr>\n",
       "      <th>17</th>\n",
       "      <td>SumatoSoft</td>\n",
       "      <td>We help companies to digitalize their businesses.</td>\n",
       "      <td>5.0 (5 Reviews)</td>\n",
       "      <td>5%</td>\n",
       "      <td>20%</td>\n",
       "      <td>\\n$50 - $99/hr</td>\n",
       "      <td>50 - 249</td>\n",
       "      <td>2012</td>\n",
       "      <td>\\nUnited States</td>\n",
       "    </tr>\n",
       "    <tr>\n",
       "      <th>18</th>\n",
       "      <td>Zymr, Inc.</td>\n",
       "      <td>Accelerate Cloud-Native Agile Development</td>\n",
       "      <td>5.0 (1 Review)</td>\n",
       "      <td>10%</td>\n",
       "      <td>50%</td>\n",
       "      <td>\\n$25 - $49/hr</td>\n",
       "      <td>50 - 249</td>\n",
       "      <td>2012</td>\n",
       "      <td>\\nUnited States, Australia</td>\n",
       "    </tr>\n",
       "    <tr>\n",
       "      <th>19</th>\n",
       "      <td>Golden Logic Company for Communications and In...</td>\n",
       "      <td>IT, Applications, VR/AR System Integration Ban...</td>\n",
       "      <td>5.0 (1 Review)</td>\n",
       "      <td>10%</td>\n",
       "      <td>25%</td>\n",
       "      <td>\\nNA</td>\n",
       "      <td>10 - 49</td>\n",
       "      <td>2017</td>\n",
       "      <td>\\nSaudi Arabia, United Arab Emirates</td>\n",
       "    </tr>\n",
       "    <tr>\n",
       "      <th>20</th>\n",
       "      <td>4ire Labs</td>\n",
       "      <td>Create winning experience in Blockchain, DeFi</td>\n",
       "      <td>5.0 (3 Reviews)</td>\n",
       "      <td>30%</td>\n",
       "      <td>25%</td>\n",
       "      <td>\\n$25 - $49/hr</td>\n",
       "      <td>250 - 999</td>\n",
       "      <td>2010</td>\n",
       "      <td>\\nUkraine, Estonia</td>\n",
       "    </tr>\n",
       "    <tr>\n",
       "      <th>21</th>\n",
       "      <td>JDV Technologies</td>\n",
       "      <td>Cloud Consulting and Software Development Comp...</td>\n",
       "      <td>4.9 (5 Reviews)</td>\n",
       "      <td>20%</td>\n",
       "      <td>25%</td>\n",
       "      <td>\\n$25 - $49/hr</td>\n",
       "      <td>10 - 49</td>\n",
       "      <td>2018</td>\n",
       "      <td>\\nIndia, United States</td>\n",
       "    </tr>\n",
       "    <tr>\n",
       "      <th>22</th>\n",
       "      <td>Ballard Chalmers</td>\n",
       "      <td>software, engineered</td>\n",
       "      <td>5.0 (5 Reviews)</td>\n",
       "      <td>10%</td>\n",
       "      <td>10%</td>\n",
       "      <td>\\n$100 - $149/hr</td>\n",
       "      <td>10 - 49</td>\n",
       "      <td>2005</td>\n",
       "      <td>\\nUnited Kingdom</td>\n",
       "    </tr>\n",
       "    <tr>\n",
       "      <th>23</th>\n",
       "      <td>Queppelin</td>\n",
       "      <td>Metaverse - AR | VR | NFTs | AI | WebAR | 3D</td>\n",
       "      <td>5.0 (5 Reviews)</td>\n",
       "      <td>20%</td>\n",
       "      <td>20%</td>\n",
       "      <td>\\n&lt; $25/hr</td>\n",
       "      <td>50 - 249</td>\n",
       "      <td>2010</td>\n",
       "      <td>\\nUnited States</td>\n",
       "    </tr>\n",
       "    <tr>\n",
       "      <th>24</th>\n",
       "      <td>Plaxonic Technologies</td>\n",
       "      <td>Invent | Innovative</td>\n",
       "      <td>5.0 (4 Reviews)</td>\n",
       "      <td>50%</td>\n",
       "      <td>16%</td>\n",
       "      <td>\\n$25 - $49/hr</td>\n",
       "      <td>50 - 249</td>\n",
       "      <td>2013</td>\n",
       "      <td>\\nIndia, United States</td>\n",
       "    </tr>\n",
       "    <tr>\n",
       "      <th>25</th>\n",
       "      <td>TemaBit</td>\n",
       "      <td>Keep it smart and simple!</td>\n",
       "      <td>4.9 (4 Reviews)</td>\n",
       "      <td>30%</td>\n",
       "      <td>30%</td>\n",
       "      <td>\\n$25 - $49/hr</td>\n",
       "      <td>250 - 999</td>\n",
       "      <td>2013</td>\n",
       "      <td>\\nUkraine, United States</td>\n",
       "    </tr>\n",
       "    <tr>\n",
       "      <th>26</th>\n",
       "      <td>Binariks Inc</td>\n",
       "      <td>Software Development Company</td>\n",
       "      <td>5.0 (4 Reviews)</td>\n",
       "      <td>5%</td>\n",
       "      <td>25%</td>\n",
       "      <td>\\n$50 - $99/hr</td>\n",
       "      <td>50 - 249</td>\n",
       "      <td>2014</td>\n",
       "      <td>\\nUkraine, United States</td>\n",
       "    </tr>\n",
       "    <tr>\n",
       "      <th>27</th>\n",
       "      <td>Serokell</td>\n",
       "      <td>YOUR EXPECTATIONS, LIFTED.</td>\n",
       "      <td>5.0 (4 Reviews)</td>\n",
       "      <td>20%</td>\n",
       "      <td>10%</td>\n",
       "      <td>\\n$50 - $99/hr</td>\n",
       "      <td>50 - 249</td>\n",
       "      <td>2015</td>\n",
       "      <td>\\nEstonia</td>\n",
       "    </tr>\n",
       "    <tr>\n",
       "      <th>28</th>\n",
       "      <td>Space-O Technologies</td>\n",
       "      <td>[Mobile, Web, BigData, Ruby, Python Expert]</td>\n",
       "      <td>4.9 (4 Reviews)</td>\n",
       "      <td>30%</td>\n",
       "      <td>30%</td>\n",
       "      <td>\\n$25 - $49/hr</td>\n",
       "      <td>50 - 249</td>\n",
       "      <td>2010</td>\n",
       "      <td>\\nIndia, Canada</td>\n",
       "    </tr>\n",
       "    <tr>\n",
       "      <th>29</th>\n",
       "      <td>DIGIS</td>\n",
       "      <td>Software Development</td>\n",
       "      <td>5.0 (2 Reviews)</td>\n",
       "      <td>20%</td>\n",
       "      <td>10%</td>\n",
       "      <td>\\n$25 - $49/hr</td>\n",
       "      <td>50 - 249</td>\n",
       "      <td>2009</td>\n",
       "      <td>\\nUkraine</td>\n",
       "    </tr>\n",
       "    <tr>\n",
       "      <th>30</th>\n",
       "      <td>DOIT Software</td>\n",
       "      <td>Mobile Apps, Software Development &amp; Staffing</td>\n",
       "      <td>5.0 (4 Reviews)</td>\n",
       "      <td>10%</td>\n",
       "      <td>15%</td>\n",
       "      <td>\\n$25 - $49/hr</td>\n",
       "      <td>10 - 49</td>\n",
       "      <td>2014</td>\n",
       "      <td>\\nUkraine, United Kingdom</td>\n",
       "    </tr>\n",
       "    <tr>\n",
       "      <th>31</th>\n",
       "      <td>SKY INCOM</td>\n",
       "      <td>Web &amp; Mobile Development</td>\n",
       "      <td>5.0 (4 Reviews)</td>\n",
       "      <td>10%</td>\n",
       "      <td>25%</td>\n",
       "      <td>\\n$25 - $49/hr</td>\n",
       "      <td>10 - 49</td>\n",
       "      <td>2002</td>\n",
       "      <td>\\nBelarus</td>\n",
       "    </tr>\n",
       "    <tr>\n",
       "      <th>32</th>\n",
       "      <td>Miquido</td>\n",
       "      <td>Full-service software development partner</td>\n",
       "      <td>4.9 (4 Reviews)</td>\n",
       "      <td>10%</td>\n",
       "      <td>50%</td>\n",
       "      <td>\\n$50 - $99/hr</td>\n",
       "      <td>250 - 999</td>\n",
       "      <td>2011</td>\n",
       "      <td>\\n Poland, United Kingdom</td>\n",
       "    </tr>\n",
       "    <tr>\n",
       "      <th>33</th>\n",
       "      <td>The Analyst Agency</td>\n",
       "      <td>Web Developers in Buffalo, NY</td>\n",
       "      <td>5.0 (1 Review)</td>\n",
       "      <td>5%</td>\n",
       "      <td>50%</td>\n",
       "      <td>\\nNA</td>\n",
       "      <td>Freelancer</td>\n",
       "      <td></td>\n",
       "      <td>\\nUnited States, India</td>\n",
       "    </tr>\n",
       "    <tr>\n",
       "      <th>34</th>\n",
       "      <td>ALFATEK</td>\n",
       "      <td>IT MSP, Software Development, Solution, IT Ser...</td>\n",
       "      <td>5.0 (3 Reviews)</td>\n",
       "      <td>10%</td>\n",
       "      <td>10%</td>\n",
       "      <td>\\n$100 - $149/hr</td>\n",
       "      <td>2 - 9</td>\n",
       "      <td>2013</td>\n",
       "      <td>\\nUnited States</td>\n",
       "    </tr>\n",
       "    <tr>\n",
       "      <th>35</th>\n",
       "      <td>ELEKS</td>\n",
       "      <td>Your Technology Partner for Software Innovation</td>\n",
       "      <td>5.0 (3 Reviews)</td>\n",
       "      <td>5%</td>\n",
       "      <td>50%</td>\n",
       "      <td>\\n$25 - $49/hr</td>\n",
       "      <td>1,000 - 9,999</td>\n",
       "      <td>1991</td>\n",
       "      <td>\\nEstonia, United States</td>\n",
       "    </tr>\n",
       "    <tr>\n",
       "      <th>36</th>\n",
       "      <td>Imenso Software</td>\n",
       "      <td>Full Stack Tech Consulting Agency</td>\n",
       "      <td>5.0 (3 Reviews)</td>\n",
       "      <td>5%</td>\n",
       "      <td>50%</td>\n",
       "      <td>\\n$25 - $49/hr</td>\n",
       "      <td>50 - 249</td>\n",
       "      <td>2010</td>\n",
       "      <td>\\nIndia</td>\n",
       "    </tr>\n",
       "    <tr>\n",
       "      <th>37</th>\n",
       "      <td>Pitangent</td>\n",
       "      <td>Easing productivity with digital innovations</td>\n",
       "      <td>5.0 (3 Reviews)</td>\n",
       "      <td>10%</td>\n",
       "      <td>10%</td>\n",
       "      <td>\\n &lt; $25/hr</td>\n",
       "      <td>10 - 49</td>\n",
       "      <td>2017</td>\n",
       "      <td>\\nIndia</td>\n",
       "    </tr>\n",
       "    <tr>\n",
       "      <th>38</th>\n",
       "      <td>Maticz Technologies</td>\n",
       "      <td>Web3, Metaverse &amp; Blockchain Development Company</td>\n",
       "      <td>5.0 (3 Reviews)</td>\n",
       "      <td>5%</td>\n",
       "      <td>20%</td>\n",
       "      <td>\\n$25 - $49/hr</td>\n",
       "      <td>50 - 249</td>\n",
       "      <td>2020</td>\n",
       "      <td>\\nIndia</td>\n",
       "    </tr>\n",
       "    <tr>\n",
       "      <th>39</th>\n",
       "      <td>Damco Solutions</td>\n",
       "      <td>Enabling Business Transformation and Innovation</td>\n",
       "      <td>4.9 (3 Reviews)</td>\n",
       "      <td>20%</td>\n",
       "      <td>20%</td>\n",
       "      <td>\\nNA</td>\n",
       "      <td>1,000 - 9,999</td>\n",
       "      <td>1996</td>\n",
       "      <td>\\nUnited States</td>\n",
       "    </tr>\n",
       "    <tr>\n",
       "      <th>40</th>\n",
       "      <td>Synergo Group</td>\n",
       "      <td>We Build Effective Solutions</td>\n",
       "      <td>5.0 (1 Review)</td>\n",
       "      <td>10%</td>\n",
       "      <td>20%</td>\n",
       "      <td>\\n$25 - $49/hr</td>\n",
       "      <td>10 - 49</td>\n",
       "      <td>2005</td>\n",
       "      <td>\\nCanada</td>\n",
       "    </tr>\n",
       "    <tr>\n",
       "      <th>41</th>\n",
       "      <td>Advanced Software Development (ASD Ltd)</td>\n",
       "      <td>Custom Software Development Company</td>\n",
       "      <td>5.0 (1 Review)</td>\n",
       "      <td>10%</td>\n",
       "      <td>30%</td>\n",
       "      <td>\\n$25 - $49/hr</td>\n",
       "      <td>50 - 249</td>\n",
       "      <td>2007</td>\n",
       "      <td>\\nUkraine</td>\n",
       "    </tr>\n",
       "    <tr>\n",
       "      <th>42</th>\n",
       "      <td>Whitecap Canada</td>\n",
       "      <td>Reimagine Your Business</td>\n",
       "      <td>5.0 (1 Review)</td>\n",
       "      <td>5%</td>\n",
       "      <td>25%</td>\n",
       "      <td>\\n&lt; $25/hr</td>\n",
       "      <td>10 - 49</td>\n",
       "      <td>1997</td>\n",
       "      <td>\\nCanada</td>\n",
       "    </tr>\n",
       "    <tr>\n",
       "      <th>43</th>\n",
       "      <td>Teksmobile</td>\n",
       "      <td>1500+ Mobile Apps Delivered Over 15+ Years</td>\n",
       "      <td>5.0 (1 Review)</td>\n",
       "      <td>10%</td>\n",
       "      <td>20%</td>\n",
       "      <td>\\n$25 - $49/hr</td>\n",
       "      <td>50 - 249</td>\n",
       "      <td>2006</td>\n",
       "      <td>\\nAustralia, India</td>\n",
       "    </tr>\n",
       "    <tr>\n",
       "      <th>44</th>\n",
       "      <td>Jellyfish Technologies</td>\n",
       "      <td>Transforming ideas into applications</td>\n",
       "      <td>5.0 (2 Reviews)</td>\n",
       "      <td>5%</td>\n",
       "      <td>25%</td>\n",
       "      <td>\\n$25 - $49/hr</td>\n",
       "      <td>50 - 249</td>\n",
       "      <td>2011</td>\n",
       "      <td>\\nIndia, United States</td>\n",
       "    </tr>\n",
       "    <tr>\n",
       "      <th>45</th>\n",
       "      <td>JetSoftPro</td>\n",
       "      <td>Agility. Performance. Scale.</td>\n",
       "      <td>4.8 (1 Review)</td>\n",
       "      <td>5%</td>\n",
       "      <td>50%</td>\n",
       "      <td>\\n$25 - $49/hr</td>\n",
       "      <td>50 - 249</td>\n",
       "      <td>2003</td>\n",
       "      <td>\\nUnited States</td>\n",
       "    </tr>\n",
       "    <tr>\n",
       "      <th>46</th>\n",
       "      <td>Focaloid Technologies</td>\n",
       "      <td>Digital Solutions. Simplified.</td>\n",
       "      <td>5.0 (2 Reviews)</td>\n",
       "      <td>5%</td>\n",
       "      <td>100%</td>\n",
       "      <td>\\n$25 - $49/hr</td>\n",
       "      <td>50 - 249</td>\n",
       "      <td>2012</td>\n",
       "      <td>\\nIndia, United States</td>\n",
       "    </tr>\n",
       "    <tr>\n",
       "      <th>47</th>\n",
       "      <td>Hiteshi</td>\n",
       "      <td>Top Mobile &amp; Web Development Company</td>\n",
       "      <td>5.0 (2 Reviews)</td>\n",
       "      <td>20%</td>\n",
       "      <td>20%</td>\n",
       "      <td>\\n$25 - $49/hr</td>\n",
       "      <td>50 - 249</td>\n",
       "      <td>2006</td>\n",
       "      <td>\\nIndia, Australia</td>\n",
       "    </tr>\n",
       "    <tr>\n",
       "      <th>48</th>\n",
       "      <td>Techmango Technology Services Private Limited</td>\n",
       "      <td>Best Offshore Software Development Company</td>\n",
       "      <td>4.3 (3 Reviews)</td>\n",
       "      <td>10%</td>\n",
       "      <td>50%</td>\n",
       "      <td>\\n&lt; $25/hr</td>\n",
       "      <td>250 - 999</td>\n",
       "      <td>2014</td>\n",
       "      <td>\\nIndia</td>\n",
       "    </tr>\n",
       "    <tr>\n",
       "      <th>49</th>\n",
       "      <td>Evolve Technologies</td>\n",
       "      <td>IT agency</td>\n",
       "      <td>4.8 (1 Review)</td>\n",
       "      <td>10%</td>\n",
       "      <td>50%</td>\n",
       "      <td>\\n$50 - $99/hr</td>\n",
       "      <td>10 - 49</td>\n",
       "      <td>2000</td>\n",
       "      <td>\\nIreland</td>\n",
       "    </tr>\n",
       "    <tr>\n",
       "      <th>50</th>\n",
       "      <td>Virtual Electronics PTE LTD</td>\n",
       "      <td>Software and mobile app development in Singapore</td>\n",
       "      <td>5.0 (2 Reviews)</td>\n",
       "      <td>10%</td>\n",
       "      <td>10%</td>\n",
       "      <td>\\n$25 - $49/hr</td>\n",
       "      <td>10 - 49</td>\n",
       "      <td>2019</td>\n",
       "      <td>\\nSingapore</td>\n",
       "    </tr>\n",
       "    <tr>\n",
       "      <th>51</th>\n",
       "      <td>Reenbit</td>\n",
       "      <td>Intelligent engineering &amp; beyond</td>\n",
       "      <td>5.0 (3 Reviews)</td>\n",
       "      <td>20%</td>\n",
       "      <td>100%</td>\n",
       "      <td>\\n$25 - $49/hr</td>\n",
       "      <td>50 - 249</td>\n",
       "      <td>2018</td>\n",
       "      <td>\\nUkraine, Poland</td>\n",
       "    </tr>\n",
       "    <tr>\n",
       "      <th>52</th>\n",
       "      <td>Michigan Software Labs</td>\n",
       "      <td>We Make Apps</td>\n",
       "      <td>5.0 (2 Reviews)</td>\n",
       "      <td>20%</td>\n",
       "      <td>20%</td>\n",
       "      <td>\\n$150 - $199/hr</td>\n",
       "      <td>10 - 49</td>\n",
       "      <td>2010</td>\n",
       "      <td>\\nUnited States</td>\n",
       "    </tr>\n",
       "    <tr>\n",
       "      <th>53</th>\n",
       "      <td>Starkflow</td>\n",
       "      <td>#1 platform for hiring SaaS talent globally.</td>\n",
       "      <td>5.0 (2 Reviews)</td>\n",
       "      <td>10%</td>\n",
       "      <td>30%</td>\n",
       "      <td>\\n$100 - $149/hr</td>\n",
       "      <td>10 - 49</td>\n",
       "      <td>2017</td>\n",
       "      <td>\\nUnited States, Ukraine</td>\n",
       "    </tr>\n",
       "  </tbody>\n",
       "</table>\n",
       "</div>"
      ],
      "text/plain": [
       "                                            firm_name  \\\n",
       "0                                    Sphinx Solutions   \n",
       "1                                     Redian Software   \n",
       "2                              Indus Net Technologies   \n",
       "3                                   RWaltz Group Inc.   \n",
       "4                                       UNL Solutions   \n",
       "5                                             Shockoe   \n",
       "6                  Decipher Zone Technologies Pvt Ltd   \n",
       "7                                    Stellen Infotech   \n",
       "8                                                N-iX   \n",
       "9                                 Build Scale Prosper   \n",
       "10                          DreamzTech Solutions Inc.   \n",
       "11                                                NIX   \n",
       "12                                        InnovationM   \n",
       "13                         Fortunesoft IT Innovations   \n",
       "14                 Prakash Software Solutions Pvt Ltd   \n",
       "15                           Loginworks Softwares Inc   \n",
       "16                                 Bacancy Technology   \n",
       "17                                         SumatoSoft   \n",
       "18                                         Zymr, Inc.   \n",
       "19  Golden Logic Company for Communications and In...   \n",
       "20                                          4ire Labs   \n",
       "21                                   JDV Technologies   \n",
       "22                                   Ballard Chalmers   \n",
       "23                                          Queppelin   \n",
       "24                              Plaxonic Technologies   \n",
       "25                                            TemaBit   \n",
       "26                                       Binariks Inc   \n",
       "27                                           Serokell   \n",
       "28                               Space-O Technologies   \n",
       "29                                              DIGIS   \n",
       "30                                      DOIT Software   \n",
       "31                                          SKY INCOM   \n",
       "32                                            Miquido   \n",
       "33                                 The Analyst Agency   \n",
       "34                                            ALFATEK   \n",
       "35                                              ELEKS   \n",
       "36                                    Imenso Software   \n",
       "37                                          Pitangent   \n",
       "38                                Maticz Technologies   \n",
       "39                                    Damco Solutions   \n",
       "40                                      Synergo Group   \n",
       "41            Advanced Software Development (ASD Ltd)   \n",
       "42                                    Whitecap Canada   \n",
       "43                                         Teksmobile   \n",
       "44                             Jellyfish Technologies   \n",
       "45                                         JetSoftPro   \n",
       "46                              Focaloid Technologies   \n",
       "47                                            Hiteshi   \n",
       "48      Techmango Technology Services Private Limited   \n",
       "49                                Evolve Technologies   \n",
       "50                        Virtual Electronics PTE LTD   \n",
       "51                                            Reenbit   \n",
       "52                             Michigan Software Labs   \n",
       "53                                          Starkflow   \n",
       "\n",
       "                                           firm_motor     firm_reviews  \\\n",
       "0                         Inspire : Innovate : Evolve  4.6 (8 Reviews)   \n",
       "1                    Delivering Open Source Solutions  5.0 (5 Reviews)   \n",
       "2                          We Deliver Digital Success  5.0 (5 Reviews)   \n",
       "3                        Blockchain Solutions Experts  5.0 (5 Reviews)   \n",
       "4                 Dedicated Team, Dedicated Developer  4.3 (3 Reviews)   \n",
       "5                                    Mobile by Design  5.0 (2 Reviews)   \n",
       "6                            Java Development Company  5.0 (2 Reviews)   \n",
       "7                                 You Think We Create  5.0 (2 Reviews)   \n",
       "8                        Software development company  5.0 (5 Reviews)   \n",
       "9                             Build. Scale. Prosper.    5.0 (1 Review)   \n",
       "10    Digital Partner for Web, Mobile & IoT Solutions  5.0 (4 Reviews)   \n",
       "11  Enterprise Software, Data Analytics & BI Solut...  5.0 (6 Reviews)   \n",
       "12                    End to End Technology Solutions  4.4 (4 Reviews)   \n",
       "13   High-end software product engineering & services  5.0 (4 Reviews)   \n",
       "14                          Smart Technology Provider  4.8 (5 Reviews)   \n",
       "15               Team you will Like, Trust and Admire  5.0 (3 Reviews)   \n",
       "16        Full Stack Agile & Lean Development Partner  4.8 (5 Reviews)   \n",
       "17  We help companies to digitalize their businesses.  5.0 (5 Reviews)   \n",
       "18          Accelerate Cloud-Native Agile Development   5.0 (1 Review)   \n",
       "19  IT, Applications, VR/AR System Integration Ban...   5.0 (1 Review)   \n",
       "20     Create winning experience in Blockchain, DeFi   5.0 (3 Reviews)   \n",
       "21  Cloud Consulting and Software Development Comp...  4.9 (5 Reviews)   \n",
       "22                               software, engineered  5.0 (5 Reviews)   \n",
       "23       Metaverse - AR | VR | NFTs | AI | WebAR | 3D  5.0 (5 Reviews)   \n",
       "24                                Invent | Innovative  5.0 (4 Reviews)   \n",
       "25                          Keep it smart and simple!  4.9 (4 Reviews)   \n",
       "26                       Software Development Company  5.0 (4 Reviews)   \n",
       "27                         YOUR EXPECTATIONS, LIFTED.  5.0 (4 Reviews)   \n",
       "28        [Mobile, Web, BigData, Ruby, Python Expert]  4.9 (4 Reviews)   \n",
       "29                               Software Development  5.0 (2 Reviews)   \n",
       "30       Mobile Apps, Software Development & Staffing  5.0 (4 Reviews)   \n",
       "31                           Web & Mobile Development  5.0 (4 Reviews)   \n",
       "32          Full-service software development partner  4.9 (4 Reviews)   \n",
       "33                      Web Developers in Buffalo, NY   5.0 (1 Review)   \n",
       "34  IT MSP, Software Development, Solution, IT Ser...  5.0 (3 Reviews)   \n",
       "35    Your Technology Partner for Software Innovation  5.0 (3 Reviews)   \n",
       "36                  Full Stack Tech Consulting Agency  5.0 (3 Reviews)   \n",
       "37       Easing productivity with digital innovations  5.0 (3 Reviews)   \n",
       "38   Web3, Metaverse & Blockchain Development Company  5.0 (3 Reviews)   \n",
       "39    Enabling Business Transformation and Innovation  4.9 (3 Reviews)   \n",
       "40                       We Build Effective Solutions   5.0 (1 Review)   \n",
       "41                Custom Software Development Company   5.0 (1 Review)   \n",
       "42                            Reimagine Your Business   5.0 (1 Review)   \n",
       "43         1500+ Mobile Apps Delivered Over 15+ Years   5.0 (1 Review)   \n",
       "44               Transforming ideas into applications  5.0 (2 Reviews)   \n",
       "45                       Agility. Performance. Scale.   4.8 (1 Review)   \n",
       "46                     Digital Solutions. Simplified.  5.0 (2 Reviews)   \n",
       "47               Top Mobile & Web Development Company  5.0 (2 Reviews)   \n",
       "48        Best Offshore Software Development Company   4.3 (3 Reviews)   \n",
       "49                                          IT agency   4.8 (1 Review)   \n",
       "50   Software and mobile app development in Singapore  5.0 (2 Reviews)   \n",
       "51                  Intelligent engineering & beyond   5.0 (3 Reviews)   \n",
       "52                                       We Make Apps  5.0 (2 Reviews)   \n",
       "53       #1 platform for hiring SaaS talent globally.  5.0 (2 Reviews)   \n",
       "\n",
       "   service_pct platform_pct         firm_price firm_employees year_founded  \\\n",
       "0          20%          15%        \\n< $25/hr      Freelancer         2010   \n",
       "1           5%          10%    \\n$25 - $49/hr         10 - 49         2016   \n",
       "2          15%          15%        \\n< $25/hr       250 - 999         1997   \n",
       "3          40%          10%    \\n$50 - $99/hr        50 - 249         2000   \n",
       "4          25%          10%    \\n$25 - $49/hr        50 - 249         2006   \n",
       "5          10%          20%  \\n$100 - $149/hr         10 - 49         2010   \n",
       "6          20%          20%        \\n< $25/hr        50 - 249         2015   \n",
       "7          20%          10%    \\n$25 - $49/hr        50 - 249         2010   \n",
       "8          90%           5%    \\n$50 - $99/hr   1,000 - 9,999         2002   \n",
       "9          30%          20%  \\n$100 - $149/hr           2 - 9         2018   \n",
       "10         10%          25%        \\n< $25/hr        50 - 249         2013   \n",
       "11         15%           5%    \\n$50 - $99/hr   1,000 - 9,999         1994   \n",
       "12         25%          10%        \\n< $25/hr        50 - 249         2010   \n",
       "13         10%          50%    \\n$25 - $49/hr        50 - 249         2009   \n",
       "14         90%           5%    \\n$25 - $49/hr        50 - 249         2000   \n",
       "15         10%           5%        \\n< $25/hr        50 - 249         2006   \n",
       "16         10%          10%    \\n$25 - $49/hr       250 - 999         2011   \n",
       "17          5%          20%    \\n$50 - $99/hr        50 - 249         2012   \n",
       "18         10%          50%    \\n$25 - $49/hr        50 - 249         2012   \n",
       "19         10%          25%              \\nNA         10 - 49         2017   \n",
       "20         30%          25%    \\n$25 - $49/hr       250 - 999         2010   \n",
       "21         20%          25%    \\n$25 - $49/hr         10 - 49         2018   \n",
       "22         10%          10%  \\n$100 - $149/hr         10 - 49         2005   \n",
       "23         20%          20%        \\n< $25/hr        50 - 249         2010   \n",
       "24         50%          16%    \\n$25 - $49/hr        50 - 249         2013   \n",
       "25         30%          30%    \\n$25 - $49/hr       250 - 999         2013   \n",
       "26          5%          25%    \\n$50 - $99/hr        50 - 249         2014   \n",
       "27         20%          10%    \\n$50 - $99/hr        50 - 249         2015   \n",
       "28         30%          30%    \\n$25 - $49/hr        50 - 249         2010   \n",
       "29         20%          10%    \\n$25 - $49/hr        50 - 249         2009   \n",
       "30         10%          15%    \\n$25 - $49/hr         10 - 49         2014   \n",
       "31         10%          25%    \\n$25 - $49/hr         10 - 49         2002   \n",
       "32         10%          50%    \\n$50 - $99/hr       250 - 999         2011   \n",
       "33          5%          50%              \\nNA      Freelancer                \n",
       "34         10%          10%  \\n$100 - $149/hr           2 - 9         2013   \n",
       "35          5%          50%    \\n$25 - $49/hr   1,000 - 9,999         1991   \n",
       "36          5%          50%    \\n$25 - $49/hr        50 - 249         2010   \n",
       "37         10%          10%       \\n < $25/hr         10 - 49         2017   \n",
       "38          5%          20%    \\n$25 - $49/hr        50 - 249         2020   \n",
       "39         20%          20%              \\nNA   1,000 - 9,999         1996   \n",
       "40         10%          20%    \\n$25 - $49/hr         10 - 49         2005   \n",
       "41         10%          30%    \\n$25 - $49/hr        50 - 249         2007   \n",
       "42          5%          25%        \\n< $25/hr         10 - 49         1997   \n",
       "43         10%          20%    \\n$25 - $49/hr        50 - 249         2006   \n",
       "44          5%          25%    \\n$25 - $49/hr        50 - 249         2011   \n",
       "45          5%          50%    \\n$25 - $49/hr        50 - 249         2003   \n",
       "46          5%         100%    \\n$25 - $49/hr        50 - 249         2012   \n",
       "47         20%          20%    \\n$25 - $49/hr        50 - 249         2006   \n",
       "48         10%          50%       \\n< $25/hr        250 - 999         2014   \n",
       "49         10%          50%    \\n$50 - $99/hr         10 - 49         2000   \n",
       "50         10%          10%    \\n$25 - $49/hr         10 - 49         2019   \n",
       "51         20%         100%    \\n$25 - $49/hr        50 - 249         2018   \n",
       "52         20%          20%  \\n$150 - $199/hr         10 - 49         2010   \n",
       "53         10%          30%  \\n$100 - $149/hr         10 - 49         2017   \n",
       "\n",
       "                            firm_location  \n",
       "0                 \\nIndia, United States   \n",
       "1                \\nUnited Kingdom, India   \n",
       "2                \\nIndia, United Kingdom   \n",
       "3                        \\nUnited States   \n",
       "4              \\nUnited Kingdom, Belarus   \n",
       "5                        \\nUnited States   \n",
       "6                                \\nIndia   \n",
       "7                 \\nIndia, United States   \n",
       "8                       \\nMalta, Ukraine   \n",
       "9                        \\nUnited States   \n",
       "10       \\nUnited Kingdom, United States   \n",
       "11                       \\nUnited States   \n",
       "12                \\nUnited States, India   \n",
       "13                \\nUnited States, India   \n",
       "14                               \\nIndia   \n",
       "15                \\nIndia, United States   \n",
       "16                       \\nIndia, Canada   \n",
       "17                       \\nUnited States   \n",
       "18            \\nUnited States, Australia   \n",
       "19  \\nSaudi Arabia, United Arab Emirates   \n",
       "20                    \\nUkraine, Estonia   \n",
       "21                \\nIndia, United States   \n",
       "22                      \\nUnited Kingdom   \n",
       "23                       \\nUnited States   \n",
       "24                \\nIndia, United States   \n",
       "25              \\nUkraine, United States   \n",
       "26              \\nUkraine, United States   \n",
       "27                             \\nEstonia   \n",
       "28                       \\nIndia, Canada   \n",
       "29                             \\nUkraine   \n",
       "30             \\nUkraine, United Kingdom   \n",
       "31                             \\nBelarus   \n",
       "32             \\n Poland, United Kingdom   \n",
       "33                \\nUnited States, India   \n",
       "34                       \\nUnited States   \n",
       "35              \\nEstonia, United States   \n",
       "36                               \\nIndia   \n",
       "37                               \\nIndia   \n",
       "38                               \\nIndia   \n",
       "39                       \\nUnited States   \n",
       "40                              \\nCanada   \n",
       "41                             \\nUkraine   \n",
       "42                              \\nCanada   \n",
       "43                    \\nAustralia, India   \n",
       "44                \\nIndia, United States   \n",
       "45                       \\nUnited States   \n",
       "46                \\nIndia, United States   \n",
       "47                    \\nIndia, Australia   \n",
       "48                               \\nIndia   \n",
       "49                             \\nIreland   \n",
       "50                           \\nSingapore   \n",
       "51                     \\nUkraine, Poland   \n",
       "52                       \\nUnited States   \n",
       "53              \\nUnited States, Ukraine   "
      ]
     },
     "execution_count": 15,
     "metadata": {},
     "output_type": "execute_result"
    }
   ],
   "source": [
    "df2 "
   ]
  },
  {
   "cell_type": "code",
   "execution_count": null,
   "id": "a8ee3dbf",
   "metadata": {},
   "outputs": [],
   "source": []
  },
  {
   "cell_type": "code",
   "execution_count": null,
   "id": "4d94d0ad",
   "metadata": {},
   "outputs": [],
   "source": []
  },
  {
   "cell_type": "markdown",
   "id": "8fa44237",
   "metadata": {},
   "source": [
    "PAGE 3"
   ]
  },
  {
   "cell_type": "code",
   "execution_count": 16,
   "id": "95b17248",
   "metadata": {},
   "outputs": [],
   "source": [
    "with open(\"page3.html\", encoding='utf-8', mode='r') as file:\n",
    "    bs3 = BeautifulSoup(file, 'lxml')"
   ]
  },
  {
   "cell_type": "markdown",
   "id": "e9c2100e",
   "metadata": {},
   "source": [
    "LOCATING DETAILS"
   ]
  },
  {
   "cell_type": "code",
   "execution_count": 17,
   "id": "7eb92c09",
   "metadata": {},
   "outputs": [],
   "source": [
    "firm_name = bs3.find_all('span', {'itemprop': 'name'})\n",
    "firm_motor = bs3.find_all('p', {'class': 'profile-tagline'})\n",
    "firm_reviews = bs3.find_all('span', {'class': 'listinv_review_label'})\n",
    "progress_value = bs3.find_all('div', {'class': 'circle-progress-value'})\n",
    "firm_price = bs3.find_all('div', {'class': 'firm-pricing'})\n",
    "firm_employees = bs3.find_all('div', {'class': 'firm-employees'})\n",
    "year_founded = bs3.find_all('div', {'class': 'firm-founded'})\n",
    "firm_location = bs3.find_all('div', {'class': 'firm-location'})"
   ]
  },
  {
   "cell_type": "markdown",
   "id": "a75339d9",
   "metadata": {},
   "source": [
    "EXTRACTING DETAILS "
   ]
  },
  {
   "cell_type": "code",
   "execution_count": 18,
   "id": "659b1ddd",
   "metadata": {},
   "outputs": [],
   "source": [
    "name3 = extract_detail(firm_name[3:])\n",
    "motor3 = extract_detail(firm_motor)\n",
    "reviews3 = extract_detail(firm_reviews)\n",
    "service3, platform3 = extract_progress_values(progress_value)\n",
    "price3 = extract_detail(firm_price)\n",
    "employees3 = extract_detail(firm_employees)\n",
    "year3 = extract_detail(year_founded)\n",
    "location3 = extract_detail(firm_location) "
   ]
  },
  {
   "cell_type": "markdown",
   "id": "d9f1fd8e",
   "metadata": {},
   "source": [
    "PUTTING DETAILS IN A DATAFRAME"
   ]
  },
  {
   "cell_type": "code",
   "execution_count": 19,
   "id": "3f736f0c",
   "metadata": {},
   "outputs": [],
   "source": [
    "df3 = pd.DataFrame() "
   ]
  },
  {
   "cell_type": "code",
   "execution_count": 20,
   "id": "36295132",
   "metadata": {},
   "outputs": [],
   "source": [
    "df3['firm_name'] = name3\n",
    "df3['firm_motor'] = motor3\n",
    "df3['firm_reviews'] = reviews3\n",
    "df3['service_pct'] = service\n",
    "df3['platform_pct'] = platform\n",
    "df3['firm_price'] = price3\n",
    "df3['firm_employees'] = employees3\n",
    "df3['year_founded'] = year3\n",
    "df3['firm_location'] = location3  "
   ]
  },
  {
   "cell_type": "code",
   "execution_count": 21,
   "id": "41ec01eb",
   "metadata": {},
   "outputs": [
    {
     "data": {
      "text/html": [
       "<div>\n",
       "<style scoped>\n",
       "    .dataframe tbody tr th:only-of-type {\n",
       "        vertical-align: middle;\n",
       "    }\n",
       "\n",
       "    .dataframe tbody tr th {\n",
       "        vertical-align: top;\n",
       "    }\n",
       "\n",
       "    .dataframe thead th {\n",
       "        text-align: right;\n",
       "    }\n",
       "</style>\n",
       "<table border=\"1\" class=\"dataframe\">\n",
       "  <thead>\n",
       "    <tr style=\"text-align: right;\">\n",
       "      <th></th>\n",
       "      <th>firm_name</th>\n",
       "      <th>firm_motor</th>\n",
       "      <th>firm_reviews</th>\n",
       "      <th>service_pct</th>\n",
       "      <th>platform_pct</th>\n",
       "      <th>firm_price</th>\n",
       "      <th>firm_employees</th>\n",
       "      <th>year_founded</th>\n",
       "      <th>firm_location</th>\n",
       "    </tr>\n",
       "  </thead>\n",
       "  <tbody>\n",
       "    <tr>\n",
       "      <th>0</th>\n",
       "      <td>ExpertsFromIndia</td>\n",
       "      <td>We Make IT Possible</td>\n",
       "      <td>5.0 (2 Reviews)</td>\n",
       "      <td>20%</td>\n",
       "      <td>15%</td>\n",
       "      <td>\\n$25 - $49/hr</td>\n",
       "      <td>250 - 999</td>\n",
       "      <td>2003</td>\n",
       "      <td>\\nUnited States, India</td>\n",
       "    </tr>\n",
       "    <tr>\n",
       "      <th>1</th>\n",
       "      <td>Volumetree</td>\n",
       "      <td>Impact Through Technology</td>\n",
       "      <td>5.0 (2 Reviews)</td>\n",
       "      <td>5%</td>\n",
       "      <td>10%</td>\n",
       "      <td>\\n$25 - $49/hr</td>\n",
       "      <td>50 - 249</td>\n",
       "      <td>2017</td>\n",
       "      <td>\\nIndia, South Africa</td>\n",
       "    </tr>\n",
       "    <tr>\n",
       "      <th>2</th>\n",
       "      <td>QuadLogix Technologies Pvt. Ltd.</td>\n",
       "      <td>Next-Gen Technology Solutions</td>\n",
       "      <td>5.0 (2 Reviews)</td>\n",
       "      <td>15%</td>\n",
       "      <td>15%</td>\n",
       "      <td>\\n$25 - $49/hr</td>\n",
       "      <td>10 - 49</td>\n",
       "      <td>2009</td>\n",
       "      <td>\\nIndia, United Arab Emirates</td>\n",
       "    </tr>\n",
       "    <tr>\n",
       "      <th>3</th>\n",
       "      <td>WOXAPP</td>\n",
       "      <td>Mobile applications for startups and businesses</td>\n",
       "      <td>5.0 (2 Reviews)</td>\n",
       "      <td>40%</td>\n",
       "      <td>10%</td>\n",
       "      <td>\\n$25 - $49/hr</td>\n",
       "      <td>10 - 49</td>\n",
       "      <td>2011</td>\n",
       "      <td>\\nUkraine</td>\n",
       "    </tr>\n",
       "    <tr>\n",
       "      <th>4</th>\n",
       "      <td>ISS Art</td>\n",
       "      <td>It’s your chance to break new ground in business!</td>\n",
       "      <td>5.0 (2 Reviews)</td>\n",
       "      <td>25%</td>\n",
       "      <td>10%</td>\n",
       "      <td>\\n$25 - $49/hr</td>\n",
       "      <td>50 - 249</td>\n",
       "      <td>2003</td>\n",
       "      <td>\\nRussia, United States</td>\n",
       "    </tr>\n",
       "    <tr>\n",
       "      <th>5</th>\n",
       "      <td>47Billion</td>\n",
       "      <td>Data Analytics | UXUI | Product Development | ML</td>\n",
       "      <td>5.0 (1 Review)</td>\n",
       "      <td>10%</td>\n",
       "      <td>20%</td>\n",
       "      <td>\\n&lt; $25/hr</td>\n",
       "      <td>50 - 249</td>\n",
       "      <td>2012</td>\n",
       "      <td>\\nUnited States, India</td>\n",
       "    </tr>\n",
       "    <tr>\n",
       "      <th>6</th>\n",
       "      <td>Talentelgia Technologies Private Limited</td>\n",
       "      <td>Transforming ideas into innovations</td>\n",
       "      <td>5.0 (2 Reviews)</td>\n",
       "      <td>20%</td>\n",
       "      <td>20%</td>\n",
       "      <td>\\n&lt; $25/hr</td>\n",
       "      <td>50 - 249</td>\n",
       "      <td>2012</td>\n",
       "      <td>\\nIndia, United Kingdom</td>\n",
       "    </tr>\n",
       "    <tr>\n",
       "      <th>7</th>\n",
       "      <td>Endion IT</td>\n",
       "      <td>Web &amp; Mobile App Development</td>\n",
       "      <td>5.0 (1 Review)</td>\n",
       "      <td>20%</td>\n",
       "      <td>10%</td>\n",
       "      <td>\\n$25 - $49/hr</td>\n",
       "      <td>10 - 49</td>\n",
       "      <td>2017</td>\n",
       "      <td>\\nArgentina</td>\n",
       "    </tr>\n",
       "    <tr>\n",
       "      <th>8</th>\n",
       "      <td>Programmers.io</td>\n",
       "      <td>Your Extended Software Development Team</td>\n",
       "      <td>5.0 (1 Review)</td>\n",
       "      <td>90%</td>\n",
       "      <td>5%</td>\n",
       "      <td>\\n$25 - $49/hr</td>\n",
       "      <td>250 - 999</td>\n",
       "      <td>2013</td>\n",
       "      <td>\\nUnited States, India</td>\n",
       "    </tr>\n",
       "    <tr>\n",
       "      <th>9</th>\n",
       "      <td>Intetics Inc.</td>\n",
       "      <td>Where Software Concepts Come Alive™</td>\n",
       "      <td>5.0 (1 Review)</td>\n",
       "      <td>30%</td>\n",
       "      <td>20%</td>\n",
       "      <td>\\n$50 - $99/hr</td>\n",
       "      <td>250 - 999</td>\n",
       "      <td>1995</td>\n",
       "      <td>\\nUnited States, Germany</td>\n",
       "    </tr>\n",
       "    <tr>\n",
       "      <th>10</th>\n",
       "      <td>Jevera</td>\n",
       "      <td>SOFTWARE SOLUTIONS FOR COMPLICATED BUSINESS TASKS</td>\n",
       "      <td>4.8 (1 Review)</td>\n",
       "      <td>10%</td>\n",
       "      <td>25%</td>\n",
       "      <td>\\n$50 - $99/hr</td>\n",
       "      <td>50 - 249</td>\n",
       "      <td>2009</td>\n",
       "      <td>\\nUkraine</td>\n",
       "    </tr>\n",
       "    <tr>\n",
       "      <th>11</th>\n",
       "      <td>Innuy - Full Stack Development</td>\n",
       "      <td>Innuy - Full Stack Development</td>\n",
       "      <td>4.8 (1 Review)</td>\n",
       "      <td>15%</td>\n",
       "      <td>5%</td>\n",
       "      <td>\\nNA</td>\n",
       "      <td>10 - 49</td>\n",
       "      <td>2012</td>\n",
       "      <td>\\nUruguay</td>\n",
       "    </tr>\n",
       "    <tr>\n",
       "      <th>12</th>\n",
       "      <td>Web And SEO Pro</td>\n",
       "      <td>Web Design And Development Services</td>\n",
       "      <td>5.0 (1 Review)</td>\n",
       "      <td>25%</td>\n",
       "      <td>10%</td>\n",
       "      <td>\\n$50 - $99/hr</td>\n",
       "      <td>50 - 249</td>\n",
       "      <td>2015</td>\n",
       "      <td>\\nUnited States</td>\n",
       "    </tr>\n",
       "    <tr>\n",
       "      <th>13</th>\n",
       "      <td>Pentation Analytics</td>\n",
       "      <td>We provide analytical services to BFSI industry</td>\n",
       "      <td>0.0 (0 Review)</td>\n",
       "      <td>10%</td>\n",
       "      <td>50%</td>\n",
       "      <td>\\n$50 - $99/hr</td>\n",
       "      <td>10 - 49</td>\n",
       "      <td>2015</td>\n",
       "      <td>\\nUnited States</td>\n",
       "    </tr>\n",
       "    <tr>\n",
       "      <th>14</th>\n",
       "      <td>ITXITPRO PVT. LTD.</td>\n",
       "      <td>Unleash The Digital Dynamics</td>\n",
       "      <td>5.0 (1 Review)</td>\n",
       "      <td>90%</td>\n",
       "      <td>5%</td>\n",
       "      <td>\\n&lt; $25/hr</td>\n",
       "      <td>10 - 49</td>\n",
       "      <td>2014</td>\n",
       "      <td>\\nIndia</td>\n",
       "    </tr>\n",
       "    <tr>\n",
       "      <th>15</th>\n",
       "      <td>Softura</td>\n",
       "      <td>Enabling Innovation in a Business 4.0 World</td>\n",
       "      <td>5.0 (1 Review)</td>\n",
       "      <td>10%</td>\n",
       "      <td>5%</td>\n",
       "      <td>\\n$100 - $149/hr</td>\n",
       "      <td>250 - 999</td>\n",
       "      <td>1997</td>\n",
       "      <td>\\nUnited States, India</td>\n",
       "    </tr>\n",
       "    <tr>\n",
       "      <th>16</th>\n",
       "      <td>ConvergeSol</td>\n",
       "      <td>Solutions Focused On Your Business</td>\n",
       "      <td>5.0 (1 Review)</td>\n",
       "      <td>10%</td>\n",
       "      <td>10%</td>\n",
       "      <td>\\n$25 - $49/hr</td>\n",
       "      <td>10 - 49</td>\n",
       "      <td>2010</td>\n",
       "      <td>\\nUnited States, India</td>\n",
       "    </tr>\n",
       "    <tr>\n",
       "      <th>17</th>\n",
       "      <td>Oneskai</td>\n",
       "      <td>Digitally Transform Your Business</td>\n",
       "      <td>5.0 (1 Review)</td>\n",
       "      <td>5%</td>\n",
       "      <td>20%</td>\n",
       "      <td>\\n$25 - $49/hr</td>\n",
       "      <td>10 - 49</td>\n",
       "      <td>2021</td>\n",
       "      <td>\\nIndia</td>\n",
       "    </tr>\n",
       "    <tr>\n",
       "      <th>18</th>\n",
       "      <td>Chetu</td>\n",
       "      <td>World Class Software Solutions</td>\n",
       "      <td>5.0 (1 Review)</td>\n",
       "      <td>10%</td>\n",
       "      <td>50%</td>\n",
       "      <td>\\n$25 - $49/hr</td>\n",
       "      <td>1,000 - 9,999</td>\n",
       "      <td>2000</td>\n",
       "      <td>\\nUnited States, Netherlands</td>\n",
       "    </tr>\n",
       "    <tr>\n",
       "      <th>19</th>\n",
       "      <td>Miri Infotech</td>\n",
       "      <td>Top 1% Talent at an Unbeatable Price</td>\n",
       "      <td>4.8 (1 Review)</td>\n",
       "      <td>10%</td>\n",
       "      <td>25%</td>\n",
       "      <td>\\n&lt; $25/hr</td>\n",
       "      <td>250 - 999</td>\n",
       "      <td>2003</td>\n",
       "      <td>\\nUnited States, India</td>\n",
       "    </tr>\n",
       "    <tr>\n",
       "      <th>20</th>\n",
       "      <td>BairesDev</td>\n",
       "      <td>Powered by Technology. Driven by Talent.</td>\n",
       "      <td>5.0 (1 Review)</td>\n",
       "      <td>30%</td>\n",
       "      <td>25%</td>\n",
       "      <td>\\n $25 - $49/hr</td>\n",
       "      <td>1,000 - 9,999</td>\n",
       "      <td>2009</td>\n",
       "      <td>\\nUnited States, Argentina</td>\n",
       "    </tr>\n",
       "    <tr>\n",
       "      <th>21</th>\n",
       "      <td>Avenga</td>\n",
       "      <td>Transforming Industries</td>\n",
       "      <td>4.0 (1 Review)</td>\n",
       "      <td>20%</td>\n",
       "      <td>25%</td>\n",
       "      <td>\\n$50 - $99/hr</td>\n",
       "      <td>1,000 - 9,999</td>\n",
       "      <td>2019</td>\n",
       "      <td>\\nUnited States, Germany</td>\n",
       "    </tr>\n",
       "    <tr>\n",
       "      <th>22</th>\n",
       "      <td>WebDataGuru</td>\n",
       "      <td>Web Data Extraction and Scraping Services</td>\n",
       "      <td>0.0 (0 Review)</td>\n",
       "      <td>10%</td>\n",
       "      <td>10%</td>\n",
       "      <td>\\n&lt; $25/hr</td>\n",
       "      <td>50 - 249</td>\n",
       "      <td>2015</td>\n",
       "      <td>\\nUnited States, United Kingdom</td>\n",
       "    </tr>\n",
       "    <tr>\n",
       "      <th>23</th>\n",
       "      <td>Analytist</td>\n",
       "      <td>Advancing your insightful decisions</td>\n",
       "      <td>0.0 (0 Review)</td>\n",
       "      <td>20%</td>\n",
       "      <td>20%</td>\n",
       "      <td>\\n$50 - $99/hr</td>\n",
       "      <td>2 - 9</td>\n",
       "      <td>2019</td>\n",
       "      <td>\\nThailand</td>\n",
       "    </tr>\n",
       "    <tr>\n",
       "      <th>24</th>\n",
       "      <td>ima appweb</td>\n",
       "      <td>Increased Awareness, Higher Visibility</td>\n",
       "      <td>0.0 (0 Review)</td>\n",
       "      <td>50%</td>\n",
       "      <td>16%</td>\n",
       "      <td>\\n$25 - $49/hr</td>\n",
       "      <td>10 - 49</td>\n",
       "      <td>2011</td>\n",
       "      <td>\\nIndia</td>\n",
       "    </tr>\n",
       "    <tr>\n",
       "      <th>25</th>\n",
       "      <td>Carter Point</td>\n",
       "      <td>Aiding IT brands gain traction in local markets.</td>\n",
       "      <td>0.0 (0 Review)</td>\n",
       "      <td>30%</td>\n",
       "      <td>30%</td>\n",
       "      <td>\\n&lt; $25/hr</td>\n",
       "      <td>2 - 9</td>\n",
       "      <td>2015</td>\n",
       "      <td>\\nEstonia</td>\n",
       "    </tr>\n",
       "    <tr>\n",
       "      <th>26</th>\n",
       "      <td>MIRAKI TECHNOLOGIES</td>\n",
       "      <td>MIRACLES HAPPEN HERE</td>\n",
       "      <td>0.0 (0 Review)</td>\n",
       "      <td>5%</td>\n",
       "      <td>25%</td>\n",
       "      <td>\\n$100 - $149/hr</td>\n",
       "      <td>50 - 249</td>\n",
       "      <td>2015</td>\n",
       "      <td>\\nIndia</td>\n",
       "    </tr>\n",
       "    <tr>\n",
       "      <th>27</th>\n",
       "      <td>Clairvoyant LLC</td>\n",
       "      <td>We power Digital Disruption</td>\n",
       "      <td>0.0 (0 Review)</td>\n",
       "      <td>20%</td>\n",
       "      <td>10%</td>\n",
       "      <td>\\n$50 - $99/hr</td>\n",
       "      <td>50 - 249</td>\n",
       "      <td>2012</td>\n",
       "      <td>\\nUnited States</td>\n",
       "    </tr>\n",
       "    <tr>\n",
       "      <th>28</th>\n",
       "      <td>XLENT TECHNOLOGIES</td>\n",
       "      <td>web, ios, android, chatbot, wordpress, magento2</td>\n",
       "      <td>0.0 (0 Review)</td>\n",
       "      <td>30%</td>\n",
       "      <td>30%</td>\n",
       "      <td>\\n$100 - $149/hr</td>\n",
       "      <td>10 - 49</td>\n",
       "      <td>2017</td>\n",
       "      <td>\\nUnited States</td>\n",
       "    </tr>\n",
       "    <tr>\n",
       "      <th>29</th>\n",
       "      <td>SunTec Data</td>\n",
       "      <td>Turn Data Into Sight</td>\n",
       "      <td>0.0 (0 Review)</td>\n",
       "      <td>20%</td>\n",
       "      <td>10%</td>\n",
       "      <td>\\nNA</td>\n",
       "      <td>250 - 999</td>\n",
       "      <td></td>\n",
       "      <td>\\nUnited States, India</td>\n",
       "    </tr>\n",
       "    <tr>\n",
       "      <th>30</th>\n",
       "      <td>3i Data Scraping Services</td>\n",
       "      <td>Enterprise Web/Mobile App Data Scraping!</td>\n",
       "      <td>0.0 (0 Review)</td>\n",
       "      <td>10%</td>\n",
       "      <td>15%</td>\n",
       "      <td>\\nNA</td>\n",
       "      <td>50 - 249</td>\n",
       "      <td>2009</td>\n",
       "      <td>\\nUnited States, Germany</td>\n",
       "    </tr>\n",
       "    <tr>\n",
       "      <th>31</th>\n",
       "      <td>Precognox</td>\n",
       "      <td>Precognox is a high-end consulting firm</td>\n",
       "      <td>0.0 (0 Review)</td>\n",
       "      <td>10%</td>\n",
       "      <td>25%</td>\n",
       "      <td>\\nNA</td>\n",
       "      <td>50 - 249</td>\n",
       "      <td>2008</td>\n",
       "      <td>\\nHungary</td>\n",
       "    </tr>\n",
       "    <tr>\n",
       "      <th>32</th>\n",
       "      <td>SEVEN</td>\n",
       "      <td>The Company That Exceeds Your Expectations</td>\n",
       "      <td>0.0 (0 Review)</td>\n",
       "      <td>10%</td>\n",
       "      <td>50%</td>\n",
       "      <td>\\n$25 - $49/hr</td>\n",
       "      <td>50 - 249</td>\n",
       "      <td>2007</td>\n",
       "      <td>\\nUkraine</td>\n",
       "    </tr>\n",
       "    <tr>\n",
       "      <th>33</th>\n",
       "      <td>FreshDataLabs</td>\n",
       "      <td>Getting the leads has never been this easy</td>\n",
       "      <td>0.0 (0 Review)</td>\n",
       "      <td>5%</td>\n",
       "      <td>50%</td>\n",
       "      <td>\\n$50 - $99/hr</td>\n",
       "      <td>10 - 49</td>\n",
       "      <td>2018</td>\n",
       "      <td>\\nIndia</td>\n",
       "    </tr>\n",
       "    <tr>\n",
       "      <th>34</th>\n",
       "      <td>HTML Pro</td>\n",
       "      <td>NYC’s Top IT Solutions &amp; Digital Agency</td>\n",
       "      <td>1.0 (1 Review)</td>\n",
       "      <td>10%</td>\n",
       "      <td>10%</td>\n",
       "      <td>\\n$50 - $99/hr</td>\n",
       "      <td>50 - 249</td>\n",
       "      <td>2013</td>\n",
       "      <td>\\nUnited States</td>\n",
       "    </tr>\n",
       "    <tr>\n",
       "      <th>35</th>\n",
       "      <td>Juice analytics</td>\n",
       "      <td>Serve up your data the way customers need it</td>\n",
       "      <td>0.0 (0 Review)</td>\n",
       "      <td>5%</td>\n",
       "      <td>50%</td>\n",
       "      <td>\\n$50 - $99/hr</td>\n",
       "      <td>10 - 49</td>\n",
       "      <td>2004</td>\n",
       "      <td>\\nUnited States</td>\n",
       "    </tr>\n",
       "    <tr>\n",
       "      <th>36</th>\n",
       "      <td>Salpo Technologies</td>\n",
       "      <td>Listen. Learn. Innovate.</td>\n",
       "      <td>0.0 (0 Review)</td>\n",
       "      <td>5%</td>\n",
       "      <td>50%</td>\n",
       "      <td>\\nNA</td>\n",
       "      <td>50 - 249</td>\n",
       "      <td>2007</td>\n",
       "      <td>\\nUnited Kingdom</td>\n",
       "    </tr>\n",
       "    <tr>\n",
       "      <th>37</th>\n",
       "      <td>Dataentryindia.in</td>\n",
       "      <td>IT Outsourcing Services</td>\n",
       "      <td>0.0 (0 Review)</td>\n",
       "      <td>10%</td>\n",
       "      <td>10%</td>\n",
       "      <td>\\n NA</td>\n",
       "      <td>250 - 999</td>\n",
       "      <td>1999</td>\n",
       "      <td>\\nUnited States, India</td>\n",
       "    </tr>\n",
       "    <tr>\n",
       "      <th>38</th>\n",
       "      <td>element61</td>\n",
       "      <td>experience &amp; expertise - Thought-leading Analy...</td>\n",
       "      <td>0.0 (0 Review)</td>\n",
       "      <td>5%</td>\n",
       "      <td>20%</td>\n",
       "      <td>\\n$100 - $149/hr</td>\n",
       "      <td>50 - 249</td>\n",
       "      <td>2007</td>\n",
       "      <td>\\nBelgium</td>\n",
       "    </tr>\n",
       "    <tr>\n",
       "      <th>39</th>\n",
       "      <td>Tectoro Consulting Pvt Ltd</td>\n",
       "      <td>Capital Markets Technology Solutions</td>\n",
       "      <td>0.0 (0 Review)</td>\n",
       "      <td>20%</td>\n",
       "      <td>20%</td>\n",
       "      <td>\\n$25 - $49/hr</td>\n",
       "      <td>50 - 249</td>\n",
       "      <td>2015</td>\n",
       "      <td>\\nIndia, Singapore</td>\n",
       "    </tr>\n",
       "    <tr>\n",
       "      <th>40</th>\n",
       "      <td>Rock Your Data</td>\n",
       "      <td>Delivering Cloud Analytics that Rocks Your Data</td>\n",
       "      <td>0.0 (0 Review)</td>\n",
       "      <td>10%</td>\n",
       "      <td>20%</td>\n",
       "      <td>\\n$150 - $199/hr</td>\n",
       "      <td>10 - 49</td>\n",
       "      <td>2017</td>\n",
       "      <td>\\nCanada</td>\n",
       "    </tr>\n",
       "    <tr>\n",
       "      <th>41</th>\n",
       "      <td>CodeRiders</td>\n",
       "      <td>We desire. Together we achieve!</td>\n",
       "      <td>0.0 (0 Review)</td>\n",
       "      <td>10%</td>\n",
       "      <td>30%</td>\n",
       "      <td>\\n$25 - $49/hr</td>\n",
       "      <td>10 - 49</td>\n",
       "      <td>2013</td>\n",
       "      <td>\\nArmenia</td>\n",
       "    </tr>\n",
       "    <tr>\n",
       "      <th>42</th>\n",
       "      <td>Notionmind</td>\n",
       "      <td>Software. Strategy. Managed Services.</td>\n",
       "      <td>0.0 (0 Review)</td>\n",
       "      <td>5%</td>\n",
       "      <td>25%</td>\n",
       "      <td>\\n$50 - $99/hr</td>\n",
       "      <td>10 - 49</td>\n",
       "      <td>2019</td>\n",
       "      <td>\\nIndia</td>\n",
       "    </tr>\n",
       "    <tr>\n",
       "      <th>43</th>\n",
       "      <td>OptimusFox</td>\n",
       "      <td>Best Blockchain Development Company in USA</td>\n",
       "      <td>0.0 (0 Review)</td>\n",
       "      <td>10%</td>\n",
       "      <td>20%</td>\n",
       "      <td>\\n$50 - $99/hr</td>\n",
       "      <td>50 - 249</td>\n",
       "      <td>2018</td>\n",
       "      <td>\\nUnited States</td>\n",
       "    </tr>\n",
       "    <tr>\n",
       "      <th>44</th>\n",
       "      <td>QAT Global</td>\n",
       "      <td>Together We Can Accomplish Anything - US - BR- CR</td>\n",
       "      <td>0.0 (0 Review)</td>\n",
       "      <td>5%</td>\n",
       "      <td>25%</td>\n",
       "      <td>\\n$50 - $99/hr</td>\n",
       "      <td>50 - 249</td>\n",
       "      <td>1995</td>\n",
       "      <td>\\nUnited States, Brazil</td>\n",
       "    </tr>\n",
       "    <tr>\n",
       "      <th>45</th>\n",
       "      <td>Youtech</td>\n",
       "      <td>Bold people. Big ideas. Real solutions.</td>\n",
       "      <td>0.0 (0 Review)</td>\n",
       "      <td>5%</td>\n",
       "      <td>50%</td>\n",
       "      <td>\\n$200 - $300/hr</td>\n",
       "      <td>50 - 249</td>\n",
       "      <td>2012</td>\n",
       "      <td>\\nUnited States</td>\n",
       "    </tr>\n",
       "    <tr>\n",
       "      <th>46</th>\n",
       "      <td>Web Daytona</td>\n",
       "      <td>Digital Marketing Agency</td>\n",
       "      <td>0.0 (0 Review)</td>\n",
       "      <td>5%</td>\n",
       "      <td>100%</td>\n",
       "      <td>\\n&lt; $25/hr</td>\n",
       "      <td>10 - 49</td>\n",
       "      <td>2009</td>\n",
       "      <td>\\nUnited States</td>\n",
       "    </tr>\n",
       "    <tr>\n",
       "      <th>47</th>\n",
       "      <td>Right Information</td>\n",
       "      <td>Perfect match when standard software is not en...</td>\n",
       "      <td>0.0 (0 Review)</td>\n",
       "      <td>20%</td>\n",
       "      <td>20%</td>\n",
       "      <td>\\n$50 - $99/hr</td>\n",
       "      <td>10 - 49</td>\n",
       "      <td>2001</td>\n",
       "      <td>\\nPoland</td>\n",
       "    </tr>\n",
       "    <tr>\n",
       "      <th>48</th>\n",
       "      <td>ISHIR Secure</td>\n",
       "      <td>ISHIR Secure, a managed security services prov...</td>\n",
       "      <td>0.0 (0 Review)</td>\n",
       "      <td>10%</td>\n",
       "      <td>50%</td>\n",
       "      <td>\\nNA</td>\n",
       "      <td>50 - 249</td>\n",
       "      <td>1999</td>\n",
       "      <td>\\nUnited States</td>\n",
       "    </tr>\n",
       "    <tr>\n",
       "      <th>49</th>\n",
       "      <td>BrookeWealth Global, LLC</td>\n",
       "      <td>Business Consultants. Creating Value.</td>\n",
       "      <td>0.0 (0 Review)</td>\n",
       "      <td>10%</td>\n",
       "      <td>50%</td>\n",
       "      <td>\\n$100 - $149/hr</td>\n",
       "      <td>2 - 9</td>\n",
       "      <td>2019</td>\n",
       "      <td>\\nUnited States</td>\n",
       "    </tr>\n",
       "    <tr>\n",
       "      <th>50</th>\n",
       "      <td>Easy Code LTD</td>\n",
       "      <td>bespoke software solutions</td>\n",
       "      <td>0.0 (0 Review)</td>\n",
       "      <td>10%</td>\n",
       "      <td>10%</td>\n",
       "      <td>\\n$100 - $149/hr</td>\n",
       "      <td>2 - 9</td>\n",
       "      <td>2016</td>\n",
       "      <td>\\nUnited Kingdom</td>\n",
       "    </tr>\n",
       "    <tr>\n",
       "      <th>51</th>\n",
       "      <td>Zeal Tech</td>\n",
       "      <td>ZealTech.io / Software Development Experts</td>\n",
       "      <td>0.0 (0 Review)</td>\n",
       "      <td>20%</td>\n",
       "      <td>100%</td>\n",
       "      <td>\\n$100 - $149/hr</td>\n",
       "      <td>50 - 249</td>\n",
       "      <td>2011</td>\n",
       "      <td>\\nUnited States</td>\n",
       "    </tr>\n",
       "    <tr>\n",
       "      <th>52</th>\n",
       "      <td>aQb Solutions Pvt. Ltd.</td>\n",
       "      <td>Technology Beyond Dimensions</td>\n",
       "      <td>0.0 (0 Review)</td>\n",
       "      <td>20%</td>\n",
       "      <td>20%</td>\n",
       "      <td>\\nNA</td>\n",
       "      <td>50 - 249</td>\n",
       "      <td>2009</td>\n",
       "      <td>\\nIndia</td>\n",
       "    </tr>\n",
       "    <tr>\n",
       "      <th>53</th>\n",
       "      <td>GRWTHCO</td>\n",
       "      <td>Data-driven marketing</td>\n",
       "      <td>5.0 (2 Reviews)</td>\n",
       "      <td>10%</td>\n",
       "      <td>30%</td>\n",
       "      <td>\\n$50 - $99/hr</td>\n",
       "      <td>2 - 9</td>\n",
       "      <td>2017</td>\n",
       "      <td>\\nUnited States</td>\n",
       "    </tr>\n",
       "  </tbody>\n",
       "</table>\n",
       "</div>"
      ],
      "text/plain": [
       "                                   firm_name  \\\n",
       "0                           ExpertsFromIndia   \n",
       "1                                 Volumetree   \n",
       "2           QuadLogix Technologies Pvt. Ltd.   \n",
       "3                                     WOXAPP   \n",
       "4                                    ISS Art   \n",
       "5                                  47Billion   \n",
       "6   Talentelgia Technologies Private Limited   \n",
       "7                                  Endion IT   \n",
       "8                             Programmers.io   \n",
       "9                              Intetics Inc.   \n",
       "10                                    Jevera   \n",
       "11            Innuy - Full Stack Development   \n",
       "12                           Web And SEO Pro   \n",
       "13                       Pentation Analytics   \n",
       "14                        ITXITPRO PVT. LTD.   \n",
       "15                                   Softura   \n",
       "16                               ConvergeSol   \n",
       "17                                   Oneskai   \n",
       "18                                     Chetu   \n",
       "19                             Miri Infotech   \n",
       "20                                 BairesDev   \n",
       "21                                    Avenga   \n",
       "22                               WebDataGuru   \n",
       "23                                 Analytist   \n",
       "24                                ima appweb   \n",
       "25                              Carter Point   \n",
       "26                       MIRAKI TECHNOLOGIES   \n",
       "27                           Clairvoyant LLC   \n",
       "28                        XLENT TECHNOLOGIES   \n",
       "29                               SunTec Data   \n",
       "30                 3i Data Scraping Services   \n",
       "31                                 Precognox   \n",
       "32                                     SEVEN   \n",
       "33                             FreshDataLabs   \n",
       "34                                  HTML Pro   \n",
       "35                           Juice analytics   \n",
       "36                        Salpo Technologies   \n",
       "37                         Dataentryindia.in   \n",
       "38                                 element61   \n",
       "39                Tectoro Consulting Pvt Ltd   \n",
       "40                            Rock Your Data   \n",
       "41                                CodeRiders   \n",
       "42                                Notionmind   \n",
       "43                                OptimusFox   \n",
       "44                                QAT Global   \n",
       "45                                   Youtech   \n",
       "46                               Web Daytona   \n",
       "47                         Right Information   \n",
       "48                              ISHIR Secure   \n",
       "49                  BrookeWealth Global, LLC   \n",
       "50                             Easy Code LTD   \n",
       "51                                 Zeal Tech   \n",
       "52                   aQb Solutions Pvt. Ltd.   \n",
       "53                                   GRWTHCO   \n",
       "\n",
       "                                           firm_motor     firm_reviews  \\\n",
       "0                                 We Make IT Possible  5.0 (2 Reviews)   \n",
       "1                           Impact Through Technology  5.0 (2 Reviews)   \n",
       "2                      Next-Gen Technology Solutions   5.0 (2 Reviews)   \n",
       "3    Mobile applications for startups and businesses   5.0 (2 Reviews)   \n",
       "4   It’s your chance to break new ground in business!  5.0 (2 Reviews)   \n",
       "5   Data Analytics | UXUI | Product Development | ML    5.0 (1 Review)   \n",
       "6                 Transforming ideas into innovations  5.0 (2 Reviews)   \n",
       "7                        Web & Mobile App Development   5.0 (1 Review)   \n",
       "8             Your Extended Software Development Team   5.0 (1 Review)   \n",
       "9                 Where Software Concepts Come Alive™   5.0 (1 Review)   \n",
       "10  SOFTWARE SOLUTIONS FOR COMPLICATED BUSINESS TASKS   4.8 (1 Review)   \n",
       "11                     Innuy - Full Stack Development   4.8 (1 Review)   \n",
       "12                Web Design And Development Services   5.0 (1 Review)   \n",
       "13    We provide analytical services to BFSI industry   0.0 (0 Review)   \n",
       "14                       Unleash The Digital Dynamics   5.0 (1 Review)   \n",
       "15        Enabling Innovation in a Business 4.0 World   5.0 (1 Review)   \n",
       "16                 Solutions Focused On Your Business   5.0 (1 Review)   \n",
       "17                  Digitally Transform Your Business   5.0 (1 Review)   \n",
       "18                     World Class Software Solutions   5.0 (1 Review)   \n",
       "19               Top 1% Talent at an Unbeatable Price   4.8 (1 Review)   \n",
       "20           Powered by Technology. Driven by Talent.   5.0 (1 Review)   \n",
       "21                            Transforming Industries   4.0 (1 Review)   \n",
       "22          Web Data Extraction and Scraping Services   0.0 (0 Review)   \n",
       "23                Advancing your insightful decisions   0.0 (0 Review)   \n",
       "24             Increased Awareness, Higher Visibility   0.0 (0 Review)   \n",
       "25   Aiding IT brands gain traction in local markets.   0.0 (0 Review)   \n",
       "26                               MIRACLES HAPPEN HERE   0.0 (0 Review)   \n",
       "27                        We power Digital Disruption   0.0 (0 Review)   \n",
       "28    web, ios, android, chatbot, wordpress, magento2   0.0 (0 Review)   \n",
       "29                               Turn Data Into Sight   0.0 (0 Review)   \n",
       "30           Enterprise Web/Mobile App Data Scraping!   0.0 (0 Review)   \n",
       "31            Precognox is a high-end consulting firm   0.0 (0 Review)   \n",
       "32         The Company That Exceeds Your Expectations   0.0 (0 Review)   \n",
       "33         Getting the leads has never been this easy   0.0 (0 Review)   \n",
       "34            NYC’s Top IT Solutions & Digital Agency   1.0 (1 Review)   \n",
       "35       Serve up your data the way customers need it   0.0 (0 Review)   \n",
       "36                           Listen. Learn. Innovate.   0.0 (0 Review)   \n",
       "37                            IT Outsourcing Services   0.0 (0 Review)   \n",
       "38  experience & expertise - Thought-leading Analy...   0.0 (0 Review)   \n",
       "39               Capital Markets Technology Solutions   0.0 (0 Review)   \n",
       "40    Delivering Cloud Analytics that Rocks Your Data   0.0 (0 Review)   \n",
       "41                    We desire. Together we achieve!   0.0 (0 Review)   \n",
       "42              Software. Strategy. Managed Services.   0.0 (0 Review)   \n",
       "43         Best Blockchain Development Company in USA   0.0 (0 Review)   \n",
       "44  Together We Can Accomplish Anything - US - BR- CR   0.0 (0 Review)   \n",
       "45            Bold people. Big ideas. Real solutions.   0.0 (0 Review)   \n",
       "46                           Digital Marketing Agency   0.0 (0 Review)   \n",
       "47  Perfect match when standard software is not en...   0.0 (0 Review)   \n",
       "48  ISHIR Secure, a managed security services prov...   0.0 (0 Review)   \n",
       "49             Business Consultants. Creating Value.    0.0 (0 Review)   \n",
       "50                         bespoke software solutions   0.0 (0 Review)   \n",
       "51        ZealTech.io / Software Development Experts    0.0 (0 Review)   \n",
       "52                       Technology Beyond Dimensions   0.0 (0 Review)   \n",
       "53                             Data-driven marketing   5.0 (2 Reviews)   \n",
       "\n",
       "   service_pct platform_pct         firm_price firm_employees year_founded  \\\n",
       "0          20%          15%    \\n$25 - $49/hr       250 - 999         2003   \n",
       "1           5%          10%    \\n$25 - $49/hr        50 - 249         2017   \n",
       "2          15%          15%    \\n$25 - $49/hr         10 - 49         2009   \n",
       "3          40%          10%    \\n$25 - $49/hr         10 - 49         2011   \n",
       "4          25%          10%    \\n$25 - $49/hr        50 - 249         2003   \n",
       "5          10%          20%        \\n< $25/hr        50 - 249         2012   \n",
       "6          20%          20%        \\n< $25/hr        50 - 249         2012   \n",
       "7          20%          10%    \\n$25 - $49/hr         10 - 49         2017   \n",
       "8          90%           5%    \\n$25 - $49/hr       250 - 999         2013   \n",
       "9          30%          20%    \\n$50 - $99/hr       250 - 999         1995   \n",
       "10         10%          25%    \\n$50 - $99/hr        50 - 249         2009   \n",
       "11         15%           5%              \\nNA         10 - 49         2012   \n",
       "12         25%          10%    \\n$50 - $99/hr        50 - 249         2015   \n",
       "13         10%          50%    \\n$50 - $99/hr         10 - 49         2015   \n",
       "14         90%           5%        \\n< $25/hr         10 - 49         2014   \n",
       "15         10%           5%  \\n$100 - $149/hr       250 - 999         1997   \n",
       "16         10%          10%    \\n$25 - $49/hr         10 - 49         2010   \n",
       "17          5%          20%    \\n$25 - $49/hr         10 - 49         2021   \n",
       "18         10%          50%    \\n$25 - $49/hr   1,000 - 9,999         2000   \n",
       "19         10%          25%        \\n< $25/hr       250 - 999         2003   \n",
       "20         30%          25%   \\n $25 - $49/hr   1,000 - 9,999         2009   \n",
       "21         20%          25%    \\n$50 - $99/hr   1,000 - 9,999         2019   \n",
       "22         10%          10%        \\n< $25/hr        50 - 249         2015   \n",
       "23         20%          20%    \\n$50 - $99/hr           2 - 9         2019   \n",
       "24         50%          16%    \\n$25 - $49/hr         10 - 49         2011   \n",
       "25         30%          30%        \\n< $25/hr           2 - 9         2015   \n",
       "26          5%          25%  \\n$100 - $149/hr        50 - 249         2015   \n",
       "27         20%          10%   \\n$50 - $99/hr         50 - 249         2012   \n",
       "28         30%          30%  \\n$100 - $149/hr         10 - 49         2017   \n",
       "29         20%          10%              \\nNA       250 - 999                \n",
       "30         10%          15%              \\nNA        50 - 249         2009   \n",
       "31         10%          25%              \\nNA        50 - 249         2008   \n",
       "32         10%          50%    \\n$25 - $49/hr        50 - 249         2007   \n",
       "33          5%          50%    \\n$50 - $99/hr         10 - 49         2018   \n",
       "34         10%          10%    \\n$50 - $99/hr        50 - 249         2013   \n",
       "35          5%          50%    \\n$50 - $99/hr         10 - 49         2004   \n",
       "36          5%          50%              \\nNA        50 - 249         2007   \n",
       "37         10%          10%             \\n NA       250 - 999         1999   \n",
       "38          5%          20%  \\n$100 - $149/hr        50 - 249         2007   \n",
       "39         20%          20%    \\n$25 - $49/hr        50 - 249         2015   \n",
       "40         10%          20%  \\n$150 - $199/hr         10 - 49         2017   \n",
       "41         10%          30%    \\n$25 - $49/hr         10 - 49         2013   \n",
       "42          5%          25%    \\n$50 - $99/hr         10 - 49         2019   \n",
       "43         10%          20%    \\n$50 - $99/hr        50 - 249         2018   \n",
       "44          5%          25%    \\n$50 - $99/hr        50 - 249         1995   \n",
       "45          5%          50%  \\n$200 - $300/hr        50 - 249         2012   \n",
       "46          5%         100%        \\n< $25/hr         10 - 49         2009   \n",
       "47         20%          20%    \\n$50 - $99/hr         10 - 49         2001   \n",
       "48         10%          50%              \\nNA        50 - 249         1999   \n",
       "49         10%          50%  \\n$100 - $149/hr           2 - 9         2019   \n",
       "50         10%          10%  \\n$100 - $149/hr           2 - 9         2016   \n",
       "51         20%         100%  \\n$100 - $149/hr        50 - 249         2011   \n",
       "52         20%          20%              \\nNA        50 - 249         2009   \n",
       "53         10%          30%    \\n$50 - $99/hr           2 - 9         2017   \n",
       "\n",
       "                       firm_location  \n",
       "0            \\nUnited States, India   \n",
       "1             \\nIndia, South Africa   \n",
       "2     \\nIndia, United Arab Emirates   \n",
       "3                         \\nUkraine   \n",
       "4           \\nRussia, United States   \n",
       "5            \\nUnited States, India   \n",
       "6           \\nIndia, United Kingdom   \n",
       "7                       \\nArgentina   \n",
       "8            \\nUnited States, India   \n",
       "9          \\nUnited States, Germany   \n",
       "10                        \\nUkraine   \n",
       "11                        \\nUruguay   \n",
       "12                  \\nUnited States   \n",
       "13                  \\nUnited States   \n",
       "14                          \\nIndia   \n",
       "15           \\nUnited States, India   \n",
       "16           \\nUnited States, India   \n",
       "17                          \\nIndia   \n",
       "18     \\nUnited States, Netherlands   \n",
       "19           \\nUnited States, India   \n",
       "20       \\nUnited States, Argentina   \n",
       "21         \\nUnited States, Germany   \n",
       "22  \\nUnited States, United Kingdom   \n",
       "23                       \\nThailand   \n",
       "24                          \\nIndia   \n",
       "25                        \\nEstonia   \n",
       "26                          \\nIndia   \n",
       "27                  \\nUnited States   \n",
       "28                  \\nUnited States   \n",
       "29           \\nUnited States, India   \n",
       "30         \\nUnited States, Germany   \n",
       "31                        \\nHungary   \n",
       "32                        \\nUkraine   \n",
       "33                          \\nIndia   \n",
       "34                  \\nUnited States   \n",
       "35                  \\nUnited States   \n",
       "36                 \\nUnited Kingdom   \n",
       "37           \\nUnited States, India   \n",
       "38                        \\nBelgium   \n",
       "39               \\nIndia, Singapore   \n",
       "40                         \\nCanada   \n",
       "41                        \\nArmenia   \n",
       "42                          \\nIndia   \n",
       "43                  \\nUnited States   \n",
       "44          \\nUnited States, Brazil   \n",
       "45                  \\nUnited States   \n",
       "46                  \\nUnited States   \n",
       "47                         \\nPoland   \n",
       "48                  \\nUnited States   \n",
       "49                  \\nUnited States   \n",
       "50                 \\nUnited Kingdom   \n",
       "51                  \\nUnited States   \n",
       "52                          \\nIndia   \n",
       "53                  \\nUnited States   "
      ]
     },
     "execution_count": 21,
     "metadata": {},
     "output_type": "execute_result"
    }
   ],
   "source": [
    "df3 "
   ]
  },
  {
   "cell_type": "code",
   "execution_count": null,
   "id": "4ed91f8d",
   "metadata": {},
   "outputs": [],
   "source": []
  },
  {
   "cell_type": "code",
   "execution_count": null,
   "id": "e18f8468",
   "metadata": {},
   "outputs": [],
   "source": []
  },
  {
   "cell_type": "markdown",
   "id": "5d8fe71b",
   "metadata": {},
   "source": [
    "PAGE 4"
   ]
  },
  {
   "cell_type": "code",
   "execution_count": 22,
   "id": "9f050a72",
   "metadata": {},
   "outputs": [],
   "source": [
    "with open(\"page4.html\", encoding='utf-8', mode='r') as file:\n",
    "    bs4 = BeautifulSoup(file, 'lxml')"
   ]
  },
  {
   "cell_type": "markdown",
   "id": "99fb4273",
   "metadata": {},
   "source": [
    "LOCATING DETAILS "
   ]
  },
  {
   "cell_type": "code",
   "execution_count": 23,
   "id": "87f6ffff",
   "metadata": {},
   "outputs": [],
   "source": [
    "firm_name = bs4.find_all('span', {'itemprop': 'name'})\n",
    "firm_motor = bs4.find_all('p', {'class': 'profile-tagline'})\n",
    "firm_reviews = bs4.find_all('span', {'class': 'listinv_review_label'})\n",
    "progress_value = bs4.find_all('div', {'class': 'circle-progress-value'})\n",
    "firm_price = bs4.find_all('div', {'class': 'firm-pricing'})\n",
    "firm_employees = bs4.find_all('div', {'class': 'firm-employees'})\n",
    "year_founded = bs4.find_all('div', {'class': 'firm-founded'})\n",
    "firm_location = bs4.find_all('div', {'class': 'firm-location'})"
   ]
  },
  {
   "cell_type": "markdown",
   "id": "131e7d69",
   "metadata": {},
   "source": [
    "EXTRACTING DETAILS"
   ]
  },
  {
   "cell_type": "code",
   "execution_count": 24,
   "id": "edbd82bf",
   "metadata": {},
   "outputs": [],
   "source": [
    "name4 = extract_detail(firm_name[3:])\n",
    "motor4 = extract_detail(firm_motor)\n",
    "reviews4 = extract_detail(firm_reviews)\n",
    "service4, platform4 = extract_progress_values(progress_value)\n",
    "price4 = extract_detail(firm_price)\n",
    "employees4 = extract_detail(firm_employees)\n",
    "year4 = extract_detail(year_founded)\n",
    "location4 = extract_detail(firm_location) "
   ]
  },
  {
   "cell_type": "markdown",
   "id": "eda38552",
   "metadata": {},
   "source": [
    "PUTTING DETAILS IN A DATAFRAME"
   ]
  },
  {
   "cell_type": "code",
   "execution_count": 25,
   "id": "db6599cc",
   "metadata": {},
   "outputs": [],
   "source": [
    "df4 = pd.DataFrame() "
   ]
  },
  {
   "cell_type": "code",
   "execution_count": 26,
   "id": "1fb9d1a4",
   "metadata": {},
   "outputs": [],
   "source": [
    "df4['firm_name'] = name4\n",
    "df4['firm_motor'] = motor4\n",
    "df4['firm_reviews'] = reviews4\n",
    "df4['service_pct'] = service\n",
    "df4['platform_pct'] = platform\n",
    "df4['firm_price'] = price4\n",
    "df4['firm_employees'] = employees4\n",
    "df4['year_founded'] = year4\n",
    "df4['firm_location'] = location4  "
   ]
  },
  {
   "cell_type": "code",
   "execution_count": 27,
   "id": "746455ec",
   "metadata": {},
   "outputs": [
    {
     "data": {
      "text/html": [
       "<div>\n",
       "<style scoped>\n",
       "    .dataframe tbody tr th:only-of-type {\n",
       "        vertical-align: middle;\n",
       "    }\n",
       "\n",
       "    .dataframe tbody tr th {\n",
       "        vertical-align: top;\n",
       "    }\n",
       "\n",
       "    .dataframe thead th {\n",
       "        text-align: right;\n",
       "    }\n",
       "</style>\n",
       "<table border=\"1\" class=\"dataframe\">\n",
       "  <thead>\n",
       "    <tr style=\"text-align: right;\">\n",
       "      <th></th>\n",
       "      <th>firm_name</th>\n",
       "      <th>firm_motor</th>\n",
       "      <th>firm_reviews</th>\n",
       "      <th>service_pct</th>\n",
       "      <th>platform_pct</th>\n",
       "      <th>firm_price</th>\n",
       "      <th>firm_employees</th>\n",
       "      <th>year_founded</th>\n",
       "      <th>firm_location</th>\n",
       "    </tr>\n",
       "  </thead>\n",
       "  <tbody>\n",
       "    <tr>\n",
       "      <th>0</th>\n",
       "      <td>Digital Order Technology Pvt. Ltd.</td>\n",
       "      <td>Integration to Innovation</td>\n",
       "      <td>0.0 (0 Review)</td>\n",
       "      <td>20%</td>\n",
       "      <td>15%</td>\n",
       "      <td>\\n&lt; $25/hr</td>\n",
       "      <td>2 - 9</td>\n",
       "      <td>2016</td>\n",
       "      <td>\\nIndia</td>\n",
       "    </tr>\n",
       "    <tr>\n",
       "      <th>1</th>\n",
       "      <td>Marlabs Inc.</td>\n",
       "      <td>Accelerate your Digital Transformation</td>\n",
       "      <td>0.0 (0 Review)</td>\n",
       "      <td>5%</td>\n",
       "      <td>10%</td>\n",
       "      <td>\\nNA</td>\n",
       "      <td>1,000 - 9,999</td>\n",
       "      <td>1996</td>\n",
       "      <td>\\nUnited States, India</td>\n",
       "    </tr>\n",
       "    <tr>\n",
       "      <th>2</th>\n",
       "      <td>Exometrics</td>\n",
       "      <td>Artificial Intelligence for Business</td>\n",
       "      <td>0.0 (0 Review)</td>\n",
       "      <td>15%</td>\n",
       "      <td>15%</td>\n",
       "      <td>\\n$100 - $149/hr</td>\n",
       "      <td>2 - 9</td>\n",
       "      <td>2016</td>\n",
       "      <td>\\nUnited Kingdom</td>\n",
       "    </tr>\n",
       "    <tr>\n",
       "      <th>3</th>\n",
       "      <td>Visichain</td>\n",
       "      <td>Accelerate your digital procurement transforma...</td>\n",
       "      <td>0.0 (0 Review)</td>\n",
       "      <td>40%</td>\n",
       "      <td>10%</td>\n",
       "      <td>\\nNA</td>\n",
       "      <td>50 - 249</td>\n",
       "      <td>2015</td>\n",
       "      <td>\\nChina</td>\n",
       "    </tr>\n",
       "    <tr>\n",
       "      <th>4</th>\n",
       "      <td>Abto Software</td>\n",
       "      <td>Where science and technology work for you</td>\n",
       "      <td>0.0 (0 Review)</td>\n",
       "      <td>25%</td>\n",
       "      <td>10%</td>\n",
       "      <td>\\n$25 - $49/hr</td>\n",
       "      <td>50 - 249</td>\n",
       "      <td>2007</td>\n",
       "      <td>\\nUkraine, United States</td>\n",
       "    </tr>\n",
       "    <tr>\n",
       "      <th>5</th>\n",
       "      <td>Profinit</td>\n",
       "      <td>Custom SW Development, Data Science &amp; Outsourcing</td>\n",
       "      <td>0.0 (0 Review)</td>\n",
       "      <td>10%</td>\n",
       "      <td>20%</td>\n",
       "      <td>\\n$50 - $99/hr</td>\n",
       "      <td>250 - 999</td>\n",
       "      <td>1998</td>\n",
       "      <td>\\nCzech Republic, Slovakia</td>\n",
       "    </tr>\n",
       "    <tr>\n",
       "      <th>6</th>\n",
       "      <td>Prompt Softech</td>\n",
       "      <td>Empowering Enterprises</td>\n",
       "      <td>0.0 (0 Review)</td>\n",
       "      <td>20%</td>\n",
       "      <td>20%</td>\n",
       "      <td>\\n&lt; $25/hr</td>\n",
       "      <td>50 - 249</td>\n",
       "      <td>2011</td>\n",
       "      <td>\\nIndia</td>\n",
       "    </tr>\n",
       "    <tr>\n",
       "      <th>7</th>\n",
       "      <td>good chain and sustainable supplies Ltd</td>\n",
       "      <td>Better be good than fake perfection</td>\n",
       "      <td>0.0 (0 Review)</td>\n",
       "      <td>20%</td>\n",
       "      <td>10%</td>\n",
       "      <td>\\nNA</td>\n",
       "      <td>2 - 9</td>\n",
       "      <td>2018</td>\n",
       "      <td>\\nChina, Australia</td>\n",
       "    </tr>\n",
       "    <tr>\n",
       "      <th>8</th>\n",
       "      <td>Monique M &amp; Company Digital Marketing</td>\n",
       "      <td>Impacting lives</td>\n",
       "      <td>0.0 (0 Review)</td>\n",
       "      <td>90%</td>\n",
       "      <td>5%</td>\n",
       "      <td>\\n$25 - $49/hr</td>\n",
       "      <td>2 - 9</td>\n",
       "      <td>2016</td>\n",
       "      <td>\\nKenya</td>\n",
       "    </tr>\n",
       "    <tr>\n",
       "      <th>9</th>\n",
       "      <td>MindGap</td>\n",
       "      <td>Unleash the power of your data with Strategic AI</td>\n",
       "      <td>0.0 (0 Review)</td>\n",
       "      <td>30%</td>\n",
       "      <td>20%</td>\n",
       "      <td>\\n$50 - $99/hr</td>\n",
       "      <td>2 - 9</td>\n",
       "      <td>2019</td>\n",
       "      <td>\\nUnited Kingdom</td>\n",
       "    </tr>\n",
       "    <tr>\n",
       "      <th>10</th>\n",
       "      <td>MattsenKumar LLC</td>\n",
       "      <td>Be Bold; Be Transparent; Be More</td>\n",
       "      <td>0.0 (0 Review)</td>\n",
       "      <td>10%</td>\n",
       "      <td>25%</td>\n",
       "      <td>\\n$25 - $49/hr</td>\n",
       "      <td>1,000 - 9,999</td>\n",
       "      <td>2005</td>\n",
       "      <td>\\nUnited States, India</td>\n",
       "    </tr>\n",
       "    <tr>\n",
       "      <th>11</th>\n",
       "      <td>Steppa</td>\n",
       "      <td>Cyber Security and Intelligence</td>\n",
       "      <td>0.0 (0 Review)</td>\n",
       "      <td>15%</td>\n",
       "      <td>5%</td>\n",
       "      <td>\\n$25 - $49/hr</td>\n",
       "      <td>10 - 49</td>\n",
       "      <td>2016</td>\n",
       "      <td>\\nUnited Arab Emirates</td>\n",
       "    </tr>\n",
       "    <tr>\n",
       "      <th>12</th>\n",
       "      <td>Heinsohn Business Technology</td>\n",
       "      <td>Software Development Experts</td>\n",
       "      <td>0.0 (0 Review)</td>\n",
       "      <td>25%</td>\n",
       "      <td>10%</td>\n",
       "      <td>\\n$25 - $49/hr</td>\n",
       "      <td>250 - 999</td>\n",
       "      <td>1977</td>\n",
       "      <td>\\nColombia</td>\n",
       "    </tr>\n",
       "    <tr>\n",
       "      <th>13</th>\n",
       "      <td>Ksolves India Limited</td>\n",
       "      <td>A leading Software Development Company.</td>\n",
       "      <td>0.0 (0 Review)</td>\n",
       "      <td>10%</td>\n",
       "      <td>50%</td>\n",
       "      <td>\\n$25 - $49/hr</td>\n",
       "      <td>250 - 999</td>\n",
       "      <td>2012</td>\n",
       "      <td>\\nIndia</td>\n",
       "    </tr>\n",
       "    <tr>\n",
       "      <th>14</th>\n",
       "      <td>Informatics Tec</td>\n",
       "      <td>Leading IT solutions Provider</td>\n",
       "      <td>0.0 (0 Review)</td>\n",
       "      <td>90%</td>\n",
       "      <td>5%</td>\n",
       "      <td>\\nNA</td>\n",
       "      <td>50 - 249</td>\n",
       "      <td>2007</td>\n",
       "      <td>\\nOman, Egypt</td>\n",
       "    </tr>\n",
       "    <tr>\n",
       "      <th>15</th>\n",
       "      <td>Elegant MicroWeb</td>\n",
       "      <td>Delivering the Value of Technology</td>\n",
       "      <td>0.0 (0 Review)</td>\n",
       "      <td>10%</td>\n",
       "      <td>5%</td>\n",
       "      <td>\\n$25 - $49/hr</td>\n",
       "      <td>50 - 249</td>\n",
       "      <td>2001</td>\n",
       "      <td>\\nIndia</td>\n",
       "    </tr>\n",
       "    <tr>\n",
       "      <th>16</th>\n",
       "      <td>Rokk</td>\n",
       "      <td>Software, mobile app &amp; website development agency</td>\n",
       "      <td>5.0 (1 Review)</td>\n",
       "      <td>10%</td>\n",
       "      <td>10%</td>\n",
       "      <td>\\n$150 - $199/hr</td>\n",
       "      <td>10 - 49</td>\n",
       "      <td>2002</td>\n",
       "      <td>\\nUnited Kingdom</td>\n",
       "    </tr>\n",
       "    <tr>\n",
       "      <th>17</th>\n",
       "      <td>Anytime Softcare</td>\n",
       "      <td>\"I Thing There for I AM\"</td>\n",
       "      <td>0.0 (0 Review)</td>\n",
       "      <td>5%</td>\n",
       "      <td>20%</td>\n",
       "      <td>\\n&lt; $25/hr</td>\n",
       "      <td>10 - 49</td>\n",
       "      <td>2013</td>\n",
       "      <td>\\nIndia</td>\n",
       "    </tr>\n",
       "    <tr>\n",
       "      <th>18</th>\n",
       "      <td>Advanz101 Business Systems Inc.</td>\n",
       "      <td>TOGHETHER WE GROW</td>\n",
       "      <td>0.0 (0 Review)</td>\n",
       "      <td>10%</td>\n",
       "      <td>50%</td>\n",
       "      <td>\\nNA</td>\n",
       "      <td>50 - 249</td>\n",
       "      <td>2007</td>\n",
       "      <td>\\nAustralia, United States</td>\n",
       "    </tr>\n",
       "    <tr>\n",
       "      <th>19</th>\n",
       "      <td>First Line Software</td>\n",
       "      <td>Premier provider of custom software development</td>\n",
       "      <td>0.0 (0 Review)</td>\n",
       "      <td>10%</td>\n",
       "      <td>25%</td>\n",
       "      <td>\\nNA</td>\n",
       "      <td>250 - 999</td>\n",
       "      <td>2009</td>\n",
       "      <td>\\nUnited States, Netherlands</td>\n",
       "    </tr>\n",
       "    <tr>\n",
       "      <th>20</th>\n",
       "      <td>Scope Technologies Co. Ltd</td>\n",
       "      <td>A creative company with a big vision</td>\n",
       "      <td>0.0 (0 Review)</td>\n",
       "      <td>30%</td>\n",
       "      <td>25%</td>\n",
       "      <td>\\n$50 - $99/hr</td>\n",
       "      <td>50 - 249</td>\n",
       "      <td>2017</td>\n",
       "      <td>\\nSaudi Arabia</td>\n",
       "    </tr>\n",
       "    <tr>\n",
       "      <th>21</th>\n",
       "      <td>Berg Software</td>\n",
       "      <td>We turn ideas into software. What is yours?</td>\n",
       "      <td>0.0 (0 Review)</td>\n",
       "      <td>20%</td>\n",
       "      <td>25%</td>\n",
       "      <td>\\n$25 - $49/hr</td>\n",
       "      <td>50 - 249</td>\n",
       "      <td>1991</td>\n",
       "      <td>\\nRomania</td>\n",
       "    </tr>\n",
       "    <tr>\n",
       "      <th>22</th>\n",
       "      <td>HorizonCore InfoSoft Pvt. Ltd.</td>\n",
       "      <td>HorizonCore InfoSoft Pvt. Ltd.</td>\n",
       "      <td>0.0 (0 Review)</td>\n",
       "      <td>10%</td>\n",
       "      <td>10%</td>\n",
       "      <td>\\n$50 - $99/hr</td>\n",
       "      <td>50 - 249</td>\n",
       "      <td>2008</td>\n",
       "      <td>\\nIndia, United States</td>\n",
       "    </tr>\n",
       "    <tr>\n",
       "      <th>23</th>\n",
       "      <td>Brewed @ The Lab Technologies Pvt Ltd</td>\n",
       "      <td>IT Service</td>\n",
       "      <td>0.0 (0 Review)</td>\n",
       "      <td>20%</td>\n",
       "      <td>20%</td>\n",
       "      <td>\\n$25 - $49/hr</td>\n",
       "      <td>10 - 49</td>\n",
       "      <td></td>\n",
       "      <td>\\nIndia</td>\n",
       "    </tr>\n",
       "    <tr>\n",
       "      <th>24</th>\n",
       "      <td>Data Pro Software Solutions</td>\n",
       "      <td>YOUR TRUSTED IT PARTNER</td>\n",
       "      <td>0.0 (0 Review)</td>\n",
       "      <td>50%</td>\n",
       "      <td>16%</td>\n",
       "      <td>\\nNA</td>\n",
       "      <td>2 - 9</td>\n",
       "      <td>2013</td>\n",
       "      <td>\\nUnited States, Ukraine</td>\n",
       "    </tr>\n",
       "    <tr>\n",
       "      <th>25</th>\n",
       "      <td>TroonDx Technologies</td>\n",
       "      <td>Hyperledger Fabric, Blockchain, Fullstack, Big...</td>\n",
       "      <td>0.0 (0 Review)</td>\n",
       "      <td>30%</td>\n",
       "      <td>30%</td>\n",
       "      <td>\\n$25 - $49/hr</td>\n",
       "      <td>10 - 49</td>\n",
       "      <td>2019</td>\n",
       "      <td>\\nIndia</td>\n",
       "    </tr>\n",
       "    <tr>\n",
       "      <th>26</th>\n",
       "      <td>fram^</td>\n",
       "      <td>PREMIUM IT-DEVELOPMENT MANAGED SERVICES IN VIE...</td>\n",
       "      <td>0.0 (0 Review)</td>\n",
       "      <td>5%</td>\n",
       "      <td>25%</td>\n",
       "      <td>\\n$25 - $49/hr</td>\n",
       "      <td>50 - 249</td>\n",
       "      <td>2013</td>\n",
       "      <td>\\nVietnam</td>\n",
       "    </tr>\n",
       "    <tr>\n",
       "      <th>27</th>\n",
       "      <td>Signon</td>\n",
       "      <td>Connecting Strategies With Innovation</td>\n",
       "      <td>0.0 (0 Review)</td>\n",
       "      <td>20%</td>\n",
       "      <td>10%</td>\n",
       "      <td>\\n$50 - $99/hr</td>\n",
       "      <td>50 - 249</td>\n",
       "      <td>2015</td>\n",
       "      <td>\\nIndia</td>\n",
       "    </tr>\n",
       "    <tr>\n",
       "      <th>28</th>\n",
       "      <td>Data Prophets LLP</td>\n",
       "      <td>Building AI for Businesses in leveraging Data</td>\n",
       "      <td>0.0 (0 Review)</td>\n",
       "      <td>30%</td>\n",
       "      <td>30%</td>\n",
       "      <td>\\n&lt; $25/hr</td>\n",
       "      <td>10 - 49</td>\n",
       "      <td>2019</td>\n",
       "      <td>\\nIndia</td>\n",
       "    </tr>\n",
       "    <tr>\n",
       "      <th>29</th>\n",
       "      <td>Indium Software</td>\n",
       "      <td>Make Technology Work</td>\n",
       "      <td>0.0 (0 Review)</td>\n",
       "      <td>20%</td>\n",
       "      <td>10%</td>\n",
       "      <td>\\nNA</td>\n",
       "      <td>1,000 - 9,999</td>\n",
       "      <td>1999</td>\n",
       "      <td>\\nUnited States, United Kingdom</td>\n",
       "    </tr>\n",
       "    <tr>\n",
       "      <th>30</th>\n",
       "      <td>IntelliCompute</td>\n",
       "      <td>Embark on a journey of intelligence to excellence</td>\n",
       "      <td>0.0 (0 Review)</td>\n",
       "      <td>10%</td>\n",
       "      <td>15%</td>\n",
       "      <td>\\nNA</td>\n",
       "      <td>50 - 249</td>\n",
       "      <td>2009</td>\n",
       "      <td>\\nUnited States</td>\n",
       "    </tr>\n",
       "    <tr>\n",
       "      <th>31</th>\n",
       "      <td>Equinox Information Services</td>\n",
       "      <td>Gain deeper insights. Make better decisions.</td>\n",
       "      <td>0.0 (0 Review)</td>\n",
       "      <td>10%</td>\n",
       "      <td>25%</td>\n",
       "      <td>\\n$25 - $49/hr</td>\n",
       "      <td>10 - 49</td>\n",
       "      <td>2014</td>\n",
       "      <td>\\nUnited Kingdom</td>\n",
       "    </tr>\n",
       "    <tr>\n",
       "      <th>32</th>\n",
       "      <td>Astrokyon</td>\n",
       "      <td>Software &amp; Hardware development</td>\n",
       "      <td>0.0 (0 Review)</td>\n",
       "      <td>10%</td>\n",
       "      <td>50%</td>\n",
       "      <td>\\n$25 - $49/hr</td>\n",
       "      <td>10 - 49</td>\n",
       "      <td>2020</td>\n",
       "      <td>\\nPoland</td>\n",
       "    </tr>\n",
       "    <tr>\n",
       "      <th>33</th>\n",
       "      <td>Cygnis Media</td>\n",
       "      <td>Build Intelligent Apps</td>\n",
       "      <td>0.0 (0 Review)</td>\n",
       "      <td>5%</td>\n",
       "      <td>50%</td>\n",
       "      <td>\\n$25 - $49/hr</td>\n",
       "      <td>50 - 249</td>\n",
       "      <td>2010</td>\n",
       "      <td>\\nUnited States</td>\n",
       "    </tr>\n",
       "    <tr>\n",
       "      <th>34</th>\n",
       "      <td>INFISTACK CORPORATE PRIVATE LIMITED</td>\n",
       "      <td>Delivering EXCELLENCE</td>\n",
       "      <td>0.0 (0 Review)</td>\n",
       "      <td>10%</td>\n",
       "      <td>10%</td>\n",
       "      <td>\\n$25 - $49/hr</td>\n",
       "      <td>10 - 49</td>\n",
       "      <td>2014</td>\n",
       "      <td>\\nIndia</td>\n",
       "    </tr>\n",
       "    <tr>\n",
       "      <th>35</th>\n",
       "      <td>Livares Technologies</td>\n",
       "      <td>'Technologies Applied The Better Way'</td>\n",
       "      <td>0.0 (0 Review)</td>\n",
       "      <td>5%</td>\n",
       "      <td>50%</td>\n",
       "      <td>\\nNA</td>\n",
       "      <td>10 - 49</td>\n",
       "      <td>2009</td>\n",
       "      <td>\\nIndia, United Arab Emirates</td>\n",
       "    </tr>\n",
       "    <tr>\n",
       "      <th>36</th>\n",
       "      <td>cyberneusys</td>\n",
       "      <td>Internet powered programming &amp; development</td>\n",
       "      <td>0.0 (0 Review)</td>\n",
       "      <td>5%</td>\n",
       "      <td>50%</td>\n",
       "      <td>\\n&lt; $25/hr</td>\n",
       "      <td>2 - 9</td>\n",
       "      <td>2017</td>\n",
       "      <td>\\nIndia</td>\n",
       "    </tr>\n",
       "    <tr>\n",
       "      <th>37</th>\n",
       "      <td>Anderson Collaborative</td>\n",
       "      <td>Data-Driven Marketing Solutions &amp; Consulting</td>\n",
       "      <td>0.0 (0 Review)</td>\n",
       "      <td>10%</td>\n",
       "      <td>10%</td>\n",
       "      <td>\\n$150 - $199/hr</td>\n",
       "      <td>10 - 49</td>\n",
       "      <td>2019</td>\n",
       "      <td>\\nUnited States</td>\n",
       "    </tr>\n",
       "    <tr>\n",
       "      <th>38</th>\n",
       "      <td>Softshark</td>\n",
       "      <td>Go beyond with Advanced Cloud Technologies</td>\n",
       "      <td>0.0 (0 Review)</td>\n",
       "      <td>5%</td>\n",
       "      <td>20%</td>\n",
       "      <td>\\n$25 - $49/hr</td>\n",
       "      <td>10 - 49</td>\n",
       "      <td>2021</td>\n",
       "      <td>\\nArmenia</td>\n",
       "    </tr>\n",
       "    <tr>\n",
       "      <th>39</th>\n",
       "      <td>Stratahive Services Private Limited</td>\n",
       "      <td>Artificial Intelligence-based Solutions Provider</td>\n",
       "      <td>0.0 (0 Review)</td>\n",
       "      <td>20%</td>\n",
       "      <td>20%</td>\n",
       "      <td>\\n$50 - $99/hr</td>\n",
       "      <td>2 - 9</td>\n",
       "      <td>2018</td>\n",
       "      <td>\\nIndia</td>\n",
       "    </tr>\n",
       "    <tr>\n",
       "      <th>40</th>\n",
       "      <td>Kubikware</td>\n",
       "      <td>We speak digital.</td>\n",
       "      <td>0.0 (0 Review)</td>\n",
       "      <td>10%</td>\n",
       "      <td>20%</td>\n",
       "      <td>\\n$50 - $99/hr</td>\n",
       "      <td>50 - 249</td>\n",
       "      <td>2003</td>\n",
       "      <td>\\nUnited States, Uruguay</td>\n",
       "    </tr>\n",
       "    <tr>\n",
       "      <th>41</th>\n",
       "      <td>Hexaview Technologies</td>\n",
       "      <td>Your Digital Transformation Partner</td>\n",
       "      <td>0.0 (0 Review)</td>\n",
       "      <td>10%</td>\n",
       "      <td>30%</td>\n",
       "      <td>\\n$25 - $49/hr</td>\n",
       "      <td>250 - 999</td>\n",
       "      <td>2010</td>\n",
       "      <td>\\nUnited States, India</td>\n",
       "    </tr>\n",
       "    <tr>\n",
       "      <th>42</th>\n",
       "      <td>Unleashing AI</td>\n",
       "      <td>Your AI &amp; Machine Learning Business Partner</td>\n",
       "      <td>0.0 (0 Review)</td>\n",
       "      <td>5%</td>\n",
       "      <td>25%</td>\n",
       "      <td>\\n$150 - $199/hr</td>\n",
       "      <td>2 - 9</td>\n",
       "      <td></td>\n",
       "      <td>\\nUnited States</td>\n",
       "    </tr>\n",
       "    <tr>\n",
       "      <th>43</th>\n",
       "      <td>Smartek Sistem</td>\n",
       "      <td>Leading Solutions for Technology</td>\n",
       "      <td>0.0 (0 Review)</td>\n",
       "      <td>10%</td>\n",
       "      <td>20%</td>\n",
       "      <td>\\n$50 - $99/hr</td>\n",
       "      <td>2 - 9</td>\n",
       "      <td>2015</td>\n",
       "      <td>\\nIndonesia</td>\n",
       "    </tr>\n",
       "    <tr>\n",
       "      <th>44</th>\n",
       "      <td>Ignatiuz Software</td>\n",
       "      <td>Compelling IT Solutions</td>\n",
       "      <td>0.0 (0 Review)</td>\n",
       "      <td>5%</td>\n",
       "      <td>25%</td>\n",
       "      <td>\\nNA</td>\n",
       "      <td>50 - 249</td>\n",
       "      <td>2012</td>\n",
       "      <td>\\nUnited States</td>\n",
       "    </tr>\n",
       "    <tr>\n",
       "      <th>45</th>\n",
       "      <td>Transcendent Software</td>\n",
       "      <td>We solve problems!</td>\n",
       "      <td>0.0 (0 Review)</td>\n",
       "      <td>5%</td>\n",
       "      <td>50%</td>\n",
       "      <td>\\n$200 - $300/hr</td>\n",
       "      <td>Freelancer</td>\n",
       "      <td>2009</td>\n",
       "      <td>\\nUnited States</td>\n",
       "    </tr>\n",
       "    <tr>\n",
       "      <th>46</th>\n",
       "      <td>Techverx</td>\n",
       "      <td>Your Ultimate Partner for Digital Transformation</td>\n",
       "      <td>0.0 (0 Review)</td>\n",
       "      <td>5%</td>\n",
       "      <td>100%</td>\n",
       "      <td>\\n$25 - $49/hr</td>\n",
       "      <td>50 - 249</td>\n",
       "      <td>2010</td>\n",
       "      <td>\\nUnited States</td>\n",
       "    </tr>\n",
       "    <tr>\n",
       "      <th>47</th>\n",
       "      <td>Rydot Infotech Private Limited</td>\n",
       "      <td>Source of Technology</td>\n",
       "      <td>0.0 (0 Review)</td>\n",
       "      <td>20%</td>\n",
       "      <td>20%</td>\n",
       "      <td>\\n$25 - $49/hr</td>\n",
       "      <td>10 - 49</td>\n",
       "      <td>2018</td>\n",
       "      <td>\\nIndia</td>\n",
       "    </tr>\n",
       "    <tr>\n",
       "      <th>48</th>\n",
       "      <td>Brainsmiths Labs</td>\n",
       "      <td>Enhancing Value for Our Global Clients</td>\n",
       "      <td>0.0 (0 Review)</td>\n",
       "      <td>10%</td>\n",
       "      <td>50%</td>\n",
       "      <td>\\n$25 - $49/hr</td>\n",
       "      <td>10 - 49</td>\n",
       "      <td>2015</td>\n",
       "      <td>\\nIndia, Canada</td>\n",
       "    </tr>\n",
       "    <tr>\n",
       "      <th>49</th>\n",
       "      <td>Binsera C Corporation</td>\n",
       "      <td>Software Development</td>\n",
       "      <td>0.0 (0 Review)</td>\n",
       "      <td>10%</td>\n",
       "      <td>50%</td>\n",
       "      <td>\\n$100 - $149/hr</td>\n",
       "      <td>2 - 9</td>\n",
       "      <td>2020</td>\n",
       "      <td>\\nUnited States</td>\n",
       "    </tr>\n",
       "    <tr>\n",
       "      <th>50</th>\n",
       "      <td>Nexential Solutions Pvt. Ltd.</td>\n",
       "      <td>Helping you design success!</td>\n",
       "      <td>0.0 (0 Review)</td>\n",
       "      <td>10%</td>\n",
       "      <td>10%</td>\n",
       "      <td>\\n&lt; $25/hr</td>\n",
       "      <td>2 - 9</td>\n",
       "      <td>2019</td>\n",
       "      <td>\\nIndia</td>\n",
       "    </tr>\n",
       "    <tr>\n",
       "      <th>51</th>\n",
       "      <td>Hir Infotech Data Mining Solution</td>\n",
       "      <td>Top Data Mining, Web Crawling services provide...</td>\n",
       "      <td>0.0 (0 Review)</td>\n",
       "      <td>20%</td>\n",
       "      <td>100%</td>\n",
       "      <td>\\n&lt; $25/hr</td>\n",
       "      <td>10 - 49</td>\n",
       "      <td>2013</td>\n",
       "      <td>\\nIndia</td>\n",
       "    </tr>\n",
       "    <tr>\n",
       "      <th>52</th>\n",
       "      <td>Honeycomb Software</td>\n",
       "      <td>We Do Great Things with .NET</td>\n",
       "      <td>0.0 (0 Review)</td>\n",
       "      <td>20%</td>\n",
       "      <td>20%</td>\n",
       "      <td>\\n$25 - $49/hr</td>\n",
       "      <td>50 - 249</td>\n",
       "      <td>2015</td>\n",
       "      <td>\\nUkraine</td>\n",
       "    </tr>\n",
       "    <tr>\n",
       "      <th>53</th>\n",
       "      <td>DataEngi</td>\n",
       "      <td>From business challenge to IT solution</td>\n",
       "      <td>0.0 (0 Review)</td>\n",
       "      <td>10%</td>\n",
       "      <td>30%</td>\n",
       "      <td>\\n$25 - $49/hr</td>\n",
       "      <td>10 - 49</td>\n",
       "      <td>2017</td>\n",
       "      <td>\\nLithuania</td>\n",
       "    </tr>\n",
       "  </tbody>\n",
       "</table>\n",
       "</div>"
      ],
      "text/plain": [
       "                                  firm_name  \\\n",
       "0        Digital Order Technology Pvt. Ltd.   \n",
       "1                              Marlabs Inc.   \n",
       "2                                Exometrics   \n",
       "3                                 Visichain   \n",
       "4                             Abto Software   \n",
       "5                                  Profinit   \n",
       "6                            Prompt Softech   \n",
       "7   good chain and sustainable supplies Ltd   \n",
       "8     Monique M & Company Digital Marketing   \n",
       "9                                   MindGap   \n",
       "10                         MattsenKumar LLC   \n",
       "11                                   Steppa   \n",
       "12             Heinsohn Business Technology   \n",
       "13                    Ksolves India Limited   \n",
       "14                          Informatics Tec   \n",
       "15                         Elegant MicroWeb   \n",
       "16                                     Rokk   \n",
       "17                         Anytime Softcare   \n",
       "18          Advanz101 Business Systems Inc.   \n",
       "19                      First Line Software   \n",
       "20               Scope Technologies Co. Ltd   \n",
       "21                            Berg Software   \n",
       "22           HorizonCore InfoSoft Pvt. Ltd.   \n",
       "23    Brewed @ The Lab Technologies Pvt Ltd   \n",
       "24              Data Pro Software Solutions   \n",
       "25                     TroonDx Technologies   \n",
       "26                                    fram^   \n",
       "27                                   Signon   \n",
       "28                        Data Prophets LLP   \n",
       "29                          Indium Software   \n",
       "30                           IntelliCompute   \n",
       "31             Equinox Information Services   \n",
       "32                                Astrokyon   \n",
       "33                             Cygnis Media   \n",
       "34      INFISTACK CORPORATE PRIVATE LIMITED   \n",
       "35                     Livares Technologies   \n",
       "36                              cyberneusys   \n",
       "37                   Anderson Collaborative   \n",
       "38                                Softshark   \n",
       "39      Stratahive Services Private Limited   \n",
       "40                                Kubikware   \n",
       "41                    Hexaview Technologies   \n",
       "42                            Unleashing AI   \n",
       "43                           Smartek Sistem   \n",
       "44                        Ignatiuz Software   \n",
       "45                    Transcendent Software   \n",
       "46                                 Techverx   \n",
       "47           Rydot Infotech Private Limited   \n",
       "48                         Brainsmiths Labs   \n",
       "49                    Binsera C Corporation   \n",
       "50            Nexential Solutions Pvt. Ltd.   \n",
       "51        Hir Infotech Data Mining Solution   \n",
       "52                       Honeycomb Software   \n",
       "53                                 DataEngi   \n",
       "\n",
       "                                           firm_motor    firm_reviews  \\\n",
       "0                           Integration to Innovation  0.0 (0 Review)   \n",
       "1              Accelerate your Digital Transformation  0.0 (0 Review)   \n",
       "2                Artificial Intelligence for Business  0.0 (0 Review)   \n",
       "3   Accelerate your digital procurement transforma...  0.0 (0 Review)   \n",
       "4           Where science and technology work for you  0.0 (0 Review)   \n",
       "5   Custom SW Development, Data Science & Outsourcing  0.0 (0 Review)   \n",
       "6                              Empowering Enterprises  0.0 (0 Review)   \n",
       "7                 Better be good than fake perfection  0.0 (0 Review)   \n",
       "8                                     Impacting lives  0.0 (0 Review)   \n",
       "9    Unleash the power of your data with Strategic AI  0.0 (0 Review)   \n",
       "10                   Be Bold; Be Transparent; Be More  0.0 (0 Review)   \n",
       "11                    Cyber Security and Intelligence  0.0 (0 Review)   \n",
       "12                       Software Development Experts  0.0 (0 Review)   \n",
       "13           A leading Software Development Company.   0.0 (0 Review)   \n",
       "14                      Leading IT solutions Provider  0.0 (0 Review)   \n",
       "15                 Delivering the Value of Technology  0.0 (0 Review)   \n",
       "16  Software, mobile app & website development agency  5.0 (1 Review)   \n",
       "17                           \"I Thing There for I AM\"  0.0 (0 Review)   \n",
       "18                                  TOGHETHER WE GROW  0.0 (0 Review)   \n",
       "19    Premier provider of custom software development  0.0 (0 Review)   \n",
       "20               A creative company with a big vision  0.0 (0 Review)   \n",
       "21        We turn ideas into software. What is yours?  0.0 (0 Review)   \n",
       "22                     HorizonCore InfoSoft Pvt. Ltd.  0.0 (0 Review)   \n",
       "23                                         IT Service  0.0 (0 Review)   \n",
       "24                            YOUR TRUSTED IT PARTNER  0.0 (0 Review)   \n",
       "25  Hyperledger Fabric, Blockchain, Fullstack, Big...  0.0 (0 Review)   \n",
       "26  PREMIUM IT-DEVELOPMENT MANAGED SERVICES IN VIE...  0.0 (0 Review)   \n",
       "27              Connecting Strategies With Innovation  0.0 (0 Review)   \n",
       "28      Building AI for Businesses in leveraging Data  0.0 (0 Review)   \n",
       "29                               Make Technology Work  0.0 (0 Review)   \n",
       "30  Embark on a journey of intelligence to excellence  0.0 (0 Review)   \n",
       "31       Gain deeper insights. Make better decisions.  0.0 (0 Review)   \n",
       "32                    Software & Hardware development  0.0 (0 Review)   \n",
       "33                             Build Intelligent Apps  0.0 (0 Review)   \n",
       "34                              Delivering EXCELLENCE  0.0 (0 Review)   \n",
       "35              'Technologies Applied The Better Way'  0.0 (0 Review)   \n",
       "36         Internet powered programming & development  0.0 (0 Review)   \n",
       "37       Data-Driven Marketing Solutions & Consulting  0.0 (0 Review)   \n",
       "38         Go beyond with Advanced Cloud Technologies  0.0 (0 Review)   \n",
       "39   Artificial Intelligence-based Solutions Provider  0.0 (0 Review)   \n",
       "40                                  We speak digital.  0.0 (0 Review)   \n",
       "41                Your Digital Transformation Partner  0.0 (0 Review)   \n",
       "42        Your AI & Machine Learning Business Partner  0.0 (0 Review)   \n",
       "43                   Leading Solutions for Technology  0.0 (0 Review)   \n",
       "44                            Compelling IT Solutions  0.0 (0 Review)   \n",
       "45                                 We solve problems!  0.0 (0 Review)   \n",
       "46   Your Ultimate Partner for Digital Transformation  0.0 (0 Review)   \n",
       "47                               Source of Technology  0.0 (0 Review)   \n",
       "48            Enhancing Value for Our Global Clients   0.0 (0 Review)   \n",
       "49                               Software Development  0.0 (0 Review)   \n",
       "50                        Helping you design success!  0.0 (0 Review)   \n",
       "51  Top Data Mining, Web Crawling services provide...  0.0 (0 Review)   \n",
       "52                       We Do Great Things with .NET  0.0 (0 Review)   \n",
       "53             From business challenge to IT solution  0.0 (0 Review)   \n",
       "\n",
       "   service_pct platform_pct          firm_price firm_employees year_founded  \\\n",
       "0          20%          15%         \\n< $25/hr           2 - 9         2016   \n",
       "1           5%          10%               \\nNA   1,000 - 9,999         1996   \n",
       "2          15%          15%   \\n$100 - $149/hr           2 - 9         2016   \n",
       "3          40%          10%               \\nNA        50 - 249         2015   \n",
       "4          25%          10%     \\n$25 - $49/hr        50 - 249         2007   \n",
       "5          10%          20%     \\n$50 - $99/hr       250 - 999         1998   \n",
       "6          20%          20%         \\n< $25/hr        50 - 249         2011   \n",
       "7          20%          10%               \\nNA           2 - 9         2018   \n",
       "8          90%           5%     \\n$25 - $49/hr           2 - 9         2016   \n",
       "9          30%          20%     \\n$50 - $99/hr           2 - 9         2019   \n",
       "10         10%          25%     \\n$25 - $49/hr   1,000 - 9,999         2005   \n",
       "11         15%           5%     \\n$25 - $49/hr         10 - 49         2016   \n",
       "12         25%          10%     \\n$25 - $49/hr       250 - 999         1977   \n",
       "13         10%          50%    \\n$25 - $49/hr        250 - 999         2012   \n",
       "14         90%           5%               \\nNA        50 - 249         2007   \n",
       "15         10%           5%     \\n$25 - $49/hr        50 - 249         2001   \n",
       "16         10%          10%   \\n$150 - $199/hr         10 - 49         2002   \n",
       "17          5%          20%         \\n< $25/hr         10 - 49         2013   \n",
       "18         10%          50%               \\nNA        50 - 249         2007   \n",
       "19         10%          25%               \\nNA       250 - 999         2009   \n",
       "20         30%          25%     \\n$50 - $99/hr        50 - 249         2017   \n",
       "21         20%          25%     \\n$25 - $49/hr        50 - 249         1991   \n",
       "22         10%          10%     \\n$50 - $99/hr        50 - 249         2008   \n",
       "23         20%          20%     \\n$25 - $49/hr         10 - 49                \n",
       "24         50%          16%               \\nNA           2 - 9         2013   \n",
       "25         30%          30%     \\n$25 - $49/hr         10 - 49         2019   \n",
       "26          5%          25%     \\n$25 - $49/hr        50 - 249         2013   \n",
       "27         20%          10%     \\n$50 - $99/hr        50 - 249         2015   \n",
       "28         30%          30%         \\n< $25/hr         10 - 49         2019   \n",
       "29         20%          10%               \\nNA   1,000 - 9,999         1999   \n",
       "30         10%          15%               \\nNA        50 - 249         2009   \n",
       "31         10%          25%     \\n$25 - $49/hr         10 - 49         2014   \n",
       "32         10%          50%     \\n$25 - $49/hr         10 - 49         2020   \n",
       "33          5%          50%     \\n$25 - $49/hr        50 - 249         2010   \n",
       "34         10%          10%     \\n$25 - $49/hr         10 - 49         2014   \n",
       "35          5%          50%               \\nNA         10 - 49         2009   \n",
       "36          5%          50%         \\n< $25/hr           2 - 9         2017   \n",
       "37         10%          10%  \\n$150 - $199/hr          10 - 49         2019   \n",
       "38          5%          20%     \\n$25 - $49/hr         10 - 49         2021   \n",
       "39         20%          20%     \\n$50 - $99/hr           2 - 9         2018   \n",
       "40         10%          20%     \\n$50 - $99/hr        50 - 249         2003   \n",
       "41         10%          30%    \\n$25 - $49/hr        250 - 999         2010   \n",
       "42          5%          25%   \\n$150 - $199/hr           2 - 9                \n",
       "43         10%          20%     \\n$50 - $99/hr           2 - 9         2015   \n",
       "44          5%          25%               \\nNA        50 - 249         2012   \n",
       "45          5%          50%   \\n$200 - $300/hr      Freelancer         2009   \n",
       "46          5%         100%     \\n$25 - $49/hr        50 - 249         2010   \n",
       "47         20%          20%     \\n$25 - $49/hr         10 - 49         2018   \n",
       "48         10%          50%     \\n$25 - $49/hr         10 - 49         2015   \n",
       "49         10%          50%   \\n$100 - $149/hr           2 - 9         2020   \n",
       "50         10%          10%         \\n< $25/hr           2 - 9         2019   \n",
       "51         20%         100%         \\n< $25/hr         10 - 49         2013   \n",
       "52         20%          20%     \\n$25 - $49/hr        50 - 249         2015   \n",
       "53         10%          30%     \\n$25 - $49/hr         10 - 49         2017   \n",
       "\n",
       "                       firm_location  \n",
       "0                           \\nIndia   \n",
       "1            \\nUnited States, India   \n",
       "2                  \\nUnited Kingdom   \n",
       "3                           \\nChina   \n",
       "4          \\nUkraine, United States   \n",
       "5        \\nCzech Republic, Slovakia   \n",
       "6                           \\nIndia   \n",
       "7                \\nChina, Australia   \n",
       "8                           \\nKenya   \n",
       "9                  \\nUnited Kingdom   \n",
       "10           \\nUnited States, India   \n",
       "11           \\nUnited Arab Emirates   \n",
       "12                       \\nColombia   \n",
       "13                          \\nIndia   \n",
       "14                    \\nOman, Egypt   \n",
       "15                          \\nIndia   \n",
       "16                 \\nUnited Kingdom   \n",
       "17                          \\nIndia   \n",
       "18       \\nAustralia, United States   \n",
       "19     \\nUnited States, Netherlands   \n",
       "20                   \\nSaudi Arabia   \n",
       "21                        \\nRomania   \n",
       "22           \\nIndia, United States   \n",
       "23                          \\nIndia   \n",
       "24         \\nUnited States, Ukraine   \n",
       "25                          \\nIndia   \n",
       "26                        \\nVietnam   \n",
       "27                          \\nIndia   \n",
       "28                          \\nIndia   \n",
       "29  \\nUnited States, United Kingdom   \n",
       "30                  \\nUnited States   \n",
       "31                 \\nUnited Kingdom   \n",
       "32                         \\nPoland   \n",
       "33                  \\nUnited States   \n",
       "34                          \\nIndia   \n",
       "35    \\nIndia, United Arab Emirates   \n",
       "36                          \\nIndia   \n",
       "37                  \\nUnited States   \n",
       "38                        \\nArmenia   \n",
       "39                          \\nIndia   \n",
       "40         \\nUnited States, Uruguay   \n",
       "41           \\nUnited States, India   \n",
       "42                  \\nUnited States   \n",
       "43                      \\nIndonesia   \n",
       "44                  \\nUnited States   \n",
       "45                  \\nUnited States   \n",
       "46                  \\nUnited States   \n",
       "47                          \\nIndia   \n",
       "48                  \\nIndia, Canada   \n",
       "49                  \\nUnited States   \n",
       "50                          \\nIndia   \n",
       "51                          \\nIndia   \n",
       "52                        \\nUkraine   \n",
       "53                      \\nLithuania   "
      ]
     },
     "execution_count": 27,
     "metadata": {},
     "output_type": "execute_result"
    }
   ],
   "source": [
    "df4 "
   ]
  },
  {
   "cell_type": "code",
   "execution_count": null,
   "id": "52c7e990",
   "metadata": {},
   "outputs": [],
   "source": []
  },
  {
   "cell_type": "code",
   "execution_count": null,
   "id": "844cc04d",
   "metadata": {},
   "outputs": [],
   "source": []
  },
  {
   "cell_type": "markdown",
   "id": "8e556d62",
   "metadata": {},
   "source": [
    "PAGE 5"
   ]
  },
  {
   "cell_type": "code",
   "execution_count": 28,
   "id": "59fec8a1",
   "metadata": {},
   "outputs": [],
   "source": [
    "with open(\"page5.html\", encoding='utf-8', mode='r') as file:\n",
    "    bs5 = BeautifulSoup(file, 'lxml')"
   ]
  },
  {
   "cell_type": "markdown",
   "id": "08678f1e",
   "metadata": {},
   "source": [
    "LOCATING DETAILS"
   ]
  },
  {
   "cell_type": "code",
   "execution_count": 29,
   "id": "33c5bb23",
   "metadata": {},
   "outputs": [],
   "source": [
    "firm_name = bs5.find_all('span', {'itemprop': 'name'})\n",
    "firm_motor = bs5.find_all('p', {'class': 'profile-tagline'})\n",
    "firm_reviews = bs5.find_all('span', {'class': 'listinv_review_label'})\n",
    "progress_value = bs5.find_all('div', {'class': 'circle-progress-value'})\n",
    "firm_price = bs5.find_all('div', {'class': 'firm-pricing'})\n",
    "firm_employees = bs5.find_all('div', {'class': 'firm-employees'})\n",
    "year_founded = bs5.find_all('div', {'class': 'firm-founded'})\n",
    "firm_location = bs5.find_all('div', {'class': 'firm-location'})"
   ]
  },
  {
   "cell_type": "markdown",
   "id": "d4c883c1",
   "metadata": {},
   "source": [
    "EXTRACTING DETAILS"
   ]
  },
  {
   "cell_type": "code",
   "execution_count": 30,
   "id": "08fa3a45",
   "metadata": {},
   "outputs": [],
   "source": [
    "name5 = extract_detail(firm_name[3:])\n",
    "motor5 = extract_detail(firm_motor)\n",
    "reviews5 = extract_detail(firm_reviews)\n",
    "service5, platform5 = extract_progress_values(progress_value)\n",
    "price5 = extract_detail(firm_price)\n",
    "employees5 = extract_detail(firm_employees)\n",
    "year5 = extract_detail(year_founded)\n",
    "location5 = extract_detail(firm_location) "
   ]
  },
  {
   "cell_type": "markdown",
   "id": "2b35fa96",
   "metadata": {},
   "source": [
    "PUTTING DETAILS IN A DATAFRAME"
   ]
  },
  {
   "cell_type": "code",
   "execution_count": 31,
   "id": "4abdcf09",
   "metadata": {},
   "outputs": [],
   "source": [
    "df5 = pd.DataFrame() "
   ]
  },
  {
   "cell_type": "code",
   "execution_count": 32,
   "id": "071471f9",
   "metadata": {},
   "outputs": [],
   "source": [
    "df5['firm_name'] = name5\n",
    "df5['firm_motor'] = motor5\n",
    "df5['firm_reviews'] = reviews5\n",
    "df5['service_pct'] = service\n",
    "df5['platform_pct'] = platform\n",
    "df5['firm_price'] = price5\n",
    "df5['firm_employees'] = employees5\n",
    "df5['year_founded'] = year5\n",
    "df5['firm_location'] = location5 "
   ]
  },
  {
   "cell_type": "code",
   "execution_count": 33,
   "id": "45c4c78a",
   "metadata": {},
   "outputs": [
    {
     "data": {
      "text/html": [
       "<div>\n",
       "<style scoped>\n",
       "    .dataframe tbody tr th:only-of-type {\n",
       "        vertical-align: middle;\n",
       "    }\n",
       "\n",
       "    .dataframe tbody tr th {\n",
       "        vertical-align: top;\n",
       "    }\n",
       "\n",
       "    .dataframe thead th {\n",
       "        text-align: right;\n",
       "    }\n",
       "</style>\n",
       "<table border=\"1\" class=\"dataframe\">\n",
       "  <thead>\n",
       "    <tr style=\"text-align: right;\">\n",
       "      <th></th>\n",
       "      <th>firm_name</th>\n",
       "      <th>firm_motor</th>\n",
       "      <th>firm_reviews</th>\n",
       "      <th>service_pct</th>\n",
       "      <th>platform_pct</th>\n",
       "      <th>firm_price</th>\n",
       "      <th>firm_employees</th>\n",
       "      <th>year_founded</th>\n",
       "      <th>firm_location</th>\n",
       "    </tr>\n",
       "  </thead>\n",
       "  <tbody>\n",
       "    <tr>\n",
       "      <th>0</th>\n",
       "      <td>Indicium Tech</td>\n",
       "      <td>Data Science as a Service</td>\n",
       "      <td>5.0 (6 Reviews)</td>\n",
       "      <td>20%</td>\n",
       "      <td>15%</td>\n",
       "      <td>\\n$25 - $49/hr</td>\n",
       "      <td>10 - 49</td>\n",
       "      <td>2017</td>\n",
       "      <td>\\nBrazil</td>\n",
       "    </tr>\n",
       "    <tr>\n",
       "      <th>1</th>\n",
       "      <td>Analytics8</td>\n",
       "      <td>Data and Analytics. It's what we do.</td>\n",
       "      <td>5.0 (5 Reviews)</td>\n",
       "      <td>5%</td>\n",
       "      <td>10%</td>\n",
       "      <td>\\n$25 - $49/hr</td>\n",
       "      <td>10 - 49</td>\n",
       "      <td></td>\n",
       "      <td>\\nUnited States</td>\n",
       "    </tr>\n",
       "    <tr>\n",
       "      <th>2</th>\n",
       "      <td>Quilytics</td>\n",
       "      <td>Your Data Our Analytics</td>\n",
       "      <td>5.0 (4 Reviews)</td>\n",
       "      <td>15%</td>\n",
       "      <td>15%</td>\n",
       "      <td>\\n$50 - $99/hr</td>\n",
       "      <td>2 - 9</td>\n",
       "      <td>2020</td>\n",
       "      <td>\\nUnited States</td>\n",
       "    </tr>\n",
       "    <tr>\n",
       "      <th>3</th>\n",
       "      <td>Forte Group</td>\n",
       "      <td>Your full-spectrum software delivery partner</td>\n",
       "      <td>5.0 (8 Reviews)</td>\n",
       "      <td>40%</td>\n",
       "      <td>10%</td>\n",
       "      <td>\\n$50 - $99/hr</td>\n",
       "      <td>250 - 999</td>\n",
       "      <td>2000</td>\n",
       "      <td>\\nUnited States, Ukraine</td>\n",
       "    </tr>\n",
       "    <tr>\n",
       "      <th>4</th>\n",
       "      <td>Zoomdata</td>\n",
       "      <td>The Fastest Visual Analytics for Big Data</td>\n",
       "      <td>5.0 (1 Review)</td>\n",
       "      <td>25%</td>\n",
       "      <td>10%</td>\n",
       "      <td>\\n$100 - $149/hr</td>\n",
       "      <td>50 - 249</td>\n",
       "      <td>2012</td>\n",
       "      <td>\\nUnited States, Singapore</td>\n",
       "    </tr>\n",
       "    <tr>\n",
       "      <th>5</th>\n",
       "      <td>Enlightenment.ai</td>\n",
       "      <td>Optimize your processes using data and AI</td>\n",
       "      <td>5.0 (2 Reviews)</td>\n",
       "      <td>10%</td>\n",
       "      <td>20%</td>\n",
       "      <td>\\n$200 - $300/hr</td>\n",
       "      <td>2 - 9</td>\n",
       "      <td>2018</td>\n",
       "      <td>\\nPortugal</td>\n",
       "    </tr>\n",
       "    <tr>\n",
       "      <th>6</th>\n",
       "      <td>QBurst</td>\n",
       "      <td>Technology Leveraged for Your Business</td>\n",
       "      <td>4.9 (4 Reviews)</td>\n",
       "      <td>20%</td>\n",
       "      <td>20%</td>\n",
       "      <td>\\n$25 - $49/hr</td>\n",
       "      <td>250 - 999</td>\n",
       "      <td>2004</td>\n",
       "      <td>\\nIndia, United States</td>\n",
       "    </tr>\n",
       "    <tr>\n",
       "      <th>7</th>\n",
       "      <td>Qlik</td>\n",
       "      <td>Faster answers. More insights. Better outcomes</td>\n",
       "      <td>5.0 (1 Review)</td>\n",
       "      <td>20%</td>\n",
       "      <td>10%</td>\n",
       "      <td>\\n$100 - $149/hr</td>\n",
       "      <td>1,000 - 9,999</td>\n",
       "      <td>1993</td>\n",
       "      <td>\\nUnited States</td>\n",
       "    </tr>\n",
       "    <tr>\n",
       "      <th>8</th>\n",
       "      <td>CBIG Consulting</td>\n",
       "      <td>Have a conversation with your data.</td>\n",
       "      <td>5.0 (1 Review)</td>\n",
       "      <td>90%</td>\n",
       "      <td>5%</td>\n",
       "      <td>\\n$100 - $149/hr</td>\n",
       "      <td>50 - 249</td>\n",
       "      <td>2002</td>\n",
       "      <td>\\nUnited States</td>\n",
       "    </tr>\n",
       "    <tr>\n",
       "      <th>9</th>\n",
       "      <td>Dimensional Insight</td>\n",
       "      <td>Analytics tools built on Diver Platform</td>\n",
       "      <td>5.0 (1 Review)</td>\n",
       "      <td>30%</td>\n",
       "      <td>20%</td>\n",
       "      <td>\\n$100 - $149/hr</td>\n",
       "      <td>50 - 249</td>\n",
       "      <td>1989</td>\n",
       "      <td>\\nUnited States, Germany</td>\n",
       "    </tr>\n",
       "    <tr>\n",
       "      <th>10</th>\n",
       "      <td>AIMLEAP - Outsource Bigdata</td>\n",
       "      <td>Data engineering and automation service provider</td>\n",
       "      <td>5.0 (1 Review)</td>\n",
       "      <td>10%</td>\n",
       "      <td>25%</td>\n",
       "      <td>\\n&lt; $25/hr</td>\n",
       "      <td>50 - 249</td>\n",
       "      <td>2012</td>\n",
       "      <td>\\nUnited States</td>\n",
       "    </tr>\n",
       "    <tr>\n",
       "      <th>11</th>\n",
       "      <td>LatentView Analytics</td>\n",
       "      <td>Forging Digital Transformation through Analytics.</td>\n",
       "      <td>5.0 (1 Review)</td>\n",
       "      <td>15%</td>\n",
       "      <td>5%</td>\n",
       "      <td>\\n$100 - $149/hr</td>\n",
       "      <td>250 - 999</td>\n",
       "      <td>2006</td>\n",
       "      <td>\\nUnited States</td>\n",
       "    </tr>\n",
       "    <tr>\n",
       "      <th>12</th>\n",
       "      <td>deltAlyz Corp.</td>\n",
       "      <td>Let's make your digital transformation a success!</td>\n",
       "      <td>5.0 (1 Review)</td>\n",
       "      <td>25%</td>\n",
       "      <td>10%</td>\n",
       "      <td>\\n$50 - $99/hr</td>\n",
       "      <td>2 - 9</td>\n",
       "      <td>2019</td>\n",
       "      <td>\\nCanada</td>\n",
       "    </tr>\n",
       "    <tr>\n",
       "      <th>13</th>\n",
       "      <td>BIOS. Power BI development</td>\n",
       "      <td>Power BI. We make your Data easy to understand</td>\n",
       "      <td>5.0 (1 Review)</td>\n",
       "      <td>10%</td>\n",
       "      <td>50%</td>\n",
       "      <td>\\n&lt; $25/hr</td>\n",
       "      <td>10 - 49</td>\n",
       "      <td>2016</td>\n",
       "      <td>\\nUkraine</td>\n",
       "    </tr>\n",
       "    <tr>\n",
       "      <th>14</th>\n",
       "      <td>Dataeaze</td>\n",
       "      <td>Making it work with Data</td>\n",
       "      <td>5.0 (1 Review)</td>\n",
       "      <td>90%</td>\n",
       "      <td>5%</td>\n",
       "      <td>\\nNA</td>\n",
       "      <td>10 - 49</td>\n",
       "      <td>2015</td>\n",
       "      <td>\\nIndia</td>\n",
       "    </tr>\n",
       "    <tr>\n",
       "      <th>15</th>\n",
       "      <td>DECE Software</td>\n",
       "      <td>AI, big data, ecm, insight engine, search engine</td>\n",
       "      <td>5.0 (1 Review)</td>\n",
       "      <td>10%</td>\n",
       "      <td>5%</td>\n",
       "      <td>\\nNA</td>\n",
       "      <td>10 - 49</td>\n",
       "      <td>2015</td>\n",
       "      <td>\\nTurkey</td>\n",
       "    </tr>\n",
       "    <tr>\n",
       "      <th>16</th>\n",
       "      <td>KERNELBAY LIMITED</td>\n",
       "      <td>HUMAN BEHAVIOR AUGMENTED ANALYTICS</td>\n",
       "      <td>5.0 (2 Reviews)</td>\n",
       "      <td>10%</td>\n",
       "      <td>10%</td>\n",
       "      <td>\\nNA</td>\n",
       "      <td>2 - 9</td>\n",
       "      <td>2021</td>\n",
       "      <td>\\nCyprus</td>\n",
       "    </tr>\n",
       "    <tr>\n",
       "      <th>17</th>\n",
       "      <td>Ample Insight</td>\n",
       "      <td>Helping you scale with data</td>\n",
       "      <td>5.0 (1 Review)</td>\n",
       "      <td>5%</td>\n",
       "      <td>20%</td>\n",
       "      <td>\\n $25 - $49/hr</td>\n",
       "      <td>10 - 49</td>\n",
       "      <td>2018</td>\n",
       "      <td>\\nCanada</td>\n",
       "    </tr>\n",
       "    <tr>\n",
       "      <th>18</th>\n",
       "      <td>Polestar Solutions</td>\n",
       "      <td>Digital Transformation Partner for Enterprises</td>\n",
       "      <td>5.0 (1 Review)</td>\n",
       "      <td>10%</td>\n",
       "      <td>50%</td>\n",
       "      <td>\\n$25 - $49/hr</td>\n",
       "      <td>50 - 249</td>\n",
       "      <td>2012</td>\n",
       "      <td>\\nIndia, United States</td>\n",
       "    </tr>\n",
       "    <tr>\n",
       "      <th>19</th>\n",
       "      <td>InstaCloud Solutions LLP</td>\n",
       "      <td>A Cloud Engineering company</td>\n",
       "      <td>5.0 (2 Reviews)</td>\n",
       "      <td>10%</td>\n",
       "      <td>25%</td>\n",
       "      <td>\\n&lt; $25/hr</td>\n",
       "      <td>10 - 49</td>\n",
       "      <td>2020</td>\n",
       "      <td>\\nIndia</td>\n",
       "    </tr>\n",
       "    <tr>\n",
       "      <th>20</th>\n",
       "      <td>CYBERTREND</td>\n",
       "      <td>Business Intelligence &amp; Big Data Solution</td>\n",
       "      <td>5.0 (1 Review)</td>\n",
       "      <td>30%</td>\n",
       "      <td>25%</td>\n",
       "      <td>\\n$100 - $149/hr</td>\n",
       "      <td>50 - 249</td>\n",
       "      <td>2009</td>\n",
       "      <td>\\nIndonesia</td>\n",
       "    </tr>\n",
       "    <tr>\n",
       "      <th>21</th>\n",
       "      <td>Kanerika Inc.</td>\n",
       "      <td>Crafting Efficient Enterprises</td>\n",
       "      <td>5.0 (2 Reviews)</td>\n",
       "      <td>20%</td>\n",
       "      <td>25%</td>\n",
       "      <td>\\n$50 - $99/hr</td>\n",
       "      <td>50 - 249</td>\n",
       "      <td>2015</td>\n",
       "      <td>\\nUnited States</td>\n",
       "    </tr>\n",
       "    <tr>\n",
       "      <th>22</th>\n",
       "      <td>FACTS Computer Software House LLC</td>\n",
       "      <td>Best ERP Software in Dubai, UAE.</td>\n",
       "      <td>5.0 (1 Review)</td>\n",
       "      <td>10%</td>\n",
       "      <td>10%</td>\n",
       "      <td>\\nNA</td>\n",
       "      <td>50 - 249</td>\n",
       "      <td>2002</td>\n",
       "      <td>\\nUnited Arab Emirates</td>\n",
       "    </tr>\n",
       "    <tr>\n",
       "      <th>23</th>\n",
       "      <td>Pearl Data Firm</td>\n",
       "      <td>We are a data consulting firm based in Uganda.</td>\n",
       "      <td>5.0 (1 Review)</td>\n",
       "      <td>20%</td>\n",
       "      <td>20%</td>\n",
       "      <td>\\n&lt; $25/hr</td>\n",
       "      <td>10 - 49</td>\n",
       "      <td>2020</td>\n",
       "      <td>\\nUganda</td>\n",
       "    </tr>\n",
       "    <tr>\n",
       "      <th>24</th>\n",
       "      <td>Valiance Solutions</td>\n",
       "      <td>Driving Business Excellence Using AI &amp; ML</td>\n",
       "      <td>5.0 (1 Review)</td>\n",
       "      <td>50%</td>\n",
       "      <td>16%</td>\n",
       "      <td>\\n$100 - $149/hr</td>\n",
       "      <td>10 - 49</td>\n",
       "      <td>2012</td>\n",
       "      <td>\\nUnited States, India</td>\n",
       "    </tr>\n",
       "    <tr>\n",
       "      <th>25</th>\n",
       "      <td>Ideas2IT Technologies</td>\n",
       "      <td>Let's Innovate</td>\n",
       "      <td>5.0 (2 Reviews)</td>\n",
       "      <td>30%</td>\n",
       "      <td>30%</td>\n",
       "      <td>\\n$25 - $49/hr</td>\n",
       "      <td>250 - 999</td>\n",
       "      <td>2009</td>\n",
       "      <td>\\nUnited States, India</td>\n",
       "    </tr>\n",
       "    <tr>\n",
       "      <th>26</th>\n",
       "      <td>Bigdatamatica Solutions Private Limited</td>\n",
       "      <td>We love data insights</td>\n",
       "      <td>5.0 (1 Review)</td>\n",
       "      <td>5%</td>\n",
       "      <td>25%</td>\n",
       "      <td>\\nNA</td>\n",
       "      <td>10 - 49</td>\n",
       "      <td>2017</td>\n",
       "      <td>\\nIndia</td>\n",
       "    </tr>\n",
       "    <tr>\n",
       "      <th>27</th>\n",
       "      <td>Leading Edge Business Solutions (Pty) Ltd</td>\n",
       "      <td>We solve problems no-one else can</td>\n",
       "      <td>5.0 (1 Review)</td>\n",
       "      <td>20%</td>\n",
       "      <td>10%</td>\n",
       "      <td>\\n$50 - $99/hr</td>\n",
       "      <td>10 - 49</td>\n",
       "      <td>1999</td>\n",
       "      <td>\\nSouth Africa</td>\n",
       "    </tr>\n",
       "    <tr>\n",
       "      <th>28</th>\n",
       "      <td>Iridian</td>\n",
       "      <td>Technology</td>\n",
       "      <td>5.0 (2 Reviews)</td>\n",
       "      <td>30%</td>\n",
       "      <td>30%</td>\n",
       "      <td>\\nNA</td>\n",
       "      <td>50 - 249</td>\n",
       "      <td>2011</td>\n",
       "      <td>\\nUnited States</td>\n",
       "    </tr>\n",
       "    <tr>\n",
       "      <th>29</th>\n",
       "      <td>Ndimensionz solutions</td>\n",
       "      <td>Build Operate Transfer - One point source IT</td>\n",
       "      <td>5.0 (1 Review)</td>\n",
       "      <td>20%</td>\n",
       "      <td>10%</td>\n",
       "      <td>\\nNA</td>\n",
       "      <td>250 - 999</td>\n",
       "      <td>2007</td>\n",
       "      <td>\\nIndia, United States</td>\n",
       "    </tr>\n",
       "    <tr>\n",
       "      <th>30</th>\n",
       "      <td>INVENTALE FZ LLC</td>\n",
       "      <td>Unique Machine Learning and AI-Based Projects</td>\n",
       "      <td>5.0 (1 Review)</td>\n",
       "      <td>10%</td>\n",
       "      <td>15%</td>\n",
       "      <td>\\nNA</td>\n",
       "      <td>10 - 49</td>\n",
       "      <td>2015</td>\n",
       "      <td>\\nUnited Arab Emirates</td>\n",
       "    </tr>\n",
       "    <tr>\n",
       "      <th>31</th>\n",
       "      <td>Adimen</td>\n",
       "      <td>Manage Your Business Data for Value</td>\n",
       "      <td>5.0 (1 Review)</td>\n",
       "      <td>10%</td>\n",
       "      <td>25%</td>\n",
       "      <td>\\n$25 - $49/hr</td>\n",
       "      <td>10 - 49</td>\n",
       "      <td>2018</td>\n",
       "      <td>\\n Ukraine</td>\n",
       "    </tr>\n",
       "    <tr>\n",
       "      <th>32</th>\n",
       "      <td>Innover Digital</td>\n",
       "      <td>Let's Solve a Problem</td>\n",
       "      <td>5.0 (1 Review)</td>\n",
       "      <td>10%</td>\n",
       "      <td>50%</td>\n",
       "      <td>\\nNA</td>\n",
       "      <td>250 - 999</td>\n",
       "      <td></td>\n",
       "      <td>\\nUnited States</td>\n",
       "    </tr>\n",
       "    <tr>\n",
       "      <th>33</th>\n",
       "      <td>Impetus</td>\n",
       "      <td>Delivering on the Promise of Big Data.</td>\n",
       "      <td>4.8 (1 Review)</td>\n",
       "      <td>5%</td>\n",
       "      <td>50%</td>\n",
       "      <td>\\n$100 - $149/hr</td>\n",
       "      <td>1,000 - 9,999</td>\n",
       "      <td>1991</td>\n",
       "      <td>\\n United States</td>\n",
       "    </tr>\n",
       "    <tr>\n",
       "      <th>34</th>\n",
       "      <td>EnterpriseWorx</td>\n",
       "      <td>Data-to-Decisions</td>\n",
       "      <td>4.8 (1 Review)</td>\n",
       "      <td>10%</td>\n",
       "      <td>10%</td>\n",
       "      <td>\\n$50 - $99/hr</td>\n",
       "      <td>10 - 49</td>\n",
       "      <td>2003</td>\n",
       "      <td>\\nSouth Africa, United Kingdom</td>\n",
       "    </tr>\n",
       "    <tr>\n",
       "      <th>35</th>\n",
       "      <td>Beyond Analysis</td>\n",
       "      <td>Putting data to work​.</td>\n",
       "      <td>4.4 (1 Review)</td>\n",
       "      <td>5%</td>\n",
       "      <td>50%</td>\n",
       "      <td>\\n$100 - $149/hr</td>\n",
       "      <td>50 - 249</td>\n",
       "      <td>2000</td>\n",
       "      <td>\\nUnited Kingdom</td>\n",
       "    </tr>\n",
       "    <tr>\n",
       "      <th>36</th>\n",
       "      <td>Agilisium Consulting</td>\n",
       "      <td>We help organization take the Data to Insight ...</td>\n",
       "      <td>4.4 (1 Review)</td>\n",
       "      <td>5%</td>\n",
       "      <td>50%</td>\n",
       "      <td>\\n$100 - $149/hr</td>\n",
       "      <td>50 - 249</td>\n",
       "      <td>2013</td>\n",
       "      <td>\\nUnited States</td>\n",
       "    </tr>\n",
       "    <tr>\n",
       "      <th>37</th>\n",
       "      <td>Allerin Tech</td>\n",
       "      <td>Technology for innovative enterprises.​</td>\n",
       "      <td>4.5 (1 Review)</td>\n",
       "      <td>10%</td>\n",
       "      <td>10%</td>\n",
       "      <td>\\n$100 - $149/hr</td>\n",
       "      <td>250 - 999</td>\n",
       "      <td>2004</td>\n",
       "      <td>\\nUnited States, India</td>\n",
       "    </tr>\n",
       "    <tr>\n",
       "      <th>38</th>\n",
       "      <td>Beards analytics</td>\n",
       "      <td>Marketing/product analytics based on Google Cloud</td>\n",
       "      <td>4.8 (1 Review)</td>\n",
       "      <td>5%</td>\n",
       "      <td>20%</td>\n",
       "      <td>\\nNA</td>\n",
       "      <td>2 - 9</td>\n",
       "      <td>2020</td>\n",
       "      <td>\\nUkraine</td>\n",
       "    </tr>\n",
       "    <tr>\n",
       "      <th>39</th>\n",
       "      <td>Vitwit</td>\n",
       "      <td>Dream Define Establish</td>\n",
       "      <td>4.8 (3 Reviews)</td>\n",
       "      <td>20%</td>\n",
       "      <td>20%</td>\n",
       "      <td>\\n&lt; $25/hr</td>\n",
       "      <td>10 - 49</td>\n",
       "      <td>2015</td>\n",
       "      <td>\\nIndia</td>\n",
       "    </tr>\n",
       "    <tr>\n",
       "      <th>40</th>\n",
       "      <td>Phocas Software</td>\n",
       "      <td>Got Data. Get Results</td>\n",
       "      <td>4.4 (1 Review)</td>\n",
       "      <td>10%</td>\n",
       "      <td>20%</td>\n",
       "      <td>\\n$50 - $99/hr</td>\n",
       "      <td>50 - 249</td>\n",
       "      <td>1999</td>\n",
       "      <td>\\nUnited Kingdom, United States</td>\n",
       "    </tr>\n",
       "    <tr>\n",
       "      <th>41</th>\n",
       "      <td>uData</td>\n",
       "      <td>We provide projects in Data Science, AI and ML</td>\n",
       "      <td>4.5 (1 Review)</td>\n",
       "      <td>10%</td>\n",
       "      <td>30%</td>\n",
       "      <td>\\n$25 - $49/hr</td>\n",
       "      <td>10 - 49</td>\n",
       "      <td>2018</td>\n",
       "      <td>\\nAustralia</td>\n",
       "    </tr>\n",
       "    <tr>\n",
       "      <th>42</th>\n",
       "      <td>Sisense</td>\n",
       "      <td>Answer the tough questions, Faster.</td>\n",
       "      <td>4.0 (1 Review)</td>\n",
       "      <td>5%</td>\n",
       "      <td>25%</td>\n",
       "      <td>\\n$100 - $149/hr</td>\n",
       "      <td>50 - 249</td>\n",
       "      <td>2012</td>\n",
       "      <td>\\nUnited States</td>\n",
       "    </tr>\n",
       "    <tr>\n",
       "      <th>43</th>\n",
       "      <td>Oxagile</td>\n",
       "      <td>Next Gen OTT Solutions Partner</td>\n",
       "      <td>3.7 (3 Reviews)</td>\n",
       "      <td>10%</td>\n",
       "      <td>20%</td>\n",
       "      <td>\\n$50 - $99/hr</td>\n",
       "      <td>250 - 999</td>\n",
       "      <td>2005</td>\n",
       "      <td>\\nUnited States, Poland</td>\n",
       "    </tr>\n",
       "    <tr>\n",
       "      <th>44</th>\n",
       "      <td>Cyber Infrastructure Inc.</td>\n",
       "      <td>On mission to Enhance lives of Billions of users!</td>\n",
       "      <td>4.9 (42 Reviews)</td>\n",
       "      <td>5%</td>\n",
       "      <td>25%</td>\n",
       "      <td>\\n$25 - $49/hr</td>\n",
       "      <td>1,000 - 9,999</td>\n",
       "      <td>2003</td>\n",
       "      <td>\\nUnited States, United Arab Emirates</td>\n",
       "    </tr>\n",
       "    <tr>\n",
       "      <th>45</th>\n",
       "      <td>Appinventiv Technologies</td>\n",
       "      <td>Top Mobile App Development Firm</td>\n",
       "      <td>4.7 (24 Reviews)</td>\n",
       "      <td>5%</td>\n",
       "      <td>50%</td>\n",
       "      <td>\\n$25 - $49/hr</td>\n",
       "      <td>1,000 - 9,999</td>\n",
       "      <td>2015</td>\n",
       "      <td>\\nIndia, United States</td>\n",
       "    </tr>\n",
       "    <tr>\n",
       "      <th>46</th>\n",
       "      <td>Light IT</td>\n",
       "      <td>Deep tech expertise for Startups and Enterprises</td>\n",
       "      <td>4.8 (19 Reviews)</td>\n",
       "      <td>5%</td>\n",
       "      <td>100%</td>\n",
       "      <td>\\n$25 - $49/hr</td>\n",
       "      <td>50 - 249</td>\n",
       "      <td>2006</td>\n",
       "      <td>\\nUkraine</td>\n",
       "    </tr>\n",
       "    <tr>\n",
       "      <th>47</th>\n",
       "      <td>Saritasa</td>\n",
       "      <td>Empowering Clients with Technology</td>\n",
       "      <td>5.0 (13 Reviews)</td>\n",
       "      <td>20%</td>\n",
       "      <td>20%</td>\n",
       "      <td>\\n$100 - $149/hr</td>\n",
       "      <td>50 - 249</td>\n",
       "      <td>2005</td>\n",
       "      <td>\\nUnited States</td>\n",
       "    </tr>\n",
       "    <tr>\n",
       "      <th>48</th>\n",
       "      <td>Zco Corporation</td>\n",
       "      <td>A Versatile Custom Software Developer</td>\n",
       "      <td>5.0 (14 Reviews)</td>\n",
       "      <td>10%</td>\n",
       "      <td>50%</td>\n",
       "      <td>\\n$25 - $49/hr</td>\n",
       "      <td>250 - 999</td>\n",
       "      <td>1989</td>\n",
       "      <td>\\nUnited States</td>\n",
       "    </tr>\n",
       "    <tr>\n",
       "      <th>49</th>\n",
       "      <td>Quant Coding</td>\n",
       "      <td>To boldly do what not everyone can!</td>\n",
       "      <td>1.0 (1 Review)</td>\n",
       "      <td>10%</td>\n",
       "      <td>50%</td>\n",
       "      <td>\\n$25 - $49/hr</td>\n",
       "      <td>2 - 9</td>\n",
       "      <td>2020</td>\n",
       "      <td>\\nMacedonia</td>\n",
       "    </tr>\n",
       "    <tr>\n",
       "      <th>50</th>\n",
       "      <td>Unicoconnect</td>\n",
       "      <td>Your Tech Solutions Partner</td>\n",
       "      <td>4.9 (11 Reviews)</td>\n",
       "      <td>10%</td>\n",
       "      <td>10%</td>\n",
       "      <td>\\n&lt; $25/hr</td>\n",
       "      <td>10 - 49</td>\n",
       "      <td>2016</td>\n",
       "      <td>\\nIndia</td>\n",
       "    </tr>\n",
       "    <tr>\n",
       "      <th>51</th>\n",
       "      <td>Dash Technologies</td>\n",
       "      <td>Web &amp; Mobile App Development Company, USA</td>\n",
       "      <td>4.8 (11 Reviews)</td>\n",
       "      <td>20%</td>\n",
       "      <td>100%</td>\n",
       "      <td>\\n$50 - $99/hr</td>\n",
       "      <td>50 - 249</td>\n",
       "      <td>2010</td>\n",
       "      <td>\\nUnited States</td>\n",
       "    </tr>\n",
       "    <tr>\n",
       "      <th>52</th>\n",
       "      <td>Gzeez Tech Design and Software Development Com...</td>\n",
       "      <td>Top Software development companies</td>\n",
       "      <td>5.0 (6 Reviews)</td>\n",
       "      <td>20%</td>\n",
       "      <td>20%</td>\n",
       "      <td>\\n$25 - $49/hr</td>\n",
       "      <td>50 - 249</td>\n",
       "      <td>2011</td>\n",
       "      <td>\\nUnited Arab Emirates</td>\n",
       "    </tr>\n",
       "    <tr>\n",
       "      <th>53</th>\n",
       "      <td>Webskitters Technology Solutions Pvt Ltd</td>\n",
       "      <td>Leading Mobile App Development Company</td>\n",
       "      <td>5.0 (8 Reviews)</td>\n",
       "      <td>10%</td>\n",
       "      <td>30%</td>\n",
       "      <td>\\n$25 - $49/hr</td>\n",
       "      <td>250 - 999</td>\n",
       "      <td>2010</td>\n",
       "      <td>\\nUnited States, India</td>\n",
       "    </tr>\n",
       "  </tbody>\n",
       "</table>\n",
       "</div>"
      ],
      "text/plain": [
       "                                            firm_name  \\\n",
       "0                                       Indicium Tech   \n",
       "1                                          Analytics8   \n",
       "2                                          Quilytics    \n",
       "3                                         Forte Group   \n",
       "4                                            Zoomdata   \n",
       "5                                    Enlightenment.ai   \n",
       "6                                              QBurst   \n",
       "7                                                Qlik   \n",
       "8                                     CBIG Consulting   \n",
       "9                                 Dimensional Insight   \n",
       "10                        AIMLEAP - Outsource Bigdata   \n",
       "11                               LatentView Analytics   \n",
       "12                                     deltAlyz Corp.   \n",
       "13                         BIOS. Power BI development   \n",
       "14                                           Dataeaze   \n",
       "15                                      DECE Software   \n",
       "16                                  KERNELBAY LIMITED   \n",
       "17                                      Ample Insight   \n",
       "18                                 Polestar Solutions   \n",
       "19                           InstaCloud Solutions LLP   \n",
       "20                                         CYBERTREND   \n",
       "21                                      Kanerika Inc.   \n",
       "22                  FACTS Computer Software House LLC   \n",
       "23                                    Pearl Data Firm   \n",
       "24                                 Valiance Solutions   \n",
       "25                              Ideas2IT Technologies   \n",
       "26            Bigdatamatica Solutions Private Limited   \n",
       "27          Leading Edge Business Solutions (Pty) Ltd   \n",
       "28                                            Iridian   \n",
       "29                              Ndimensionz solutions   \n",
       "30                                   INVENTALE FZ LLC   \n",
       "31                                             Adimen   \n",
       "32                                    Innover Digital   \n",
       "33                                            Impetus   \n",
       "34                                     EnterpriseWorx   \n",
       "35                                    Beyond Analysis   \n",
       "36                               Agilisium Consulting   \n",
       "37                                       Allerin Tech   \n",
       "38                                   Beards analytics   \n",
       "39                                             Vitwit   \n",
       "40                                    Phocas Software   \n",
       "41                                              uData   \n",
       "42                                            Sisense   \n",
       "43                                            Oxagile   \n",
       "44                          Cyber Infrastructure Inc.   \n",
       "45                           Appinventiv Technologies   \n",
       "46                                           Light IT   \n",
       "47                                           Saritasa   \n",
       "48                                    Zco Corporation   \n",
       "49                                       Quant Coding   \n",
       "50                                       Unicoconnect   \n",
       "51                                  Dash Technologies   \n",
       "52  Gzeez Tech Design and Software Development Com...   \n",
       "53           Webskitters Technology Solutions Pvt Ltd   \n",
       "\n",
       "                                           firm_motor      firm_reviews  \\\n",
       "0                           Data Science as a Service   5.0 (6 Reviews)   \n",
       "1                Data and Analytics. It's what we do.   5.0 (5 Reviews)   \n",
       "2                             Your Data Our Analytics   5.0 (4 Reviews)   \n",
       "3        Your full-spectrum software delivery partner   5.0 (8 Reviews)   \n",
       "4           The Fastest Visual Analytics for Big Data    5.0 (1 Review)   \n",
       "5           Optimize your processes using data and AI   5.0 (2 Reviews)   \n",
       "6              Technology Leveraged for Your Business   4.9 (4 Reviews)   \n",
       "7      Faster answers. More insights. Better outcomes    5.0 (1 Review)   \n",
       "8                 Have a conversation with your data.    5.0 (1 Review)   \n",
       "9             Analytics tools built on Diver Platform    5.0 (1 Review)   \n",
       "10   Data engineering and automation service provider    5.0 (1 Review)   \n",
       "11  Forging Digital Transformation through Analytics.    5.0 (1 Review)   \n",
       "12  Let's make your digital transformation a success!    5.0 (1 Review)   \n",
       "13     Power BI. We make your Data easy to understand    5.0 (1 Review)   \n",
       "14                           Making it work with Data    5.0 (1 Review)   \n",
       "15   AI, big data, ecm, insight engine, search engine    5.0 (1 Review)   \n",
       "16                 HUMAN BEHAVIOR AUGMENTED ANALYTICS   5.0 (2 Reviews)   \n",
       "17                        Helping you scale with data    5.0 (1 Review)   \n",
       "18     Digital Transformation Partner for Enterprises    5.0 (1 Review)   \n",
       "19                        A Cloud Engineering company   5.0 (2 Reviews)   \n",
       "20          Business Intelligence & Big Data Solution    5.0 (1 Review)   \n",
       "21                     Crafting Efficient Enterprises   5.0 (2 Reviews)   \n",
       "22                   Best ERP Software in Dubai, UAE.    5.0 (1 Review)   \n",
       "23     We are a data consulting firm based in Uganda.    5.0 (1 Review)   \n",
       "24          Driving Business Excellence Using AI & ML    5.0 (1 Review)   \n",
       "25                                     Let's Innovate   5.0 (2 Reviews)   \n",
       "26                              We love data insights    5.0 (1 Review)   \n",
       "27                  We solve problems no-one else can    5.0 (1 Review)   \n",
       "28                                        Technology    5.0 (2 Reviews)   \n",
       "29       Build Operate Transfer - One point source IT    5.0 (1 Review)   \n",
       "30      Unique Machine Learning and AI-Based Projects    5.0 (1 Review)   \n",
       "31                Manage Your Business Data for Value    5.0 (1 Review)   \n",
       "32                              Let's Solve a Problem    5.0 (1 Review)   \n",
       "33             Delivering on the Promise of Big Data.    4.8 (1 Review)   \n",
       "34                                  Data-to-Decisions    4.8 (1 Review)   \n",
       "35                             Putting data to work​.    4.4 (1 Review)   \n",
       "36  We help organization take the Data to Insight ...    4.4 (1 Review)   \n",
       "37            Technology for innovative enterprises.​    4.5 (1 Review)   \n",
       "38  Marketing/product analytics based on Google Cloud    4.8 (1 Review)   \n",
       "39                             Dream Define Establish   4.8 (3 Reviews)   \n",
       "40                              Got Data. Get Results    4.4 (1 Review)   \n",
       "41     We provide projects in Data Science, AI and ML    4.5 (1 Review)   \n",
       "42                Answer the tough questions, Faster.    4.0 (1 Review)   \n",
       "43                     Next Gen OTT Solutions Partner   3.7 (3 Reviews)   \n",
       "44  On mission to Enhance lives of Billions of users!  4.9 (42 Reviews)   \n",
       "45                    Top Mobile App Development Firm  4.7 (24 Reviews)   \n",
       "46   Deep tech expertise for Startups and Enterprises  4.8 (19 Reviews)   \n",
       "47                 Empowering Clients with Technology  5.0 (13 Reviews)   \n",
       "48              A Versatile Custom Software Developer  5.0 (14 Reviews)   \n",
       "49                To boldly do what not everyone can!    1.0 (1 Review)   \n",
       "50                        Your Tech Solutions Partner  4.9 (11 Reviews)   \n",
       "51          Web & Mobile App Development Company, USA  4.8 (11 Reviews)   \n",
       "52                 Top Software development companies   5.0 (6 Reviews)   \n",
       "53             Leading Mobile App Development Company   5.0 (8 Reviews)   \n",
       "\n",
       "   service_pct platform_pct         firm_price firm_employees year_founded  \\\n",
       "0          20%          15%    \\n$25 - $49/hr         10 - 49         2017   \n",
       "1           5%          10%    \\n$25 - $49/hr         10 - 49                \n",
       "2          15%          15%    \\n$50 - $99/hr           2 - 9         2020   \n",
       "3          40%          10%    \\n$50 - $99/hr       250 - 999         2000   \n",
       "4          25%          10%  \\n$100 - $149/hr        50 - 249         2012   \n",
       "5          10%          20%  \\n$200 - $300/hr           2 - 9         2018   \n",
       "6          20%          20%    \\n$25 - $49/hr       250 - 999         2004   \n",
       "7          20%          10%  \\n$100 - $149/hr   1,000 - 9,999         1993   \n",
       "8          90%           5%  \\n$100 - $149/hr        50 - 249         2002   \n",
       "9          30%          20%  \\n$100 - $149/hr        50 - 249         1989   \n",
       "10         10%          25%        \\n< $25/hr        50 - 249         2012   \n",
       "11         15%           5%  \\n$100 - $149/hr       250 - 999         2006   \n",
       "12         25%          10%    \\n$50 - $99/hr           2 - 9         2019   \n",
       "13         10%          50%        \\n< $25/hr         10 - 49         2016   \n",
       "14         90%           5%              \\nNA         10 - 49         2015   \n",
       "15         10%           5%              \\nNA         10 - 49         2015   \n",
       "16         10%          10%              \\nNA           2 - 9         2021   \n",
       "17          5%          20%   \\n $25 - $49/hr         10 - 49         2018   \n",
       "18         10%          50%    \\n$25 - $49/hr        50 - 249         2012   \n",
       "19         10%          25%        \\n< $25/hr         10 - 49         2020   \n",
       "20         30%          25%  \\n$100 - $149/hr        50 - 249         2009   \n",
       "21         20%          25%    \\n$50 - $99/hr        50 - 249         2015   \n",
       "22         10%          10%              \\nNA        50 - 249         2002   \n",
       "23         20%          20%        \\n< $25/hr         10 - 49         2020   \n",
       "24         50%          16%  \\n$100 - $149/hr         10 - 49         2012   \n",
       "25         30%          30%    \\n$25 - $49/hr       250 - 999         2009   \n",
       "26          5%          25%              \\nNA         10 - 49         2017   \n",
       "27         20%          10%    \\n$50 - $99/hr         10 - 49         1999   \n",
       "28         30%          30%              \\nNA        50 - 249         2011   \n",
       "29         20%          10%              \\nNA       250 - 999         2007   \n",
       "30         10%          15%              \\nNA         10 - 49         2015   \n",
       "31         10%          25%    \\n$25 - $49/hr         10 - 49         2018   \n",
       "32         10%          50%              \\nNA       250 - 999                \n",
       "33          5%          50%  \\n$100 - $149/hr   1,000 - 9,999         1991   \n",
       "34         10%          10%    \\n$50 - $99/hr         10 - 49         2003   \n",
       "35          5%          50%  \\n$100 - $149/hr        50 - 249         2000   \n",
       "36          5%          50%  \\n$100 - $149/hr        50 - 249         2013   \n",
       "37         10%          10%  \\n$100 - $149/hr       250 - 999         2004   \n",
       "38          5%          20%              \\nNA           2 - 9         2020   \n",
       "39         20%          20%        \\n< $25/hr         10 - 49         2015   \n",
       "40         10%          20%    \\n$50 - $99/hr        50 - 249         1999   \n",
       "41         10%          30%    \\n$25 - $49/hr         10 - 49         2018   \n",
       "42          5%          25%  \\n$100 - $149/hr        50 - 249         2012   \n",
       "43         10%          20%    \\n$50 - $99/hr       250 - 999         2005   \n",
       "44          5%          25%    \\n$25 - $49/hr   1,000 - 9,999         2003   \n",
       "45          5%          50%    \\n$25 - $49/hr   1,000 - 9,999         2015   \n",
       "46          5%         100%    \\n$25 - $49/hr        50 - 249         2006   \n",
       "47         20%          20%  \\n$100 - $149/hr        50 - 249         2005   \n",
       "48         10%          50%    \\n$25 - $49/hr       250 - 999         1989   \n",
       "49         10%          50%    \\n$25 - $49/hr           2 - 9         2020   \n",
       "50         10%          10%        \\n< $25/hr         10 - 49         2016   \n",
       "51         20%         100%    \\n$50 - $99/hr        50 - 249         2010   \n",
       "52         20%          20%    \\n$25 - $49/hr        50 - 249         2011   \n",
       "53         10%          30%    \\n$25 - $49/hr       250 - 999         2010   \n",
       "\n",
       "                             firm_location  \n",
       "0                                \\nBrazil   \n",
       "1                         \\nUnited States   \n",
       "2                         \\nUnited States   \n",
       "3                \\nUnited States, Ukraine   \n",
       "4              \\nUnited States, Singapore   \n",
       "5                              \\nPortugal   \n",
       "6                  \\nIndia, United States   \n",
       "7                         \\nUnited States   \n",
       "8                         \\nUnited States   \n",
       "9               \\nUnited States, Germany    \n",
       "10                        \\nUnited States   \n",
       "11                        \\nUnited States   \n",
       "12                               \\nCanada   \n",
       "13                              \\nUkraine   \n",
       "14                                \\nIndia   \n",
       "15                               \\nTurkey   \n",
       "16                               \\nCyprus   \n",
       "17                               \\nCanada   \n",
       "18                 \\nIndia, United States   \n",
       "19                                \\nIndia   \n",
       "20                            \\nIndonesia   \n",
       "21                        \\nUnited States   \n",
       "22                 \\nUnited Arab Emirates   \n",
       "23                               \\nUganda   \n",
       "24                 \\nUnited States, India   \n",
       "25                 \\nUnited States, India   \n",
       "26                                \\nIndia   \n",
       "27                         \\nSouth Africa   \n",
       "28                        \\nUnited States   \n",
       "29                 \\nIndia, United States   \n",
       "30                 \\nUnited Arab Emirates   \n",
       "31                             \\n Ukraine   \n",
       "32                        \\nUnited States   \n",
       "33                       \\n United States   \n",
       "34         \\nSouth Africa, United Kingdom   \n",
       "35                      \\nUnited Kingdom    \n",
       "36                        \\nUnited States   \n",
       "37                 \\nUnited States, India   \n",
       "38                              \\nUkraine   \n",
       "39                                \\nIndia   \n",
       "40        \\nUnited Kingdom, United States   \n",
       "41                            \\nAustralia   \n",
       "42                        \\nUnited States   \n",
       "43                \\nUnited States, Poland   \n",
       "44  \\nUnited States, United Arab Emirates   \n",
       "45                 \\nIndia, United States   \n",
       "46                              \\nUkraine   \n",
       "47                        \\nUnited States   \n",
       "48                        \\nUnited States   \n",
       "49                            \\nMacedonia   \n",
       "50                                \\nIndia   \n",
       "51                        \\nUnited States   \n",
       "52                 \\nUnited Arab Emirates   \n",
       "53                 \\nUnited States, India   "
      ]
     },
     "execution_count": 33,
     "metadata": {},
     "output_type": "execute_result"
    }
   ],
   "source": [
    "df5 "
   ]
  },
  {
   "cell_type": "code",
   "execution_count": null,
   "id": "00ff31e1",
   "metadata": {},
   "outputs": [],
   "source": []
  },
  {
   "cell_type": "code",
   "execution_count": null,
   "id": "2e6fe57e",
   "metadata": {},
   "outputs": [],
   "source": []
  },
  {
   "cell_type": "markdown",
   "id": "f7aca529",
   "metadata": {},
   "source": [
    "COMBINING ALL DATAFRAMES"
   ]
  },
  {
   "cell_type": "code",
   "execution_count": 35,
   "id": "7be66f18",
   "metadata": {},
   "outputs": [
    {
     "data": {
      "text/html": [
       "<div>\n",
       "<style scoped>\n",
       "    .dataframe tbody tr th:only-of-type {\n",
       "        vertical-align: middle;\n",
       "    }\n",
       "\n",
       "    .dataframe tbody tr th {\n",
       "        vertical-align: top;\n",
       "    }\n",
       "\n",
       "    .dataframe thead th {\n",
       "        text-align: right;\n",
       "    }\n",
       "</style>\n",
       "<table border=\"1\" class=\"dataframe\">\n",
       "  <thead>\n",
       "    <tr style=\"text-align: right;\">\n",
       "      <th></th>\n",
       "      <th>firm_name</th>\n",
       "      <th>firm_motor</th>\n",
       "      <th>firm_reviews</th>\n",
       "      <th>service_pct</th>\n",
       "      <th>platform_pct</th>\n",
       "      <th>firm_price</th>\n",
       "      <th>firm_employees</th>\n",
       "      <th>year_founded</th>\n",
       "      <th>firm_location</th>\n",
       "    </tr>\n",
       "  </thead>\n",
       "  <tbody>\n",
       "    <tr>\n",
       "      <th>0</th>\n",
       "      <td>SPEC INDIA</td>\n",
       "      <td>Enterprise Software, Mobility &amp; BI Solutions</td>\n",
       "      <td>4.8 (26 Reviews)</td>\n",
       "      <td>20%</td>\n",
       "      <td>15%</td>\n",
       "      <td>\\n&lt; $25/hr</td>\n",
       "      <td>250 - 999</td>\n",
       "      <td>1987</td>\n",
       "      <td>\\n India, United States</td>\n",
       "    </tr>\n",
       "    <tr>\n",
       "      <th>1</th>\n",
       "      <td>instinctools</td>\n",
       "      <td>Delivering the future. Now.</td>\n",
       "      <td>4.8 (8 Reviews)</td>\n",
       "      <td>5%</td>\n",
       "      <td>10%</td>\n",
       "      <td>\\n$50 - $99/hr</td>\n",
       "      <td>250 - 999</td>\n",
       "      <td>2000</td>\n",
       "      <td>\\nUnited States, Germany</td>\n",
       "    </tr>\n",
       "    <tr>\n",
       "      <th>2</th>\n",
       "      <td>SoluLab</td>\n",
       "      <td>Blockchain | IoT | Mobility | AI | Big Data</td>\n",
       "      <td>5.0 (32 Reviews)</td>\n",
       "      <td>15%</td>\n",
       "      <td>15%</td>\n",
       "      <td>\\n$25 - $49/hr</td>\n",
       "      <td>50 - 249</td>\n",
       "      <td>2014</td>\n",
       "      <td>\\nUnited States, India</td>\n",
       "    </tr>\n",
       "    <tr>\n",
       "      <th>3</th>\n",
       "      <td>Sigma Data Systems</td>\n",
       "      <td>Discover the world of Big Data with us!</td>\n",
       "      <td>4.7 (5 Reviews)</td>\n",
       "      <td>40%</td>\n",
       "      <td>10%</td>\n",
       "      <td>\\n$25 - $49/hr</td>\n",
       "      <td>250 - 999</td>\n",
       "      <td>2010</td>\n",
       "      <td>\\nUnited States, Australia</td>\n",
       "    </tr>\n",
       "    <tr>\n",
       "      <th>4</th>\n",
       "      <td>NeenOpal Inc.</td>\n",
       "      <td>The Hub Of Data Science Innovation</td>\n",
       "      <td>5.0 (5 Reviews)</td>\n",
       "      <td>25%</td>\n",
       "      <td>10%</td>\n",
       "      <td>\\n$25 - $49/hr</td>\n",
       "      <td>10 - 49</td>\n",
       "      <td>2016</td>\n",
       "      <td>\\nUnited States, India</td>\n",
       "    </tr>\n",
       "    <tr>\n",
       "      <th>...</th>\n",
       "      <td>...</td>\n",
       "      <td>...</td>\n",
       "      <td>...</td>\n",
       "      <td>...</td>\n",
       "      <td>...</td>\n",
       "      <td>...</td>\n",
       "      <td>...</td>\n",
       "      <td>...</td>\n",
       "      <td>...</td>\n",
       "    </tr>\n",
       "    <tr>\n",
       "      <th>265</th>\n",
       "      <td>Quant Coding</td>\n",
       "      <td>To boldly do what not everyone can!</td>\n",
       "      <td>1.0 (1 Review)</td>\n",
       "      <td>10%</td>\n",
       "      <td>50%</td>\n",
       "      <td>\\n$25 - $49/hr</td>\n",
       "      <td>2 - 9</td>\n",
       "      <td>2020</td>\n",
       "      <td>\\nMacedonia</td>\n",
       "    </tr>\n",
       "    <tr>\n",
       "      <th>266</th>\n",
       "      <td>Unicoconnect</td>\n",
       "      <td>Your Tech Solutions Partner</td>\n",
       "      <td>4.9 (11 Reviews)</td>\n",
       "      <td>10%</td>\n",
       "      <td>10%</td>\n",
       "      <td>\\n&lt; $25/hr</td>\n",
       "      <td>10 - 49</td>\n",
       "      <td>2016</td>\n",
       "      <td>\\nIndia</td>\n",
       "    </tr>\n",
       "    <tr>\n",
       "      <th>267</th>\n",
       "      <td>Dash Technologies</td>\n",
       "      <td>Web &amp; Mobile App Development Company, USA</td>\n",
       "      <td>4.8 (11 Reviews)</td>\n",
       "      <td>20%</td>\n",
       "      <td>100%</td>\n",
       "      <td>\\n$50 - $99/hr</td>\n",
       "      <td>50 - 249</td>\n",
       "      <td>2010</td>\n",
       "      <td>\\nUnited States</td>\n",
       "    </tr>\n",
       "    <tr>\n",
       "      <th>268</th>\n",
       "      <td>Gzeez Tech Design and Software Development Com...</td>\n",
       "      <td>Top Software development companies</td>\n",
       "      <td>5.0 (6 Reviews)</td>\n",
       "      <td>20%</td>\n",
       "      <td>20%</td>\n",
       "      <td>\\n$25 - $49/hr</td>\n",
       "      <td>50 - 249</td>\n",
       "      <td>2011</td>\n",
       "      <td>\\nUnited Arab Emirates</td>\n",
       "    </tr>\n",
       "    <tr>\n",
       "      <th>269</th>\n",
       "      <td>Webskitters Technology Solutions Pvt Ltd</td>\n",
       "      <td>Leading Mobile App Development Company</td>\n",
       "      <td>5.0 (8 Reviews)</td>\n",
       "      <td>10%</td>\n",
       "      <td>30%</td>\n",
       "      <td>\\n$25 - $49/hr</td>\n",
       "      <td>250 - 999</td>\n",
       "      <td>2010</td>\n",
       "      <td>\\nUnited States, India</td>\n",
       "    </tr>\n",
       "  </tbody>\n",
       "</table>\n",
       "<p>270 rows × 9 columns</p>\n",
       "</div>"
      ],
      "text/plain": [
       "                                             firm_name  \\\n",
       "0                                           SPEC INDIA   \n",
       "1                                         instinctools   \n",
       "2                                              SoluLab   \n",
       "3                                   Sigma Data Systems   \n",
       "4                                        NeenOpal Inc.   \n",
       "..                                                 ...   \n",
       "265                                       Quant Coding   \n",
       "266                                       Unicoconnect   \n",
       "267                                  Dash Technologies   \n",
       "268  Gzeez Tech Design and Software Development Com...   \n",
       "269           Webskitters Technology Solutions Pvt Ltd   \n",
       "\n",
       "                                       firm_motor      firm_reviews  \\\n",
       "0    Enterprise Software, Mobility & BI Solutions  4.8 (26 Reviews)   \n",
       "1                     Delivering the future. Now.   4.8 (8 Reviews)   \n",
       "2     Blockchain | IoT | Mobility | AI | Big Data  5.0 (32 Reviews)   \n",
       "3         Discover the world of Big Data with us!   4.7 (5 Reviews)   \n",
       "4              The Hub Of Data Science Innovation   5.0 (5 Reviews)   \n",
       "..                                            ...               ...   \n",
       "265           To boldly do what not everyone can!    1.0 (1 Review)   \n",
       "266                   Your Tech Solutions Partner  4.9 (11 Reviews)   \n",
       "267     Web & Mobile App Development Company, USA  4.8 (11 Reviews)   \n",
       "268            Top Software development companies   5.0 (6 Reviews)   \n",
       "269        Leading Mobile App Development Company   5.0 (8 Reviews)   \n",
       "\n",
       "    service_pct platform_pct       firm_price firm_employees year_founded  \\\n",
       "0           20%          15%      \\n< $25/hr       250 - 999         1987   \n",
       "1            5%          10%  \\n$50 - $99/hr       250 - 999         2000   \n",
       "2           15%          15%  \\n$25 - $49/hr        50 - 249         2014   \n",
       "3           40%          10%  \\n$25 - $49/hr       250 - 999         2010   \n",
       "4           25%          10%  \\n$25 - $49/hr         10 - 49         2016   \n",
       "..          ...          ...              ...            ...          ...   \n",
       "265         10%          50%  \\n$25 - $49/hr           2 - 9         2020   \n",
       "266         10%          10%      \\n< $25/hr         10 - 49         2016   \n",
       "267         20%         100%  \\n$50 - $99/hr        50 - 249         2010   \n",
       "268         20%          20%  \\n$25 - $49/hr        50 - 249         2011   \n",
       "269         10%          30%  \\n$25 - $49/hr       250 - 999         2010   \n",
       "\n",
       "                   firm_location  \n",
       "0       \\n India, United States   \n",
       "1      \\nUnited States, Germany   \n",
       "2        \\nUnited States, India   \n",
       "3    \\nUnited States, Australia   \n",
       "4        \\nUnited States, India   \n",
       "..                           ...  \n",
       "265                 \\nMacedonia   \n",
       "266                     \\nIndia   \n",
       "267             \\nUnited States   \n",
       "268      \\nUnited Arab Emirates   \n",
       "269      \\nUnited States, India   \n",
       "\n",
       "[270 rows x 9 columns]"
      ]
     },
     "execution_count": 35,
     "metadata": {},
     "output_type": "execute_result"
    }
   ],
   "source": [
    "all_df = pd.concat([df1, df2, df3, df4, df5], ignore_index=True)\n",
    "all_df "
   ]
  },
  {
   "cell_type": "code",
   "execution_count": 36,
   "id": "e30cc7f5",
   "metadata": {},
   "outputs": [
    {
     "data": {
      "text/plain": [
       "(270, 9)"
      ]
     },
     "execution_count": 36,
     "metadata": {},
     "output_type": "execute_result"
    }
   ],
   "source": [
    "all_df.shape "
   ]
  },
  {
   "cell_type": "code",
   "execution_count": null,
   "id": "d10e6e35",
   "metadata": {},
   "outputs": [],
   "source": []
  },
  {
   "cell_type": "code",
   "execution_count": null,
   "id": "4a3a308e",
   "metadata": {},
   "outputs": [],
   "source": []
  },
  {
   "cell_type": "markdown",
   "id": "e92f6085",
   "metadata": {},
   "source": [
    "DATA CLEANING"
   ]
  },
  {
   "cell_type": "code",
   "execution_count": 39,
   "id": "31dfab21",
   "metadata": {},
   "outputs": [],
   "source": [
    "# extracting star rating \n",
    "values = all_df['firm_reviews'].apply(lambda x: x.split()[0])\n",
    "all_df.insert(3, 'star_rating', values)\n",
    "\n",
    "# extracting number of reviews\n",
    "val = all_df['firm_reviews'].apply(lambda x: x.split()[1].strip('('))\n",
    "all_df.insert(4, 'firm_rev', val)\n",
    "\n",
    "# drop firm reviews column\n",
    "all_df.drop(columns='firm_reviews', inplace=True)\n",
    "\n",
    "# remove \"%\" from firm service and platform percent\n",
    "all_df['service_pct'] = all_df['service_pct'].apply(lambda x: x.strip('%'))\n",
    "all_df['platform_pct'] = all_df['platform_pct'].apply(lambda x: x.strip('%'))\n",
    "\n",
    "# rename columns\n",
    "all_df.rename(columns={'service_pct': 'service_pct(%)', 'platform_pct':'platform_pct(%)'}, inplace=True)\n",
    "\n",
    "# remove \"\\n\" from firm price and location\n",
    "all_df['firm_price'] = all_df['firm_price'].apply(lambda x: x.strip('\\n'))\n",
    "all_df['firm_location'] = all_df['firm_location'].apply(lambda x: x.strip('\\n'))"
   ]
  },
  {
   "cell_type": "code",
   "execution_count": 40,
   "id": "c3573f5c",
   "metadata": {},
   "outputs": [
    {
     "data": {
      "text/html": [
       "<div>\n",
       "<style scoped>\n",
       "    .dataframe tbody tr th:only-of-type {\n",
       "        vertical-align: middle;\n",
       "    }\n",
       "\n",
       "    .dataframe tbody tr th {\n",
       "        vertical-align: top;\n",
       "    }\n",
       "\n",
       "    .dataframe thead th {\n",
       "        text-align: right;\n",
       "    }\n",
       "</style>\n",
       "<table border=\"1\" class=\"dataframe\">\n",
       "  <thead>\n",
       "    <tr style=\"text-align: right;\">\n",
       "      <th></th>\n",
       "      <th>firm_name</th>\n",
       "      <th>firm_motor</th>\n",
       "      <th>star_rating</th>\n",
       "      <th>firm_rev</th>\n",
       "      <th>service_pct(%)</th>\n",
       "      <th>platform_pct(%)</th>\n",
       "      <th>firm_price</th>\n",
       "      <th>firm_employees</th>\n",
       "      <th>year_founded</th>\n",
       "      <th>firm_location</th>\n",
       "    </tr>\n",
       "  </thead>\n",
       "  <tbody>\n",
       "    <tr>\n",
       "      <th>0</th>\n",
       "      <td>SPEC INDIA</td>\n",
       "      <td>Enterprise Software, Mobility &amp; BI Solutions</td>\n",
       "      <td>4.8</td>\n",
       "      <td>26</td>\n",
       "      <td>20</td>\n",
       "      <td>15</td>\n",
       "      <td>&lt; $25/hr</td>\n",
       "      <td>250 - 999</td>\n",
       "      <td>1987</td>\n",
       "      <td>India, United States</td>\n",
       "    </tr>\n",
       "    <tr>\n",
       "      <th>1</th>\n",
       "      <td>instinctools</td>\n",
       "      <td>Delivering the future. Now.</td>\n",
       "      <td>4.8</td>\n",
       "      <td>8</td>\n",
       "      <td>5</td>\n",
       "      <td>10</td>\n",
       "      <td>$50 - $99/hr</td>\n",
       "      <td>250 - 999</td>\n",
       "      <td>2000</td>\n",
       "      <td>United States, Germany</td>\n",
       "    </tr>\n",
       "    <tr>\n",
       "      <th>2</th>\n",
       "      <td>SoluLab</td>\n",
       "      <td>Blockchain | IoT | Mobility | AI | Big Data</td>\n",
       "      <td>5.0</td>\n",
       "      <td>32</td>\n",
       "      <td>15</td>\n",
       "      <td>15</td>\n",
       "      <td>$25 - $49/hr</td>\n",
       "      <td>50 - 249</td>\n",
       "      <td>2014</td>\n",
       "      <td>United States, India</td>\n",
       "    </tr>\n",
       "    <tr>\n",
       "      <th>3</th>\n",
       "      <td>Sigma Data Systems</td>\n",
       "      <td>Discover the world of Big Data with us!</td>\n",
       "      <td>4.7</td>\n",
       "      <td>5</td>\n",
       "      <td>40</td>\n",
       "      <td>10</td>\n",
       "      <td>$25 - $49/hr</td>\n",
       "      <td>250 - 999</td>\n",
       "      <td>2010</td>\n",
       "      <td>United States, Australia</td>\n",
       "    </tr>\n",
       "    <tr>\n",
       "      <th>4</th>\n",
       "      <td>NeenOpal Inc.</td>\n",
       "      <td>The Hub Of Data Science Innovation</td>\n",
       "      <td>5.0</td>\n",
       "      <td>5</td>\n",
       "      <td>25</td>\n",
       "      <td>10</td>\n",
       "      <td>$25 - $49/hr</td>\n",
       "      <td>10 - 49</td>\n",
       "      <td>2016</td>\n",
       "      <td>United States, India</td>\n",
       "    </tr>\n",
       "  </tbody>\n",
       "</table>\n",
       "</div>"
      ],
      "text/plain": [
       "            firm_name                                    firm_motor  \\\n",
       "0          SPEC INDIA  Enterprise Software, Mobility & BI Solutions   \n",
       "1        instinctools                   Delivering the future. Now.   \n",
       "2             SoluLab   Blockchain | IoT | Mobility | AI | Big Data   \n",
       "3  Sigma Data Systems       Discover the world of Big Data with us!   \n",
       "4       NeenOpal Inc.            The Hub Of Data Science Innovation   \n",
       "\n",
       "  star_rating firm_rev service_pct(%) platform_pct(%)     firm_price  \\\n",
       "0         4.8       26             20              15      < $25/hr    \n",
       "1         4.8        8              5              10  $50 - $99/hr    \n",
       "2         5.0       32             15              15  $25 - $49/hr    \n",
       "3         4.7        5             40              10  $25 - $49/hr    \n",
       "4         5.0        5             25              10  $25 - $49/hr    \n",
       "\n",
       "  firm_employees year_founded              firm_location  \n",
       "0      250 - 999         1987      India, United States   \n",
       "1      250 - 999         2000    United States, Germany   \n",
       "2       50 - 249         2014      United States, India   \n",
       "3      250 - 999         2010  United States, Australia   \n",
       "4        10 - 49         2016      United States, India   "
      ]
     },
     "execution_count": 40,
     "metadata": {},
     "output_type": "execute_result"
    }
   ],
   "source": [
    "all_df.head() "
   ]
  },
  {
   "cell_type": "code",
   "execution_count": null,
   "id": "c3d72408",
   "metadata": {},
   "outputs": [],
   "source": []
  },
  {
   "cell_type": "markdown",
   "id": "58bc0585",
   "metadata": {},
   "source": [
    "SAVE DATAFRAME TO CSV FILE"
   ]
  },
  {
   "cell_type": "code",
   "execution_count": 41,
   "id": "76038355",
   "metadata": {},
   "outputs": [],
   "source": [
    "all_df.to_csv('clean extraction csv', index=False)"
   ]
  },
  {
   "cell_type": "code",
   "execution_count": null,
   "id": "fe4577e5",
   "metadata": {},
   "outputs": [],
   "source": []
  },
  {
   "cell_type": "markdown",
   "id": "955d4474",
   "metadata": {},
   "source": [
    "CHANGING DATA TYPE"
   ]
  },
  {
   "cell_type": "code",
   "execution_count": 42,
   "id": "613e327c",
   "metadata": {},
   "outputs": [
    {
     "data": {
      "text/plain": [
       "firm_name          object\n",
       "firm_motor         object\n",
       "star_rating        object\n",
       "firm_rev           object\n",
       "service_pct(%)     object\n",
       "platform_pct(%)    object\n",
       "firm_price         object\n",
       "firm_employees     object\n",
       "year_founded       object\n",
       "firm_location      object\n",
       "dtype: object"
      ]
     },
     "execution_count": 42,
     "metadata": {},
     "output_type": "execute_result"
    }
   ],
   "source": [
    "all_df.dtypes "
   ]
  },
  {
   "cell_type": "code",
   "execution_count": 43,
   "id": "f3f5b1ab",
   "metadata": {},
   "outputs": [],
   "source": [
    "all_df['star_rating'] = all_df['star_rating'].astype('float')\n",
    "all_df['firm_rev'] = all_df['firm_rev'].astype('int')\n",
    "all_df['service_pct(%)'] = all_df['service_pct(%)'].astype('int')\n",
    "all_df['platform_pct(%)'] = all_df['platform_pct(%)'].astype('int')"
   ]
  },
  {
   "cell_type": "code",
   "execution_count": null,
   "id": "26d4f2b6",
   "metadata": {},
   "outputs": [],
   "source": []
  },
  {
   "cell_type": "markdown",
   "id": "d63fe784",
   "metadata": {},
   "source": [
    "EXPLORATORY DATA ANALYSIS"
   ]
  },
  {
   "cell_type": "code",
   "execution_count": 44,
   "id": "e10f39de",
   "metadata": {},
   "outputs": [
    {
     "data": {
      "application/vnd.plotly.v1+json": {
       "config": {
        "plotlyServerURL": "https://plot.ly"
       },
       "data": [
        {
         "alignmentgroup": "True",
         "bingroup": "x",
         "hovertemplate": "star_rating=%{x}<br>count=%{y}<extra></extra>",
         "legendgroup": "",
         "marker": {
          "color": "#636efa",
          "pattern": {
           "shape": ""
          }
         },
         "name": "",
         "offsetgroup": "",
         "orientation": "v",
         "showlegend": false,
         "type": "histogram",
         "x": [
          4.8,
          4.8,
          5,
          4.7,
          5,
          4.8,
          5,
          5,
          5,
          5,
          4.9,
          5,
          5,
          5,
          4.8,
          5,
          4.9,
          4.9,
          4.9,
          5,
          5,
          5,
          5,
          5,
          5,
          5,
          5,
          5,
          4.8,
          5,
          3,
          5,
          3.4,
          4.6,
          5,
          4.7,
          4.9,
          4.4,
          5,
          4.9,
          5,
          5,
          5,
          5,
          4.9,
          4.5,
          5,
          5,
          5,
          5,
          5,
          5,
          5,
          4.7,
          4.6,
          5,
          5,
          5,
          4.3,
          5,
          5,
          5,
          5,
          5,
          5,
          5,
          4.4,
          5,
          4.8,
          5,
          4.8,
          5,
          5,
          5,
          5,
          4.9,
          5,
          5,
          5,
          4.9,
          5,
          5,
          4.9,
          5,
          5,
          5,
          4.9,
          5,
          5,
          5,
          5,
          5,
          5,
          4.9,
          5,
          5,
          5,
          5,
          5,
          4.8,
          5,
          5,
          4.3,
          4.8,
          5,
          5,
          5,
          5,
          5,
          5,
          5,
          5,
          5,
          5,
          5,
          5,
          5,
          5,
          4.8,
          4.8,
          5,
          0,
          5,
          5,
          5,
          5,
          5,
          4.8,
          5,
          4,
          0,
          0,
          0,
          0,
          0,
          0,
          0,
          0,
          0,
          0,
          0,
          0,
          1,
          0,
          0,
          0,
          0,
          0,
          0,
          0,
          0,
          0,
          0,
          0,
          0,
          0,
          0,
          0,
          0,
          0,
          0,
          5,
          0,
          0,
          0,
          0,
          0,
          0,
          0,
          0,
          0,
          0,
          0,
          0,
          0,
          0,
          0,
          0,
          5,
          0,
          0,
          0,
          0,
          0,
          0,
          0,
          0,
          0,
          0,
          0,
          0,
          0,
          0,
          0,
          0,
          0,
          0,
          0,
          0,
          0,
          0,
          0,
          0,
          0,
          0,
          0,
          0,
          0,
          0,
          0,
          0,
          0,
          0,
          0,
          0,
          0,
          5,
          5,
          5,
          5,
          5,
          5,
          4.9,
          5,
          5,
          5,
          5,
          5,
          5,
          5,
          5,
          5,
          5,
          5,
          5,
          5,
          5,
          5,
          5,
          5,
          5,
          5,
          5,
          5,
          5,
          5,
          5,
          5,
          5,
          4.8,
          4.8,
          4.4,
          4.4,
          4.5,
          4.8,
          4.8,
          4.4,
          4.5,
          4,
          3.7,
          4.9,
          4.7,
          4.8,
          5,
          5,
          1,
          4.9,
          4.8,
          5,
          5
         ],
         "xaxis": "x",
         "yaxis": "y"
        }
       ],
       "layout": {
        "barmode": "relative",
        "legend": {
         "tracegroupgap": 0
        },
        "template": {
         "data": {
          "bar": [
           {
            "error_x": {
             "color": "#2a3f5f"
            },
            "error_y": {
             "color": "#2a3f5f"
            },
            "marker": {
             "line": {
              "color": "#E5ECF6",
              "width": 0.5
             },
             "pattern": {
              "fillmode": "overlay",
              "size": 10,
              "solidity": 0.2
             }
            },
            "type": "bar"
           }
          ],
          "barpolar": [
           {
            "marker": {
             "line": {
              "color": "#E5ECF6",
              "width": 0.5
             },
             "pattern": {
              "fillmode": "overlay",
              "size": 10,
              "solidity": 0.2
             }
            },
            "type": "barpolar"
           }
          ],
          "carpet": [
           {
            "aaxis": {
             "endlinecolor": "#2a3f5f",
             "gridcolor": "white",
             "linecolor": "white",
             "minorgridcolor": "white",
             "startlinecolor": "#2a3f5f"
            },
            "baxis": {
             "endlinecolor": "#2a3f5f",
             "gridcolor": "white",
             "linecolor": "white",
             "minorgridcolor": "white",
             "startlinecolor": "#2a3f5f"
            },
            "type": "carpet"
           }
          ],
          "choropleth": [
           {
            "colorbar": {
             "outlinewidth": 0,
             "ticks": ""
            },
            "type": "choropleth"
           }
          ],
          "contour": [
           {
            "colorbar": {
             "outlinewidth": 0,
             "ticks": ""
            },
            "colorscale": [
             [
              0,
              "#0d0887"
             ],
             [
              0.1111111111111111,
              "#46039f"
             ],
             [
              0.2222222222222222,
              "#7201a8"
             ],
             [
              0.3333333333333333,
              "#9c179e"
             ],
             [
              0.4444444444444444,
              "#bd3786"
             ],
             [
              0.5555555555555556,
              "#d8576b"
             ],
             [
              0.6666666666666666,
              "#ed7953"
             ],
             [
              0.7777777777777778,
              "#fb9f3a"
             ],
             [
              0.8888888888888888,
              "#fdca26"
             ],
             [
              1,
              "#f0f921"
             ]
            ],
            "type": "contour"
           }
          ],
          "contourcarpet": [
           {
            "colorbar": {
             "outlinewidth": 0,
             "ticks": ""
            },
            "type": "contourcarpet"
           }
          ],
          "heatmap": [
           {
            "colorbar": {
             "outlinewidth": 0,
             "ticks": ""
            },
            "colorscale": [
             [
              0,
              "#0d0887"
             ],
             [
              0.1111111111111111,
              "#46039f"
             ],
             [
              0.2222222222222222,
              "#7201a8"
             ],
             [
              0.3333333333333333,
              "#9c179e"
             ],
             [
              0.4444444444444444,
              "#bd3786"
             ],
             [
              0.5555555555555556,
              "#d8576b"
             ],
             [
              0.6666666666666666,
              "#ed7953"
             ],
             [
              0.7777777777777778,
              "#fb9f3a"
             ],
             [
              0.8888888888888888,
              "#fdca26"
             ],
             [
              1,
              "#f0f921"
             ]
            ],
            "type": "heatmap"
           }
          ],
          "heatmapgl": [
           {
            "colorbar": {
             "outlinewidth": 0,
             "ticks": ""
            },
            "colorscale": [
             [
              0,
              "#0d0887"
             ],
             [
              0.1111111111111111,
              "#46039f"
             ],
             [
              0.2222222222222222,
              "#7201a8"
             ],
             [
              0.3333333333333333,
              "#9c179e"
             ],
             [
              0.4444444444444444,
              "#bd3786"
             ],
             [
              0.5555555555555556,
              "#d8576b"
             ],
             [
              0.6666666666666666,
              "#ed7953"
             ],
             [
              0.7777777777777778,
              "#fb9f3a"
             ],
             [
              0.8888888888888888,
              "#fdca26"
             ],
             [
              1,
              "#f0f921"
             ]
            ],
            "type": "heatmapgl"
           }
          ],
          "histogram": [
           {
            "marker": {
             "pattern": {
              "fillmode": "overlay",
              "size": 10,
              "solidity": 0.2
             }
            },
            "type": "histogram"
           }
          ],
          "histogram2d": [
           {
            "colorbar": {
             "outlinewidth": 0,
             "ticks": ""
            },
            "colorscale": [
             [
              0,
              "#0d0887"
             ],
             [
              0.1111111111111111,
              "#46039f"
             ],
             [
              0.2222222222222222,
              "#7201a8"
             ],
             [
              0.3333333333333333,
              "#9c179e"
             ],
             [
              0.4444444444444444,
              "#bd3786"
             ],
             [
              0.5555555555555556,
              "#d8576b"
             ],
             [
              0.6666666666666666,
              "#ed7953"
             ],
             [
              0.7777777777777778,
              "#fb9f3a"
             ],
             [
              0.8888888888888888,
              "#fdca26"
             ],
             [
              1,
              "#f0f921"
             ]
            ],
            "type": "histogram2d"
           }
          ],
          "histogram2dcontour": [
           {
            "colorbar": {
             "outlinewidth": 0,
             "ticks": ""
            },
            "colorscale": [
             [
              0,
              "#0d0887"
             ],
             [
              0.1111111111111111,
              "#46039f"
             ],
             [
              0.2222222222222222,
              "#7201a8"
             ],
             [
              0.3333333333333333,
              "#9c179e"
             ],
             [
              0.4444444444444444,
              "#bd3786"
             ],
             [
              0.5555555555555556,
              "#d8576b"
             ],
             [
              0.6666666666666666,
              "#ed7953"
             ],
             [
              0.7777777777777778,
              "#fb9f3a"
             ],
             [
              0.8888888888888888,
              "#fdca26"
             ],
             [
              1,
              "#f0f921"
             ]
            ],
            "type": "histogram2dcontour"
           }
          ],
          "mesh3d": [
           {
            "colorbar": {
             "outlinewidth": 0,
             "ticks": ""
            },
            "type": "mesh3d"
           }
          ],
          "parcoords": [
           {
            "line": {
             "colorbar": {
              "outlinewidth": 0,
              "ticks": ""
             }
            },
            "type": "parcoords"
           }
          ],
          "pie": [
           {
            "automargin": true,
            "type": "pie"
           }
          ],
          "scatter": [
           {
            "fillpattern": {
             "fillmode": "overlay",
             "size": 10,
             "solidity": 0.2
            },
            "type": "scatter"
           }
          ],
          "scatter3d": [
           {
            "line": {
             "colorbar": {
              "outlinewidth": 0,
              "ticks": ""
             }
            },
            "marker": {
             "colorbar": {
              "outlinewidth": 0,
              "ticks": ""
             }
            },
            "type": "scatter3d"
           }
          ],
          "scattercarpet": [
           {
            "marker": {
             "colorbar": {
              "outlinewidth": 0,
              "ticks": ""
             }
            },
            "type": "scattercarpet"
           }
          ],
          "scattergeo": [
           {
            "marker": {
             "colorbar": {
              "outlinewidth": 0,
              "ticks": ""
             }
            },
            "type": "scattergeo"
           }
          ],
          "scattergl": [
           {
            "marker": {
             "colorbar": {
              "outlinewidth": 0,
              "ticks": ""
             }
            },
            "type": "scattergl"
           }
          ],
          "scattermapbox": [
           {
            "marker": {
             "colorbar": {
              "outlinewidth": 0,
              "ticks": ""
             }
            },
            "type": "scattermapbox"
           }
          ],
          "scatterpolar": [
           {
            "marker": {
             "colorbar": {
              "outlinewidth": 0,
              "ticks": ""
             }
            },
            "type": "scatterpolar"
           }
          ],
          "scatterpolargl": [
           {
            "marker": {
             "colorbar": {
              "outlinewidth": 0,
              "ticks": ""
             }
            },
            "type": "scatterpolargl"
           }
          ],
          "scatterternary": [
           {
            "marker": {
             "colorbar": {
              "outlinewidth": 0,
              "ticks": ""
             }
            },
            "type": "scatterternary"
           }
          ],
          "surface": [
           {
            "colorbar": {
             "outlinewidth": 0,
             "ticks": ""
            },
            "colorscale": [
             [
              0,
              "#0d0887"
             ],
             [
              0.1111111111111111,
              "#46039f"
             ],
             [
              0.2222222222222222,
              "#7201a8"
             ],
             [
              0.3333333333333333,
              "#9c179e"
             ],
             [
              0.4444444444444444,
              "#bd3786"
             ],
             [
              0.5555555555555556,
              "#d8576b"
             ],
             [
              0.6666666666666666,
              "#ed7953"
             ],
             [
              0.7777777777777778,
              "#fb9f3a"
             ],
             [
              0.8888888888888888,
              "#fdca26"
             ],
             [
              1,
              "#f0f921"
             ]
            ],
            "type": "surface"
           }
          ],
          "table": [
           {
            "cells": {
             "fill": {
              "color": "#EBF0F8"
             },
             "line": {
              "color": "white"
             }
            },
            "header": {
             "fill": {
              "color": "#C8D4E3"
             },
             "line": {
              "color": "white"
             }
            },
            "type": "table"
           }
          ]
         },
         "layout": {
          "annotationdefaults": {
           "arrowcolor": "#2a3f5f",
           "arrowhead": 0,
           "arrowwidth": 1
          },
          "autotypenumbers": "strict",
          "coloraxis": {
           "colorbar": {
            "outlinewidth": 0,
            "ticks": ""
           }
          },
          "colorscale": {
           "diverging": [
            [
             0,
             "#8e0152"
            ],
            [
             0.1,
             "#c51b7d"
            ],
            [
             0.2,
             "#de77ae"
            ],
            [
             0.3,
             "#f1b6da"
            ],
            [
             0.4,
             "#fde0ef"
            ],
            [
             0.5,
             "#f7f7f7"
            ],
            [
             0.6,
             "#e6f5d0"
            ],
            [
             0.7,
             "#b8e186"
            ],
            [
             0.8,
             "#7fbc41"
            ],
            [
             0.9,
             "#4d9221"
            ],
            [
             1,
             "#276419"
            ]
           ],
           "sequential": [
            [
             0,
             "#0d0887"
            ],
            [
             0.1111111111111111,
             "#46039f"
            ],
            [
             0.2222222222222222,
             "#7201a8"
            ],
            [
             0.3333333333333333,
             "#9c179e"
            ],
            [
             0.4444444444444444,
             "#bd3786"
            ],
            [
             0.5555555555555556,
             "#d8576b"
            ],
            [
             0.6666666666666666,
             "#ed7953"
            ],
            [
             0.7777777777777778,
             "#fb9f3a"
            ],
            [
             0.8888888888888888,
             "#fdca26"
            ],
            [
             1,
             "#f0f921"
            ]
           ],
           "sequentialminus": [
            [
             0,
             "#0d0887"
            ],
            [
             0.1111111111111111,
             "#46039f"
            ],
            [
             0.2222222222222222,
             "#7201a8"
            ],
            [
             0.3333333333333333,
             "#9c179e"
            ],
            [
             0.4444444444444444,
             "#bd3786"
            ],
            [
             0.5555555555555556,
             "#d8576b"
            ],
            [
             0.6666666666666666,
             "#ed7953"
            ],
            [
             0.7777777777777778,
             "#fb9f3a"
            ],
            [
             0.8888888888888888,
             "#fdca26"
            ],
            [
             1,
             "#f0f921"
            ]
           ]
          },
          "colorway": [
           "#636efa",
           "#EF553B",
           "#00cc96",
           "#ab63fa",
           "#FFA15A",
           "#19d3f3",
           "#FF6692",
           "#B6E880",
           "#FF97FF",
           "#FECB52"
          ],
          "font": {
           "color": "#2a3f5f"
          },
          "geo": {
           "bgcolor": "white",
           "lakecolor": "white",
           "landcolor": "#E5ECF6",
           "showlakes": true,
           "showland": true,
           "subunitcolor": "white"
          },
          "hoverlabel": {
           "align": "left"
          },
          "hovermode": "closest",
          "mapbox": {
           "style": "light"
          },
          "paper_bgcolor": "white",
          "plot_bgcolor": "#E5ECF6",
          "polar": {
           "angularaxis": {
            "gridcolor": "white",
            "linecolor": "white",
            "ticks": ""
           },
           "bgcolor": "#E5ECF6",
           "radialaxis": {
            "gridcolor": "white",
            "linecolor": "white",
            "ticks": ""
           }
          },
          "scene": {
           "xaxis": {
            "backgroundcolor": "#E5ECF6",
            "gridcolor": "white",
            "gridwidth": 2,
            "linecolor": "white",
            "showbackground": true,
            "ticks": "",
            "zerolinecolor": "white"
           },
           "yaxis": {
            "backgroundcolor": "#E5ECF6",
            "gridcolor": "white",
            "gridwidth": 2,
            "linecolor": "white",
            "showbackground": true,
            "ticks": "",
            "zerolinecolor": "white"
           },
           "zaxis": {
            "backgroundcolor": "#E5ECF6",
            "gridcolor": "white",
            "gridwidth": 2,
            "linecolor": "white",
            "showbackground": true,
            "ticks": "",
            "zerolinecolor": "white"
           }
          },
          "shapedefaults": {
           "line": {
            "color": "#2a3f5f"
           }
          },
          "ternary": {
           "aaxis": {
            "gridcolor": "white",
            "linecolor": "white",
            "ticks": ""
           },
           "baxis": {
            "gridcolor": "white",
            "linecolor": "white",
            "ticks": ""
           },
           "bgcolor": "#E5ECF6",
           "caxis": {
            "gridcolor": "white",
            "linecolor": "white",
            "ticks": ""
           }
          },
          "title": {
           "x": 0.05
          },
          "xaxis": {
           "automargin": true,
           "gridcolor": "white",
           "linecolor": "white",
           "ticks": "",
           "title": {
            "standoff": 15
           },
           "zerolinecolor": "white",
           "zerolinewidth": 2
          },
          "yaxis": {
           "automargin": true,
           "gridcolor": "white",
           "linecolor": "white",
           "ticks": "",
           "title": {
            "standoff": 15
           },
           "zerolinecolor": "white",
           "zerolinewidth": 2
          }
         }
        },
        "title": {
         "text": "Star Rating Distribution"
        },
        "width": 500,
        "xaxis": {
         "anchor": "y",
         "domain": [
          0,
          1
         ],
         "title": {
          "text": "star_rating"
         }
        },
        "yaxis": {
         "anchor": "x",
         "domain": [
          0,
          1
         ],
         "title": {
          "text": "count"
         }
        }
       }
      },
      "text/html": [
       "<div>                            <div id=\"0282f570-69cf-47aa-b430-45b5314f0b35\" class=\"plotly-graph-div\" style=\"height:525px; width:500px;\"></div>            <script type=\"text/javascript\">                require([\"plotly\"], function(Plotly) {                    window.PLOTLYENV=window.PLOTLYENV || {};                                    if (document.getElementById(\"0282f570-69cf-47aa-b430-45b5314f0b35\")) {                    Plotly.newPlot(                        \"0282f570-69cf-47aa-b430-45b5314f0b35\",                        [{\"alignmentgroup\":\"True\",\"bingroup\":\"x\",\"hovertemplate\":\"star_rating=%{x}<br>count=%{y}<extra></extra>\",\"legendgroup\":\"\",\"marker\":{\"color\":\"#636efa\",\"pattern\":{\"shape\":\"\"}},\"name\":\"\",\"offsetgroup\":\"\",\"orientation\":\"v\",\"showlegend\":false,\"x\":[4.8,4.8,5.0,4.7,5.0,4.8,5.0,5.0,5.0,5.0,4.9,5.0,5.0,5.0,4.8,5.0,4.9,4.9,4.9,5.0,5.0,5.0,5.0,5.0,5.0,5.0,5.0,5.0,4.8,5.0,3.0,5.0,3.4,4.6,5.0,4.7,4.9,4.4,5.0,4.9,5.0,5.0,5.0,5.0,4.9,4.5,5.0,5.0,5.0,5.0,5.0,5.0,5.0,4.7,4.6,5.0,5.0,5.0,4.3,5.0,5.0,5.0,5.0,5.0,5.0,5.0,4.4,5.0,4.8,5.0,4.8,5.0,5.0,5.0,5.0,4.9,5.0,5.0,5.0,4.9,5.0,5.0,4.9,5.0,5.0,5.0,4.9,5.0,5.0,5.0,5.0,5.0,5.0,4.9,5.0,5.0,5.0,5.0,5.0,4.8,5.0,5.0,4.3,4.8,5.0,5.0,5.0,5.0,5.0,5.0,5.0,5.0,5.0,5.0,5.0,5.0,5.0,5.0,4.8,4.8,5.0,0.0,5.0,5.0,5.0,5.0,5.0,4.8,5.0,4.0,0.0,0.0,0.0,0.0,0.0,0.0,0.0,0.0,0.0,0.0,0.0,0.0,1.0,0.0,0.0,0.0,0.0,0.0,0.0,0.0,0.0,0.0,0.0,0.0,0.0,0.0,0.0,0.0,0.0,0.0,0.0,5.0,0.0,0.0,0.0,0.0,0.0,0.0,0.0,0.0,0.0,0.0,0.0,0.0,0.0,0.0,0.0,0.0,5.0,0.0,0.0,0.0,0.0,0.0,0.0,0.0,0.0,0.0,0.0,0.0,0.0,0.0,0.0,0.0,0.0,0.0,0.0,0.0,0.0,0.0,0.0,0.0,0.0,0.0,0.0,0.0,0.0,0.0,0.0,0.0,0.0,0.0,0.0,0.0,0.0,0.0,5.0,5.0,5.0,5.0,5.0,5.0,4.9,5.0,5.0,5.0,5.0,5.0,5.0,5.0,5.0,5.0,5.0,5.0,5.0,5.0,5.0,5.0,5.0,5.0,5.0,5.0,5.0,5.0,5.0,5.0,5.0,5.0,5.0,4.8,4.8,4.4,4.4,4.5,4.8,4.8,4.4,4.5,4.0,3.7,4.9,4.7,4.8,5.0,5.0,1.0,4.9,4.8,5.0,5.0],\"xaxis\":\"x\",\"yaxis\":\"y\",\"type\":\"histogram\"}],                        {\"template\":{\"data\":{\"histogram2dcontour\":[{\"type\":\"histogram2dcontour\",\"colorbar\":{\"outlinewidth\":0,\"ticks\":\"\"},\"colorscale\":[[0.0,\"#0d0887\"],[0.1111111111111111,\"#46039f\"],[0.2222222222222222,\"#7201a8\"],[0.3333333333333333,\"#9c179e\"],[0.4444444444444444,\"#bd3786\"],[0.5555555555555556,\"#d8576b\"],[0.6666666666666666,\"#ed7953\"],[0.7777777777777778,\"#fb9f3a\"],[0.8888888888888888,\"#fdca26\"],[1.0,\"#f0f921\"]]}],\"choropleth\":[{\"type\":\"choropleth\",\"colorbar\":{\"outlinewidth\":0,\"ticks\":\"\"}}],\"histogram2d\":[{\"type\":\"histogram2d\",\"colorbar\":{\"outlinewidth\":0,\"ticks\":\"\"},\"colorscale\":[[0.0,\"#0d0887\"],[0.1111111111111111,\"#46039f\"],[0.2222222222222222,\"#7201a8\"],[0.3333333333333333,\"#9c179e\"],[0.4444444444444444,\"#bd3786\"],[0.5555555555555556,\"#d8576b\"],[0.6666666666666666,\"#ed7953\"],[0.7777777777777778,\"#fb9f3a\"],[0.8888888888888888,\"#fdca26\"],[1.0,\"#f0f921\"]]}],\"heatmap\":[{\"type\":\"heatmap\",\"colorbar\":{\"outlinewidth\":0,\"ticks\":\"\"},\"colorscale\":[[0.0,\"#0d0887\"],[0.1111111111111111,\"#46039f\"],[0.2222222222222222,\"#7201a8\"],[0.3333333333333333,\"#9c179e\"],[0.4444444444444444,\"#bd3786\"],[0.5555555555555556,\"#d8576b\"],[0.6666666666666666,\"#ed7953\"],[0.7777777777777778,\"#fb9f3a\"],[0.8888888888888888,\"#fdca26\"],[1.0,\"#f0f921\"]]}],\"heatmapgl\":[{\"type\":\"heatmapgl\",\"colorbar\":{\"outlinewidth\":0,\"ticks\":\"\"},\"colorscale\":[[0.0,\"#0d0887\"],[0.1111111111111111,\"#46039f\"],[0.2222222222222222,\"#7201a8\"],[0.3333333333333333,\"#9c179e\"],[0.4444444444444444,\"#bd3786\"],[0.5555555555555556,\"#d8576b\"],[0.6666666666666666,\"#ed7953\"],[0.7777777777777778,\"#fb9f3a\"],[0.8888888888888888,\"#fdca26\"],[1.0,\"#f0f921\"]]}],\"contourcarpet\":[{\"type\":\"contourcarpet\",\"colorbar\":{\"outlinewidth\":0,\"ticks\":\"\"}}],\"contour\":[{\"type\":\"contour\",\"colorbar\":{\"outlinewidth\":0,\"ticks\":\"\"},\"colorscale\":[[0.0,\"#0d0887\"],[0.1111111111111111,\"#46039f\"],[0.2222222222222222,\"#7201a8\"],[0.3333333333333333,\"#9c179e\"],[0.4444444444444444,\"#bd3786\"],[0.5555555555555556,\"#d8576b\"],[0.6666666666666666,\"#ed7953\"],[0.7777777777777778,\"#fb9f3a\"],[0.8888888888888888,\"#fdca26\"],[1.0,\"#f0f921\"]]}],\"surface\":[{\"type\":\"surface\",\"colorbar\":{\"outlinewidth\":0,\"ticks\":\"\"},\"colorscale\":[[0.0,\"#0d0887\"],[0.1111111111111111,\"#46039f\"],[0.2222222222222222,\"#7201a8\"],[0.3333333333333333,\"#9c179e\"],[0.4444444444444444,\"#bd3786\"],[0.5555555555555556,\"#d8576b\"],[0.6666666666666666,\"#ed7953\"],[0.7777777777777778,\"#fb9f3a\"],[0.8888888888888888,\"#fdca26\"],[1.0,\"#f0f921\"]]}],\"mesh3d\":[{\"type\":\"mesh3d\",\"colorbar\":{\"outlinewidth\":0,\"ticks\":\"\"}}],\"scatter\":[{\"fillpattern\":{\"fillmode\":\"overlay\",\"size\":10,\"solidity\":0.2},\"type\":\"scatter\"}],\"parcoords\":[{\"type\":\"parcoords\",\"line\":{\"colorbar\":{\"outlinewidth\":0,\"ticks\":\"\"}}}],\"scatterpolargl\":[{\"type\":\"scatterpolargl\",\"marker\":{\"colorbar\":{\"outlinewidth\":0,\"ticks\":\"\"}}}],\"bar\":[{\"error_x\":{\"color\":\"#2a3f5f\"},\"error_y\":{\"color\":\"#2a3f5f\"},\"marker\":{\"line\":{\"color\":\"#E5ECF6\",\"width\":0.5},\"pattern\":{\"fillmode\":\"overlay\",\"size\":10,\"solidity\":0.2}},\"type\":\"bar\"}],\"scattergeo\":[{\"type\":\"scattergeo\",\"marker\":{\"colorbar\":{\"outlinewidth\":0,\"ticks\":\"\"}}}],\"scatterpolar\":[{\"type\":\"scatterpolar\",\"marker\":{\"colorbar\":{\"outlinewidth\":0,\"ticks\":\"\"}}}],\"histogram\":[{\"marker\":{\"pattern\":{\"fillmode\":\"overlay\",\"size\":10,\"solidity\":0.2}},\"type\":\"histogram\"}],\"scattergl\":[{\"type\":\"scattergl\",\"marker\":{\"colorbar\":{\"outlinewidth\":0,\"ticks\":\"\"}}}],\"scatter3d\":[{\"type\":\"scatter3d\",\"line\":{\"colorbar\":{\"outlinewidth\":0,\"ticks\":\"\"}},\"marker\":{\"colorbar\":{\"outlinewidth\":0,\"ticks\":\"\"}}}],\"scattermapbox\":[{\"type\":\"scattermapbox\",\"marker\":{\"colorbar\":{\"outlinewidth\":0,\"ticks\":\"\"}}}],\"scatterternary\":[{\"type\":\"scatterternary\",\"marker\":{\"colorbar\":{\"outlinewidth\":0,\"ticks\":\"\"}}}],\"scattercarpet\":[{\"type\":\"scattercarpet\",\"marker\":{\"colorbar\":{\"outlinewidth\":0,\"ticks\":\"\"}}}],\"carpet\":[{\"aaxis\":{\"endlinecolor\":\"#2a3f5f\",\"gridcolor\":\"white\",\"linecolor\":\"white\",\"minorgridcolor\":\"white\",\"startlinecolor\":\"#2a3f5f\"},\"baxis\":{\"endlinecolor\":\"#2a3f5f\",\"gridcolor\":\"white\",\"linecolor\":\"white\",\"minorgridcolor\":\"white\",\"startlinecolor\":\"#2a3f5f\"},\"type\":\"carpet\"}],\"table\":[{\"cells\":{\"fill\":{\"color\":\"#EBF0F8\"},\"line\":{\"color\":\"white\"}},\"header\":{\"fill\":{\"color\":\"#C8D4E3\"},\"line\":{\"color\":\"white\"}},\"type\":\"table\"}],\"barpolar\":[{\"marker\":{\"line\":{\"color\":\"#E5ECF6\",\"width\":0.5},\"pattern\":{\"fillmode\":\"overlay\",\"size\":10,\"solidity\":0.2}},\"type\":\"barpolar\"}],\"pie\":[{\"automargin\":true,\"type\":\"pie\"}]},\"layout\":{\"autotypenumbers\":\"strict\",\"colorway\":[\"#636efa\",\"#EF553B\",\"#00cc96\",\"#ab63fa\",\"#FFA15A\",\"#19d3f3\",\"#FF6692\",\"#B6E880\",\"#FF97FF\",\"#FECB52\"],\"font\":{\"color\":\"#2a3f5f\"},\"hovermode\":\"closest\",\"hoverlabel\":{\"align\":\"left\"},\"paper_bgcolor\":\"white\",\"plot_bgcolor\":\"#E5ECF6\",\"polar\":{\"bgcolor\":\"#E5ECF6\",\"angularaxis\":{\"gridcolor\":\"white\",\"linecolor\":\"white\",\"ticks\":\"\"},\"radialaxis\":{\"gridcolor\":\"white\",\"linecolor\":\"white\",\"ticks\":\"\"}},\"ternary\":{\"bgcolor\":\"#E5ECF6\",\"aaxis\":{\"gridcolor\":\"white\",\"linecolor\":\"white\",\"ticks\":\"\"},\"baxis\":{\"gridcolor\":\"white\",\"linecolor\":\"white\",\"ticks\":\"\"},\"caxis\":{\"gridcolor\":\"white\",\"linecolor\":\"white\",\"ticks\":\"\"}},\"coloraxis\":{\"colorbar\":{\"outlinewidth\":0,\"ticks\":\"\"}},\"colorscale\":{\"sequential\":[[0.0,\"#0d0887\"],[0.1111111111111111,\"#46039f\"],[0.2222222222222222,\"#7201a8\"],[0.3333333333333333,\"#9c179e\"],[0.4444444444444444,\"#bd3786\"],[0.5555555555555556,\"#d8576b\"],[0.6666666666666666,\"#ed7953\"],[0.7777777777777778,\"#fb9f3a\"],[0.8888888888888888,\"#fdca26\"],[1.0,\"#f0f921\"]],\"sequentialminus\":[[0.0,\"#0d0887\"],[0.1111111111111111,\"#46039f\"],[0.2222222222222222,\"#7201a8\"],[0.3333333333333333,\"#9c179e\"],[0.4444444444444444,\"#bd3786\"],[0.5555555555555556,\"#d8576b\"],[0.6666666666666666,\"#ed7953\"],[0.7777777777777778,\"#fb9f3a\"],[0.8888888888888888,\"#fdca26\"],[1.0,\"#f0f921\"]],\"diverging\":[[0,\"#8e0152\"],[0.1,\"#c51b7d\"],[0.2,\"#de77ae\"],[0.3,\"#f1b6da\"],[0.4,\"#fde0ef\"],[0.5,\"#f7f7f7\"],[0.6,\"#e6f5d0\"],[0.7,\"#b8e186\"],[0.8,\"#7fbc41\"],[0.9,\"#4d9221\"],[1,\"#276419\"]]},\"xaxis\":{\"gridcolor\":\"white\",\"linecolor\":\"white\",\"ticks\":\"\",\"title\":{\"standoff\":15},\"zerolinecolor\":\"white\",\"automargin\":true,\"zerolinewidth\":2},\"yaxis\":{\"gridcolor\":\"white\",\"linecolor\":\"white\",\"ticks\":\"\",\"title\":{\"standoff\":15},\"zerolinecolor\":\"white\",\"automargin\":true,\"zerolinewidth\":2},\"scene\":{\"xaxis\":{\"backgroundcolor\":\"#E5ECF6\",\"gridcolor\":\"white\",\"linecolor\":\"white\",\"showbackground\":true,\"ticks\":\"\",\"zerolinecolor\":\"white\",\"gridwidth\":2},\"yaxis\":{\"backgroundcolor\":\"#E5ECF6\",\"gridcolor\":\"white\",\"linecolor\":\"white\",\"showbackground\":true,\"ticks\":\"\",\"zerolinecolor\":\"white\",\"gridwidth\":2},\"zaxis\":{\"backgroundcolor\":\"#E5ECF6\",\"gridcolor\":\"white\",\"linecolor\":\"white\",\"showbackground\":true,\"ticks\":\"\",\"zerolinecolor\":\"white\",\"gridwidth\":2}},\"shapedefaults\":{\"line\":{\"color\":\"#2a3f5f\"}},\"annotationdefaults\":{\"arrowcolor\":\"#2a3f5f\",\"arrowhead\":0,\"arrowwidth\":1},\"geo\":{\"bgcolor\":\"white\",\"landcolor\":\"#E5ECF6\",\"subunitcolor\":\"white\",\"showland\":true,\"showlakes\":true,\"lakecolor\":\"white\"},\"title\":{\"x\":0.05},\"mapbox\":{\"style\":\"light\"}}},\"xaxis\":{\"anchor\":\"y\",\"domain\":[0.0,1.0],\"title\":{\"text\":\"star_rating\"}},\"yaxis\":{\"anchor\":\"x\",\"domain\":[0.0,1.0],\"title\":{\"text\":\"count\"}},\"legend\":{\"tracegroupgap\":0},\"title\":{\"text\":\"Star Rating Distribution\"},\"barmode\":\"relative\",\"width\":500},                        {\"responsive\": true}                    ).then(function(){\n",
       "                            \n",
       "var gd = document.getElementById('0282f570-69cf-47aa-b430-45b5314f0b35');\n",
       "var x = new MutationObserver(function (mutations, observer) {{\n",
       "        var display = window.getComputedStyle(gd).display;\n",
       "        if (!display || display === 'none') {{\n",
       "            console.log([gd, 'removed!']);\n",
       "            Plotly.purge(gd);\n",
       "            observer.disconnect();\n",
       "        }}\n",
       "}});\n",
       "\n",
       "// Listen for the removal of the full notebook cells\n",
       "var notebookContainer = gd.closest('#notebook-container');\n",
       "if (notebookContainer) {{\n",
       "    x.observe(notebookContainer, {childList: true});\n",
       "}}\n",
       "\n",
       "// Listen for the clearing of the current output cell\n",
       "var outputEl = gd.closest('.output');\n",
       "if (outputEl) {{\n",
       "    x.observe(outputEl, {childList: true});\n",
       "}}\n",
       "\n",
       "                        })                };                });            </script>        </div>"
      ]
     },
     "metadata": {},
     "output_type": "display_data"
    }
   ],
   "source": [
    "px.histogram(all_df, 'star_rating', width=500, title='Star Rating Distribution')"
   ]
  },
  {
   "cell_type": "markdown",
   "id": "347b41ee",
   "metadata": {},
   "source": [
    "* 163 firms have a star rating between 4.8 - 5.2\n",
    "* 16 firms have a star rating between 4.3 - 4.7\n",
    "* 84 firms have a star rating between -0.2 - 0.2\n",
    "* Less than 7 firms have a rating below 4.3"
   ]
  },
  {
   "cell_type": "code",
   "execution_count": null,
   "id": "651f45cb",
   "metadata": {},
   "outputs": [],
   "source": []
  },
  {
   "cell_type": "code",
   "execution_count": 45,
   "id": "e67bcc42",
   "metadata": {},
   "outputs": [
    {
     "data": {
      "application/vnd.plotly.v1+json": {
       "config": {
        "plotlyServerURL": "https://plot.ly"
       },
       "data": [
        {
         "alignmentgroup": "True",
         "bingroup": "x",
         "hovertemplate": "firm_rev=%{x}<br>count=%{y}<extra></extra>",
         "legendgroup": "",
         "marker": {
          "color": "#636efa",
          "pattern": {
           "shape": ""
          }
         },
         "name": "",
         "offsetgroup": "",
         "orientation": "v",
         "showlegend": false,
         "type": "histogram",
         "x": [
          26,
          8,
          32,
          5,
          5,
          32,
          12,
          7,
          3,
          4,
          7,
          5,
          9,
          6,
          3,
          8,
          7,
          3,
          4,
          5,
          3,
          2,
          3,
          2,
          1,
          1,
          2,
          2,
          3,
          1,
          2,
          30,
          5,
          15,
          16,
          14,
          13,
          15,
          14,
          13,
          13,
          12,
          11,
          11,
          11,
          10,
          5,
          8,
          6,
          6,
          8,
          3,
          7,
          7,
          8,
          5,
          5,
          5,
          3,
          2,
          2,
          2,
          5,
          1,
          4,
          6,
          4,
          4,
          5,
          3,
          5,
          5,
          1,
          1,
          3,
          5,
          5,
          5,
          4,
          4,
          4,
          4,
          4,
          2,
          4,
          4,
          4,
          1,
          3,
          3,
          3,
          3,
          3,
          3,
          1,
          1,
          1,
          1,
          2,
          1,
          2,
          2,
          3,
          1,
          2,
          3,
          2,
          2,
          2,
          2,
          2,
          2,
          2,
          1,
          2,
          1,
          1,
          1,
          1,
          1,
          1,
          0,
          1,
          1,
          1,
          1,
          1,
          1,
          1,
          1,
          0,
          0,
          0,
          0,
          0,
          0,
          0,
          0,
          0,
          0,
          0,
          0,
          1,
          0,
          0,
          0,
          0,
          0,
          0,
          0,
          0,
          0,
          0,
          0,
          0,
          0,
          0,
          0,
          0,
          0,
          0,
          2,
          0,
          0,
          0,
          0,
          0,
          0,
          0,
          0,
          0,
          0,
          0,
          0,
          0,
          0,
          0,
          0,
          1,
          0,
          0,
          0,
          0,
          0,
          0,
          0,
          0,
          0,
          0,
          0,
          0,
          0,
          0,
          0,
          0,
          0,
          0,
          0,
          0,
          0,
          0,
          0,
          0,
          0,
          0,
          0,
          0,
          0,
          0,
          0,
          0,
          0,
          0,
          0,
          0,
          0,
          6,
          5,
          4,
          8,
          1,
          2,
          4,
          1,
          1,
          1,
          1,
          1,
          1,
          1,
          1,
          1,
          2,
          1,
          1,
          2,
          1,
          2,
          1,
          1,
          1,
          2,
          1,
          1,
          2,
          1,
          1,
          1,
          1,
          1,
          1,
          1,
          1,
          1,
          1,
          3,
          1,
          1,
          1,
          3,
          42,
          24,
          19,
          13,
          14,
          1,
          11,
          11,
          6,
          8
         ],
         "xaxis": "x",
         "yaxis": "y"
        }
       ],
       "layout": {
        "barmode": "relative",
        "legend": {
         "tracegroupgap": 0
        },
        "template": {
         "data": {
          "bar": [
           {
            "error_x": {
             "color": "#2a3f5f"
            },
            "error_y": {
             "color": "#2a3f5f"
            },
            "marker": {
             "line": {
              "color": "#E5ECF6",
              "width": 0.5
             },
             "pattern": {
              "fillmode": "overlay",
              "size": 10,
              "solidity": 0.2
             }
            },
            "type": "bar"
           }
          ],
          "barpolar": [
           {
            "marker": {
             "line": {
              "color": "#E5ECF6",
              "width": 0.5
             },
             "pattern": {
              "fillmode": "overlay",
              "size": 10,
              "solidity": 0.2
             }
            },
            "type": "barpolar"
           }
          ],
          "carpet": [
           {
            "aaxis": {
             "endlinecolor": "#2a3f5f",
             "gridcolor": "white",
             "linecolor": "white",
             "minorgridcolor": "white",
             "startlinecolor": "#2a3f5f"
            },
            "baxis": {
             "endlinecolor": "#2a3f5f",
             "gridcolor": "white",
             "linecolor": "white",
             "minorgridcolor": "white",
             "startlinecolor": "#2a3f5f"
            },
            "type": "carpet"
           }
          ],
          "choropleth": [
           {
            "colorbar": {
             "outlinewidth": 0,
             "ticks": ""
            },
            "type": "choropleth"
           }
          ],
          "contour": [
           {
            "colorbar": {
             "outlinewidth": 0,
             "ticks": ""
            },
            "colorscale": [
             [
              0,
              "#0d0887"
             ],
             [
              0.1111111111111111,
              "#46039f"
             ],
             [
              0.2222222222222222,
              "#7201a8"
             ],
             [
              0.3333333333333333,
              "#9c179e"
             ],
             [
              0.4444444444444444,
              "#bd3786"
             ],
             [
              0.5555555555555556,
              "#d8576b"
             ],
             [
              0.6666666666666666,
              "#ed7953"
             ],
             [
              0.7777777777777778,
              "#fb9f3a"
             ],
             [
              0.8888888888888888,
              "#fdca26"
             ],
             [
              1,
              "#f0f921"
             ]
            ],
            "type": "contour"
           }
          ],
          "contourcarpet": [
           {
            "colorbar": {
             "outlinewidth": 0,
             "ticks": ""
            },
            "type": "contourcarpet"
           }
          ],
          "heatmap": [
           {
            "colorbar": {
             "outlinewidth": 0,
             "ticks": ""
            },
            "colorscale": [
             [
              0,
              "#0d0887"
             ],
             [
              0.1111111111111111,
              "#46039f"
             ],
             [
              0.2222222222222222,
              "#7201a8"
             ],
             [
              0.3333333333333333,
              "#9c179e"
             ],
             [
              0.4444444444444444,
              "#bd3786"
             ],
             [
              0.5555555555555556,
              "#d8576b"
             ],
             [
              0.6666666666666666,
              "#ed7953"
             ],
             [
              0.7777777777777778,
              "#fb9f3a"
             ],
             [
              0.8888888888888888,
              "#fdca26"
             ],
             [
              1,
              "#f0f921"
             ]
            ],
            "type": "heatmap"
           }
          ],
          "heatmapgl": [
           {
            "colorbar": {
             "outlinewidth": 0,
             "ticks": ""
            },
            "colorscale": [
             [
              0,
              "#0d0887"
             ],
             [
              0.1111111111111111,
              "#46039f"
             ],
             [
              0.2222222222222222,
              "#7201a8"
             ],
             [
              0.3333333333333333,
              "#9c179e"
             ],
             [
              0.4444444444444444,
              "#bd3786"
             ],
             [
              0.5555555555555556,
              "#d8576b"
             ],
             [
              0.6666666666666666,
              "#ed7953"
             ],
             [
              0.7777777777777778,
              "#fb9f3a"
             ],
             [
              0.8888888888888888,
              "#fdca26"
             ],
             [
              1,
              "#f0f921"
             ]
            ],
            "type": "heatmapgl"
           }
          ],
          "histogram": [
           {
            "marker": {
             "pattern": {
              "fillmode": "overlay",
              "size": 10,
              "solidity": 0.2
             }
            },
            "type": "histogram"
           }
          ],
          "histogram2d": [
           {
            "colorbar": {
             "outlinewidth": 0,
             "ticks": ""
            },
            "colorscale": [
             [
              0,
              "#0d0887"
             ],
             [
              0.1111111111111111,
              "#46039f"
             ],
             [
              0.2222222222222222,
              "#7201a8"
             ],
             [
              0.3333333333333333,
              "#9c179e"
             ],
             [
              0.4444444444444444,
              "#bd3786"
             ],
             [
              0.5555555555555556,
              "#d8576b"
             ],
             [
              0.6666666666666666,
              "#ed7953"
             ],
             [
              0.7777777777777778,
              "#fb9f3a"
             ],
             [
              0.8888888888888888,
              "#fdca26"
             ],
             [
              1,
              "#f0f921"
             ]
            ],
            "type": "histogram2d"
           }
          ],
          "histogram2dcontour": [
           {
            "colorbar": {
             "outlinewidth": 0,
             "ticks": ""
            },
            "colorscale": [
             [
              0,
              "#0d0887"
             ],
             [
              0.1111111111111111,
              "#46039f"
             ],
             [
              0.2222222222222222,
              "#7201a8"
             ],
             [
              0.3333333333333333,
              "#9c179e"
             ],
             [
              0.4444444444444444,
              "#bd3786"
             ],
             [
              0.5555555555555556,
              "#d8576b"
             ],
             [
              0.6666666666666666,
              "#ed7953"
             ],
             [
              0.7777777777777778,
              "#fb9f3a"
             ],
             [
              0.8888888888888888,
              "#fdca26"
             ],
             [
              1,
              "#f0f921"
             ]
            ],
            "type": "histogram2dcontour"
           }
          ],
          "mesh3d": [
           {
            "colorbar": {
             "outlinewidth": 0,
             "ticks": ""
            },
            "type": "mesh3d"
           }
          ],
          "parcoords": [
           {
            "line": {
             "colorbar": {
              "outlinewidth": 0,
              "ticks": ""
             }
            },
            "type": "parcoords"
           }
          ],
          "pie": [
           {
            "automargin": true,
            "type": "pie"
           }
          ],
          "scatter": [
           {
            "fillpattern": {
             "fillmode": "overlay",
             "size": 10,
             "solidity": 0.2
            },
            "type": "scatter"
           }
          ],
          "scatter3d": [
           {
            "line": {
             "colorbar": {
              "outlinewidth": 0,
              "ticks": ""
             }
            },
            "marker": {
             "colorbar": {
              "outlinewidth": 0,
              "ticks": ""
             }
            },
            "type": "scatter3d"
           }
          ],
          "scattercarpet": [
           {
            "marker": {
             "colorbar": {
              "outlinewidth": 0,
              "ticks": ""
             }
            },
            "type": "scattercarpet"
           }
          ],
          "scattergeo": [
           {
            "marker": {
             "colorbar": {
              "outlinewidth": 0,
              "ticks": ""
             }
            },
            "type": "scattergeo"
           }
          ],
          "scattergl": [
           {
            "marker": {
             "colorbar": {
              "outlinewidth": 0,
              "ticks": ""
             }
            },
            "type": "scattergl"
           }
          ],
          "scattermapbox": [
           {
            "marker": {
             "colorbar": {
              "outlinewidth": 0,
              "ticks": ""
             }
            },
            "type": "scattermapbox"
           }
          ],
          "scatterpolar": [
           {
            "marker": {
             "colorbar": {
              "outlinewidth": 0,
              "ticks": ""
             }
            },
            "type": "scatterpolar"
           }
          ],
          "scatterpolargl": [
           {
            "marker": {
             "colorbar": {
              "outlinewidth": 0,
              "ticks": ""
             }
            },
            "type": "scatterpolargl"
           }
          ],
          "scatterternary": [
           {
            "marker": {
             "colorbar": {
              "outlinewidth": 0,
              "ticks": ""
             }
            },
            "type": "scatterternary"
           }
          ],
          "surface": [
           {
            "colorbar": {
             "outlinewidth": 0,
             "ticks": ""
            },
            "colorscale": [
             [
              0,
              "#0d0887"
             ],
             [
              0.1111111111111111,
              "#46039f"
             ],
             [
              0.2222222222222222,
              "#7201a8"
             ],
             [
              0.3333333333333333,
              "#9c179e"
             ],
             [
              0.4444444444444444,
              "#bd3786"
             ],
             [
              0.5555555555555556,
              "#d8576b"
             ],
             [
              0.6666666666666666,
              "#ed7953"
             ],
             [
              0.7777777777777778,
              "#fb9f3a"
             ],
             [
              0.8888888888888888,
              "#fdca26"
             ],
             [
              1,
              "#f0f921"
             ]
            ],
            "type": "surface"
           }
          ],
          "table": [
           {
            "cells": {
             "fill": {
              "color": "#EBF0F8"
             },
             "line": {
              "color": "white"
             }
            },
            "header": {
             "fill": {
              "color": "#C8D4E3"
             },
             "line": {
              "color": "white"
             }
            },
            "type": "table"
           }
          ]
         },
         "layout": {
          "annotationdefaults": {
           "arrowcolor": "#2a3f5f",
           "arrowhead": 0,
           "arrowwidth": 1
          },
          "autotypenumbers": "strict",
          "coloraxis": {
           "colorbar": {
            "outlinewidth": 0,
            "ticks": ""
           }
          },
          "colorscale": {
           "diverging": [
            [
             0,
             "#8e0152"
            ],
            [
             0.1,
             "#c51b7d"
            ],
            [
             0.2,
             "#de77ae"
            ],
            [
             0.3,
             "#f1b6da"
            ],
            [
             0.4,
             "#fde0ef"
            ],
            [
             0.5,
             "#f7f7f7"
            ],
            [
             0.6,
             "#e6f5d0"
            ],
            [
             0.7,
             "#b8e186"
            ],
            [
             0.8,
             "#7fbc41"
            ],
            [
             0.9,
             "#4d9221"
            ],
            [
             1,
             "#276419"
            ]
           ],
           "sequential": [
            [
             0,
             "#0d0887"
            ],
            [
             0.1111111111111111,
             "#46039f"
            ],
            [
             0.2222222222222222,
             "#7201a8"
            ],
            [
             0.3333333333333333,
             "#9c179e"
            ],
            [
             0.4444444444444444,
             "#bd3786"
            ],
            [
             0.5555555555555556,
             "#d8576b"
            ],
            [
             0.6666666666666666,
             "#ed7953"
            ],
            [
             0.7777777777777778,
             "#fb9f3a"
            ],
            [
             0.8888888888888888,
             "#fdca26"
            ],
            [
             1,
             "#f0f921"
            ]
           ],
           "sequentialminus": [
            [
             0,
             "#0d0887"
            ],
            [
             0.1111111111111111,
             "#46039f"
            ],
            [
             0.2222222222222222,
             "#7201a8"
            ],
            [
             0.3333333333333333,
             "#9c179e"
            ],
            [
             0.4444444444444444,
             "#bd3786"
            ],
            [
             0.5555555555555556,
             "#d8576b"
            ],
            [
             0.6666666666666666,
             "#ed7953"
            ],
            [
             0.7777777777777778,
             "#fb9f3a"
            ],
            [
             0.8888888888888888,
             "#fdca26"
            ],
            [
             1,
             "#f0f921"
            ]
           ]
          },
          "colorway": [
           "#636efa",
           "#EF553B",
           "#00cc96",
           "#ab63fa",
           "#FFA15A",
           "#19d3f3",
           "#FF6692",
           "#B6E880",
           "#FF97FF",
           "#FECB52"
          ],
          "font": {
           "color": "#2a3f5f"
          },
          "geo": {
           "bgcolor": "white",
           "lakecolor": "white",
           "landcolor": "#E5ECF6",
           "showlakes": true,
           "showland": true,
           "subunitcolor": "white"
          },
          "hoverlabel": {
           "align": "left"
          },
          "hovermode": "closest",
          "mapbox": {
           "style": "light"
          },
          "paper_bgcolor": "white",
          "plot_bgcolor": "#E5ECF6",
          "polar": {
           "angularaxis": {
            "gridcolor": "white",
            "linecolor": "white",
            "ticks": ""
           },
           "bgcolor": "#E5ECF6",
           "radialaxis": {
            "gridcolor": "white",
            "linecolor": "white",
            "ticks": ""
           }
          },
          "scene": {
           "xaxis": {
            "backgroundcolor": "#E5ECF6",
            "gridcolor": "white",
            "gridwidth": 2,
            "linecolor": "white",
            "showbackground": true,
            "ticks": "",
            "zerolinecolor": "white"
           },
           "yaxis": {
            "backgroundcolor": "#E5ECF6",
            "gridcolor": "white",
            "gridwidth": 2,
            "linecolor": "white",
            "showbackground": true,
            "ticks": "",
            "zerolinecolor": "white"
           },
           "zaxis": {
            "backgroundcolor": "#E5ECF6",
            "gridcolor": "white",
            "gridwidth": 2,
            "linecolor": "white",
            "showbackground": true,
            "ticks": "",
            "zerolinecolor": "white"
           }
          },
          "shapedefaults": {
           "line": {
            "color": "#2a3f5f"
           }
          },
          "ternary": {
           "aaxis": {
            "gridcolor": "white",
            "linecolor": "white",
            "ticks": ""
           },
           "baxis": {
            "gridcolor": "white",
            "linecolor": "white",
            "ticks": ""
           },
           "bgcolor": "#E5ECF6",
           "caxis": {
            "gridcolor": "white",
            "linecolor": "white",
            "ticks": ""
           }
          },
          "title": {
           "x": 0.05
          },
          "xaxis": {
           "automargin": true,
           "gridcolor": "white",
           "linecolor": "white",
           "ticks": "",
           "title": {
            "standoff": 15
           },
           "zerolinecolor": "white",
           "zerolinewidth": 2
          },
          "yaxis": {
           "automargin": true,
           "gridcolor": "white",
           "linecolor": "white",
           "ticks": "",
           "title": {
            "standoff": 15
           },
           "zerolinecolor": "white",
           "zerolinewidth": 2
          }
         }
        },
        "title": {
         "text": "Review Distribution"
        },
        "width": 500,
        "xaxis": {
         "anchor": "y",
         "domain": [
          0,
          1
         ],
         "title": {
          "text": "firm_rev"
         }
        },
        "yaxis": {
         "anchor": "x",
         "domain": [
          0,
          1
         ],
         "title": {
          "text": "count"
         }
        }
       }
      },
      "text/html": [
       "<div>                            <div id=\"aaec32af-368f-4e26-8d7b-2f9a01330219\" class=\"plotly-graph-div\" style=\"height:525px; width:500px;\"></div>            <script type=\"text/javascript\">                require([\"plotly\"], function(Plotly) {                    window.PLOTLYENV=window.PLOTLYENV || {};                                    if (document.getElementById(\"aaec32af-368f-4e26-8d7b-2f9a01330219\")) {                    Plotly.newPlot(                        \"aaec32af-368f-4e26-8d7b-2f9a01330219\",                        [{\"alignmentgroup\":\"True\",\"bingroup\":\"x\",\"hovertemplate\":\"firm_rev=%{x}<br>count=%{y}<extra></extra>\",\"legendgroup\":\"\",\"marker\":{\"color\":\"#636efa\",\"pattern\":{\"shape\":\"\"}},\"name\":\"\",\"offsetgroup\":\"\",\"orientation\":\"v\",\"showlegend\":false,\"x\":[26,8,32,5,5,32,12,7,3,4,7,5,9,6,3,8,7,3,4,5,3,2,3,2,1,1,2,2,3,1,2,30,5,15,16,14,13,15,14,13,13,12,11,11,11,10,5,8,6,6,8,3,7,7,8,5,5,5,3,2,2,2,5,1,4,6,4,4,5,3,5,5,1,1,3,5,5,5,4,4,4,4,4,2,4,4,4,1,3,3,3,3,3,3,1,1,1,1,2,1,2,2,3,1,2,3,2,2,2,2,2,2,2,1,2,1,1,1,1,1,1,0,1,1,1,1,1,1,1,1,0,0,0,0,0,0,0,0,0,0,0,0,1,0,0,0,0,0,0,0,0,0,0,0,0,0,0,0,0,0,0,2,0,0,0,0,0,0,0,0,0,0,0,0,0,0,0,0,1,0,0,0,0,0,0,0,0,0,0,0,0,0,0,0,0,0,0,0,0,0,0,0,0,0,0,0,0,0,0,0,0,0,0,0,0,0,6,5,4,8,1,2,4,1,1,1,1,1,1,1,1,1,2,1,1,2,1,2,1,1,1,2,1,1,2,1,1,1,1,1,1,1,1,1,1,3,1,1,1,3,42,24,19,13,14,1,11,11,6,8],\"xaxis\":\"x\",\"yaxis\":\"y\",\"type\":\"histogram\"}],                        {\"template\":{\"data\":{\"histogram2dcontour\":[{\"type\":\"histogram2dcontour\",\"colorbar\":{\"outlinewidth\":0,\"ticks\":\"\"},\"colorscale\":[[0.0,\"#0d0887\"],[0.1111111111111111,\"#46039f\"],[0.2222222222222222,\"#7201a8\"],[0.3333333333333333,\"#9c179e\"],[0.4444444444444444,\"#bd3786\"],[0.5555555555555556,\"#d8576b\"],[0.6666666666666666,\"#ed7953\"],[0.7777777777777778,\"#fb9f3a\"],[0.8888888888888888,\"#fdca26\"],[1.0,\"#f0f921\"]]}],\"choropleth\":[{\"type\":\"choropleth\",\"colorbar\":{\"outlinewidth\":0,\"ticks\":\"\"}}],\"histogram2d\":[{\"type\":\"histogram2d\",\"colorbar\":{\"outlinewidth\":0,\"ticks\":\"\"},\"colorscale\":[[0.0,\"#0d0887\"],[0.1111111111111111,\"#46039f\"],[0.2222222222222222,\"#7201a8\"],[0.3333333333333333,\"#9c179e\"],[0.4444444444444444,\"#bd3786\"],[0.5555555555555556,\"#d8576b\"],[0.6666666666666666,\"#ed7953\"],[0.7777777777777778,\"#fb9f3a\"],[0.8888888888888888,\"#fdca26\"],[1.0,\"#f0f921\"]]}],\"heatmap\":[{\"type\":\"heatmap\",\"colorbar\":{\"outlinewidth\":0,\"ticks\":\"\"},\"colorscale\":[[0.0,\"#0d0887\"],[0.1111111111111111,\"#46039f\"],[0.2222222222222222,\"#7201a8\"],[0.3333333333333333,\"#9c179e\"],[0.4444444444444444,\"#bd3786\"],[0.5555555555555556,\"#d8576b\"],[0.6666666666666666,\"#ed7953\"],[0.7777777777777778,\"#fb9f3a\"],[0.8888888888888888,\"#fdca26\"],[1.0,\"#f0f921\"]]}],\"heatmapgl\":[{\"type\":\"heatmapgl\",\"colorbar\":{\"outlinewidth\":0,\"ticks\":\"\"},\"colorscale\":[[0.0,\"#0d0887\"],[0.1111111111111111,\"#46039f\"],[0.2222222222222222,\"#7201a8\"],[0.3333333333333333,\"#9c179e\"],[0.4444444444444444,\"#bd3786\"],[0.5555555555555556,\"#d8576b\"],[0.6666666666666666,\"#ed7953\"],[0.7777777777777778,\"#fb9f3a\"],[0.8888888888888888,\"#fdca26\"],[1.0,\"#f0f921\"]]}],\"contourcarpet\":[{\"type\":\"contourcarpet\",\"colorbar\":{\"outlinewidth\":0,\"ticks\":\"\"}}],\"contour\":[{\"type\":\"contour\",\"colorbar\":{\"outlinewidth\":0,\"ticks\":\"\"},\"colorscale\":[[0.0,\"#0d0887\"],[0.1111111111111111,\"#46039f\"],[0.2222222222222222,\"#7201a8\"],[0.3333333333333333,\"#9c179e\"],[0.4444444444444444,\"#bd3786\"],[0.5555555555555556,\"#d8576b\"],[0.6666666666666666,\"#ed7953\"],[0.7777777777777778,\"#fb9f3a\"],[0.8888888888888888,\"#fdca26\"],[1.0,\"#f0f921\"]]}],\"surface\":[{\"type\":\"surface\",\"colorbar\":{\"outlinewidth\":0,\"ticks\":\"\"},\"colorscale\":[[0.0,\"#0d0887\"],[0.1111111111111111,\"#46039f\"],[0.2222222222222222,\"#7201a8\"],[0.3333333333333333,\"#9c179e\"],[0.4444444444444444,\"#bd3786\"],[0.5555555555555556,\"#d8576b\"],[0.6666666666666666,\"#ed7953\"],[0.7777777777777778,\"#fb9f3a\"],[0.8888888888888888,\"#fdca26\"],[1.0,\"#f0f921\"]]}],\"mesh3d\":[{\"type\":\"mesh3d\",\"colorbar\":{\"outlinewidth\":0,\"ticks\":\"\"}}],\"scatter\":[{\"fillpattern\":{\"fillmode\":\"overlay\",\"size\":10,\"solidity\":0.2},\"type\":\"scatter\"}],\"parcoords\":[{\"type\":\"parcoords\",\"line\":{\"colorbar\":{\"outlinewidth\":0,\"ticks\":\"\"}}}],\"scatterpolargl\":[{\"type\":\"scatterpolargl\",\"marker\":{\"colorbar\":{\"outlinewidth\":0,\"ticks\":\"\"}}}],\"bar\":[{\"error_x\":{\"color\":\"#2a3f5f\"},\"error_y\":{\"color\":\"#2a3f5f\"},\"marker\":{\"line\":{\"color\":\"#E5ECF6\",\"width\":0.5},\"pattern\":{\"fillmode\":\"overlay\",\"size\":10,\"solidity\":0.2}},\"type\":\"bar\"}],\"scattergeo\":[{\"type\":\"scattergeo\",\"marker\":{\"colorbar\":{\"outlinewidth\":0,\"ticks\":\"\"}}}],\"scatterpolar\":[{\"type\":\"scatterpolar\",\"marker\":{\"colorbar\":{\"outlinewidth\":0,\"ticks\":\"\"}}}],\"histogram\":[{\"marker\":{\"pattern\":{\"fillmode\":\"overlay\",\"size\":10,\"solidity\":0.2}},\"type\":\"histogram\"}],\"scattergl\":[{\"type\":\"scattergl\",\"marker\":{\"colorbar\":{\"outlinewidth\":0,\"ticks\":\"\"}}}],\"scatter3d\":[{\"type\":\"scatter3d\",\"line\":{\"colorbar\":{\"outlinewidth\":0,\"ticks\":\"\"}},\"marker\":{\"colorbar\":{\"outlinewidth\":0,\"ticks\":\"\"}}}],\"scattermapbox\":[{\"type\":\"scattermapbox\",\"marker\":{\"colorbar\":{\"outlinewidth\":0,\"ticks\":\"\"}}}],\"scatterternary\":[{\"type\":\"scatterternary\",\"marker\":{\"colorbar\":{\"outlinewidth\":0,\"ticks\":\"\"}}}],\"scattercarpet\":[{\"type\":\"scattercarpet\",\"marker\":{\"colorbar\":{\"outlinewidth\":0,\"ticks\":\"\"}}}],\"carpet\":[{\"aaxis\":{\"endlinecolor\":\"#2a3f5f\",\"gridcolor\":\"white\",\"linecolor\":\"white\",\"minorgridcolor\":\"white\",\"startlinecolor\":\"#2a3f5f\"},\"baxis\":{\"endlinecolor\":\"#2a3f5f\",\"gridcolor\":\"white\",\"linecolor\":\"white\",\"minorgridcolor\":\"white\",\"startlinecolor\":\"#2a3f5f\"},\"type\":\"carpet\"}],\"table\":[{\"cells\":{\"fill\":{\"color\":\"#EBF0F8\"},\"line\":{\"color\":\"white\"}},\"header\":{\"fill\":{\"color\":\"#C8D4E3\"},\"line\":{\"color\":\"white\"}},\"type\":\"table\"}],\"barpolar\":[{\"marker\":{\"line\":{\"color\":\"#E5ECF6\",\"width\":0.5},\"pattern\":{\"fillmode\":\"overlay\",\"size\":10,\"solidity\":0.2}},\"type\":\"barpolar\"}],\"pie\":[{\"automargin\":true,\"type\":\"pie\"}]},\"layout\":{\"autotypenumbers\":\"strict\",\"colorway\":[\"#636efa\",\"#EF553B\",\"#00cc96\",\"#ab63fa\",\"#FFA15A\",\"#19d3f3\",\"#FF6692\",\"#B6E880\",\"#FF97FF\",\"#FECB52\"],\"font\":{\"color\":\"#2a3f5f\"},\"hovermode\":\"closest\",\"hoverlabel\":{\"align\":\"left\"},\"paper_bgcolor\":\"white\",\"plot_bgcolor\":\"#E5ECF6\",\"polar\":{\"bgcolor\":\"#E5ECF6\",\"angularaxis\":{\"gridcolor\":\"white\",\"linecolor\":\"white\",\"ticks\":\"\"},\"radialaxis\":{\"gridcolor\":\"white\",\"linecolor\":\"white\",\"ticks\":\"\"}},\"ternary\":{\"bgcolor\":\"#E5ECF6\",\"aaxis\":{\"gridcolor\":\"white\",\"linecolor\":\"white\",\"ticks\":\"\"},\"baxis\":{\"gridcolor\":\"white\",\"linecolor\":\"white\",\"ticks\":\"\"},\"caxis\":{\"gridcolor\":\"white\",\"linecolor\":\"white\",\"ticks\":\"\"}},\"coloraxis\":{\"colorbar\":{\"outlinewidth\":0,\"ticks\":\"\"}},\"colorscale\":{\"sequential\":[[0.0,\"#0d0887\"],[0.1111111111111111,\"#46039f\"],[0.2222222222222222,\"#7201a8\"],[0.3333333333333333,\"#9c179e\"],[0.4444444444444444,\"#bd3786\"],[0.5555555555555556,\"#d8576b\"],[0.6666666666666666,\"#ed7953\"],[0.7777777777777778,\"#fb9f3a\"],[0.8888888888888888,\"#fdca26\"],[1.0,\"#f0f921\"]],\"sequentialminus\":[[0.0,\"#0d0887\"],[0.1111111111111111,\"#46039f\"],[0.2222222222222222,\"#7201a8\"],[0.3333333333333333,\"#9c179e\"],[0.4444444444444444,\"#bd3786\"],[0.5555555555555556,\"#d8576b\"],[0.6666666666666666,\"#ed7953\"],[0.7777777777777778,\"#fb9f3a\"],[0.8888888888888888,\"#fdca26\"],[1.0,\"#f0f921\"]],\"diverging\":[[0,\"#8e0152\"],[0.1,\"#c51b7d\"],[0.2,\"#de77ae\"],[0.3,\"#f1b6da\"],[0.4,\"#fde0ef\"],[0.5,\"#f7f7f7\"],[0.6,\"#e6f5d0\"],[0.7,\"#b8e186\"],[0.8,\"#7fbc41\"],[0.9,\"#4d9221\"],[1,\"#276419\"]]},\"xaxis\":{\"gridcolor\":\"white\",\"linecolor\":\"white\",\"ticks\":\"\",\"title\":{\"standoff\":15},\"zerolinecolor\":\"white\",\"automargin\":true,\"zerolinewidth\":2},\"yaxis\":{\"gridcolor\":\"white\",\"linecolor\":\"white\",\"ticks\":\"\",\"title\":{\"standoff\":15},\"zerolinecolor\":\"white\",\"automargin\":true,\"zerolinewidth\":2},\"scene\":{\"xaxis\":{\"backgroundcolor\":\"#E5ECF6\",\"gridcolor\":\"white\",\"linecolor\":\"white\",\"showbackground\":true,\"ticks\":\"\",\"zerolinecolor\":\"white\",\"gridwidth\":2},\"yaxis\":{\"backgroundcolor\":\"#E5ECF6\",\"gridcolor\":\"white\",\"linecolor\":\"white\",\"showbackground\":true,\"ticks\":\"\",\"zerolinecolor\":\"white\",\"gridwidth\":2},\"zaxis\":{\"backgroundcolor\":\"#E5ECF6\",\"gridcolor\":\"white\",\"linecolor\":\"white\",\"showbackground\":true,\"ticks\":\"\",\"zerolinecolor\":\"white\",\"gridwidth\":2}},\"shapedefaults\":{\"line\":{\"color\":\"#2a3f5f\"}},\"annotationdefaults\":{\"arrowcolor\":\"#2a3f5f\",\"arrowhead\":0,\"arrowwidth\":1},\"geo\":{\"bgcolor\":\"white\",\"landcolor\":\"#E5ECF6\",\"subunitcolor\":\"white\",\"showland\":true,\"showlakes\":true,\"lakecolor\":\"white\"},\"title\":{\"x\":0.05},\"mapbox\":{\"style\":\"light\"}}},\"xaxis\":{\"anchor\":\"y\",\"domain\":[0.0,1.0],\"title\":{\"text\":\"firm_rev\"}},\"yaxis\":{\"anchor\":\"x\",\"domain\":[0.0,1.0],\"title\":{\"text\":\"count\"}},\"legend\":{\"tracegroupgap\":0},\"title\":{\"text\":\"Review Distribution\"},\"barmode\":\"relative\",\"width\":500},                        {\"responsive\": true}                    ).then(function(){\n",
       "                            \n",
       "var gd = document.getElementById('aaec32af-368f-4e26-8d7b-2f9a01330219');\n",
       "var x = new MutationObserver(function (mutations, observer) {{\n",
       "        var display = window.getComputedStyle(gd).display;\n",
       "        if (!display || display === 'none') {{\n",
       "            console.log([gd, 'removed!']);\n",
       "            Plotly.purge(gd);\n",
       "            observer.disconnect();\n",
       "        }}\n",
       "}});\n",
       "\n",
       "// Listen for the removal of the full notebook cells\n",
       "var notebookContainer = gd.closest('#notebook-container');\n",
       "if (notebookContainer) {{\n",
       "    x.observe(notebookContainer, {childList: true});\n",
       "}}\n",
       "\n",
       "// Listen for the clearing of the current output cell\n",
       "var outputEl = gd.closest('.output');\n",
       "if (outputEl) {{\n",
       "    x.observe(outputEl, {childList: true});\n",
       "}}\n",
       "\n",
       "                        })                };                });            </script>        </div>"
      ]
     },
     "metadata": {},
     "output_type": "display_data"
    }
   ],
   "source": [
    "px.histogram(all_df, 'firm_rev', width=500, title='Review Distribution')"
   ]
  },
  {
   "cell_type": "markdown",
   "id": "5d84c6d6",
   "metadata": {},
   "source": [
    "* From the distribution above, 146 firms has a review between 0 -1."
   ]
  },
  {
   "cell_type": "code",
   "execution_count": null,
   "id": "43854353",
   "metadata": {},
   "outputs": [],
   "source": []
  },
  {
   "cell_type": "code",
   "execution_count": 46,
   "id": "c9e9e915",
   "metadata": {},
   "outputs": [
    {
     "data": {
      "application/vnd.plotly.v1+json": {
       "config": {
        "plotlyServerURL": "https://plot.ly"
       },
       "data": [
        {
         "alignmentgroup": "True",
         "hovertemplate": "variable=star_rating<br>firm_name=%{x}<br>value=%{y}<extra></extra>",
         "legendgroup": "star_rating",
         "marker": {
          "color": "#636efa",
          "pattern": {
           "shape": ""
          }
         },
         "name": "star_rating",
         "offsetgroup": "star_rating",
         "orientation": "v",
         "showlegend": true,
         "textposition": "auto",
         "type": "bar",
         "x": [
          "SoluLab",
          "S-PRO",
          "MobiDev",
          "APPSTIRR",
          "Zco Corporation"
         ],
         "xaxis": "x",
         "y": [
          5,
          5,
          5,
          5,
          5
         ],
         "yaxis": "y"
        },
        {
         "alignmentgroup": "True",
         "hovertemplate": "variable=firm_rev<br>firm_name=%{x}<br>value=%{y}<extra></extra>",
         "legendgroup": "firm_rev",
         "marker": {
          "color": "#EF553B",
          "pattern": {
           "shape": ""
          }
         },
         "name": "firm_rev",
         "offsetgroup": "firm_rev",
         "orientation": "v",
         "showlegend": true,
         "textposition": "auto",
         "type": "bar",
         "x": [
          "SoluLab",
          "S-PRO",
          "MobiDev",
          "APPSTIRR",
          "Zco Corporation"
         ],
         "xaxis": "x",
         "y": [
          32,
          30,
          16,
          14,
          14
         ],
         "yaxis": "y"
        }
       ],
       "layout": {
        "barmode": "relative",
        "legend": {
         "title": {
          "text": "variable"
         },
         "tracegroupgap": 0
        },
        "template": {
         "data": {
          "bar": [
           {
            "error_x": {
             "color": "#2a3f5f"
            },
            "error_y": {
             "color": "#2a3f5f"
            },
            "marker": {
             "line": {
              "color": "#E5ECF6",
              "width": 0.5
             },
             "pattern": {
              "fillmode": "overlay",
              "size": 10,
              "solidity": 0.2
             }
            },
            "type": "bar"
           }
          ],
          "barpolar": [
           {
            "marker": {
             "line": {
              "color": "#E5ECF6",
              "width": 0.5
             },
             "pattern": {
              "fillmode": "overlay",
              "size": 10,
              "solidity": 0.2
             }
            },
            "type": "barpolar"
           }
          ],
          "carpet": [
           {
            "aaxis": {
             "endlinecolor": "#2a3f5f",
             "gridcolor": "white",
             "linecolor": "white",
             "minorgridcolor": "white",
             "startlinecolor": "#2a3f5f"
            },
            "baxis": {
             "endlinecolor": "#2a3f5f",
             "gridcolor": "white",
             "linecolor": "white",
             "minorgridcolor": "white",
             "startlinecolor": "#2a3f5f"
            },
            "type": "carpet"
           }
          ],
          "choropleth": [
           {
            "colorbar": {
             "outlinewidth": 0,
             "ticks": ""
            },
            "type": "choropleth"
           }
          ],
          "contour": [
           {
            "colorbar": {
             "outlinewidth": 0,
             "ticks": ""
            },
            "colorscale": [
             [
              0,
              "#0d0887"
             ],
             [
              0.1111111111111111,
              "#46039f"
             ],
             [
              0.2222222222222222,
              "#7201a8"
             ],
             [
              0.3333333333333333,
              "#9c179e"
             ],
             [
              0.4444444444444444,
              "#bd3786"
             ],
             [
              0.5555555555555556,
              "#d8576b"
             ],
             [
              0.6666666666666666,
              "#ed7953"
             ],
             [
              0.7777777777777778,
              "#fb9f3a"
             ],
             [
              0.8888888888888888,
              "#fdca26"
             ],
             [
              1,
              "#f0f921"
             ]
            ],
            "type": "contour"
           }
          ],
          "contourcarpet": [
           {
            "colorbar": {
             "outlinewidth": 0,
             "ticks": ""
            },
            "type": "contourcarpet"
           }
          ],
          "heatmap": [
           {
            "colorbar": {
             "outlinewidth": 0,
             "ticks": ""
            },
            "colorscale": [
             [
              0,
              "#0d0887"
             ],
             [
              0.1111111111111111,
              "#46039f"
             ],
             [
              0.2222222222222222,
              "#7201a8"
             ],
             [
              0.3333333333333333,
              "#9c179e"
             ],
             [
              0.4444444444444444,
              "#bd3786"
             ],
             [
              0.5555555555555556,
              "#d8576b"
             ],
             [
              0.6666666666666666,
              "#ed7953"
             ],
             [
              0.7777777777777778,
              "#fb9f3a"
             ],
             [
              0.8888888888888888,
              "#fdca26"
             ],
             [
              1,
              "#f0f921"
             ]
            ],
            "type": "heatmap"
           }
          ],
          "heatmapgl": [
           {
            "colorbar": {
             "outlinewidth": 0,
             "ticks": ""
            },
            "colorscale": [
             [
              0,
              "#0d0887"
             ],
             [
              0.1111111111111111,
              "#46039f"
             ],
             [
              0.2222222222222222,
              "#7201a8"
             ],
             [
              0.3333333333333333,
              "#9c179e"
             ],
             [
              0.4444444444444444,
              "#bd3786"
             ],
             [
              0.5555555555555556,
              "#d8576b"
             ],
             [
              0.6666666666666666,
              "#ed7953"
             ],
             [
              0.7777777777777778,
              "#fb9f3a"
             ],
             [
              0.8888888888888888,
              "#fdca26"
             ],
             [
              1,
              "#f0f921"
             ]
            ],
            "type": "heatmapgl"
           }
          ],
          "histogram": [
           {
            "marker": {
             "pattern": {
              "fillmode": "overlay",
              "size": 10,
              "solidity": 0.2
             }
            },
            "type": "histogram"
           }
          ],
          "histogram2d": [
           {
            "colorbar": {
             "outlinewidth": 0,
             "ticks": ""
            },
            "colorscale": [
             [
              0,
              "#0d0887"
             ],
             [
              0.1111111111111111,
              "#46039f"
             ],
             [
              0.2222222222222222,
              "#7201a8"
             ],
             [
              0.3333333333333333,
              "#9c179e"
             ],
             [
              0.4444444444444444,
              "#bd3786"
             ],
             [
              0.5555555555555556,
              "#d8576b"
             ],
             [
              0.6666666666666666,
              "#ed7953"
             ],
             [
              0.7777777777777778,
              "#fb9f3a"
             ],
             [
              0.8888888888888888,
              "#fdca26"
             ],
             [
              1,
              "#f0f921"
             ]
            ],
            "type": "histogram2d"
           }
          ],
          "histogram2dcontour": [
           {
            "colorbar": {
             "outlinewidth": 0,
             "ticks": ""
            },
            "colorscale": [
             [
              0,
              "#0d0887"
             ],
             [
              0.1111111111111111,
              "#46039f"
             ],
             [
              0.2222222222222222,
              "#7201a8"
             ],
             [
              0.3333333333333333,
              "#9c179e"
             ],
             [
              0.4444444444444444,
              "#bd3786"
             ],
             [
              0.5555555555555556,
              "#d8576b"
             ],
             [
              0.6666666666666666,
              "#ed7953"
             ],
             [
              0.7777777777777778,
              "#fb9f3a"
             ],
             [
              0.8888888888888888,
              "#fdca26"
             ],
             [
              1,
              "#f0f921"
             ]
            ],
            "type": "histogram2dcontour"
           }
          ],
          "mesh3d": [
           {
            "colorbar": {
             "outlinewidth": 0,
             "ticks": ""
            },
            "type": "mesh3d"
           }
          ],
          "parcoords": [
           {
            "line": {
             "colorbar": {
              "outlinewidth": 0,
              "ticks": ""
             }
            },
            "type": "parcoords"
           }
          ],
          "pie": [
           {
            "automargin": true,
            "type": "pie"
           }
          ],
          "scatter": [
           {
            "fillpattern": {
             "fillmode": "overlay",
             "size": 10,
             "solidity": 0.2
            },
            "type": "scatter"
           }
          ],
          "scatter3d": [
           {
            "line": {
             "colorbar": {
              "outlinewidth": 0,
              "ticks": ""
             }
            },
            "marker": {
             "colorbar": {
              "outlinewidth": 0,
              "ticks": ""
             }
            },
            "type": "scatter3d"
           }
          ],
          "scattercarpet": [
           {
            "marker": {
             "colorbar": {
              "outlinewidth": 0,
              "ticks": ""
             }
            },
            "type": "scattercarpet"
           }
          ],
          "scattergeo": [
           {
            "marker": {
             "colorbar": {
              "outlinewidth": 0,
              "ticks": ""
             }
            },
            "type": "scattergeo"
           }
          ],
          "scattergl": [
           {
            "marker": {
             "colorbar": {
              "outlinewidth": 0,
              "ticks": ""
             }
            },
            "type": "scattergl"
           }
          ],
          "scattermapbox": [
           {
            "marker": {
             "colorbar": {
              "outlinewidth": 0,
              "ticks": ""
             }
            },
            "type": "scattermapbox"
           }
          ],
          "scatterpolar": [
           {
            "marker": {
             "colorbar": {
              "outlinewidth": 0,
              "ticks": ""
             }
            },
            "type": "scatterpolar"
           }
          ],
          "scatterpolargl": [
           {
            "marker": {
             "colorbar": {
              "outlinewidth": 0,
              "ticks": ""
             }
            },
            "type": "scatterpolargl"
           }
          ],
          "scatterternary": [
           {
            "marker": {
             "colorbar": {
              "outlinewidth": 0,
              "ticks": ""
             }
            },
            "type": "scatterternary"
           }
          ],
          "surface": [
           {
            "colorbar": {
             "outlinewidth": 0,
             "ticks": ""
            },
            "colorscale": [
             [
              0,
              "#0d0887"
             ],
             [
              0.1111111111111111,
              "#46039f"
             ],
             [
              0.2222222222222222,
              "#7201a8"
             ],
             [
              0.3333333333333333,
              "#9c179e"
             ],
             [
              0.4444444444444444,
              "#bd3786"
             ],
             [
              0.5555555555555556,
              "#d8576b"
             ],
             [
              0.6666666666666666,
              "#ed7953"
             ],
             [
              0.7777777777777778,
              "#fb9f3a"
             ],
             [
              0.8888888888888888,
              "#fdca26"
             ],
             [
              1,
              "#f0f921"
             ]
            ],
            "type": "surface"
           }
          ],
          "table": [
           {
            "cells": {
             "fill": {
              "color": "#EBF0F8"
             },
             "line": {
              "color": "white"
             }
            },
            "header": {
             "fill": {
              "color": "#C8D4E3"
             },
             "line": {
              "color": "white"
             }
            },
            "type": "table"
           }
          ]
         },
         "layout": {
          "annotationdefaults": {
           "arrowcolor": "#2a3f5f",
           "arrowhead": 0,
           "arrowwidth": 1
          },
          "autotypenumbers": "strict",
          "coloraxis": {
           "colorbar": {
            "outlinewidth": 0,
            "ticks": ""
           }
          },
          "colorscale": {
           "diverging": [
            [
             0,
             "#8e0152"
            ],
            [
             0.1,
             "#c51b7d"
            ],
            [
             0.2,
             "#de77ae"
            ],
            [
             0.3,
             "#f1b6da"
            ],
            [
             0.4,
             "#fde0ef"
            ],
            [
             0.5,
             "#f7f7f7"
            ],
            [
             0.6,
             "#e6f5d0"
            ],
            [
             0.7,
             "#b8e186"
            ],
            [
             0.8,
             "#7fbc41"
            ],
            [
             0.9,
             "#4d9221"
            ],
            [
             1,
             "#276419"
            ]
           ],
           "sequential": [
            [
             0,
             "#0d0887"
            ],
            [
             0.1111111111111111,
             "#46039f"
            ],
            [
             0.2222222222222222,
             "#7201a8"
            ],
            [
             0.3333333333333333,
             "#9c179e"
            ],
            [
             0.4444444444444444,
             "#bd3786"
            ],
            [
             0.5555555555555556,
             "#d8576b"
            ],
            [
             0.6666666666666666,
             "#ed7953"
            ],
            [
             0.7777777777777778,
             "#fb9f3a"
            ],
            [
             0.8888888888888888,
             "#fdca26"
            ],
            [
             1,
             "#f0f921"
            ]
           ],
           "sequentialminus": [
            [
             0,
             "#0d0887"
            ],
            [
             0.1111111111111111,
             "#46039f"
            ],
            [
             0.2222222222222222,
             "#7201a8"
            ],
            [
             0.3333333333333333,
             "#9c179e"
            ],
            [
             0.4444444444444444,
             "#bd3786"
            ],
            [
             0.5555555555555556,
             "#d8576b"
            ],
            [
             0.6666666666666666,
             "#ed7953"
            ],
            [
             0.7777777777777778,
             "#fb9f3a"
            ],
            [
             0.8888888888888888,
             "#fdca26"
            ],
            [
             1,
             "#f0f921"
            ]
           ]
          },
          "colorway": [
           "#636efa",
           "#EF553B",
           "#00cc96",
           "#ab63fa",
           "#FFA15A",
           "#19d3f3",
           "#FF6692",
           "#B6E880",
           "#FF97FF",
           "#FECB52"
          ],
          "font": {
           "color": "#2a3f5f"
          },
          "geo": {
           "bgcolor": "white",
           "lakecolor": "white",
           "landcolor": "#E5ECF6",
           "showlakes": true,
           "showland": true,
           "subunitcolor": "white"
          },
          "hoverlabel": {
           "align": "left"
          },
          "hovermode": "closest",
          "mapbox": {
           "style": "light"
          },
          "paper_bgcolor": "white",
          "plot_bgcolor": "#E5ECF6",
          "polar": {
           "angularaxis": {
            "gridcolor": "white",
            "linecolor": "white",
            "ticks": ""
           },
           "bgcolor": "#E5ECF6",
           "radialaxis": {
            "gridcolor": "white",
            "linecolor": "white",
            "ticks": ""
           }
          },
          "scene": {
           "xaxis": {
            "backgroundcolor": "#E5ECF6",
            "gridcolor": "white",
            "gridwidth": 2,
            "linecolor": "white",
            "showbackground": true,
            "ticks": "",
            "zerolinecolor": "white"
           },
           "yaxis": {
            "backgroundcolor": "#E5ECF6",
            "gridcolor": "white",
            "gridwidth": 2,
            "linecolor": "white",
            "showbackground": true,
            "ticks": "",
            "zerolinecolor": "white"
           },
           "zaxis": {
            "backgroundcolor": "#E5ECF6",
            "gridcolor": "white",
            "gridwidth": 2,
            "linecolor": "white",
            "showbackground": true,
            "ticks": "",
            "zerolinecolor": "white"
           }
          },
          "shapedefaults": {
           "line": {
            "color": "#2a3f5f"
           }
          },
          "ternary": {
           "aaxis": {
            "gridcolor": "white",
            "linecolor": "white",
            "ticks": ""
           },
           "baxis": {
            "gridcolor": "white",
            "linecolor": "white",
            "ticks": ""
           },
           "bgcolor": "#E5ECF6",
           "caxis": {
            "gridcolor": "white",
            "linecolor": "white",
            "ticks": ""
           }
          },
          "title": {
           "x": 0.05
          },
          "xaxis": {
           "automargin": true,
           "gridcolor": "white",
           "linecolor": "white",
           "ticks": "",
           "title": {
            "standoff": 15
           },
           "zerolinecolor": "white",
           "zerolinewidth": 2
          },
          "yaxis": {
           "automargin": true,
           "gridcolor": "white",
           "linecolor": "white",
           "ticks": "",
           "title": {
            "standoff": 15
           },
           "zerolinecolor": "white",
           "zerolinewidth": 2
          }
         }
        },
        "title": {
         "text": "Top 5 Firms based on star rating and reviews"
        },
        "width": 700,
        "xaxis": {
         "anchor": "y",
         "domain": [
          0,
          1
         ],
         "title": {
          "text": "firm_name"
         }
        },
        "yaxis": {
         "anchor": "x",
         "domain": [
          0,
          1
         ],
         "title": {
          "text": "value"
         }
        }
       }
      },
      "text/html": [
       "<div>                            <div id=\"14f21dfb-1629-4ff1-ade2-bab8c76beabc\" class=\"plotly-graph-div\" style=\"height:525px; width:700px;\"></div>            <script type=\"text/javascript\">                require([\"plotly\"], function(Plotly) {                    window.PLOTLYENV=window.PLOTLYENV || {};                                    if (document.getElementById(\"14f21dfb-1629-4ff1-ade2-bab8c76beabc\")) {                    Plotly.newPlot(                        \"14f21dfb-1629-4ff1-ade2-bab8c76beabc\",                        [{\"alignmentgroup\":\"True\",\"hovertemplate\":\"variable=star_rating<br>firm_name=%{x}<br>value=%{y}<extra></extra>\",\"legendgroup\":\"star_rating\",\"marker\":{\"color\":\"#636efa\",\"pattern\":{\"shape\":\"\"}},\"name\":\"star_rating\",\"offsetgroup\":\"star_rating\",\"orientation\":\"v\",\"showlegend\":true,\"textposition\":\"auto\",\"x\":[\"SoluLab\",\"S-PRO\",\"MobiDev\",\"APPSTIRR\",\"Zco Corporation\"],\"xaxis\":\"x\",\"y\":[5.0,5.0,5.0,5.0,5.0],\"yaxis\":\"y\",\"type\":\"bar\"},{\"alignmentgroup\":\"True\",\"hovertemplate\":\"variable=firm_rev<br>firm_name=%{x}<br>value=%{y}<extra></extra>\",\"legendgroup\":\"firm_rev\",\"marker\":{\"color\":\"#EF553B\",\"pattern\":{\"shape\":\"\"}},\"name\":\"firm_rev\",\"offsetgroup\":\"firm_rev\",\"orientation\":\"v\",\"showlegend\":true,\"textposition\":\"auto\",\"x\":[\"SoluLab\",\"S-PRO\",\"MobiDev\",\"APPSTIRR\",\"Zco Corporation\"],\"xaxis\":\"x\",\"y\":[32.0,30.0,16.0,14.0,14.0],\"yaxis\":\"y\",\"type\":\"bar\"}],                        {\"template\":{\"data\":{\"histogram2dcontour\":[{\"type\":\"histogram2dcontour\",\"colorbar\":{\"outlinewidth\":0,\"ticks\":\"\"},\"colorscale\":[[0.0,\"#0d0887\"],[0.1111111111111111,\"#46039f\"],[0.2222222222222222,\"#7201a8\"],[0.3333333333333333,\"#9c179e\"],[0.4444444444444444,\"#bd3786\"],[0.5555555555555556,\"#d8576b\"],[0.6666666666666666,\"#ed7953\"],[0.7777777777777778,\"#fb9f3a\"],[0.8888888888888888,\"#fdca26\"],[1.0,\"#f0f921\"]]}],\"choropleth\":[{\"type\":\"choropleth\",\"colorbar\":{\"outlinewidth\":0,\"ticks\":\"\"}}],\"histogram2d\":[{\"type\":\"histogram2d\",\"colorbar\":{\"outlinewidth\":0,\"ticks\":\"\"},\"colorscale\":[[0.0,\"#0d0887\"],[0.1111111111111111,\"#46039f\"],[0.2222222222222222,\"#7201a8\"],[0.3333333333333333,\"#9c179e\"],[0.4444444444444444,\"#bd3786\"],[0.5555555555555556,\"#d8576b\"],[0.6666666666666666,\"#ed7953\"],[0.7777777777777778,\"#fb9f3a\"],[0.8888888888888888,\"#fdca26\"],[1.0,\"#f0f921\"]]}],\"heatmap\":[{\"type\":\"heatmap\",\"colorbar\":{\"outlinewidth\":0,\"ticks\":\"\"},\"colorscale\":[[0.0,\"#0d0887\"],[0.1111111111111111,\"#46039f\"],[0.2222222222222222,\"#7201a8\"],[0.3333333333333333,\"#9c179e\"],[0.4444444444444444,\"#bd3786\"],[0.5555555555555556,\"#d8576b\"],[0.6666666666666666,\"#ed7953\"],[0.7777777777777778,\"#fb9f3a\"],[0.8888888888888888,\"#fdca26\"],[1.0,\"#f0f921\"]]}],\"heatmapgl\":[{\"type\":\"heatmapgl\",\"colorbar\":{\"outlinewidth\":0,\"ticks\":\"\"},\"colorscale\":[[0.0,\"#0d0887\"],[0.1111111111111111,\"#46039f\"],[0.2222222222222222,\"#7201a8\"],[0.3333333333333333,\"#9c179e\"],[0.4444444444444444,\"#bd3786\"],[0.5555555555555556,\"#d8576b\"],[0.6666666666666666,\"#ed7953\"],[0.7777777777777778,\"#fb9f3a\"],[0.8888888888888888,\"#fdca26\"],[1.0,\"#f0f921\"]]}],\"contourcarpet\":[{\"type\":\"contourcarpet\",\"colorbar\":{\"outlinewidth\":0,\"ticks\":\"\"}}],\"contour\":[{\"type\":\"contour\",\"colorbar\":{\"outlinewidth\":0,\"ticks\":\"\"},\"colorscale\":[[0.0,\"#0d0887\"],[0.1111111111111111,\"#46039f\"],[0.2222222222222222,\"#7201a8\"],[0.3333333333333333,\"#9c179e\"],[0.4444444444444444,\"#bd3786\"],[0.5555555555555556,\"#d8576b\"],[0.6666666666666666,\"#ed7953\"],[0.7777777777777778,\"#fb9f3a\"],[0.8888888888888888,\"#fdca26\"],[1.0,\"#f0f921\"]]}],\"surface\":[{\"type\":\"surface\",\"colorbar\":{\"outlinewidth\":0,\"ticks\":\"\"},\"colorscale\":[[0.0,\"#0d0887\"],[0.1111111111111111,\"#46039f\"],[0.2222222222222222,\"#7201a8\"],[0.3333333333333333,\"#9c179e\"],[0.4444444444444444,\"#bd3786\"],[0.5555555555555556,\"#d8576b\"],[0.6666666666666666,\"#ed7953\"],[0.7777777777777778,\"#fb9f3a\"],[0.8888888888888888,\"#fdca26\"],[1.0,\"#f0f921\"]]}],\"mesh3d\":[{\"type\":\"mesh3d\",\"colorbar\":{\"outlinewidth\":0,\"ticks\":\"\"}}],\"scatter\":[{\"fillpattern\":{\"fillmode\":\"overlay\",\"size\":10,\"solidity\":0.2},\"type\":\"scatter\"}],\"parcoords\":[{\"type\":\"parcoords\",\"line\":{\"colorbar\":{\"outlinewidth\":0,\"ticks\":\"\"}}}],\"scatterpolargl\":[{\"type\":\"scatterpolargl\",\"marker\":{\"colorbar\":{\"outlinewidth\":0,\"ticks\":\"\"}}}],\"bar\":[{\"error_x\":{\"color\":\"#2a3f5f\"},\"error_y\":{\"color\":\"#2a3f5f\"},\"marker\":{\"line\":{\"color\":\"#E5ECF6\",\"width\":0.5},\"pattern\":{\"fillmode\":\"overlay\",\"size\":10,\"solidity\":0.2}},\"type\":\"bar\"}],\"scattergeo\":[{\"type\":\"scattergeo\",\"marker\":{\"colorbar\":{\"outlinewidth\":0,\"ticks\":\"\"}}}],\"scatterpolar\":[{\"type\":\"scatterpolar\",\"marker\":{\"colorbar\":{\"outlinewidth\":0,\"ticks\":\"\"}}}],\"histogram\":[{\"marker\":{\"pattern\":{\"fillmode\":\"overlay\",\"size\":10,\"solidity\":0.2}},\"type\":\"histogram\"}],\"scattergl\":[{\"type\":\"scattergl\",\"marker\":{\"colorbar\":{\"outlinewidth\":0,\"ticks\":\"\"}}}],\"scatter3d\":[{\"type\":\"scatter3d\",\"line\":{\"colorbar\":{\"outlinewidth\":0,\"ticks\":\"\"}},\"marker\":{\"colorbar\":{\"outlinewidth\":0,\"ticks\":\"\"}}}],\"scattermapbox\":[{\"type\":\"scattermapbox\",\"marker\":{\"colorbar\":{\"outlinewidth\":0,\"ticks\":\"\"}}}],\"scatterternary\":[{\"type\":\"scatterternary\",\"marker\":{\"colorbar\":{\"outlinewidth\":0,\"ticks\":\"\"}}}],\"scattercarpet\":[{\"type\":\"scattercarpet\",\"marker\":{\"colorbar\":{\"outlinewidth\":0,\"ticks\":\"\"}}}],\"carpet\":[{\"aaxis\":{\"endlinecolor\":\"#2a3f5f\",\"gridcolor\":\"white\",\"linecolor\":\"white\",\"minorgridcolor\":\"white\",\"startlinecolor\":\"#2a3f5f\"},\"baxis\":{\"endlinecolor\":\"#2a3f5f\",\"gridcolor\":\"white\",\"linecolor\":\"white\",\"minorgridcolor\":\"white\",\"startlinecolor\":\"#2a3f5f\"},\"type\":\"carpet\"}],\"table\":[{\"cells\":{\"fill\":{\"color\":\"#EBF0F8\"},\"line\":{\"color\":\"white\"}},\"header\":{\"fill\":{\"color\":\"#C8D4E3\"},\"line\":{\"color\":\"white\"}},\"type\":\"table\"}],\"barpolar\":[{\"marker\":{\"line\":{\"color\":\"#E5ECF6\",\"width\":0.5},\"pattern\":{\"fillmode\":\"overlay\",\"size\":10,\"solidity\":0.2}},\"type\":\"barpolar\"}],\"pie\":[{\"automargin\":true,\"type\":\"pie\"}]},\"layout\":{\"autotypenumbers\":\"strict\",\"colorway\":[\"#636efa\",\"#EF553B\",\"#00cc96\",\"#ab63fa\",\"#FFA15A\",\"#19d3f3\",\"#FF6692\",\"#B6E880\",\"#FF97FF\",\"#FECB52\"],\"font\":{\"color\":\"#2a3f5f\"},\"hovermode\":\"closest\",\"hoverlabel\":{\"align\":\"left\"},\"paper_bgcolor\":\"white\",\"plot_bgcolor\":\"#E5ECF6\",\"polar\":{\"bgcolor\":\"#E5ECF6\",\"angularaxis\":{\"gridcolor\":\"white\",\"linecolor\":\"white\",\"ticks\":\"\"},\"radialaxis\":{\"gridcolor\":\"white\",\"linecolor\":\"white\",\"ticks\":\"\"}},\"ternary\":{\"bgcolor\":\"#E5ECF6\",\"aaxis\":{\"gridcolor\":\"white\",\"linecolor\":\"white\",\"ticks\":\"\"},\"baxis\":{\"gridcolor\":\"white\",\"linecolor\":\"white\",\"ticks\":\"\"},\"caxis\":{\"gridcolor\":\"white\",\"linecolor\":\"white\",\"ticks\":\"\"}},\"coloraxis\":{\"colorbar\":{\"outlinewidth\":0,\"ticks\":\"\"}},\"colorscale\":{\"sequential\":[[0.0,\"#0d0887\"],[0.1111111111111111,\"#46039f\"],[0.2222222222222222,\"#7201a8\"],[0.3333333333333333,\"#9c179e\"],[0.4444444444444444,\"#bd3786\"],[0.5555555555555556,\"#d8576b\"],[0.6666666666666666,\"#ed7953\"],[0.7777777777777778,\"#fb9f3a\"],[0.8888888888888888,\"#fdca26\"],[1.0,\"#f0f921\"]],\"sequentialminus\":[[0.0,\"#0d0887\"],[0.1111111111111111,\"#46039f\"],[0.2222222222222222,\"#7201a8\"],[0.3333333333333333,\"#9c179e\"],[0.4444444444444444,\"#bd3786\"],[0.5555555555555556,\"#d8576b\"],[0.6666666666666666,\"#ed7953\"],[0.7777777777777778,\"#fb9f3a\"],[0.8888888888888888,\"#fdca26\"],[1.0,\"#f0f921\"]],\"diverging\":[[0,\"#8e0152\"],[0.1,\"#c51b7d\"],[0.2,\"#de77ae\"],[0.3,\"#f1b6da\"],[0.4,\"#fde0ef\"],[0.5,\"#f7f7f7\"],[0.6,\"#e6f5d0\"],[0.7,\"#b8e186\"],[0.8,\"#7fbc41\"],[0.9,\"#4d9221\"],[1,\"#276419\"]]},\"xaxis\":{\"gridcolor\":\"white\",\"linecolor\":\"white\",\"ticks\":\"\",\"title\":{\"standoff\":15},\"zerolinecolor\":\"white\",\"automargin\":true,\"zerolinewidth\":2},\"yaxis\":{\"gridcolor\":\"white\",\"linecolor\":\"white\",\"ticks\":\"\",\"title\":{\"standoff\":15},\"zerolinecolor\":\"white\",\"automargin\":true,\"zerolinewidth\":2},\"scene\":{\"xaxis\":{\"backgroundcolor\":\"#E5ECF6\",\"gridcolor\":\"white\",\"linecolor\":\"white\",\"showbackground\":true,\"ticks\":\"\",\"zerolinecolor\":\"white\",\"gridwidth\":2},\"yaxis\":{\"backgroundcolor\":\"#E5ECF6\",\"gridcolor\":\"white\",\"linecolor\":\"white\",\"showbackground\":true,\"ticks\":\"\",\"zerolinecolor\":\"white\",\"gridwidth\":2},\"zaxis\":{\"backgroundcolor\":\"#E5ECF6\",\"gridcolor\":\"white\",\"linecolor\":\"white\",\"showbackground\":true,\"ticks\":\"\",\"zerolinecolor\":\"white\",\"gridwidth\":2}},\"shapedefaults\":{\"line\":{\"color\":\"#2a3f5f\"}},\"annotationdefaults\":{\"arrowcolor\":\"#2a3f5f\",\"arrowhead\":0,\"arrowwidth\":1},\"geo\":{\"bgcolor\":\"white\",\"landcolor\":\"#E5ECF6\",\"subunitcolor\":\"white\",\"showland\":true,\"showlakes\":true,\"lakecolor\":\"white\"},\"title\":{\"x\":0.05},\"mapbox\":{\"style\":\"light\"}}},\"xaxis\":{\"anchor\":\"y\",\"domain\":[0.0,1.0],\"title\":{\"text\":\"firm_name\"}},\"yaxis\":{\"anchor\":\"x\",\"domain\":[0.0,1.0],\"title\":{\"text\":\"value\"}},\"legend\":{\"title\":{\"text\":\"variable\"},\"tracegroupgap\":0},\"title\":{\"text\":\"Top 5 Firms based on star rating and reviews\"},\"barmode\":\"relative\",\"width\":700},                        {\"responsive\": true}                    ).then(function(){\n",
       "                            \n",
       "var gd = document.getElementById('14f21dfb-1629-4ff1-ade2-bab8c76beabc');\n",
       "var x = new MutationObserver(function (mutations, observer) {{\n",
       "        var display = window.getComputedStyle(gd).display;\n",
       "        if (!display || display === 'none') {{\n",
       "            console.log([gd, 'removed!']);\n",
       "            Plotly.purge(gd);\n",
       "            observer.disconnect();\n",
       "        }}\n",
       "}});\n",
       "\n",
       "// Listen for the removal of the full notebook cells\n",
       "var notebookContainer = gd.closest('#notebook-container');\n",
       "if (notebookContainer) {{\n",
       "    x.observe(notebookContainer, {childList: true});\n",
       "}}\n",
       "\n",
       "// Listen for the clearing of the current output cell\n",
       "var outputEl = gd.closest('.output');\n",
       "if (outputEl) {{\n",
       "    x.observe(outputEl, {childList: true});\n",
       "}}\n",
       "\n",
       "                        })                };                });            </script>        </div>"
      ]
     },
     "metadata": {},
     "output_type": "display_data"
    }
   ],
   "source": [
    "top5_str_rev = all_df.sort_values(by=['star_rating', 'firm_rev'], ascending=False)[:5]\n",
    "px.bar(top5_str_rev, 'firm_name', ['star_rating', 'firm_rev'], width=700, title='Top 5 Firms based on star rating and reviews')"
   ]
  },
  {
   "cell_type": "markdown",
   "id": "f5a28b8d",
   "metadata": {},
   "source": [
    "* From the distribution above, all the top 5 firms have a five-star rating but SoluLab has the highest review of 32"
   ]
  },
  {
   "cell_type": "code",
   "execution_count": null,
   "id": "f4c27111",
   "metadata": {},
   "outputs": [],
   "source": []
  },
  {
   "cell_type": "code",
   "execution_count": 52,
   "id": "cbc16a59",
   "metadata": {},
   "outputs": [
    {
     "data": {
      "application/vnd.plotly.v1+json": {
       "config": {
        "plotlyServerURL": "https://plot.ly"
       },
       "data": [
        {
         "alignmentgroup": "True",
         "hovertemplate": "variable=star_rating<br>firm_name=%{x}<br>value=%{y}<extra></extra>",
         "legendgroup": "star_rating",
         "marker": {
          "color": "#636efa",
          "pattern": {
           "shape": ""
          }
         },
         "name": "star_rating",
         "offsetgroup": "star_rating",
         "orientation": "v",
         "showlegend": true,
         "textposition": "auto",
         "type": "bar",
         "x": [
          "Datapine",
          "N-iX",
          "Programmers.io",
          "ITXITPRO PVT. LTD.",
          "CBIG Consulting"
         ],
         "xaxis": "x",
         "y": [
          5,
          5,
          5,
          5,
          5
         ],
         "yaxis": "y"
        },
        {
         "alignmentgroup": "True",
         "hovertemplate": "variable=service_pct(%)<br>firm_name=%{x}<br>value=%{y}<extra></extra>",
         "legendgroup": "service_pct(%)",
         "marker": {
          "color": "#EF553B",
          "pattern": {
           "shape": ""
          }
         },
         "name": "service_pct(%)",
         "offsetgroup": "service_pct(%)",
         "orientation": "v",
         "showlegend": true,
         "textposition": "auto",
         "type": "bar",
         "x": [
          "Datapine",
          "N-iX",
          "Programmers.io",
          "ITXITPRO PVT. LTD.",
          "CBIG Consulting"
         ],
         "xaxis": "x",
         "y": [
          90,
          90,
          90,
          90,
          90
         ],
         "yaxis": "y"
        }
       ],
       "layout": {
        "barmode": "relative",
        "legend": {
         "title": {
          "text": "variable"
         },
         "tracegroupgap": 0
        },
        "template": {
         "data": {
          "bar": [
           {
            "error_x": {
             "color": "#2a3f5f"
            },
            "error_y": {
             "color": "#2a3f5f"
            },
            "marker": {
             "line": {
              "color": "#E5ECF6",
              "width": 0.5
             },
             "pattern": {
              "fillmode": "overlay",
              "size": 10,
              "solidity": 0.2
             }
            },
            "type": "bar"
           }
          ],
          "barpolar": [
           {
            "marker": {
             "line": {
              "color": "#E5ECF6",
              "width": 0.5
             },
             "pattern": {
              "fillmode": "overlay",
              "size": 10,
              "solidity": 0.2
             }
            },
            "type": "barpolar"
           }
          ],
          "carpet": [
           {
            "aaxis": {
             "endlinecolor": "#2a3f5f",
             "gridcolor": "white",
             "linecolor": "white",
             "minorgridcolor": "white",
             "startlinecolor": "#2a3f5f"
            },
            "baxis": {
             "endlinecolor": "#2a3f5f",
             "gridcolor": "white",
             "linecolor": "white",
             "minorgridcolor": "white",
             "startlinecolor": "#2a3f5f"
            },
            "type": "carpet"
           }
          ],
          "choropleth": [
           {
            "colorbar": {
             "outlinewidth": 0,
             "ticks": ""
            },
            "type": "choropleth"
           }
          ],
          "contour": [
           {
            "colorbar": {
             "outlinewidth": 0,
             "ticks": ""
            },
            "colorscale": [
             [
              0,
              "#0d0887"
             ],
             [
              0.1111111111111111,
              "#46039f"
             ],
             [
              0.2222222222222222,
              "#7201a8"
             ],
             [
              0.3333333333333333,
              "#9c179e"
             ],
             [
              0.4444444444444444,
              "#bd3786"
             ],
             [
              0.5555555555555556,
              "#d8576b"
             ],
             [
              0.6666666666666666,
              "#ed7953"
             ],
             [
              0.7777777777777778,
              "#fb9f3a"
             ],
             [
              0.8888888888888888,
              "#fdca26"
             ],
             [
              1,
              "#f0f921"
             ]
            ],
            "type": "contour"
           }
          ],
          "contourcarpet": [
           {
            "colorbar": {
             "outlinewidth": 0,
             "ticks": ""
            },
            "type": "contourcarpet"
           }
          ],
          "heatmap": [
           {
            "colorbar": {
             "outlinewidth": 0,
             "ticks": ""
            },
            "colorscale": [
             [
              0,
              "#0d0887"
             ],
             [
              0.1111111111111111,
              "#46039f"
             ],
             [
              0.2222222222222222,
              "#7201a8"
             ],
             [
              0.3333333333333333,
              "#9c179e"
             ],
             [
              0.4444444444444444,
              "#bd3786"
             ],
             [
              0.5555555555555556,
              "#d8576b"
             ],
             [
              0.6666666666666666,
              "#ed7953"
             ],
             [
              0.7777777777777778,
              "#fb9f3a"
             ],
             [
              0.8888888888888888,
              "#fdca26"
             ],
             [
              1,
              "#f0f921"
             ]
            ],
            "type": "heatmap"
           }
          ],
          "heatmapgl": [
           {
            "colorbar": {
             "outlinewidth": 0,
             "ticks": ""
            },
            "colorscale": [
             [
              0,
              "#0d0887"
             ],
             [
              0.1111111111111111,
              "#46039f"
             ],
             [
              0.2222222222222222,
              "#7201a8"
             ],
             [
              0.3333333333333333,
              "#9c179e"
             ],
             [
              0.4444444444444444,
              "#bd3786"
             ],
             [
              0.5555555555555556,
              "#d8576b"
             ],
             [
              0.6666666666666666,
              "#ed7953"
             ],
             [
              0.7777777777777778,
              "#fb9f3a"
             ],
             [
              0.8888888888888888,
              "#fdca26"
             ],
             [
              1,
              "#f0f921"
             ]
            ],
            "type": "heatmapgl"
           }
          ],
          "histogram": [
           {
            "marker": {
             "pattern": {
              "fillmode": "overlay",
              "size": 10,
              "solidity": 0.2
             }
            },
            "type": "histogram"
           }
          ],
          "histogram2d": [
           {
            "colorbar": {
             "outlinewidth": 0,
             "ticks": ""
            },
            "colorscale": [
             [
              0,
              "#0d0887"
             ],
             [
              0.1111111111111111,
              "#46039f"
             ],
             [
              0.2222222222222222,
              "#7201a8"
             ],
             [
              0.3333333333333333,
              "#9c179e"
             ],
             [
              0.4444444444444444,
              "#bd3786"
             ],
             [
              0.5555555555555556,
              "#d8576b"
             ],
             [
              0.6666666666666666,
              "#ed7953"
             ],
             [
              0.7777777777777778,
              "#fb9f3a"
             ],
             [
              0.8888888888888888,
              "#fdca26"
             ],
             [
              1,
              "#f0f921"
             ]
            ],
            "type": "histogram2d"
           }
          ],
          "histogram2dcontour": [
           {
            "colorbar": {
             "outlinewidth": 0,
             "ticks": ""
            },
            "colorscale": [
             [
              0,
              "#0d0887"
             ],
             [
              0.1111111111111111,
              "#46039f"
             ],
             [
              0.2222222222222222,
              "#7201a8"
             ],
             [
              0.3333333333333333,
              "#9c179e"
             ],
             [
              0.4444444444444444,
              "#bd3786"
             ],
             [
              0.5555555555555556,
              "#d8576b"
             ],
             [
              0.6666666666666666,
              "#ed7953"
             ],
             [
              0.7777777777777778,
              "#fb9f3a"
             ],
             [
              0.8888888888888888,
              "#fdca26"
             ],
             [
              1,
              "#f0f921"
             ]
            ],
            "type": "histogram2dcontour"
           }
          ],
          "mesh3d": [
           {
            "colorbar": {
             "outlinewidth": 0,
             "ticks": ""
            },
            "type": "mesh3d"
           }
          ],
          "parcoords": [
           {
            "line": {
             "colorbar": {
              "outlinewidth": 0,
              "ticks": ""
             }
            },
            "type": "parcoords"
           }
          ],
          "pie": [
           {
            "automargin": true,
            "type": "pie"
           }
          ],
          "scatter": [
           {
            "fillpattern": {
             "fillmode": "overlay",
             "size": 10,
             "solidity": 0.2
            },
            "type": "scatter"
           }
          ],
          "scatter3d": [
           {
            "line": {
             "colorbar": {
              "outlinewidth": 0,
              "ticks": ""
             }
            },
            "marker": {
             "colorbar": {
              "outlinewidth": 0,
              "ticks": ""
             }
            },
            "type": "scatter3d"
           }
          ],
          "scattercarpet": [
           {
            "marker": {
             "colorbar": {
              "outlinewidth": 0,
              "ticks": ""
             }
            },
            "type": "scattercarpet"
           }
          ],
          "scattergeo": [
           {
            "marker": {
             "colorbar": {
              "outlinewidth": 0,
              "ticks": ""
             }
            },
            "type": "scattergeo"
           }
          ],
          "scattergl": [
           {
            "marker": {
             "colorbar": {
              "outlinewidth": 0,
              "ticks": ""
             }
            },
            "type": "scattergl"
           }
          ],
          "scattermapbox": [
           {
            "marker": {
             "colorbar": {
              "outlinewidth": 0,
              "ticks": ""
             }
            },
            "type": "scattermapbox"
           }
          ],
          "scatterpolar": [
           {
            "marker": {
             "colorbar": {
              "outlinewidth": 0,
              "ticks": ""
             }
            },
            "type": "scatterpolar"
           }
          ],
          "scatterpolargl": [
           {
            "marker": {
             "colorbar": {
              "outlinewidth": 0,
              "ticks": ""
             }
            },
            "type": "scatterpolargl"
           }
          ],
          "scatterternary": [
           {
            "marker": {
             "colorbar": {
              "outlinewidth": 0,
              "ticks": ""
             }
            },
            "type": "scatterternary"
           }
          ],
          "surface": [
           {
            "colorbar": {
             "outlinewidth": 0,
             "ticks": ""
            },
            "colorscale": [
             [
              0,
              "#0d0887"
             ],
             [
              0.1111111111111111,
              "#46039f"
             ],
             [
              0.2222222222222222,
              "#7201a8"
             ],
             [
              0.3333333333333333,
              "#9c179e"
             ],
             [
              0.4444444444444444,
              "#bd3786"
             ],
             [
              0.5555555555555556,
              "#d8576b"
             ],
             [
              0.6666666666666666,
              "#ed7953"
             ],
             [
              0.7777777777777778,
              "#fb9f3a"
             ],
             [
              0.8888888888888888,
              "#fdca26"
             ],
             [
              1,
              "#f0f921"
             ]
            ],
            "type": "surface"
           }
          ],
          "table": [
           {
            "cells": {
             "fill": {
              "color": "#EBF0F8"
             },
             "line": {
              "color": "white"
             }
            },
            "header": {
             "fill": {
              "color": "#C8D4E3"
             },
             "line": {
              "color": "white"
             }
            },
            "type": "table"
           }
          ]
         },
         "layout": {
          "annotationdefaults": {
           "arrowcolor": "#2a3f5f",
           "arrowhead": 0,
           "arrowwidth": 1
          },
          "autotypenumbers": "strict",
          "coloraxis": {
           "colorbar": {
            "outlinewidth": 0,
            "ticks": ""
           }
          },
          "colorscale": {
           "diverging": [
            [
             0,
             "#8e0152"
            ],
            [
             0.1,
             "#c51b7d"
            ],
            [
             0.2,
             "#de77ae"
            ],
            [
             0.3,
             "#f1b6da"
            ],
            [
             0.4,
             "#fde0ef"
            ],
            [
             0.5,
             "#f7f7f7"
            ],
            [
             0.6,
             "#e6f5d0"
            ],
            [
             0.7,
             "#b8e186"
            ],
            [
             0.8,
             "#7fbc41"
            ],
            [
             0.9,
             "#4d9221"
            ],
            [
             1,
             "#276419"
            ]
           ],
           "sequential": [
            [
             0,
             "#0d0887"
            ],
            [
             0.1111111111111111,
             "#46039f"
            ],
            [
             0.2222222222222222,
             "#7201a8"
            ],
            [
             0.3333333333333333,
             "#9c179e"
            ],
            [
             0.4444444444444444,
             "#bd3786"
            ],
            [
             0.5555555555555556,
             "#d8576b"
            ],
            [
             0.6666666666666666,
             "#ed7953"
            ],
            [
             0.7777777777777778,
             "#fb9f3a"
            ],
            [
             0.8888888888888888,
             "#fdca26"
            ],
            [
             1,
             "#f0f921"
            ]
           ],
           "sequentialminus": [
            [
             0,
             "#0d0887"
            ],
            [
             0.1111111111111111,
             "#46039f"
            ],
            [
             0.2222222222222222,
             "#7201a8"
            ],
            [
             0.3333333333333333,
             "#9c179e"
            ],
            [
             0.4444444444444444,
             "#bd3786"
            ],
            [
             0.5555555555555556,
             "#d8576b"
            ],
            [
             0.6666666666666666,
             "#ed7953"
            ],
            [
             0.7777777777777778,
             "#fb9f3a"
            ],
            [
             0.8888888888888888,
             "#fdca26"
            ],
            [
             1,
             "#f0f921"
            ]
           ]
          },
          "colorway": [
           "#636efa",
           "#EF553B",
           "#00cc96",
           "#ab63fa",
           "#FFA15A",
           "#19d3f3",
           "#FF6692",
           "#B6E880",
           "#FF97FF",
           "#FECB52"
          ],
          "font": {
           "color": "#2a3f5f"
          },
          "geo": {
           "bgcolor": "white",
           "lakecolor": "white",
           "landcolor": "#E5ECF6",
           "showlakes": true,
           "showland": true,
           "subunitcolor": "white"
          },
          "hoverlabel": {
           "align": "left"
          },
          "hovermode": "closest",
          "mapbox": {
           "style": "light"
          },
          "paper_bgcolor": "white",
          "plot_bgcolor": "#E5ECF6",
          "polar": {
           "angularaxis": {
            "gridcolor": "white",
            "linecolor": "white",
            "ticks": ""
           },
           "bgcolor": "#E5ECF6",
           "radialaxis": {
            "gridcolor": "white",
            "linecolor": "white",
            "ticks": ""
           }
          },
          "scene": {
           "xaxis": {
            "backgroundcolor": "#E5ECF6",
            "gridcolor": "white",
            "gridwidth": 2,
            "linecolor": "white",
            "showbackground": true,
            "ticks": "",
            "zerolinecolor": "white"
           },
           "yaxis": {
            "backgroundcolor": "#E5ECF6",
            "gridcolor": "white",
            "gridwidth": 2,
            "linecolor": "white",
            "showbackground": true,
            "ticks": "",
            "zerolinecolor": "white"
           },
           "zaxis": {
            "backgroundcolor": "#E5ECF6",
            "gridcolor": "white",
            "gridwidth": 2,
            "linecolor": "white",
            "showbackground": true,
            "ticks": "",
            "zerolinecolor": "white"
           }
          },
          "shapedefaults": {
           "line": {
            "color": "#2a3f5f"
           }
          },
          "ternary": {
           "aaxis": {
            "gridcolor": "white",
            "linecolor": "white",
            "ticks": ""
           },
           "baxis": {
            "gridcolor": "white",
            "linecolor": "white",
            "ticks": ""
           },
           "bgcolor": "#E5ECF6",
           "caxis": {
            "gridcolor": "white",
            "linecolor": "white",
            "ticks": ""
           }
          },
          "title": {
           "x": 0.05
          },
          "xaxis": {
           "automargin": true,
           "gridcolor": "white",
           "linecolor": "white",
           "ticks": "",
           "title": {
            "standoff": 15
           },
           "zerolinecolor": "white",
           "zerolinewidth": 2
          },
          "yaxis": {
           "automargin": true,
           "gridcolor": "white",
           "linecolor": "white",
           "ticks": "",
           "title": {
            "standoff": 15
           },
           "zerolinecolor": "white",
           "zerolinewidth": 2
          }
         }
        },
        "title": {
         "text": "Top 5 Firms based on star rating and service percentage"
        },
        "width": 700,
        "xaxis": {
         "anchor": "y",
         "domain": [
          0,
          1
         ],
         "title": {
          "text": "firm_name"
         }
        },
        "yaxis": {
         "anchor": "x",
         "domain": [
          0,
          1
         ],
         "title": {
          "text": "value"
         }
        }
       }
      },
      "text/html": [
       "<div>                            <div id=\"db64a68d-5aa7-4ce0-935d-683acdc6983a\" class=\"plotly-graph-div\" style=\"height:525px; width:700px;\"></div>            <script type=\"text/javascript\">                require([\"plotly\"], function(Plotly) {                    window.PLOTLYENV=window.PLOTLYENV || {};                                    if (document.getElementById(\"db64a68d-5aa7-4ce0-935d-683acdc6983a\")) {                    Plotly.newPlot(                        \"db64a68d-5aa7-4ce0-935d-683acdc6983a\",                        [{\"alignmentgroup\":\"True\",\"hovertemplate\":\"variable=star_rating<br>firm_name=%{x}<br>value=%{y}<extra></extra>\",\"legendgroup\":\"star_rating\",\"marker\":{\"color\":\"#636efa\",\"pattern\":{\"shape\":\"\"}},\"name\":\"star_rating\",\"offsetgroup\":\"star_rating\",\"orientation\":\"v\",\"showlegend\":true,\"textposition\":\"auto\",\"x\":[\"Datapine\",\"N-iX\",\"Programmers.io\",\"ITXITPRO PVT. LTD.\",\"CBIG Consulting\"],\"xaxis\":\"x\",\"y\":[5.0,5.0,5.0,5.0,5.0],\"yaxis\":\"y\",\"type\":\"bar\"},{\"alignmentgroup\":\"True\",\"hovertemplate\":\"variable=service_pct(%)<br>firm_name=%{x}<br>value=%{y}<extra></extra>\",\"legendgroup\":\"service_pct(%)\",\"marker\":{\"color\":\"#EF553B\",\"pattern\":{\"shape\":\"\"}},\"name\":\"service_pct(%)\",\"offsetgroup\":\"service_pct(%)\",\"orientation\":\"v\",\"showlegend\":true,\"textposition\":\"auto\",\"x\":[\"Datapine\",\"N-iX\",\"Programmers.io\",\"ITXITPRO PVT. LTD.\",\"CBIG Consulting\"],\"xaxis\":\"x\",\"y\":[90.0,90.0,90.0,90.0,90.0],\"yaxis\":\"y\",\"type\":\"bar\"}],                        {\"template\":{\"data\":{\"histogram2dcontour\":[{\"type\":\"histogram2dcontour\",\"colorbar\":{\"outlinewidth\":0,\"ticks\":\"\"},\"colorscale\":[[0.0,\"#0d0887\"],[0.1111111111111111,\"#46039f\"],[0.2222222222222222,\"#7201a8\"],[0.3333333333333333,\"#9c179e\"],[0.4444444444444444,\"#bd3786\"],[0.5555555555555556,\"#d8576b\"],[0.6666666666666666,\"#ed7953\"],[0.7777777777777778,\"#fb9f3a\"],[0.8888888888888888,\"#fdca26\"],[1.0,\"#f0f921\"]]}],\"choropleth\":[{\"type\":\"choropleth\",\"colorbar\":{\"outlinewidth\":0,\"ticks\":\"\"}}],\"histogram2d\":[{\"type\":\"histogram2d\",\"colorbar\":{\"outlinewidth\":0,\"ticks\":\"\"},\"colorscale\":[[0.0,\"#0d0887\"],[0.1111111111111111,\"#46039f\"],[0.2222222222222222,\"#7201a8\"],[0.3333333333333333,\"#9c179e\"],[0.4444444444444444,\"#bd3786\"],[0.5555555555555556,\"#d8576b\"],[0.6666666666666666,\"#ed7953\"],[0.7777777777777778,\"#fb9f3a\"],[0.8888888888888888,\"#fdca26\"],[1.0,\"#f0f921\"]]}],\"heatmap\":[{\"type\":\"heatmap\",\"colorbar\":{\"outlinewidth\":0,\"ticks\":\"\"},\"colorscale\":[[0.0,\"#0d0887\"],[0.1111111111111111,\"#46039f\"],[0.2222222222222222,\"#7201a8\"],[0.3333333333333333,\"#9c179e\"],[0.4444444444444444,\"#bd3786\"],[0.5555555555555556,\"#d8576b\"],[0.6666666666666666,\"#ed7953\"],[0.7777777777777778,\"#fb9f3a\"],[0.8888888888888888,\"#fdca26\"],[1.0,\"#f0f921\"]]}],\"heatmapgl\":[{\"type\":\"heatmapgl\",\"colorbar\":{\"outlinewidth\":0,\"ticks\":\"\"},\"colorscale\":[[0.0,\"#0d0887\"],[0.1111111111111111,\"#46039f\"],[0.2222222222222222,\"#7201a8\"],[0.3333333333333333,\"#9c179e\"],[0.4444444444444444,\"#bd3786\"],[0.5555555555555556,\"#d8576b\"],[0.6666666666666666,\"#ed7953\"],[0.7777777777777778,\"#fb9f3a\"],[0.8888888888888888,\"#fdca26\"],[1.0,\"#f0f921\"]]}],\"contourcarpet\":[{\"type\":\"contourcarpet\",\"colorbar\":{\"outlinewidth\":0,\"ticks\":\"\"}}],\"contour\":[{\"type\":\"contour\",\"colorbar\":{\"outlinewidth\":0,\"ticks\":\"\"},\"colorscale\":[[0.0,\"#0d0887\"],[0.1111111111111111,\"#46039f\"],[0.2222222222222222,\"#7201a8\"],[0.3333333333333333,\"#9c179e\"],[0.4444444444444444,\"#bd3786\"],[0.5555555555555556,\"#d8576b\"],[0.6666666666666666,\"#ed7953\"],[0.7777777777777778,\"#fb9f3a\"],[0.8888888888888888,\"#fdca26\"],[1.0,\"#f0f921\"]]}],\"surface\":[{\"type\":\"surface\",\"colorbar\":{\"outlinewidth\":0,\"ticks\":\"\"},\"colorscale\":[[0.0,\"#0d0887\"],[0.1111111111111111,\"#46039f\"],[0.2222222222222222,\"#7201a8\"],[0.3333333333333333,\"#9c179e\"],[0.4444444444444444,\"#bd3786\"],[0.5555555555555556,\"#d8576b\"],[0.6666666666666666,\"#ed7953\"],[0.7777777777777778,\"#fb9f3a\"],[0.8888888888888888,\"#fdca26\"],[1.0,\"#f0f921\"]]}],\"mesh3d\":[{\"type\":\"mesh3d\",\"colorbar\":{\"outlinewidth\":0,\"ticks\":\"\"}}],\"scatter\":[{\"fillpattern\":{\"fillmode\":\"overlay\",\"size\":10,\"solidity\":0.2},\"type\":\"scatter\"}],\"parcoords\":[{\"type\":\"parcoords\",\"line\":{\"colorbar\":{\"outlinewidth\":0,\"ticks\":\"\"}}}],\"scatterpolargl\":[{\"type\":\"scatterpolargl\",\"marker\":{\"colorbar\":{\"outlinewidth\":0,\"ticks\":\"\"}}}],\"bar\":[{\"error_x\":{\"color\":\"#2a3f5f\"},\"error_y\":{\"color\":\"#2a3f5f\"},\"marker\":{\"line\":{\"color\":\"#E5ECF6\",\"width\":0.5},\"pattern\":{\"fillmode\":\"overlay\",\"size\":10,\"solidity\":0.2}},\"type\":\"bar\"}],\"scattergeo\":[{\"type\":\"scattergeo\",\"marker\":{\"colorbar\":{\"outlinewidth\":0,\"ticks\":\"\"}}}],\"scatterpolar\":[{\"type\":\"scatterpolar\",\"marker\":{\"colorbar\":{\"outlinewidth\":0,\"ticks\":\"\"}}}],\"histogram\":[{\"marker\":{\"pattern\":{\"fillmode\":\"overlay\",\"size\":10,\"solidity\":0.2}},\"type\":\"histogram\"}],\"scattergl\":[{\"type\":\"scattergl\",\"marker\":{\"colorbar\":{\"outlinewidth\":0,\"ticks\":\"\"}}}],\"scatter3d\":[{\"type\":\"scatter3d\",\"line\":{\"colorbar\":{\"outlinewidth\":0,\"ticks\":\"\"}},\"marker\":{\"colorbar\":{\"outlinewidth\":0,\"ticks\":\"\"}}}],\"scattermapbox\":[{\"type\":\"scattermapbox\",\"marker\":{\"colorbar\":{\"outlinewidth\":0,\"ticks\":\"\"}}}],\"scatterternary\":[{\"type\":\"scatterternary\",\"marker\":{\"colorbar\":{\"outlinewidth\":0,\"ticks\":\"\"}}}],\"scattercarpet\":[{\"type\":\"scattercarpet\",\"marker\":{\"colorbar\":{\"outlinewidth\":0,\"ticks\":\"\"}}}],\"carpet\":[{\"aaxis\":{\"endlinecolor\":\"#2a3f5f\",\"gridcolor\":\"white\",\"linecolor\":\"white\",\"minorgridcolor\":\"white\",\"startlinecolor\":\"#2a3f5f\"},\"baxis\":{\"endlinecolor\":\"#2a3f5f\",\"gridcolor\":\"white\",\"linecolor\":\"white\",\"minorgridcolor\":\"white\",\"startlinecolor\":\"#2a3f5f\"},\"type\":\"carpet\"}],\"table\":[{\"cells\":{\"fill\":{\"color\":\"#EBF0F8\"},\"line\":{\"color\":\"white\"}},\"header\":{\"fill\":{\"color\":\"#C8D4E3\"},\"line\":{\"color\":\"white\"}},\"type\":\"table\"}],\"barpolar\":[{\"marker\":{\"line\":{\"color\":\"#E5ECF6\",\"width\":0.5},\"pattern\":{\"fillmode\":\"overlay\",\"size\":10,\"solidity\":0.2}},\"type\":\"barpolar\"}],\"pie\":[{\"automargin\":true,\"type\":\"pie\"}]},\"layout\":{\"autotypenumbers\":\"strict\",\"colorway\":[\"#636efa\",\"#EF553B\",\"#00cc96\",\"#ab63fa\",\"#FFA15A\",\"#19d3f3\",\"#FF6692\",\"#B6E880\",\"#FF97FF\",\"#FECB52\"],\"font\":{\"color\":\"#2a3f5f\"},\"hovermode\":\"closest\",\"hoverlabel\":{\"align\":\"left\"},\"paper_bgcolor\":\"white\",\"plot_bgcolor\":\"#E5ECF6\",\"polar\":{\"bgcolor\":\"#E5ECF6\",\"angularaxis\":{\"gridcolor\":\"white\",\"linecolor\":\"white\",\"ticks\":\"\"},\"radialaxis\":{\"gridcolor\":\"white\",\"linecolor\":\"white\",\"ticks\":\"\"}},\"ternary\":{\"bgcolor\":\"#E5ECF6\",\"aaxis\":{\"gridcolor\":\"white\",\"linecolor\":\"white\",\"ticks\":\"\"},\"baxis\":{\"gridcolor\":\"white\",\"linecolor\":\"white\",\"ticks\":\"\"},\"caxis\":{\"gridcolor\":\"white\",\"linecolor\":\"white\",\"ticks\":\"\"}},\"coloraxis\":{\"colorbar\":{\"outlinewidth\":0,\"ticks\":\"\"}},\"colorscale\":{\"sequential\":[[0.0,\"#0d0887\"],[0.1111111111111111,\"#46039f\"],[0.2222222222222222,\"#7201a8\"],[0.3333333333333333,\"#9c179e\"],[0.4444444444444444,\"#bd3786\"],[0.5555555555555556,\"#d8576b\"],[0.6666666666666666,\"#ed7953\"],[0.7777777777777778,\"#fb9f3a\"],[0.8888888888888888,\"#fdca26\"],[1.0,\"#f0f921\"]],\"sequentialminus\":[[0.0,\"#0d0887\"],[0.1111111111111111,\"#46039f\"],[0.2222222222222222,\"#7201a8\"],[0.3333333333333333,\"#9c179e\"],[0.4444444444444444,\"#bd3786\"],[0.5555555555555556,\"#d8576b\"],[0.6666666666666666,\"#ed7953\"],[0.7777777777777778,\"#fb9f3a\"],[0.8888888888888888,\"#fdca26\"],[1.0,\"#f0f921\"]],\"diverging\":[[0,\"#8e0152\"],[0.1,\"#c51b7d\"],[0.2,\"#de77ae\"],[0.3,\"#f1b6da\"],[0.4,\"#fde0ef\"],[0.5,\"#f7f7f7\"],[0.6,\"#e6f5d0\"],[0.7,\"#b8e186\"],[0.8,\"#7fbc41\"],[0.9,\"#4d9221\"],[1,\"#276419\"]]},\"xaxis\":{\"gridcolor\":\"white\",\"linecolor\":\"white\",\"ticks\":\"\",\"title\":{\"standoff\":15},\"zerolinecolor\":\"white\",\"automargin\":true,\"zerolinewidth\":2},\"yaxis\":{\"gridcolor\":\"white\",\"linecolor\":\"white\",\"ticks\":\"\",\"title\":{\"standoff\":15},\"zerolinecolor\":\"white\",\"automargin\":true,\"zerolinewidth\":2},\"scene\":{\"xaxis\":{\"backgroundcolor\":\"#E5ECF6\",\"gridcolor\":\"white\",\"linecolor\":\"white\",\"showbackground\":true,\"ticks\":\"\",\"zerolinecolor\":\"white\",\"gridwidth\":2},\"yaxis\":{\"backgroundcolor\":\"#E5ECF6\",\"gridcolor\":\"white\",\"linecolor\":\"white\",\"showbackground\":true,\"ticks\":\"\",\"zerolinecolor\":\"white\",\"gridwidth\":2},\"zaxis\":{\"backgroundcolor\":\"#E5ECF6\",\"gridcolor\":\"white\",\"linecolor\":\"white\",\"showbackground\":true,\"ticks\":\"\",\"zerolinecolor\":\"white\",\"gridwidth\":2}},\"shapedefaults\":{\"line\":{\"color\":\"#2a3f5f\"}},\"annotationdefaults\":{\"arrowcolor\":\"#2a3f5f\",\"arrowhead\":0,\"arrowwidth\":1},\"geo\":{\"bgcolor\":\"white\",\"landcolor\":\"#E5ECF6\",\"subunitcolor\":\"white\",\"showland\":true,\"showlakes\":true,\"lakecolor\":\"white\"},\"title\":{\"x\":0.05},\"mapbox\":{\"style\":\"light\"}}},\"xaxis\":{\"anchor\":\"y\",\"domain\":[0.0,1.0],\"title\":{\"text\":\"firm_name\"}},\"yaxis\":{\"anchor\":\"x\",\"domain\":[0.0,1.0],\"title\":{\"text\":\"value\"}},\"legend\":{\"title\":{\"text\":\"variable\"},\"tracegroupgap\":0},\"title\":{\"text\":\"Top 5 Firms based on star rating and service percentage\"},\"barmode\":\"relative\",\"width\":700},                        {\"responsive\": true}                    ).then(function(){\n",
       "                            \n",
       "var gd = document.getElementById('db64a68d-5aa7-4ce0-935d-683acdc6983a');\n",
       "var x = new MutationObserver(function (mutations, observer) {{\n",
       "        var display = window.getComputedStyle(gd).display;\n",
       "        if (!display || display === 'none') {{\n",
       "            console.log([gd, 'removed!']);\n",
       "            Plotly.purge(gd);\n",
       "            observer.disconnect();\n",
       "        }}\n",
       "}});\n",
       "\n",
       "// Listen for the removal of the full notebook cells\n",
       "var notebookContainer = gd.closest('#notebook-container');\n",
       "if (notebookContainer) {{\n",
       "    x.observe(notebookContainer, {childList: true});\n",
       "}}\n",
       "\n",
       "// Listen for the clearing of the current output cell\n",
       "var outputEl = gd.closest('.output');\n",
       "if (outputEl) {{\n",
       "    x.observe(outputEl, {childList: true});\n",
       "}}\n",
       "\n",
       "                        })                };                });            </script>        </div>"
      ]
     },
     "metadata": {},
     "output_type": "display_data"
    }
   ],
   "source": [
    "top5_str_sev = all_df.sort_values(by=['star_rating', 'service_pct(%)'], ascending=False)[:5]\n",
    "px.bar(top5_str_sev, 'firm_name', ['star_rating', 'service_pct(%)'], width=700, \n",
    "       title='Top 5 Firms based on star rating and service percentage')"
   ]
  },
  {
   "cell_type": "markdown",
   "id": "e1d9b1e9",
   "metadata": {},
   "source": [
    "* They all have a five-star rating and service percent of 90"
   ]
  },
  {
   "cell_type": "code",
   "execution_count": null,
   "id": "c1acec42",
   "metadata": {},
   "outputs": [],
   "source": []
  },
  {
   "cell_type": "markdown",
   "id": "0b4be902",
   "metadata": {},
   "source": [
    "GETTING THE OLDEST FIRM BASED ON YEAR FOUNDED"
   ]
  },
  {
   "cell_type": "code",
   "execution_count": 56,
   "id": "606b36a6",
   "metadata": {},
   "outputs": [
    {
     "data": {
      "text/html": [
       "<div>\n",
       "<style scoped>\n",
       "    .dataframe tbody tr th:only-of-type {\n",
       "        vertical-align: middle;\n",
       "    }\n",
       "\n",
       "    .dataframe tbody tr th {\n",
       "        vertical-align: top;\n",
       "    }\n",
       "\n",
       "    .dataframe thead th {\n",
       "        text-align: right;\n",
       "    }\n",
       "</style>\n",
       "<table border=\"1\" class=\"dataframe\">\n",
       "  <thead>\n",
       "    <tr style=\"text-align: right;\">\n",
       "      <th></th>\n",
       "      <th>firm_name</th>\n",
       "      <th>firm_motor</th>\n",
       "      <th>star_rating</th>\n",
       "      <th>firm_rev</th>\n",
       "      <th>service_pct(%)</th>\n",
       "      <th>platform_pct(%)</th>\n",
       "      <th>firm_price</th>\n",
       "      <th>firm_employees</th>\n",
       "      <th>year_founded</th>\n",
       "      <th>firm_location</th>\n",
       "    </tr>\n",
       "  </thead>\n",
       "  <tbody>\n",
       "    <tr>\n",
       "      <th>185</th>\n",
       "      <td>Brewed @ The Lab Technologies Pvt Ltd</td>\n",
       "      <td>IT Service</td>\n",
       "      <td>0.0</td>\n",
       "      <td>0</td>\n",
       "      <td>20</td>\n",
       "      <td>20</td>\n",
       "      <td>$25 - $49/hr</td>\n",
       "      <td>10 - 49</td>\n",
       "      <td></td>\n",
       "      <td>India</td>\n",
       "    </tr>\n",
       "    <tr>\n",
       "      <th>204</th>\n",
       "      <td>Unleashing AI</td>\n",
       "      <td>Your AI &amp; Machine Learning Business Partner</td>\n",
       "      <td>0.0</td>\n",
       "      <td>0</td>\n",
       "      <td>5</td>\n",
       "      <td>25</td>\n",
       "      <td>$150 - $199/hr</td>\n",
       "      <td>2 - 9</td>\n",
       "      <td></td>\n",
       "      <td>United States</td>\n",
       "    </tr>\n",
       "    <tr>\n",
       "      <th>217</th>\n",
       "      <td>Analytics8</td>\n",
       "      <td>Data and Analytics. It's what we do.</td>\n",
       "      <td>5.0</td>\n",
       "      <td>5</td>\n",
       "      <td>5</td>\n",
       "      <td>10</td>\n",
       "      <td>$25 - $49/hr</td>\n",
       "      <td>10 - 49</td>\n",
       "      <td></td>\n",
       "      <td>United States</td>\n",
       "    </tr>\n",
       "    <tr>\n",
       "      <th>248</th>\n",
       "      <td>Innover Digital</td>\n",
       "      <td>Let's Solve a Problem</td>\n",
       "      <td>5.0</td>\n",
       "      <td>1</td>\n",
       "      <td>10</td>\n",
       "      <td>50</td>\n",
       "      <td>NA</td>\n",
       "      <td>250 - 999</td>\n",
       "      <td></td>\n",
       "      <td>United States</td>\n",
       "    </tr>\n",
       "    <tr>\n",
       "      <th>137</th>\n",
       "      <td>SunTec Data</td>\n",
       "      <td>Turn Data Into Sight</td>\n",
       "      <td>0.0</td>\n",
       "      <td>0</td>\n",
       "      <td>20</td>\n",
       "      <td>10</td>\n",
       "      <td>NA</td>\n",
       "      <td>250 - 999</td>\n",
       "      <td></td>\n",
       "      <td>United States, India</td>\n",
       "    </tr>\n",
       "    <tr>\n",
       "      <th>87</th>\n",
       "      <td>The Analyst Agency</td>\n",
       "      <td>Web Developers in Buffalo, NY</td>\n",
       "      <td>5.0</td>\n",
       "      <td>1</td>\n",
       "      <td>5</td>\n",
       "      <td>50</td>\n",
       "      <td>NA</td>\n",
       "      <td>Freelancer</td>\n",
       "      <td></td>\n",
       "      <td>United States, India</td>\n",
       "    </tr>\n",
       "    <tr>\n",
       "      <th>174</th>\n",
       "      <td>Heinsohn Business Technology</td>\n",
       "      <td>Software Development Experts</td>\n",
       "      <td>0.0</td>\n",
       "      <td>0</td>\n",
       "      <td>25</td>\n",
       "      <td>10</td>\n",
       "      <td>$25 - $49/hr</td>\n",
       "      <td>250 - 999</td>\n",
       "      <td>1977</td>\n",
       "      <td>Colombia</td>\n",
       "    </tr>\n",
       "  </tbody>\n",
       "</table>\n",
       "</div>"
      ],
      "text/plain": [
       "                                 firm_name  \\\n",
       "185  Brewed @ The Lab Technologies Pvt Ltd   \n",
       "204                          Unleashing AI   \n",
       "217                             Analytics8   \n",
       "248                        Innover Digital   \n",
       "137                            SunTec Data   \n",
       "87                      The Analyst Agency   \n",
       "174           Heinsohn Business Technology   \n",
       "\n",
       "                                      firm_motor  star_rating  firm_rev  \\\n",
       "185                                   IT Service          0.0         0   \n",
       "204  Your AI & Machine Learning Business Partner          0.0         0   \n",
       "217         Data and Analytics. It's what we do.          5.0         5   \n",
       "248                        Let's Solve a Problem          5.0         1   \n",
       "137                         Turn Data Into Sight          0.0         0   \n",
       "87                 Web Developers in Buffalo, NY          5.0         1   \n",
       "174                 Software Development Experts          0.0         0   \n",
       "\n",
       "     service_pct(%)  platform_pct(%)       firm_price firm_employees  \\\n",
       "185              20               20    $25 - $49/hr         10 - 49   \n",
       "204               5               25  $150 - $199/hr           2 - 9   \n",
       "217               5               10    $25 - $49/hr         10 - 49   \n",
       "248              10               50              NA       250 - 999   \n",
       "137              20               10              NA       250 - 999   \n",
       "87                5               50              NA      Freelancer   \n",
       "174              25               10    $25 - $49/hr       250 - 999   \n",
       "\n",
       "    year_founded          firm_location  \n",
       "185                              India   \n",
       "204                      United States   \n",
       "217                      United States   \n",
       "248                      United States   \n",
       "137               United States, India   \n",
       "87                United States, India   \n",
       "174         1977              Colombia   "
      ]
     },
     "execution_count": 56,
     "metadata": {},
     "output_type": "execute_result"
    }
   ],
   "source": [
    "all_df.sort_values('year_founded')[:7]  "
   ]
  },
  {
   "cell_type": "markdown",
   "id": "bb364103",
   "metadata": {},
   "source": [
    "* From our available data, Heinsohn Business Technology is the oldest"
   ]
  },
  {
   "cell_type": "code",
   "execution_count": null,
   "id": "2ba7d1a7",
   "metadata": {},
   "outputs": [],
   "source": []
  },
  {
   "cell_type": "markdown",
   "id": "c8fbfb9a",
   "metadata": {},
   "source": [
    "GETTING THE FIRM PRICING"
   ]
  },
  {
   "cell_type": "code",
   "execution_count": 57,
   "id": "9593f950",
   "metadata": {},
   "outputs": [
    {
     "data": {
      "text/plain": [
       "$25 - $49/hr        103\n",
       "$50 - $99/hr         53\n",
       "NA                   35\n",
       "< $25/hr             34\n",
       "$100 - $149/hr       29\n",
       "$150 - $199/hr        4\n",
       "$200 - $300/hr        3\n",
       " $25 - $49/hr         2\n",
       "$25 - $49/hr          2\n",
       " < $25/hr             1\n",
       "< $25/hr              1\n",
       "$50 - $99/hr          1\n",
       " NA                   1\n",
       "$150 - $199/hr        1\n",
       "Name: firm_price, dtype: int64"
      ]
     },
     "execution_count": 57,
     "metadata": {},
     "output_type": "execute_result"
    }
   ],
   "source": [
    "all_df['firm_price'].value_counts() "
   ]
  },
  {
   "cell_type": "markdown",
   "id": "215854ac",
   "metadata": {},
   "source": [
    "* From the above analysis, more companies pay $25 - $49/hr"
   ]
  },
  {
   "cell_type": "code",
   "execution_count": null,
   "id": "12053a1e",
   "metadata": {},
   "outputs": [],
   "source": []
  },
  {
   "cell_type": "code",
   "execution_count": 48,
   "id": "4e781a3b",
   "metadata": {},
   "outputs": [
    {
     "data": {
      "text/plain": [
       "Malta        1\n",
       "Turkey       1\n",
       "Lithuania    1\n",
       "Vietnam      1\n",
       "Romania      1\n",
       "dtype: int64"
      ]
     },
     "execution_count": 48,
     "metadata": {},
     "output_type": "execute_result"
    }
   ],
   "source": [
    "split = all_df['firm_location'].apply(lambda x: x.split(', '))\n",
    "lst = []\n",
    "for x in split:\n",
    "    lst += x\n",
    "    \n",
    "new_lst = []\n",
    "for x in lst:\n",
    "    new_lst.append(x.strip())\n",
    "locations = pd.Series(new_lst).value_counts(ascending=True)\n",
    "locations[:5]"
   ]
  },
  {
   "cell_type": "code",
   "execution_count": null,
   "id": "36bcd27c",
   "metadata": {},
   "outputs": [],
   "source": []
  },
  {
   "cell_type": "code",
   "execution_count": 59,
   "id": "484554ec",
   "metadata": {},
   "outputs": [
    {
     "data": {
      "application/vnd.plotly.v1+json": {
       "config": {
        "plotlyServerURL": "https://plot.ly"
       },
       "data": [
        {
         "alignmentgroup": "True",
         "hovertemplate": "frequency=%{x}<br>=%{y}<extra></extra>",
         "legendgroup": "",
         "marker": {
          "color": "#636efa",
          "pattern": {
           "shape": ""
          }
         },
         "name": "",
         "offsetgroup": "",
         "orientation": "h",
         "showlegend": false,
         "textposition": "auto",
         "type": "bar",
         "x": [
          1,
          1,
          1,
          1,
          1,
          1,
          1,
          1,
          1,
          1,
          1,
          1,
          1,
          1,
          1,
          1,
          1,
          1,
          1,
          2,
          2,
          2,
          2,
          2,
          2,
          2,
          2,
          2,
          2,
          2,
          2,
          2,
          2,
          3,
          4,
          4,
          6,
          7,
          7,
          8,
          9,
          11,
          23,
          30,
          90,
          127
         ],
         "xaxis": "x",
         "y": [
          "Malta",
          "Turkey",
          "Lithuania",
          "Vietnam",
          "Romania",
          "Egypt",
          "Oman",
          "Colombia",
          "Kenya",
          "Slovakia",
          "Belgium",
          "Hungary",
          "Thailand",
          "Uganda",
          "Bulgaria",
          "Macedonia",
          "Israel",
          "Luxembourg",
          "Pakistan",
          "Indonesia",
          "Portugal",
          "China",
          "Brazil",
          "Armenia",
          "Georgia",
          "Netherlands",
          "Cyprus",
          "Argentina",
          "Saudi Arabia",
          "Czech Republic",
          "Belarus",
          "Ireland",
          "Uruguay",
          "South Africa",
          "Singapore",
          "Russia",
          "Estonia",
          "Germany",
          "Australia",
          "Poland",
          "United Arab Emirates",
          "Canada",
          "United Kingdom",
          "Ukraine",
          "India",
          "United States"
         ],
         "yaxis": "y"
        }
       ],
       "layout": {
        "barmode": "relative",
        "height": 900,
        "legend": {
         "tracegroupgap": 0
        },
        "template": {
         "data": {
          "bar": [
           {
            "error_x": {
             "color": "#2a3f5f"
            },
            "error_y": {
             "color": "#2a3f5f"
            },
            "marker": {
             "line": {
              "color": "#E5ECF6",
              "width": 0.5
             },
             "pattern": {
              "fillmode": "overlay",
              "size": 10,
              "solidity": 0.2
             }
            },
            "type": "bar"
           }
          ],
          "barpolar": [
           {
            "marker": {
             "line": {
              "color": "#E5ECF6",
              "width": 0.5
             },
             "pattern": {
              "fillmode": "overlay",
              "size": 10,
              "solidity": 0.2
             }
            },
            "type": "barpolar"
           }
          ],
          "carpet": [
           {
            "aaxis": {
             "endlinecolor": "#2a3f5f",
             "gridcolor": "white",
             "linecolor": "white",
             "minorgridcolor": "white",
             "startlinecolor": "#2a3f5f"
            },
            "baxis": {
             "endlinecolor": "#2a3f5f",
             "gridcolor": "white",
             "linecolor": "white",
             "minorgridcolor": "white",
             "startlinecolor": "#2a3f5f"
            },
            "type": "carpet"
           }
          ],
          "choropleth": [
           {
            "colorbar": {
             "outlinewidth": 0,
             "ticks": ""
            },
            "type": "choropleth"
           }
          ],
          "contour": [
           {
            "colorbar": {
             "outlinewidth": 0,
             "ticks": ""
            },
            "colorscale": [
             [
              0,
              "#0d0887"
             ],
             [
              0.1111111111111111,
              "#46039f"
             ],
             [
              0.2222222222222222,
              "#7201a8"
             ],
             [
              0.3333333333333333,
              "#9c179e"
             ],
             [
              0.4444444444444444,
              "#bd3786"
             ],
             [
              0.5555555555555556,
              "#d8576b"
             ],
             [
              0.6666666666666666,
              "#ed7953"
             ],
             [
              0.7777777777777778,
              "#fb9f3a"
             ],
             [
              0.8888888888888888,
              "#fdca26"
             ],
             [
              1,
              "#f0f921"
             ]
            ],
            "type": "contour"
           }
          ],
          "contourcarpet": [
           {
            "colorbar": {
             "outlinewidth": 0,
             "ticks": ""
            },
            "type": "contourcarpet"
           }
          ],
          "heatmap": [
           {
            "colorbar": {
             "outlinewidth": 0,
             "ticks": ""
            },
            "colorscale": [
             [
              0,
              "#0d0887"
             ],
             [
              0.1111111111111111,
              "#46039f"
             ],
             [
              0.2222222222222222,
              "#7201a8"
             ],
             [
              0.3333333333333333,
              "#9c179e"
             ],
             [
              0.4444444444444444,
              "#bd3786"
             ],
             [
              0.5555555555555556,
              "#d8576b"
             ],
             [
              0.6666666666666666,
              "#ed7953"
             ],
             [
              0.7777777777777778,
              "#fb9f3a"
             ],
             [
              0.8888888888888888,
              "#fdca26"
             ],
             [
              1,
              "#f0f921"
             ]
            ],
            "type": "heatmap"
           }
          ],
          "heatmapgl": [
           {
            "colorbar": {
             "outlinewidth": 0,
             "ticks": ""
            },
            "colorscale": [
             [
              0,
              "#0d0887"
             ],
             [
              0.1111111111111111,
              "#46039f"
             ],
             [
              0.2222222222222222,
              "#7201a8"
             ],
             [
              0.3333333333333333,
              "#9c179e"
             ],
             [
              0.4444444444444444,
              "#bd3786"
             ],
             [
              0.5555555555555556,
              "#d8576b"
             ],
             [
              0.6666666666666666,
              "#ed7953"
             ],
             [
              0.7777777777777778,
              "#fb9f3a"
             ],
             [
              0.8888888888888888,
              "#fdca26"
             ],
             [
              1,
              "#f0f921"
             ]
            ],
            "type": "heatmapgl"
           }
          ],
          "histogram": [
           {
            "marker": {
             "pattern": {
              "fillmode": "overlay",
              "size": 10,
              "solidity": 0.2
             }
            },
            "type": "histogram"
           }
          ],
          "histogram2d": [
           {
            "colorbar": {
             "outlinewidth": 0,
             "ticks": ""
            },
            "colorscale": [
             [
              0,
              "#0d0887"
             ],
             [
              0.1111111111111111,
              "#46039f"
             ],
             [
              0.2222222222222222,
              "#7201a8"
             ],
             [
              0.3333333333333333,
              "#9c179e"
             ],
             [
              0.4444444444444444,
              "#bd3786"
             ],
             [
              0.5555555555555556,
              "#d8576b"
             ],
             [
              0.6666666666666666,
              "#ed7953"
             ],
             [
              0.7777777777777778,
              "#fb9f3a"
             ],
             [
              0.8888888888888888,
              "#fdca26"
             ],
             [
              1,
              "#f0f921"
             ]
            ],
            "type": "histogram2d"
           }
          ],
          "histogram2dcontour": [
           {
            "colorbar": {
             "outlinewidth": 0,
             "ticks": ""
            },
            "colorscale": [
             [
              0,
              "#0d0887"
             ],
             [
              0.1111111111111111,
              "#46039f"
             ],
             [
              0.2222222222222222,
              "#7201a8"
             ],
             [
              0.3333333333333333,
              "#9c179e"
             ],
             [
              0.4444444444444444,
              "#bd3786"
             ],
             [
              0.5555555555555556,
              "#d8576b"
             ],
             [
              0.6666666666666666,
              "#ed7953"
             ],
             [
              0.7777777777777778,
              "#fb9f3a"
             ],
             [
              0.8888888888888888,
              "#fdca26"
             ],
             [
              1,
              "#f0f921"
             ]
            ],
            "type": "histogram2dcontour"
           }
          ],
          "mesh3d": [
           {
            "colorbar": {
             "outlinewidth": 0,
             "ticks": ""
            },
            "type": "mesh3d"
           }
          ],
          "parcoords": [
           {
            "line": {
             "colorbar": {
              "outlinewidth": 0,
              "ticks": ""
             }
            },
            "type": "parcoords"
           }
          ],
          "pie": [
           {
            "automargin": true,
            "type": "pie"
           }
          ],
          "scatter": [
           {
            "fillpattern": {
             "fillmode": "overlay",
             "size": 10,
             "solidity": 0.2
            },
            "type": "scatter"
           }
          ],
          "scatter3d": [
           {
            "line": {
             "colorbar": {
              "outlinewidth": 0,
              "ticks": ""
             }
            },
            "marker": {
             "colorbar": {
              "outlinewidth": 0,
              "ticks": ""
             }
            },
            "type": "scatter3d"
           }
          ],
          "scattercarpet": [
           {
            "marker": {
             "colorbar": {
              "outlinewidth": 0,
              "ticks": ""
             }
            },
            "type": "scattercarpet"
           }
          ],
          "scattergeo": [
           {
            "marker": {
             "colorbar": {
              "outlinewidth": 0,
              "ticks": ""
             }
            },
            "type": "scattergeo"
           }
          ],
          "scattergl": [
           {
            "marker": {
             "colorbar": {
              "outlinewidth": 0,
              "ticks": ""
             }
            },
            "type": "scattergl"
           }
          ],
          "scattermapbox": [
           {
            "marker": {
             "colorbar": {
              "outlinewidth": 0,
              "ticks": ""
             }
            },
            "type": "scattermapbox"
           }
          ],
          "scatterpolar": [
           {
            "marker": {
             "colorbar": {
              "outlinewidth": 0,
              "ticks": ""
             }
            },
            "type": "scatterpolar"
           }
          ],
          "scatterpolargl": [
           {
            "marker": {
             "colorbar": {
              "outlinewidth": 0,
              "ticks": ""
             }
            },
            "type": "scatterpolargl"
           }
          ],
          "scatterternary": [
           {
            "marker": {
             "colorbar": {
              "outlinewidth": 0,
              "ticks": ""
             }
            },
            "type": "scatterternary"
           }
          ],
          "surface": [
           {
            "colorbar": {
             "outlinewidth": 0,
             "ticks": ""
            },
            "colorscale": [
             [
              0,
              "#0d0887"
             ],
             [
              0.1111111111111111,
              "#46039f"
             ],
             [
              0.2222222222222222,
              "#7201a8"
             ],
             [
              0.3333333333333333,
              "#9c179e"
             ],
             [
              0.4444444444444444,
              "#bd3786"
             ],
             [
              0.5555555555555556,
              "#d8576b"
             ],
             [
              0.6666666666666666,
              "#ed7953"
             ],
             [
              0.7777777777777778,
              "#fb9f3a"
             ],
             [
              0.8888888888888888,
              "#fdca26"
             ],
             [
              1,
              "#f0f921"
             ]
            ],
            "type": "surface"
           }
          ],
          "table": [
           {
            "cells": {
             "fill": {
              "color": "#EBF0F8"
             },
             "line": {
              "color": "white"
             }
            },
            "header": {
             "fill": {
              "color": "#C8D4E3"
             },
             "line": {
              "color": "white"
             }
            },
            "type": "table"
           }
          ]
         },
         "layout": {
          "annotationdefaults": {
           "arrowcolor": "#2a3f5f",
           "arrowhead": 0,
           "arrowwidth": 1
          },
          "autotypenumbers": "strict",
          "coloraxis": {
           "colorbar": {
            "outlinewidth": 0,
            "ticks": ""
           }
          },
          "colorscale": {
           "diverging": [
            [
             0,
             "#8e0152"
            ],
            [
             0.1,
             "#c51b7d"
            ],
            [
             0.2,
             "#de77ae"
            ],
            [
             0.3,
             "#f1b6da"
            ],
            [
             0.4,
             "#fde0ef"
            ],
            [
             0.5,
             "#f7f7f7"
            ],
            [
             0.6,
             "#e6f5d0"
            ],
            [
             0.7,
             "#b8e186"
            ],
            [
             0.8,
             "#7fbc41"
            ],
            [
             0.9,
             "#4d9221"
            ],
            [
             1,
             "#276419"
            ]
           ],
           "sequential": [
            [
             0,
             "#0d0887"
            ],
            [
             0.1111111111111111,
             "#46039f"
            ],
            [
             0.2222222222222222,
             "#7201a8"
            ],
            [
             0.3333333333333333,
             "#9c179e"
            ],
            [
             0.4444444444444444,
             "#bd3786"
            ],
            [
             0.5555555555555556,
             "#d8576b"
            ],
            [
             0.6666666666666666,
             "#ed7953"
            ],
            [
             0.7777777777777778,
             "#fb9f3a"
            ],
            [
             0.8888888888888888,
             "#fdca26"
            ],
            [
             1,
             "#f0f921"
            ]
           ],
           "sequentialminus": [
            [
             0,
             "#0d0887"
            ],
            [
             0.1111111111111111,
             "#46039f"
            ],
            [
             0.2222222222222222,
             "#7201a8"
            ],
            [
             0.3333333333333333,
             "#9c179e"
            ],
            [
             0.4444444444444444,
             "#bd3786"
            ],
            [
             0.5555555555555556,
             "#d8576b"
            ],
            [
             0.6666666666666666,
             "#ed7953"
            ],
            [
             0.7777777777777778,
             "#fb9f3a"
            ],
            [
             0.8888888888888888,
             "#fdca26"
            ],
            [
             1,
             "#f0f921"
            ]
           ]
          },
          "colorway": [
           "#636efa",
           "#EF553B",
           "#00cc96",
           "#ab63fa",
           "#FFA15A",
           "#19d3f3",
           "#FF6692",
           "#B6E880",
           "#FF97FF",
           "#FECB52"
          ],
          "font": {
           "color": "#2a3f5f"
          },
          "geo": {
           "bgcolor": "white",
           "lakecolor": "white",
           "landcolor": "#E5ECF6",
           "showlakes": true,
           "showland": true,
           "subunitcolor": "white"
          },
          "hoverlabel": {
           "align": "left"
          },
          "hovermode": "closest",
          "mapbox": {
           "style": "light"
          },
          "paper_bgcolor": "white",
          "plot_bgcolor": "#E5ECF6",
          "polar": {
           "angularaxis": {
            "gridcolor": "white",
            "linecolor": "white",
            "ticks": ""
           },
           "bgcolor": "#E5ECF6",
           "radialaxis": {
            "gridcolor": "white",
            "linecolor": "white",
            "ticks": ""
           }
          },
          "scene": {
           "xaxis": {
            "backgroundcolor": "#E5ECF6",
            "gridcolor": "white",
            "gridwidth": 2,
            "linecolor": "white",
            "showbackground": true,
            "ticks": "",
            "zerolinecolor": "white"
           },
           "yaxis": {
            "backgroundcolor": "#E5ECF6",
            "gridcolor": "white",
            "gridwidth": 2,
            "linecolor": "white",
            "showbackground": true,
            "ticks": "",
            "zerolinecolor": "white"
           },
           "zaxis": {
            "backgroundcolor": "#E5ECF6",
            "gridcolor": "white",
            "gridwidth": 2,
            "linecolor": "white",
            "showbackground": true,
            "ticks": "",
            "zerolinecolor": "white"
           }
          },
          "shapedefaults": {
           "line": {
            "color": "#2a3f5f"
           }
          },
          "ternary": {
           "aaxis": {
            "gridcolor": "white",
            "linecolor": "white",
            "ticks": ""
           },
           "baxis": {
            "gridcolor": "white",
            "linecolor": "white",
            "ticks": ""
           },
           "bgcolor": "#E5ECF6",
           "caxis": {
            "gridcolor": "white",
            "linecolor": "white",
            "ticks": ""
           }
          },
          "title": {
           "x": 0.05
          },
          "xaxis": {
           "automargin": true,
           "gridcolor": "white",
           "linecolor": "white",
           "ticks": "",
           "title": {
            "standoff": 15
           },
           "zerolinecolor": "white",
           "zerolinewidth": 2
          },
          "yaxis": {
           "automargin": true,
           "gridcolor": "white",
           "linecolor": "white",
           "ticks": "",
           "title": {
            "standoff": 15
           },
           "zerolinecolor": "white",
           "zerolinewidth": 2
          }
         }
        },
        "title": {
         "text": "Country Frequency"
        },
        "width": 900,
        "xaxis": {
         "anchor": "y",
         "domain": [
          0,
          1
         ],
         "title": {
          "text": "frequency"
         }
        },
        "yaxis": {
         "anchor": "x",
         "domain": [
          0,
          1
         ],
         "title": {
          "text": ""
         }
        }
       }
      },
      "text/html": [
       "<div>                            <div id=\"358a98f9-995e-442d-9501-23020665b3bd\" class=\"plotly-graph-div\" style=\"height:900px; width:900px;\"></div>            <script type=\"text/javascript\">                require([\"plotly\"], function(Plotly) {                    window.PLOTLYENV=window.PLOTLYENV || {};                                    if (document.getElementById(\"358a98f9-995e-442d-9501-23020665b3bd\")) {                    Plotly.newPlot(                        \"358a98f9-995e-442d-9501-23020665b3bd\",                        [{\"alignmentgroup\":\"True\",\"hovertemplate\":\"frequency=%{x}<br>=%{y}<extra></extra>\",\"legendgroup\":\"\",\"marker\":{\"color\":\"#636efa\",\"pattern\":{\"shape\":\"\"}},\"name\":\"\",\"offsetgroup\":\"\",\"orientation\":\"h\",\"showlegend\":false,\"textposition\":\"auto\",\"x\":[1,1,1,1,1,1,1,1,1,1,1,1,1,1,1,1,1,1,1,2,2,2,2,2,2,2,2,2,2,2,2,2,2,3,4,4,6,7,7,8,9,11,23,30,90,127],\"xaxis\":\"x\",\"y\":[\"Malta\",\"Turkey\",\"Lithuania\",\"Vietnam\",\"Romania\",\"Egypt\",\"Oman\",\"Colombia\",\"Kenya\",\"Slovakia\",\"Belgium\",\"Hungary\",\"Thailand\",\"Uganda\",\"Bulgaria\",\"Macedonia\",\"Israel\",\"Luxembourg\",\"Pakistan\",\"Indonesia\",\"Portugal\",\"China\",\"Brazil\",\"Armenia\",\"Georgia\",\"Netherlands\",\"Cyprus\",\"Argentina\",\"Saudi Arabia\",\"Czech Republic\",\"Belarus\",\"Ireland\",\"Uruguay\",\"South Africa\",\"Singapore\",\"Russia\",\"Estonia\",\"Germany\",\"Australia\",\"Poland\",\"United Arab Emirates\",\"Canada\",\"United Kingdom\",\"Ukraine\",\"India\",\"United States\"],\"yaxis\":\"y\",\"type\":\"bar\"}],                        {\"template\":{\"data\":{\"histogram2dcontour\":[{\"type\":\"histogram2dcontour\",\"colorbar\":{\"outlinewidth\":0,\"ticks\":\"\"},\"colorscale\":[[0.0,\"#0d0887\"],[0.1111111111111111,\"#46039f\"],[0.2222222222222222,\"#7201a8\"],[0.3333333333333333,\"#9c179e\"],[0.4444444444444444,\"#bd3786\"],[0.5555555555555556,\"#d8576b\"],[0.6666666666666666,\"#ed7953\"],[0.7777777777777778,\"#fb9f3a\"],[0.8888888888888888,\"#fdca26\"],[1.0,\"#f0f921\"]]}],\"choropleth\":[{\"type\":\"choropleth\",\"colorbar\":{\"outlinewidth\":0,\"ticks\":\"\"}}],\"histogram2d\":[{\"type\":\"histogram2d\",\"colorbar\":{\"outlinewidth\":0,\"ticks\":\"\"},\"colorscale\":[[0.0,\"#0d0887\"],[0.1111111111111111,\"#46039f\"],[0.2222222222222222,\"#7201a8\"],[0.3333333333333333,\"#9c179e\"],[0.4444444444444444,\"#bd3786\"],[0.5555555555555556,\"#d8576b\"],[0.6666666666666666,\"#ed7953\"],[0.7777777777777778,\"#fb9f3a\"],[0.8888888888888888,\"#fdca26\"],[1.0,\"#f0f921\"]]}],\"heatmap\":[{\"type\":\"heatmap\",\"colorbar\":{\"outlinewidth\":0,\"ticks\":\"\"},\"colorscale\":[[0.0,\"#0d0887\"],[0.1111111111111111,\"#46039f\"],[0.2222222222222222,\"#7201a8\"],[0.3333333333333333,\"#9c179e\"],[0.4444444444444444,\"#bd3786\"],[0.5555555555555556,\"#d8576b\"],[0.6666666666666666,\"#ed7953\"],[0.7777777777777778,\"#fb9f3a\"],[0.8888888888888888,\"#fdca26\"],[1.0,\"#f0f921\"]]}],\"heatmapgl\":[{\"type\":\"heatmapgl\",\"colorbar\":{\"outlinewidth\":0,\"ticks\":\"\"},\"colorscale\":[[0.0,\"#0d0887\"],[0.1111111111111111,\"#46039f\"],[0.2222222222222222,\"#7201a8\"],[0.3333333333333333,\"#9c179e\"],[0.4444444444444444,\"#bd3786\"],[0.5555555555555556,\"#d8576b\"],[0.6666666666666666,\"#ed7953\"],[0.7777777777777778,\"#fb9f3a\"],[0.8888888888888888,\"#fdca26\"],[1.0,\"#f0f921\"]]}],\"contourcarpet\":[{\"type\":\"contourcarpet\",\"colorbar\":{\"outlinewidth\":0,\"ticks\":\"\"}}],\"contour\":[{\"type\":\"contour\",\"colorbar\":{\"outlinewidth\":0,\"ticks\":\"\"},\"colorscale\":[[0.0,\"#0d0887\"],[0.1111111111111111,\"#46039f\"],[0.2222222222222222,\"#7201a8\"],[0.3333333333333333,\"#9c179e\"],[0.4444444444444444,\"#bd3786\"],[0.5555555555555556,\"#d8576b\"],[0.6666666666666666,\"#ed7953\"],[0.7777777777777778,\"#fb9f3a\"],[0.8888888888888888,\"#fdca26\"],[1.0,\"#f0f921\"]]}],\"surface\":[{\"type\":\"surface\",\"colorbar\":{\"outlinewidth\":0,\"ticks\":\"\"},\"colorscale\":[[0.0,\"#0d0887\"],[0.1111111111111111,\"#46039f\"],[0.2222222222222222,\"#7201a8\"],[0.3333333333333333,\"#9c179e\"],[0.4444444444444444,\"#bd3786\"],[0.5555555555555556,\"#d8576b\"],[0.6666666666666666,\"#ed7953\"],[0.7777777777777778,\"#fb9f3a\"],[0.8888888888888888,\"#fdca26\"],[1.0,\"#f0f921\"]]}],\"mesh3d\":[{\"type\":\"mesh3d\",\"colorbar\":{\"outlinewidth\":0,\"ticks\":\"\"}}],\"scatter\":[{\"fillpattern\":{\"fillmode\":\"overlay\",\"size\":10,\"solidity\":0.2},\"type\":\"scatter\"}],\"parcoords\":[{\"type\":\"parcoords\",\"line\":{\"colorbar\":{\"outlinewidth\":0,\"ticks\":\"\"}}}],\"scatterpolargl\":[{\"type\":\"scatterpolargl\",\"marker\":{\"colorbar\":{\"outlinewidth\":0,\"ticks\":\"\"}}}],\"bar\":[{\"error_x\":{\"color\":\"#2a3f5f\"},\"error_y\":{\"color\":\"#2a3f5f\"},\"marker\":{\"line\":{\"color\":\"#E5ECF6\",\"width\":0.5},\"pattern\":{\"fillmode\":\"overlay\",\"size\":10,\"solidity\":0.2}},\"type\":\"bar\"}],\"scattergeo\":[{\"type\":\"scattergeo\",\"marker\":{\"colorbar\":{\"outlinewidth\":0,\"ticks\":\"\"}}}],\"scatterpolar\":[{\"type\":\"scatterpolar\",\"marker\":{\"colorbar\":{\"outlinewidth\":0,\"ticks\":\"\"}}}],\"histogram\":[{\"marker\":{\"pattern\":{\"fillmode\":\"overlay\",\"size\":10,\"solidity\":0.2}},\"type\":\"histogram\"}],\"scattergl\":[{\"type\":\"scattergl\",\"marker\":{\"colorbar\":{\"outlinewidth\":0,\"ticks\":\"\"}}}],\"scatter3d\":[{\"type\":\"scatter3d\",\"line\":{\"colorbar\":{\"outlinewidth\":0,\"ticks\":\"\"}},\"marker\":{\"colorbar\":{\"outlinewidth\":0,\"ticks\":\"\"}}}],\"scattermapbox\":[{\"type\":\"scattermapbox\",\"marker\":{\"colorbar\":{\"outlinewidth\":0,\"ticks\":\"\"}}}],\"scatterternary\":[{\"type\":\"scatterternary\",\"marker\":{\"colorbar\":{\"outlinewidth\":0,\"ticks\":\"\"}}}],\"scattercarpet\":[{\"type\":\"scattercarpet\",\"marker\":{\"colorbar\":{\"outlinewidth\":0,\"ticks\":\"\"}}}],\"carpet\":[{\"aaxis\":{\"endlinecolor\":\"#2a3f5f\",\"gridcolor\":\"white\",\"linecolor\":\"white\",\"minorgridcolor\":\"white\",\"startlinecolor\":\"#2a3f5f\"},\"baxis\":{\"endlinecolor\":\"#2a3f5f\",\"gridcolor\":\"white\",\"linecolor\":\"white\",\"minorgridcolor\":\"white\",\"startlinecolor\":\"#2a3f5f\"},\"type\":\"carpet\"}],\"table\":[{\"cells\":{\"fill\":{\"color\":\"#EBF0F8\"},\"line\":{\"color\":\"white\"}},\"header\":{\"fill\":{\"color\":\"#C8D4E3\"},\"line\":{\"color\":\"white\"}},\"type\":\"table\"}],\"barpolar\":[{\"marker\":{\"line\":{\"color\":\"#E5ECF6\",\"width\":0.5},\"pattern\":{\"fillmode\":\"overlay\",\"size\":10,\"solidity\":0.2}},\"type\":\"barpolar\"}],\"pie\":[{\"automargin\":true,\"type\":\"pie\"}]},\"layout\":{\"autotypenumbers\":\"strict\",\"colorway\":[\"#636efa\",\"#EF553B\",\"#00cc96\",\"#ab63fa\",\"#FFA15A\",\"#19d3f3\",\"#FF6692\",\"#B6E880\",\"#FF97FF\",\"#FECB52\"],\"font\":{\"color\":\"#2a3f5f\"},\"hovermode\":\"closest\",\"hoverlabel\":{\"align\":\"left\"},\"paper_bgcolor\":\"white\",\"plot_bgcolor\":\"#E5ECF6\",\"polar\":{\"bgcolor\":\"#E5ECF6\",\"angularaxis\":{\"gridcolor\":\"white\",\"linecolor\":\"white\",\"ticks\":\"\"},\"radialaxis\":{\"gridcolor\":\"white\",\"linecolor\":\"white\",\"ticks\":\"\"}},\"ternary\":{\"bgcolor\":\"#E5ECF6\",\"aaxis\":{\"gridcolor\":\"white\",\"linecolor\":\"white\",\"ticks\":\"\"},\"baxis\":{\"gridcolor\":\"white\",\"linecolor\":\"white\",\"ticks\":\"\"},\"caxis\":{\"gridcolor\":\"white\",\"linecolor\":\"white\",\"ticks\":\"\"}},\"coloraxis\":{\"colorbar\":{\"outlinewidth\":0,\"ticks\":\"\"}},\"colorscale\":{\"sequential\":[[0.0,\"#0d0887\"],[0.1111111111111111,\"#46039f\"],[0.2222222222222222,\"#7201a8\"],[0.3333333333333333,\"#9c179e\"],[0.4444444444444444,\"#bd3786\"],[0.5555555555555556,\"#d8576b\"],[0.6666666666666666,\"#ed7953\"],[0.7777777777777778,\"#fb9f3a\"],[0.8888888888888888,\"#fdca26\"],[1.0,\"#f0f921\"]],\"sequentialminus\":[[0.0,\"#0d0887\"],[0.1111111111111111,\"#46039f\"],[0.2222222222222222,\"#7201a8\"],[0.3333333333333333,\"#9c179e\"],[0.4444444444444444,\"#bd3786\"],[0.5555555555555556,\"#d8576b\"],[0.6666666666666666,\"#ed7953\"],[0.7777777777777778,\"#fb9f3a\"],[0.8888888888888888,\"#fdca26\"],[1.0,\"#f0f921\"]],\"diverging\":[[0,\"#8e0152\"],[0.1,\"#c51b7d\"],[0.2,\"#de77ae\"],[0.3,\"#f1b6da\"],[0.4,\"#fde0ef\"],[0.5,\"#f7f7f7\"],[0.6,\"#e6f5d0\"],[0.7,\"#b8e186\"],[0.8,\"#7fbc41\"],[0.9,\"#4d9221\"],[1,\"#276419\"]]},\"xaxis\":{\"gridcolor\":\"white\",\"linecolor\":\"white\",\"ticks\":\"\",\"title\":{\"standoff\":15},\"zerolinecolor\":\"white\",\"automargin\":true,\"zerolinewidth\":2},\"yaxis\":{\"gridcolor\":\"white\",\"linecolor\":\"white\",\"ticks\":\"\",\"title\":{\"standoff\":15},\"zerolinecolor\":\"white\",\"automargin\":true,\"zerolinewidth\":2},\"scene\":{\"xaxis\":{\"backgroundcolor\":\"#E5ECF6\",\"gridcolor\":\"white\",\"linecolor\":\"white\",\"showbackground\":true,\"ticks\":\"\",\"zerolinecolor\":\"white\",\"gridwidth\":2},\"yaxis\":{\"backgroundcolor\":\"#E5ECF6\",\"gridcolor\":\"white\",\"linecolor\":\"white\",\"showbackground\":true,\"ticks\":\"\",\"zerolinecolor\":\"white\",\"gridwidth\":2},\"zaxis\":{\"backgroundcolor\":\"#E5ECF6\",\"gridcolor\":\"white\",\"linecolor\":\"white\",\"showbackground\":true,\"ticks\":\"\",\"zerolinecolor\":\"white\",\"gridwidth\":2}},\"shapedefaults\":{\"line\":{\"color\":\"#2a3f5f\"}},\"annotationdefaults\":{\"arrowcolor\":\"#2a3f5f\",\"arrowhead\":0,\"arrowwidth\":1},\"geo\":{\"bgcolor\":\"white\",\"landcolor\":\"#E5ECF6\",\"subunitcolor\":\"white\",\"showland\":true,\"showlakes\":true,\"lakecolor\":\"white\"},\"title\":{\"x\":0.05},\"mapbox\":{\"style\":\"light\"}}},\"xaxis\":{\"anchor\":\"y\",\"domain\":[0.0,1.0],\"title\":{\"text\":\"frequency\"}},\"yaxis\":{\"anchor\":\"x\",\"domain\":[0.0,1.0],\"title\":{\"text\":\"\"}},\"legend\":{\"tracegroupgap\":0},\"title\":{\"text\":\"Country Frequency\"},\"barmode\":\"relative\",\"height\":900,\"width\":900},                        {\"responsive\": true}                    ).then(function(){\n",
       "                            \n",
       "var gd = document.getElementById('358a98f9-995e-442d-9501-23020665b3bd');\n",
       "var x = new MutationObserver(function (mutations, observer) {{\n",
       "        var display = window.getComputedStyle(gd).display;\n",
       "        if (!display || display === 'none') {{\n",
       "            console.log([gd, 'removed!']);\n",
       "            Plotly.purge(gd);\n",
       "            observer.disconnect();\n",
       "        }}\n",
       "}});\n",
       "\n",
       "// Listen for the removal of the full notebook cells\n",
       "var notebookContainer = gd.closest('#notebook-container');\n",
       "if (notebookContainer) {{\n",
       "    x.observe(notebookContainer, {childList: true});\n",
       "}}\n",
       "\n",
       "// Listen for the clearing of the current output cell\n",
       "var outputEl = gd.closest('.output');\n",
       "if (outputEl) {{\n",
       "    x.observe(outputEl, {childList: true});\n",
       "}}\n",
       "\n",
       "                        })                };                });            </script>        </div>"
      ]
     },
     "metadata": {},
     "output_type": "display_data"
    }
   ],
   "source": [
    "px.bar(y=locations.index, x=locations.values, width=900, height=900, \n",
    "       title= 'Country Frequency', labels={'y':'', 'x':'frequency'})"
   ]
  },
  {
   "cell_type": "markdown",
   "id": "74e28f04",
   "metadata": {},
   "source": [
    "* Most of the firms are in the United States"
   ]
  },
  {
   "cell_type": "code",
   "execution_count": null,
   "id": "6d4bc34a",
   "metadata": {},
   "outputs": [],
   "source": []
  },
  {
   "cell_type": "markdown",
   "id": "ee83584c",
   "metadata": {},
   "source": [
    "Summary\n",
    "\n",
    "* The webpage from Goodfirm was succesfully accessed and downloaded using Request library.\n",
    "* BeautifulSoup was used to locate and extract the details from the downloaded html file\n",
    "* The extracted details was converted to data frame using Pandas.\n",
    "* The file was cleaned and changed to its right datatype\n",
    "* The cleaned file was explored for some insights.\n",
    "\n",
    "Findings\n",
    "\n",
    "* About 30 firms are rated 5 star while 12 are rated between 4.8 - 4.9\n",
    "* Very few firms (3) has a review above 30\n",
    "* Most of the firms are located in United States followed by India."
   ]
  },
  {
   "cell_type": "code",
   "execution_count": null,
   "id": "04d2087a",
   "metadata": {},
   "outputs": [],
   "source": []
  }
 ],
 "metadata": {
  "kernelspec": {
   "display_name": "Python 3 (ipykernel)",
   "language": "python",
   "name": "python3"
  },
  "language_info": {
   "codemirror_mode": {
    "name": "ipython",
    "version": 3
   },
   "file_extension": ".py",
   "mimetype": "text/x-python",
   "name": "python",
   "nbconvert_exporter": "python",
   "pygments_lexer": "ipython3",
   "version": "3.9.13"
  }
 },
 "nbformat": 4,
 "nbformat_minor": 5
}
